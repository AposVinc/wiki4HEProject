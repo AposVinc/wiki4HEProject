{
 "cells": [
  {
   "cell_type": "code",
   "source": [
    "# gestione missing values:\n",
    "# togliere campione,\n",
    "# se per 900 campioni abbiamo solo 10 campioni e ognuno di questi ha una sola domanda alla quale non ha risposto\n",
    "#       si posso gestire in maniera tale da non perdere il campione,\n",
    "#       oppure talmente pochi che si possono eliminare\n",
    "# tirar fuori un altra colonna, rapporto tra risposta fra una colonna e un'altra\n",
    "#       analizza l'efficenza su questo calcolo\n",
    "# o raggruppamento per ruolo/professione in maniera efficiente e non\n",
    "# statistica esplorativa\n"
   ],
   "metadata": {
    "collapsed": false,
    "pycharm": {
     "name": "#%%\n"
    }
   },
   "execution_count": 1,
   "outputs": []
  },
  {
   "cell_type": "code",
   "execution_count": 2,
   "outputs": [],
   "source": [
    "#non considerare Use5\n",
    "#prevedere se prof è d'accordo con l'apprendimento con wiki dalle altre domande\n",
    "# in input tutto cio che non è \"use\" - output: si seleziona qualcuno di questi use e si cerca di predirli\n",
    "\n",
    "# tipo di docente ha rilevanza nella decisione"
   ],
   "metadata": {
    "collapsed": false,
    "pycharm": {
     "name": "#%%\n"
    }
   }
  },
  {
   "cell_type": "markdown",
   "source": [
    "# Titolo\n",
    "\n",
    "elenco:\n",
    "- Import del Dataset e prime analisi\n",
    "- Manipolazione e pulizia del dataset\n"
   ],
   "metadata": {
    "collapsed": false
   }
  },
  {
   "cell_type": "markdown",
   "source": [
    "## Import del Dataset e prime analisi"
   ],
   "metadata": {
    "collapsed": false,
    "pycharm": {
     "name": "#%% md\n"
    }
   }
  },
  {
   "cell_type": "code",
   "execution_count": 3,
   "outputs": [
    {
     "name": "stdout",
     "output_type": "stream",
     "text": [
      "     AGE  GENDER DOMAIN  PhD YEARSEXP  UNIVERSITY UOC_POSITION OTHER_POSITION  \\\n",
      "0     40       0      2    1       14           1            2              ?   \n",
      "1     42       0      5    1       18           1            2              ?   \n",
      "2     37       0      4    1       13           1            3              ?   \n",
      "3     40       0      4    0       13           1            3              ?   \n",
      "4     51       0      6    0        8           1            3              ?   \n",
      "..   ...     ...    ...  ...      ...         ...          ...            ...   \n",
      "908   43       0      5    1       21           2            ?              ?   \n",
      "909   53       0      6    0       25           2            ?              ?   \n",
      "910   39       0      5    1        9           2            ?              ?   \n",
      "911   40       0      3    1       10           2            ?              ?   \n",
      "912   41       1      3    1       12           2            ?              ?   \n",
      "\n",
      "    OTHERSTATUS USERWIKI  ... BI2 Inc1 Inc2 Inc3 Inc4 Exp1 Exp2 Exp3 Exp4 Exp5  \n",
      "0             ?        0  ...   3    5    5    5    5    4    4    4    1    2  \n",
      "1             ?        0  ...   2    4    4    3    4    2    2    4    2    4  \n",
      "2             ?        0  ...   1    5    3    5    5    2    2    2    1    3  \n",
      "3             ?        0  ...   3    3    4    4    3    4    4    3    3    4  \n",
      "4             ?        1  ...   5    5    5    4    4    5    5    5    4    4  \n",
      "..          ...      ...  ...  ..  ...  ...  ...  ...  ...  ...  ...  ...  ...  \n",
      "908           2        0  ...   2    2    2    2    2    ?    ?    ?    ?    ?  \n",
      "909           6        0  ...   4    4    3    3    4    4    4    4    1    1  \n",
      "910           4        0  ...   2    5    4    3    ?    5    5    5    4    1  \n",
      "911           2        0  ...   5    1    5    2    2    4    4    2    1    1  \n",
      "912           2        0  ...   3    3    ?    3    3    2    3    3    1    1  \n",
      "\n",
      "[913 rows x 53 columns]\n"
     ]
    }
   ],
   "source": [
    "import numpy as np\n",
    "import pandas as pd\n",
    "from IPython.display import display\n",
    "import main\n",
    "\n",
    "data = pd.read_csv('dataset/uci - missing data/wiki4HE/wiki4HE.csv', sep=';')\n",
    "print(data)"
   ],
   "metadata": {
    "collapsed": false,
    "pycharm": {
     "name": "#%%\n"
    }
   }
  },
  {
   "cell_type": "code",
   "execution_count": 4,
   "outputs": [
    {
     "name": "stdout",
     "output_type": "stream",
     "text": [
      "   AGE  GENDER DOMAIN  PhD YEARSEXP  UNIVERSITY UOC_POSITION OTHER_POSITION  \\\n",
      "0   40       0      2    1       14           1            2            NaN   \n",
      "1   42       0      5    1       18           1            2            NaN   \n",
      "2   37       0      4    1       13           1            3            NaN   \n",
      "3   40       0      4    0       13           1            3            NaN   \n",
      "4   51       0      6    0        8           1            3            NaN   \n",
      "\n",
      "  OTHERSTATUS USERWIKI PU1 PU2 PU3 PEU1 PEU2 PEU3 ENJ1 ENJ2 Qu1 Qu2 Qu3 Qu4  \\\n",
      "0         NaN        0   4   4   3    5    5    3    4    4   3   3   2   2   \n",
      "1         NaN        0   2   3   3    4    4    3    3    4   4   4   3   3   \n",
      "2         NaN        0   2   2   2    4    4    3    3    3   2   2   2   5   \n",
      "3         NaN        0   3   3   4    3    3    3    4    3   3   4   3   3   \n",
      "4         NaN        1   4   3   5    5    4    3    4    4   4   5   4   3   \n",
      "\n",
      "  Qu5 Vis1 Vis2 Vis3 Im1 Im2 Im3 SA1 SA2 SA3 Use1 Use2 Use3 Use4 Use5 Pf1 Pf2  \\\n",
      "0   3    3    3    1   2   4   2   4   4   4    3    1    1    2    4   1   1   \n",
      "1   2    3    3    1   1   2   1   4   4   4    2    2    1    1    2   1   1   \n",
      "2   3    2    3    2   2   4   3   4   2   4    1    1    1    1    1   3   3   \n",
      "3   3    3    4    3   2   2   3   5   5   5    3    3    3    3    3   4   4   \n",
      "4   4    4    4    4   3   2   3   5   5   5    3    3    5    5    5   5   5   \n",
      "\n",
      "  Pf3 JR1 JR2 BI1 BI2 Inc1 Inc2 Inc3 Inc4 Exp1 Exp2 Exp3 Exp4 Exp5  \n",
      "0   3   4   1   2   3    5    5    5    5    4    4    4    1    2  \n",
      "1   1   4   3   2   2    4    4    3    4    2    2    4    2    4  \n",
      "2   3   4   3   1   1    5    3    5    5    2    2    2    1    3  \n",
      "3   4   5   4   3   3    3    4    4    3    4    4    3    3    4  \n",
      "4   5   3   3   5   5    5    5    4    4    5    5    5    4    4  \n"
     ]
    }
   ],
   "source": [
    "pd.set_option('display.max_columns', 54)\n",
    "data.replace('?', np.nan, inplace=True)\n",
    "print(data.head())\n"
   ],
   "metadata": {
    "collapsed": false,
    "pycharm": {
     "name": "#%%\n"
    }
   }
  },
  {
   "cell_type": "code",
   "execution_count": 5,
   "outputs": [
    {
     "name": "stdout",
     "output_type": "stream",
     "text": [
      "<class 'pandas.core.frame.DataFrame'>\n",
      "RangeIndex: 913 entries, 0 to 912\n",
      "Data columns (total 53 columns):\n",
      " #   Column          Non-Null Count  Dtype \n",
      "---  ------          --------------  ----- \n",
      " 0   AGE             913 non-null    int64 \n",
      " 1   GENDER          913 non-null    int64 \n",
      " 2   DOMAIN          911 non-null    object\n",
      " 3   PhD             913 non-null    int64 \n",
      " 4   YEARSEXP        890 non-null    object\n",
      " 5   UNIVERSITY      913 non-null    int64 \n",
      " 6   UOC_POSITION    800 non-null    object\n",
      " 7   OTHER_POSITION  652 non-null    object\n",
      " 8   OTHERSTATUS     373 non-null    object\n",
      " 9   USERWIKI        909 non-null    object\n",
      " 10  PU1             906 non-null    object\n",
      " 11  PU2             902 non-null    object\n",
      " 12  PU3             908 non-null    object\n",
      " 13  PEU1            909 non-null    object\n",
      " 14  PEU2            899 non-null    object\n",
      " 15  PEU3            816 non-null    object\n",
      " 16  ENJ1            906 non-null    object\n",
      " 17  ENJ2            896 non-null    object\n",
      " 18  Qu1             906 non-null    object\n",
      " 19  Qu2             903 non-null    object\n",
      " 20  Qu3             898 non-null    object\n",
      " 21  Qu4             891 non-null    object\n",
      " 22  Qu5             884 non-null    object\n",
      " 23  Vis1            841 non-null    object\n",
      " 24  Vis2            796 non-null    object\n",
      " 25  Vis3            905 non-null    object\n",
      " 26  Im1             891 non-null    object\n",
      " 27  Im2             893 non-null    object\n",
      " 28  Im3             856 non-null    object\n",
      " 29  SA1             902 non-null    object\n",
      " 30  SA2             901 non-null    object\n",
      " 31  SA3             902 non-null    object\n",
      " 32  Use1            899 non-null    object\n",
      " 33  Use2            896 non-null    object\n",
      " 34  Use3            904 non-null    object\n",
      " 35  Use4            890 non-null    object\n",
      " 36  Use5            898 non-null    object\n",
      " 37  Pf1             902 non-null    object\n",
      " 38  Pf2             907 non-null    object\n",
      " 39  Pf3             899 non-null    object\n",
      " 40  JR1             886 non-null    object\n",
      " 41  JR2             860 non-null    object\n",
      " 42  BI1             881 non-null    object\n",
      " 43  BI2             870 non-null    object\n",
      " 44  Inc1            878 non-null    object\n",
      " 45  Inc2            878 non-null    object\n",
      " 46  Inc3            876 non-null    object\n",
      " 47  Inc4            871 non-null    object\n",
      " 48  Exp1            900 non-null    object\n",
      " 49  Exp2            902 non-null    object\n",
      " 50  Exp3            900 non-null    object\n",
      " 51  Exp4            899 non-null    object\n",
      " 52  Exp5            900 non-null    object\n",
      "dtypes: int64(4), object(49)\n",
      "memory usage: 378.2+ KB\n"
     ]
    }
   ],
   "source": [
    "# vedere i tipi\n",
    "data.info()"
   ],
   "metadata": {
    "collapsed": false,
    "pycharm": {
     "name": "#%%\n"
    }
   }
  },
  {
   "cell_type": "code",
   "source": [
    "#conto gli na\n",
    "pd.DataFrame({ 'contain na ': data.isna().any() ,'number of na ': data.isna().sum() })"
   ],
   "metadata": {
    "collapsed": false,
    "pycharm": {
     "name": "#%%\n"
    }
   },
   "execution_count": 6,
   "outputs": [
    {
     "data": {
      "text/plain": "                contain na   number of na \nAGE                   False              0\nGENDER                False              0\nDOMAIN                 True              2\nPhD                   False              0\nYEARSEXP               True             23\nUNIVERSITY            False              0\nUOC_POSITION           True            113\nOTHER_POSITION         True            261\nOTHERSTATUS            True            540\nUSERWIKI               True              4\nPU1                    True              7\nPU2                    True             11\nPU3                    True              5\nPEU1                   True              4\nPEU2                   True             14\nPEU3                   True             97\nENJ1                   True              7\nENJ2                   True             17\nQu1                    True              7\nQu2                    True             10\nQu3                    True             15\nQu4                    True             22\nQu5                    True             29\nVis1                   True             72\nVis2                   True            117\nVis3                   True              8\nIm1                    True             22\nIm2                    True             20\nIm3                    True             57\nSA1                    True             11\nSA2                    True             12\nSA3                    True             11\nUse1                   True             14\nUse2                   True             17\nUse3                   True              9\nUse4                   True             23\nUse5                   True             15\nPf1                    True             11\nPf2                    True              6\nPf3                    True             14\nJR1                    True             27\nJR2                    True             53\nBI1                    True             32\nBI2                    True             43\nInc1                   True             35\nInc2                   True             35\nInc3                   True             37\nInc4                   True             42\nExp1                   True             13\nExp2                   True             11\nExp3                   True             13\nExp4                   True             14\nExp5                   True             13",
      "text/html": "<div>\n<style scoped>\n    .dataframe tbody tr th:only-of-type {\n        vertical-align: middle;\n    }\n\n    .dataframe tbody tr th {\n        vertical-align: top;\n    }\n\n    .dataframe thead th {\n        text-align: right;\n    }\n</style>\n<table border=\"1\" class=\"dataframe\">\n  <thead>\n    <tr style=\"text-align: right;\">\n      <th></th>\n      <th>contain na</th>\n      <th>number of na</th>\n    </tr>\n  </thead>\n  <tbody>\n    <tr>\n      <th>AGE</th>\n      <td>False</td>\n      <td>0</td>\n    </tr>\n    <tr>\n      <th>GENDER</th>\n      <td>False</td>\n      <td>0</td>\n    </tr>\n    <tr>\n      <th>DOMAIN</th>\n      <td>True</td>\n      <td>2</td>\n    </tr>\n    <tr>\n      <th>PhD</th>\n      <td>False</td>\n      <td>0</td>\n    </tr>\n    <tr>\n      <th>YEARSEXP</th>\n      <td>True</td>\n      <td>23</td>\n    </tr>\n    <tr>\n      <th>UNIVERSITY</th>\n      <td>False</td>\n      <td>0</td>\n    </tr>\n    <tr>\n      <th>UOC_POSITION</th>\n      <td>True</td>\n      <td>113</td>\n    </tr>\n    <tr>\n      <th>OTHER_POSITION</th>\n      <td>True</td>\n      <td>261</td>\n    </tr>\n    <tr>\n      <th>OTHERSTATUS</th>\n      <td>True</td>\n      <td>540</td>\n    </tr>\n    <tr>\n      <th>USERWIKI</th>\n      <td>True</td>\n      <td>4</td>\n    </tr>\n    <tr>\n      <th>PU1</th>\n      <td>True</td>\n      <td>7</td>\n    </tr>\n    <tr>\n      <th>PU2</th>\n      <td>True</td>\n      <td>11</td>\n    </tr>\n    <tr>\n      <th>PU3</th>\n      <td>True</td>\n      <td>5</td>\n    </tr>\n    <tr>\n      <th>PEU1</th>\n      <td>True</td>\n      <td>4</td>\n    </tr>\n    <tr>\n      <th>PEU2</th>\n      <td>True</td>\n      <td>14</td>\n    </tr>\n    <tr>\n      <th>PEU3</th>\n      <td>True</td>\n      <td>97</td>\n    </tr>\n    <tr>\n      <th>ENJ1</th>\n      <td>True</td>\n      <td>7</td>\n    </tr>\n    <tr>\n      <th>ENJ2</th>\n      <td>True</td>\n      <td>17</td>\n    </tr>\n    <tr>\n      <th>Qu1</th>\n      <td>True</td>\n      <td>7</td>\n    </tr>\n    <tr>\n      <th>Qu2</th>\n      <td>True</td>\n      <td>10</td>\n    </tr>\n    <tr>\n      <th>Qu3</th>\n      <td>True</td>\n      <td>15</td>\n    </tr>\n    <tr>\n      <th>Qu4</th>\n      <td>True</td>\n      <td>22</td>\n    </tr>\n    <tr>\n      <th>Qu5</th>\n      <td>True</td>\n      <td>29</td>\n    </tr>\n    <tr>\n      <th>Vis1</th>\n      <td>True</td>\n      <td>72</td>\n    </tr>\n    <tr>\n      <th>Vis2</th>\n      <td>True</td>\n      <td>117</td>\n    </tr>\n    <tr>\n      <th>Vis3</th>\n      <td>True</td>\n      <td>8</td>\n    </tr>\n    <tr>\n      <th>Im1</th>\n      <td>True</td>\n      <td>22</td>\n    </tr>\n    <tr>\n      <th>Im2</th>\n      <td>True</td>\n      <td>20</td>\n    </tr>\n    <tr>\n      <th>Im3</th>\n      <td>True</td>\n      <td>57</td>\n    </tr>\n    <tr>\n      <th>SA1</th>\n      <td>True</td>\n      <td>11</td>\n    </tr>\n    <tr>\n      <th>SA2</th>\n      <td>True</td>\n      <td>12</td>\n    </tr>\n    <tr>\n      <th>SA3</th>\n      <td>True</td>\n      <td>11</td>\n    </tr>\n    <tr>\n      <th>Use1</th>\n      <td>True</td>\n      <td>14</td>\n    </tr>\n    <tr>\n      <th>Use2</th>\n      <td>True</td>\n      <td>17</td>\n    </tr>\n    <tr>\n      <th>Use3</th>\n      <td>True</td>\n      <td>9</td>\n    </tr>\n    <tr>\n      <th>Use4</th>\n      <td>True</td>\n      <td>23</td>\n    </tr>\n    <tr>\n      <th>Use5</th>\n      <td>True</td>\n      <td>15</td>\n    </tr>\n    <tr>\n      <th>Pf1</th>\n      <td>True</td>\n      <td>11</td>\n    </tr>\n    <tr>\n      <th>Pf2</th>\n      <td>True</td>\n      <td>6</td>\n    </tr>\n    <tr>\n      <th>Pf3</th>\n      <td>True</td>\n      <td>14</td>\n    </tr>\n    <tr>\n      <th>JR1</th>\n      <td>True</td>\n      <td>27</td>\n    </tr>\n    <tr>\n      <th>JR2</th>\n      <td>True</td>\n      <td>53</td>\n    </tr>\n    <tr>\n      <th>BI1</th>\n      <td>True</td>\n      <td>32</td>\n    </tr>\n    <tr>\n      <th>BI2</th>\n      <td>True</td>\n      <td>43</td>\n    </tr>\n    <tr>\n      <th>Inc1</th>\n      <td>True</td>\n      <td>35</td>\n    </tr>\n    <tr>\n      <th>Inc2</th>\n      <td>True</td>\n      <td>35</td>\n    </tr>\n    <tr>\n      <th>Inc3</th>\n      <td>True</td>\n      <td>37</td>\n    </tr>\n    <tr>\n      <th>Inc4</th>\n      <td>True</td>\n      <td>42</td>\n    </tr>\n    <tr>\n      <th>Exp1</th>\n      <td>True</td>\n      <td>13</td>\n    </tr>\n    <tr>\n      <th>Exp2</th>\n      <td>True</td>\n      <td>11</td>\n    </tr>\n    <tr>\n      <th>Exp3</th>\n      <td>True</td>\n      <td>13</td>\n    </tr>\n    <tr>\n      <th>Exp4</th>\n      <td>True</td>\n      <td>14</td>\n    </tr>\n    <tr>\n      <th>Exp5</th>\n      <td>True</td>\n      <td>13</td>\n    </tr>\n  </tbody>\n</table>\n</div>"
     },
     "execution_count": 6,
     "metadata": {},
     "output_type": "execute_result"
    }
   ]
  },
  {
   "cell_type": "code",
   "execution_count": 7,
   "outputs": [
    {
     "data": {
      "text/plain": "737"
     },
     "execution_count": 7,
     "metadata": {},
     "output_type": "execute_result"
    }
   ],
   "source": [
    "# numero di righe con almeno un na:\n",
    "data.shape[0] - data.dropna().shape[0]\n"
   ],
   "metadata": {
    "collapsed": false,
    "pycharm": {
     "name": "#%%\n"
    }
   }
  },
  {
   "cell_type": "markdown",
   "source": [
    "## Manipolazione e pulizia del dataset"
   ],
   "metadata": {
    "collapsed": false,
    "pycharm": {
     "name": "#%% md\n"
    }
   }
  },
  {
   "cell_type": "code",
   "execution_count": 8,
   "outputs": [],
   "source": [
    "# si potrebbe dividere anche in PROFESSORI E DOMANDE per poi riunirli con JOIN\n",
    "\n",
    "domande = data.iloc[:, 10:]\n",
    "prof = data.iloc[:, :10]"
   ],
   "metadata": {
    "collapsed": false,
    "pycharm": {
     "name": "#%%\n"
    }
   }
  },
  {
   "cell_type": "code",
   "execution_count": 9,
   "outputs": [],
   "source": [
    "\n",
    "# University si indica l'uni di appartenenza\n",
    "# se in UNI = 1 -> in UOC la posizione in UOC - probabilmente non hanno altri impieghi in altre uni\n",
    "# se in UNI = 2 -> in UOC la posizione in UOC prob non esiste - hanno altri ruoli\n",
    "#potrei percio creare una col con solo la posizione lavorativa\n",
    "\n",
    "\n",
    "# tenere conto (sotto)\n",
    "\n",
    "# maggior parte dei dati mancanti provengono dalla variabile \"OTHER_POSITION\".\n",
    "# Questa variabile descrive il \"lavoro come part-time in un'altra università e membri UPF\".\n",
    "# Questa è una domanda mal progettata in quanto non è applicabile\n",
    "# alla maggior parte dei membri della facoltà e quindi non hanno risposto.\n",
    "# Di conseguenza, rimuoveremo questa variabile dai dati per eliminare i dati mancanti sistematici.\n",
    "\n"
   ],
   "metadata": {
    "collapsed": false,
    "pycharm": {
     "name": "#%%\n"
    }
   }
  },
  {
   "cell_type": "markdown",
   "source": [
    "### Pulizia degli attributi"
   ],
   "metadata": {
    "collapsed": false,
    "pycharm": {
     "name": "#%% md\n",
     "is_executing": true
    }
   }
  },
  {
   "cell_type": "code",
   "execution_count": 11,
   "outputs": [
    {
     "data": {
      "text/plain": "(907, 10)"
     },
     "execution_count": 11,
     "metadata": {},
     "output_type": "execute_result"
    }
   ],
   "source": [
    "# se non specificato considero gli anni di esperienza = 0\n",
    "prof['YEARSEXP'] = prof['YEARSEXP'].fillna(0)\n",
    "\n",
    "# elimina righe  con domain e userwiki na, 5 righe in meno (domain si potrebbe considerare come altro)\n",
    "prof = prof[prof['DOMAIN'].notna() & prof['USERWIKI'].notna()]\n",
    "\n",
    "#quanti campioni rimanenti\n",
    "prof.shape"
   ],
   "metadata": {
    "collapsed": false,
    "pycharm": {
     "name": "#%%\n"
    }
   }
  },
  {
   "cell_type": "markdown",
   "source": [
    "### Corrispondenze sui nomi tabelle\n",
    "Gli attributi \"OTHER\", \"OTHER_POSITION\" della descrizione non corrispondono a quelli presenti nel dataset:\n",
    " - __\"OTHER\"__ - non è presente;\n",
    " - __\"OTHER_POSITION\"__ - non rispecchia i valori attesi.\n",
    "\n",
    "L'attributo \"OTHER_POSITION\" del dataset presenta solo due valori, ___1___ e ___2___, questi risultano essere associabili all' attributo \"OTHER\" nella descrizione."
   ],
   "metadata": {
    "collapsed": false
   }
  },
  {
   "cell_type": "code",
   "execution_count": 12,
   "outputs": [
    {
     "data": {
      "text/plain": "count    648.000000\nmean       1.586420\nstd        0.492855\nmin        1.000000\n25%        1.000000\n50%        2.000000\n75%        2.000000\nmax        2.000000\nName: OTHER_POSITION, dtype: float64"
     },
     "execution_count": 12,
     "metadata": {},
     "output_type": "execute_result"
    }
   ],
   "source": [
    "prof['OTHER_POSITION'].dropna().astype(int).describe()"
   ],
   "metadata": {
    "collapsed": false,
    "pycharm": {
     "name": "#%%\n"
    }
   }
  },
  {
   "cell_type": "markdown",
   "source": [
    "Nel dataset è presente un'altra colonna che non viene descritta sul sito, ovvero \"OTHERSTATUS\".\n",
    "I dati di quest'ultima vanno da un minimo di ___1___ a un massimo di ___7___ e risultano essere uguali ai valori attesi dall'attibuto \"OTHER_POSITION\" del sito, ad esclusione del valore 7."
   ],
   "metadata": {
    "collapsed": false
   }
  },
  {
   "cell_type": "code",
   "execution_count": 13,
   "outputs": [
    {
     "data": {
      "text/plain": "count    372.000000\nmean       4.201613\nstd        2.223302\nmin        1.000000\n25%        2.000000\n50%        4.000000\n75%        7.000000\nmax        7.000000\nName: OTHERSTATUS, dtype: float64"
     },
     "execution_count": 13,
     "metadata": {},
     "output_type": "execute_result"
    }
   ],
   "source": [
    "prof['OTHERSTATUS'].dropna().astype(int).describe()"
   ],
   "metadata": {
    "collapsed": false,
    "pycharm": {
     "name": "#%%\n"
    }
   }
  },
  {
   "cell_type": "markdown",
   "source": [
    "#### Assunsioni\n",
    "Assumiamo come veritiere le affermazioni precedenti e associamo i vari attributi alle colonne nel dataset:\n",
    "- \"OTHER\" (descrizione) -> \"OTHER_POSITION\" (dataset)\n",
    "- \"OTHER_POSITION\" (descrizione) -> \"OTHERSTATUS\" (dataset)"
   ],
   "metadata": {
    "collapsed": false
   }
  },
  {
   "cell_type": "markdown",
   "source": [
    "##"
   ],
   "metadata": {
    "collapsed": false,
    "pycharm": {
     "name": "#%% md\n"
    }
   }
  },
  {
   "cell_type": "code",
   "execution_count": 14,
   "outputs": [
    {
     "data": {
      "text/plain": "(112, 10)"
     },
     "execution_count": 14,
     "metadata": {},
     "output_type": "execute_result"
    }
   ],
   "source": [
    "# quanti non è assunto da UOC?\n",
    "prof[prof['UNIVERSITY'] == 2].shape"
   ],
   "metadata": {
    "collapsed": false,
    "pycharm": {
     "name": "#%%\n"
    }
   }
  },
  {
   "cell_type": "code",
   "execution_count": 15,
   "outputs": [
    {
     "data": {
      "text/plain": "                contain na   number of na \nAGE                   False              0\nGENDER                False              0\nDOMAIN                False              0\nPhD                   False              0\nYEARSEXP              False              0\nUNIVERSITY            False              0\nUOC_POSITION           True            112\nOTHER_POSITION         True            112\nOTHERSTATUS            True              5\nUSERWIKI              False              0",
      "text/html": "<div>\n<style scoped>\n    .dataframe tbody tr th:only-of-type {\n        vertical-align: middle;\n    }\n\n    .dataframe tbody tr th {\n        vertical-align: top;\n    }\n\n    .dataframe thead th {\n        text-align: right;\n    }\n</style>\n<table border=\"1\" class=\"dataframe\">\n  <thead>\n    <tr style=\"text-align: right;\">\n      <th></th>\n      <th>contain na</th>\n      <th>number of na</th>\n    </tr>\n  </thead>\n  <tbody>\n    <tr>\n      <th>AGE</th>\n      <td>False</td>\n      <td>0</td>\n    </tr>\n    <tr>\n      <th>GENDER</th>\n      <td>False</td>\n      <td>0</td>\n    </tr>\n    <tr>\n      <th>DOMAIN</th>\n      <td>False</td>\n      <td>0</td>\n    </tr>\n    <tr>\n      <th>PhD</th>\n      <td>False</td>\n      <td>0</td>\n    </tr>\n    <tr>\n      <th>YEARSEXP</th>\n      <td>False</td>\n      <td>0</td>\n    </tr>\n    <tr>\n      <th>UNIVERSITY</th>\n      <td>False</td>\n      <td>0</td>\n    </tr>\n    <tr>\n      <th>UOC_POSITION</th>\n      <td>True</td>\n      <td>112</td>\n    </tr>\n    <tr>\n      <th>OTHER_POSITION</th>\n      <td>True</td>\n      <td>112</td>\n    </tr>\n    <tr>\n      <th>OTHERSTATUS</th>\n      <td>True</td>\n      <td>5</td>\n    </tr>\n    <tr>\n      <th>USERWIKI</th>\n      <td>False</td>\n      <td>0</td>\n    </tr>\n  </tbody>\n</table>\n</div>"
     },
     "execution_count": 15,
     "metadata": {},
     "output_type": "execute_result"
    }
   ],
   "source": [
    "# chi non è assunto in UOC -> data[data['UOC_POSITION'].isna()]\n",
    "#tutti i professori che appartengono a UPF non hanno specificato un ruolo nella colonna \"OTHER_POSITION\"\n",
    "pd.DataFrame({ 'contain na ': prof[prof['UNIVERSITY'] == 2].isna().any() ,'number of na ': prof[prof['UNIVERSITY'] == 2].isna().sum() })\n"
   ],
   "metadata": {
    "collapsed": false,
    "pycharm": {
     "name": "#%%\n"
    }
   }
  },
  {
   "cell_type": "code",
   "execution_count": 16,
   "outputs": [
    {
     "data": {
      "text/plain": "106"
     },
     "execution_count": 16,
     "metadata": {},
     "output_type": "execute_result"
    }
   ],
   "source": [
    "prof['OTHERSTATUS'].dropna().astype(int)[prof['OTHERSTATUS'].dropna().astype(int)[:] == 7].count()\n"
   ],
   "metadata": {
    "collapsed": false,
    "pycharm": {
     "name": "#%%\n"
    }
   }
  },
  {
   "cell_type": "code",
   "execution_count": 17,
   "outputs": [
    {
     "name": "stdout",
     "output_type": "stream",
     "text": [
      "<class 'pandas.core.frame.DataFrame'>\n",
      "Int64Index: 907 entries, 0 to 912\n",
      "Data columns (total 10 columns):\n",
      " #   Column          Non-Null Count  Dtype\n",
      "---  ------          --------------  -----\n",
      " 0   AGE             907 non-null    int32\n",
      " 1   GENDER          907 non-null    int32\n",
      " 2   DOMAIN          907 non-null    int32\n",
      " 3   PhD             907 non-null    int32\n",
      " 4   YEARSEXP        907 non-null    int32\n",
      " 5   UNIVERSITY      907 non-null    int32\n",
      " 6   UOC_POSITION    907 non-null    int32\n",
      " 7   OTHER_POSITION  907 non-null    int32\n",
      " 8   OTHERSTATUS     907 non-null    int32\n",
      " 9   USERWIKI        907 non-null    int32\n",
      "dtypes: int32(10)\n",
      "memory usage: 42.5 KB\n"
     ]
    }
   ],
   "source": [
    "\n",
    "prof['UOC_POSITION'] = prof['UOC_POSITION'].fillna(0)\n",
    "prof['OTHERSTATUS'] = prof['OTHERSTATUS'].fillna(0)\n",
    "prof['OTHER_POSITION'] = prof['OTHER_POSITION'].fillna(0)\n",
    "\n",
    "prof = prof.astype({'AGE': 'int','GENDER': 'int','DOMAIN': 'int','PhD': 'int','YEARSEXP': 'int','UNIVERSITY': 'int','UOC_POSITION': 'int','OTHER_POSITION': 'int','OTHERSTATUS': 'int','USERWIKI': 'int'})\n",
    "\n",
    "prof.info()\n",
    "\n",
    "# se si considera 7 come val buono\n",
    "# prof[:][(prof[\"OTHERSTATUS\"] == 0) & (prof[\"UOC_POSITION\"] == 0)].info()"
   ],
   "metadata": {
    "collapsed": false,
    "pycharm": {
     "name": "#%%\n"
    }
   }
  },
  {
   "cell_type": "code",
   "execution_count": 18,
   "outputs": [],
   "source": [
    "# prof[\"MAX POSITION\"] = prof[[\"UOC_POSITION\", \"OTHERSTATUS\"]].max(axis=1)\n",
    "# prof[:][prof[\"MAX POSITION\"] == 0]"
   ],
   "metadata": {
    "collapsed": false,
    "pycharm": {
     "name": "#%%\n"
    }
   }
  },
  {
   "cell_type": "code",
   "execution_count": 19,
   "outputs": [],
   "source": [
    "# prof = prof.drop([813,828,830,835,882])\n",
    "# prof = prof.drop(columns=['UOC_POSITION', 'OTHERSTATUS', 'OTHER_POSITION'])"
   ],
   "metadata": {
    "collapsed": false,
    "pycharm": {
     "name": "#%%\n"
    }
   }
  },
  {
   "cell_type": "code",
   "execution_count": 20,
   "outputs": [
    {
     "data": {
      "text/plain": "count    907.000000\nmean       4.996692\nstd        1.793104\nmin        0.000000\n25%        4.000000\n50%        6.000000\n75%        6.000000\nmax        6.000000\ndtype: float64"
     },
     "execution_count": 20,
     "metadata": {},
     "output_type": "execute_result"
    }
   ],
   "source": [
    "# se non si considera 7 come val buon\n",
    "\n",
    "prof['OTHERSTATUS'][ prof['OTHERSTATUS'] > 6] = 0 # considero il 7 come \"altro\" percio non lo considero\n",
    "\n",
    "position = prof[[\"UOC_POSITION\", \"OTHERSTATUS\"]].max(axis=1)\n",
    "position[:].describe()"
   ],
   "metadata": {
    "collapsed": false,
    "pycharm": {
     "name": "#%%\n"
    }
   }
  },
  {
   "cell_type": "code",
   "execution_count": 21,
   "outputs": [],
   "source": [
    "# %timeit prof[[\"UOC_POSITION\", \"OTHERSTATUS\"]].max(axis=1)"
   ],
   "metadata": {
    "collapsed": false,
    "pycharm": {
     "name": "#%%\n"
    }
   }
  },
  {
   "cell_type": "code",
   "source": [
    "# %timeit main.merge_two_series_by_max(prof['OTHERSTATUS'].array, prof['UOC_POSITION'].array)\n"
   ],
   "metadata": {
    "collapsed": false,
    "pycharm": {
     "name": "#%%\n"
    }
   },
   "execution_count": 22,
   "outputs": []
  },
  {
   "cell_type": "code",
   "execution_count": 22,
   "outputs": [],
   "source": [],
   "metadata": {
    "collapsed": false,
    "pycharm": {
     "name": "#%%\n"
    }
   }
  },
  {
   "cell_type": "code",
   "execution_count": 23,
   "outputs": [
    {
     "name": "stdout",
     "output_type": "stream",
     "text": [
      "<class 'pandas.core.frame.DataFrame'>\n",
      "Int64Index: 871 entries, 0 to 912\n",
      "Data columns (total 8 columns):\n",
      " #   Column      Non-Null Count  Dtype\n",
      "---  ------      --------------  -----\n",
      " 0   AGE         871 non-null    int32\n",
      " 1   GENDER      871 non-null    int32\n",
      " 2   DOMAIN      871 non-null    int32\n",
      " 3   PhD         871 non-null    int32\n",
      " 4   YEARSEXP    871 non-null    int32\n",
      " 5   UNIVERSITY  871 non-null    int32\n",
      " 6   POSITION    871 non-null    int32\n",
      " 7   USERWIKI    871 non-null    int32\n",
      "dtypes: int32(8)\n",
      "memory usage: 34.0 KB\n"
     ]
    }
   ],
   "source": [
    "prof.insert(loc=6, column='POSITION', value=position)\n",
    "prof = prof.drop(columns=['UOC_POSITION', 'OTHERSTATUS', 'OTHER_POSITION'])\n",
    "prof = prof[prof['POSITION'] != 0] # professori che non hanno neanche un ruolo\n",
    "prof.info()"
   ],
   "metadata": {
    "collapsed": false,
    "pycharm": {
     "name": "#%%\n"
    }
   }
  },
  {
   "cell_type": "code",
   "execution_count": 24,
   "outputs": [
    {
     "data": {
      "text/plain": "            contain na   number of na \nAGE               False              0\nGENDER            False              0\nDOMAIN            False              0\nPhD               False              0\nYEARSEXP          False              0\nUNIVERSITY        False              0\nPOSITION          False              0\nUSERWIKI          False              0",
      "text/html": "<div>\n<style scoped>\n    .dataframe tbody tr th:only-of-type {\n        vertical-align: middle;\n    }\n\n    .dataframe tbody tr th {\n        vertical-align: top;\n    }\n\n    .dataframe thead th {\n        text-align: right;\n    }\n</style>\n<table border=\"1\" class=\"dataframe\">\n  <thead>\n    <tr style=\"text-align: right;\">\n      <th></th>\n      <th>contain na</th>\n      <th>number of na</th>\n    </tr>\n  </thead>\n  <tbody>\n    <tr>\n      <th>AGE</th>\n      <td>False</td>\n      <td>0</td>\n    </tr>\n    <tr>\n      <th>GENDER</th>\n      <td>False</td>\n      <td>0</td>\n    </tr>\n    <tr>\n      <th>DOMAIN</th>\n      <td>False</td>\n      <td>0</td>\n    </tr>\n    <tr>\n      <th>PhD</th>\n      <td>False</td>\n      <td>0</td>\n    </tr>\n    <tr>\n      <th>YEARSEXP</th>\n      <td>False</td>\n      <td>0</td>\n    </tr>\n    <tr>\n      <th>UNIVERSITY</th>\n      <td>False</td>\n      <td>0</td>\n    </tr>\n    <tr>\n      <th>POSITION</th>\n      <td>False</td>\n      <td>0</td>\n    </tr>\n    <tr>\n      <th>USERWIKI</th>\n      <td>False</td>\n      <td>0</td>\n    </tr>\n  </tbody>\n</table>\n</div>"
     },
     "execution_count": 24,
     "metadata": {},
     "output_type": "execute_result"
    }
   ],
   "source": [
    "# mostra na di prof dopo manuipolazioni\n",
    "pd.DataFrame({ 'contain na ': prof.isna().any() ,'number of na ': prof.isna().sum() })"
   ],
   "metadata": {
    "collapsed": false,
    "pycharm": {
     "name": "#%%\n"
    }
   }
  },
  {
   "cell_type": "code",
   "execution_count": 25,
   "outputs": [
    {
     "data": {
      "text/plain": "Int64Index([  0,   1,   2,   3,   4,   5,   6,   7,   8,   9,\n            ...\n            898, 899, 900, 901, 905, 908, 909, 910, 911, 912],\n           dtype='int64', length=871)"
     },
     "execution_count": 25,
     "metadata": {},
     "output_type": "execute_result"
    }
   ],
   "source": [
    "prof.index\n"
   ],
   "metadata": {
    "collapsed": false,
    "pycharm": {
     "name": "#%%\n"
    }
   }
  },
  {
   "cell_type": "code",
   "execution_count": 26,
   "outputs": [
    {
     "data": {
      "text/plain": "(176, 53)"
     },
     "execution_count": 26,
     "metadata": {},
     "output_type": "execute_result"
    }
   ],
   "source": [
    "#Una semplice esclusione delle osservazioni (righe) con NA nelle risposte del sondaggio rimuove circa 300 osservazioni. Questo è circa 1/3 del set di dati ed è una parte abbastanza significativa dei dati.\n",
    "# lo mostro soltanto per vedere quante sono le righe complete\n",
    "data.dropna().shape"
   ],
   "metadata": {
    "collapsed": false,
    "pycharm": {
     "name": "#%%\n"
    }
   }
  },
  {
   "cell_type": "code",
   "execution_count": 27,
   "outputs": [],
   "source": [
    "# missing data su domande:\n",
    "# - dropna (no - troppe eliminazioni)\n",
    "# - eliminare riga solo se ha n risposte mancanti, con n valore arbitrario\n",
    "# - media (se modello che vogliamo analizzare non ammette osservazioni mancanti - per alcune domande molti na - non mi convince)\n",
    "# - metto tutti gli na a 0 o 6"
   ],
   "metadata": {
    "collapsed": false,
    "pycharm": {
     "name": "#%%\n"
    }
   }
  },
  {
   "cell_type": "code",
   "execution_count": 28,
   "outputs": [],
   "source": [
    "#Esistono diversi modi per gestire i dati nulli nel set di dati della domanda.\n",
    "# Un modo sarebbe trattare la scala likert come continua con valori compresi tra 1 e 5,\n",
    "# quindi potremmo inserire la media di ogni domanda nei valori mancanti,\n",
    "# come verrà fatto con i dati completi in seguito.\n",
    "# Tuttavia, in questo modo non sarebbe possibile effettuare un'analisi sul motivo\n",
    "# per cui i dati sono nulli in quelle domande. Pertanto,\n",
    "# abbiamo scelto di includere una nuova categoria nelle domande (con il numero 6),\n",
    "# per indicare i campi che erano nulli.\n",
    "\n",
    "#STAMPA DISTIBUZIONE COLONNE\n",
    "\n",
    "#Come possiamo vedere, la maggior parte delle domande ha una distribuzione quasi normale,\n",
    "# con la maggior parte delle risposte concentrate tra 2, 3 e 4\n",
    "# (D'accordo, non sono né d'accordo né in disaccordo e non sono d'accordo).\n",
    "# Tuttavia, ci sono alcune domande su cui la maggior parte delle risposte si è concentrata in forte disaccordo,\n",
    "# come: Use1, Use2, Vis3 e Exp5. Questi casi si riferiscono all'uso di wikipedia per l'elaborazione di materiale\n",
    "# e attività educative, la citazione di wikipedia in lavori accademici,\n",
    "# l'uso di wikipedia per lavorare con gli studenti, tra gli altri.\n",
    "\n",
    "#Osservando l'ultima colonna dei grafici sopra, possiamo vedere la quantità di dati mancanti per ogni domanda.\n",
    "# Si noti che PEU3, Vis1 e Vis2 hanno un numero maggiore di risposte mancanti,\n",
    "# quando si analizzano rispettivamente queste domande,\n",
    "# \"È facile aggiungere o modificare informazioni su Wikipedia\",\n",
    "# \"Wikipedia migliora la visibilità del lavoro degli studenti\" e\n",
    "# \"È facile avere un registro dei contributi fatti su Wikipedia \".\n",
    "# Puoi vedere che queste sono domande per gli utenti di wikipedia e\n",
    "# la maggior parte degli insegnanti non è registrata sulla piattaforma, come visto in precedenza.\n",
    "# Pertanto, è comprensibile che queste domande abbiano un maggior numero di domande senza risposta."
   ],
   "metadata": {
    "collapsed": false,
    "pycharm": {
     "name": "#%%\n"
    }
   }
  },
  {
   "cell_type": "code",
   "execution_count": 28,
   "outputs": [],
   "source": [],
   "metadata": {
    "collapsed": false,
    "pycharm": {
     "name": "#%%\n"
    }
   }
  },
  {
   "cell_type": "code",
   "execution_count": 29,
   "outputs": [],
   "source": [
    "data = data.iloc[:, 9:].fillna(0)\n",
    "data = data.astype(int)\n"
   ],
   "metadata": {
    "collapsed": false,
    "pycharm": {
     "name": "#%%\n"
    }
   }
  },
  {
   "cell_type": "code",
   "execution_count": 30,
   "outputs": [],
   "source": [
    "# time su ogni op\n",
    "#time su foreach\n",
    "#time su for each per val"
   ],
   "metadata": {
    "collapsed": false,
    "pycharm": {
     "name": "#%%\n"
    }
   }
  },
  {
   "cell_type": "code",
   "execution_count": 31,
   "outputs": [],
   "source": [
    "# funzione built-in\n",
    "# %timeit data['Qu4'].map({0:0, 1:5, 2:4, 3:3, 4:2, 5:1})"
   ],
   "metadata": {
    "collapsed": false,
    "pycharm": {
     "name": "#%%\n"
    }
   }
  },
  {
   "cell_type": "code",
   "execution_count": 32,
   "outputs": [],
   "source": [
    "# fancy indexing e combine\n",
    "# %timeit main.reverse_vote_uf(data['Qu4'])"
   ],
   "metadata": {
    "collapsed": false,
    "pycharm": {
     "name": "#%%\n"
    }
   }
  },
  {
   "cell_type": "code",
   "execution_count": 33,
   "outputs": [],
   "source": [
    "# foreach con switcher\n",
    "# %timeit main.reverse_vote_not_uf(data['Qu4'].array)\n"
   ],
   "metadata": {
    "collapsed": false,
    "pycharm": {
     "name": "#%%\n"
    }
   }
  },
  {
   "cell_type": "code",
   "execution_count": 34,
   "outputs": [],
   "source": [
    "data['Qu4'] = data['Qu4'].map({0:0, 1:5, 2:4, 3:3, 4:2, 5:1})"
   ],
   "metadata": {
    "collapsed": false,
    "pycharm": {
     "name": "#%%\n"
    }
   }
  },
  {
   "cell_type": "code",
   "execution_count": 34,
   "outputs": [],
   "source": [],
   "metadata": {
    "collapsed": false,
    "pycharm": {
     "name": "#%%\n"
    }
   }
  },
  {
   "cell_type": "code",
   "execution_count": 35,
   "outputs": [
    {
     "data": {
      "text/plain": "     USERWIKI  PU1  PU2  PU3  PEU1  PEU2  PEU3  ENJ1  ENJ2  Qu1  Qu2  Qu3  \\\n0           0    4    4    3     5     5     3     4     4    3    3    2   \n1           0    2    3    3     4     4     3     3     4    4    4    3   \n2           0    2    2    2     4     4     3     3     3    2    2    2   \n3           0    3    3    4     3     3     3     4     3    3    4    3   \n4           1    4    3    5     5     4     3     4     4    4    5    4   \n..        ...  ...  ...  ...   ...   ...   ...   ...   ...  ...  ...  ...   \n908         0    3    3    3     5     5     2     4     5    3    3    4   \n909         0    3    3    4     5     4     3     4     4    4    4    4   \n910         0    3    3    3     5     4     3     3     4    3    3    2   \n911         0    3    3    5     5     4     2     4     4    4    4    3   \n912         0    3    4    3     5     5     0     4     4    3    3    3   \n\n     Qu4  Qu5  Vis1  Vis2  Vis3  Im1  Im2  Im3  SA1  SA2  SA3  Use1  Use2  \\\n0      4    3     3     3     1    2    4    2    4    4    4     3     1   \n1      3    2     3     3     1    1    2    1    4    4    4     2     2   \n2      1    3     2     3     2    2    4    3    4    2    4     1     1   \n3      3    3     3     4     3    2    2    3    5    5    5     3     3   \n4      3    4     4     4     4    3    2    3    5    5    5     3     3   \n..   ...  ...   ...   ...   ...  ...  ...  ...  ...  ...  ...   ...   ...   \n908    1    2     2     2     1    2    2    2    3    3    4     0     0   \n909    3    3     2     3     3    2    0    2    0    4    5     3     2   \n910    1    2     2     4     1    1    2    0    4    5    4     3     1   \n911    4    5     3     2     5    4    5    4    5    5    5     3     1   \n912    4    3     2     3     1    3    5    4    4    4    4     2     1   \n\n     Use3  Use4  Use5  Pf1  Pf2  Pf3  JR1  JR2  BI1  BI2  Inc1  Inc2  Inc3  \\\n0       1     2     4    1    1    3    4    1    2    3     5     5     5   \n1       1     1     2    1    1    1    4    3    2    2     4     4     3   \n2       1     1     1    3    3    3    4    3    1    1     5     3     5   \n3       3     3     3    4    4    4    5    4    3    3     3     4     4   \n4       5     5     5    5    5    5    3    3    5    5     5     5     4   \n..    ...   ...   ...  ...  ...  ...  ...  ...  ...  ...   ...   ...   ...   \n908     2     2     2    1    2    1    5    4    2    2     2     2     2   \n909     3     3     5    2    2    4    3    3    4    4     4     3     3   \n910     1     1     3    5    5    3    3    1    2    2     5     4     3   \n911     5     5     0    1    2    4    4    2    5    5     1     5     2   \n912     3     3     3    1    1    4    4    4    3    3     3     0     3   \n\n     Inc4  Exp1  Exp2  Exp3  Exp4  Exp5  \n0       5     4     4     4     1     2  \n1       4     2     2     4     2     4  \n2       5     2     2     2     1     3  \n3       3     4     4     3     3     4  \n4       4     5     5     5     4     4  \n..    ...   ...   ...   ...   ...   ...  \n908     2     0     0     0     0     0  \n909     4     4     4     4     1     1  \n910     0     5     5     5     4     1  \n911     2     4     4     2     1     1  \n912     3     2     3     3     1     1  \n\n[913 rows x 44 columns]",
      "text/html": "<div>\n<style scoped>\n    .dataframe tbody tr th:only-of-type {\n        vertical-align: middle;\n    }\n\n    .dataframe tbody tr th {\n        vertical-align: top;\n    }\n\n    .dataframe thead th {\n        text-align: right;\n    }\n</style>\n<table border=\"1\" class=\"dataframe\">\n  <thead>\n    <tr style=\"text-align: right;\">\n      <th></th>\n      <th>USERWIKI</th>\n      <th>PU1</th>\n      <th>PU2</th>\n      <th>PU3</th>\n      <th>PEU1</th>\n      <th>PEU2</th>\n      <th>PEU3</th>\n      <th>ENJ1</th>\n      <th>ENJ2</th>\n      <th>Qu1</th>\n      <th>Qu2</th>\n      <th>Qu3</th>\n      <th>Qu4</th>\n      <th>Qu5</th>\n      <th>Vis1</th>\n      <th>Vis2</th>\n      <th>Vis3</th>\n      <th>Im1</th>\n      <th>Im2</th>\n      <th>Im3</th>\n      <th>SA1</th>\n      <th>SA2</th>\n      <th>SA3</th>\n      <th>Use1</th>\n      <th>Use2</th>\n      <th>Use3</th>\n      <th>Use4</th>\n      <th>Use5</th>\n      <th>Pf1</th>\n      <th>Pf2</th>\n      <th>Pf3</th>\n      <th>JR1</th>\n      <th>JR2</th>\n      <th>BI1</th>\n      <th>BI2</th>\n      <th>Inc1</th>\n      <th>Inc2</th>\n      <th>Inc3</th>\n      <th>Inc4</th>\n      <th>Exp1</th>\n      <th>Exp2</th>\n      <th>Exp3</th>\n      <th>Exp4</th>\n      <th>Exp5</th>\n    </tr>\n  </thead>\n  <tbody>\n    <tr>\n      <th>0</th>\n      <td>0</td>\n      <td>4</td>\n      <td>4</td>\n      <td>3</td>\n      <td>5</td>\n      <td>5</td>\n      <td>3</td>\n      <td>4</td>\n      <td>4</td>\n      <td>3</td>\n      <td>3</td>\n      <td>2</td>\n      <td>4</td>\n      <td>3</td>\n      <td>3</td>\n      <td>3</td>\n      <td>1</td>\n      <td>2</td>\n      <td>4</td>\n      <td>2</td>\n      <td>4</td>\n      <td>4</td>\n      <td>4</td>\n      <td>3</td>\n      <td>1</td>\n      <td>1</td>\n      <td>2</td>\n      <td>4</td>\n      <td>1</td>\n      <td>1</td>\n      <td>3</td>\n      <td>4</td>\n      <td>1</td>\n      <td>2</td>\n      <td>3</td>\n      <td>5</td>\n      <td>5</td>\n      <td>5</td>\n      <td>5</td>\n      <td>4</td>\n      <td>4</td>\n      <td>4</td>\n      <td>1</td>\n      <td>2</td>\n    </tr>\n    <tr>\n      <th>1</th>\n      <td>0</td>\n      <td>2</td>\n      <td>3</td>\n      <td>3</td>\n      <td>4</td>\n      <td>4</td>\n      <td>3</td>\n      <td>3</td>\n      <td>4</td>\n      <td>4</td>\n      <td>4</td>\n      <td>3</td>\n      <td>3</td>\n      <td>2</td>\n      <td>3</td>\n      <td>3</td>\n      <td>1</td>\n      <td>1</td>\n      <td>2</td>\n      <td>1</td>\n      <td>4</td>\n      <td>4</td>\n      <td>4</td>\n      <td>2</td>\n      <td>2</td>\n      <td>1</td>\n      <td>1</td>\n      <td>2</td>\n      <td>1</td>\n      <td>1</td>\n      <td>1</td>\n      <td>4</td>\n      <td>3</td>\n      <td>2</td>\n      <td>2</td>\n      <td>4</td>\n      <td>4</td>\n      <td>3</td>\n      <td>4</td>\n      <td>2</td>\n      <td>2</td>\n      <td>4</td>\n      <td>2</td>\n      <td>4</td>\n    </tr>\n    <tr>\n      <th>2</th>\n      <td>0</td>\n      <td>2</td>\n      <td>2</td>\n      <td>2</td>\n      <td>4</td>\n      <td>4</td>\n      <td>3</td>\n      <td>3</td>\n      <td>3</td>\n      <td>2</td>\n      <td>2</td>\n      <td>2</td>\n      <td>1</td>\n      <td>3</td>\n      <td>2</td>\n      <td>3</td>\n      <td>2</td>\n      <td>2</td>\n      <td>4</td>\n      <td>3</td>\n      <td>4</td>\n      <td>2</td>\n      <td>4</td>\n      <td>1</td>\n      <td>1</td>\n      <td>1</td>\n      <td>1</td>\n      <td>1</td>\n      <td>3</td>\n      <td>3</td>\n      <td>3</td>\n      <td>4</td>\n      <td>3</td>\n      <td>1</td>\n      <td>1</td>\n      <td>5</td>\n      <td>3</td>\n      <td>5</td>\n      <td>5</td>\n      <td>2</td>\n      <td>2</td>\n      <td>2</td>\n      <td>1</td>\n      <td>3</td>\n    </tr>\n    <tr>\n      <th>3</th>\n      <td>0</td>\n      <td>3</td>\n      <td>3</td>\n      <td>4</td>\n      <td>3</td>\n      <td>3</td>\n      <td>3</td>\n      <td>4</td>\n      <td>3</td>\n      <td>3</td>\n      <td>4</td>\n      <td>3</td>\n      <td>3</td>\n      <td>3</td>\n      <td>3</td>\n      <td>4</td>\n      <td>3</td>\n      <td>2</td>\n      <td>2</td>\n      <td>3</td>\n      <td>5</td>\n      <td>5</td>\n      <td>5</td>\n      <td>3</td>\n      <td>3</td>\n      <td>3</td>\n      <td>3</td>\n      <td>3</td>\n      <td>4</td>\n      <td>4</td>\n      <td>4</td>\n      <td>5</td>\n      <td>4</td>\n      <td>3</td>\n      <td>3</td>\n      <td>3</td>\n      <td>4</td>\n      <td>4</td>\n      <td>3</td>\n      <td>4</td>\n      <td>4</td>\n      <td>3</td>\n      <td>3</td>\n      <td>4</td>\n    </tr>\n    <tr>\n      <th>4</th>\n      <td>1</td>\n      <td>4</td>\n      <td>3</td>\n      <td>5</td>\n      <td>5</td>\n      <td>4</td>\n      <td>3</td>\n      <td>4</td>\n      <td>4</td>\n      <td>4</td>\n      <td>5</td>\n      <td>4</td>\n      <td>3</td>\n      <td>4</td>\n      <td>4</td>\n      <td>4</td>\n      <td>4</td>\n      <td>3</td>\n      <td>2</td>\n      <td>3</td>\n      <td>5</td>\n      <td>5</td>\n      <td>5</td>\n      <td>3</td>\n      <td>3</td>\n      <td>5</td>\n      <td>5</td>\n      <td>5</td>\n      <td>5</td>\n      <td>5</td>\n      <td>5</td>\n      <td>3</td>\n      <td>3</td>\n      <td>5</td>\n      <td>5</td>\n      <td>5</td>\n      <td>5</td>\n      <td>4</td>\n      <td>4</td>\n      <td>5</td>\n      <td>5</td>\n      <td>5</td>\n      <td>4</td>\n      <td>4</td>\n    </tr>\n    <tr>\n      <th>...</th>\n      <td>...</td>\n      <td>...</td>\n      <td>...</td>\n      <td>...</td>\n      <td>...</td>\n      <td>...</td>\n      <td>...</td>\n      <td>...</td>\n      <td>...</td>\n      <td>...</td>\n      <td>...</td>\n      <td>...</td>\n      <td>...</td>\n      <td>...</td>\n      <td>...</td>\n      <td>...</td>\n      <td>...</td>\n      <td>...</td>\n      <td>...</td>\n      <td>...</td>\n      <td>...</td>\n      <td>...</td>\n      <td>...</td>\n      <td>...</td>\n      <td>...</td>\n      <td>...</td>\n      <td>...</td>\n      <td>...</td>\n      <td>...</td>\n      <td>...</td>\n      <td>...</td>\n      <td>...</td>\n      <td>...</td>\n      <td>...</td>\n      <td>...</td>\n      <td>...</td>\n      <td>...</td>\n      <td>...</td>\n      <td>...</td>\n      <td>...</td>\n      <td>...</td>\n      <td>...</td>\n      <td>...</td>\n      <td>...</td>\n    </tr>\n    <tr>\n      <th>908</th>\n      <td>0</td>\n      <td>3</td>\n      <td>3</td>\n      <td>3</td>\n      <td>5</td>\n      <td>5</td>\n      <td>2</td>\n      <td>4</td>\n      <td>5</td>\n      <td>3</td>\n      <td>3</td>\n      <td>4</td>\n      <td>1</td>\n      <td>2</td>\n      <td>2</td>\n      <td>2</td>\n      <td>1</td>\n      <td>2</td>\n      <td>2</td>\n      <td>2</td>\n      <td>3</td>\n      <td>3</td>\n      <td>4</td>\n      <td>0</td>\n      <td>0</td>\n      <td>2</td>\n      <td>2</td>\n      <td>2</td>\n      <td>1</td>\n      <td>2</td>\n      <td>1</td>\n      <td>5</td>\n      <td>4</td>\n      <td>2</td>\n      <td>2</td>\n      <td>2</td>\n      <td>2</td>\n      <td>2</td>\n      <td>2</td>\n      <td>0</td>\n      <td>0</td>\n      <td>0</td>\n      <td>0</td>\n      <td>0</td>\n    </tr>\n    <tr>\n      <th>909</th>\n      <td>0</td>\n      <td>3</td>\n      <td>3</td>\n      <td>4</td>\n      <td>5</td>\n      <td>4</td>\n      <td>3</td>\n      <td>4</td>\n      <td>4</td>\n      <td>4</td>\n      <td>4</td>\n      <td>4</td>\n      <td>3</td>\n      <td>3</td>\n      <td>2</td>\n      <td>3</td>\n      <td>3</td>\n      <td>2</td>\n      <td>0</td>\n      <td>2</td>\n      <td>0</td>\n      <td>4</td>\n      <td>5</td>\n      <td>3</td>\n      <td>2</td>\n      <td>3</td>\n      <td>3</td>\n      <td>5</td>\n      <td>2</td>\n      <td>2</td>\n      <td>4</td>\n      <td>3</td>\n      <td>3</td>\n      <td>4</td>\n      <td>4</td>\n      <td>4</td>\n      <td>3</td>\n      <td>3</td>\n      <td>4</td>\n      <td>4</td>\n      <td>4</td>\n      <td>4</td>\n      <td>1</td>\n      <td>1</td>\n    </tr>\n    <tr>\n      <th>910</th>\n      <td>0</td>\n      <td>3</td>\n      <td>3</td>\n      <td>3</td>\n      <td>5</td>\n      <td>4</td>\n      <td>3</td>\n      <td>3</td>\n      <td>4</td>\n      <td>3</td>\n      <td>3</td>\n      <td>2</td>\n      <td>1</td>\n      <td>2</td>\n      <td>2</td>\n      <td>4</td>\n      <td>1</td>\n      <td>1</td>\n      <td>2</td>\n      <td>0</td>\n      <td>4</td>\n      <td>5</td>\n      <td>4</td>\n      <td>3</td>\n      <td>1</td>\n      <td>1</td>\n      <td>1</td>\n      <td>3</td>\n      <td>5</td>\n      <td>5</td>\n      <td>3</td>\n      <td>3</td>\n      <td>1</td>\n      <td>2</td>\n      <td>2</td>\n      <td>5</td>\n      <td>4</td>\n      <td>3</td>\n      <td>0</td>\n      <td>5</td>\n      <td>5</td>\n      <td>5</td>\n      <td>4</td>\n      <td>1</td>\n    </tr>\n    <tr>\n      <th>911</th>\n      <td>0</td>\n      <td>3</td>\n      <td>3</td>\n      <td>5</td>\n      <td>5</td>\n      <td>4</td>\n      <td>2</td>\n      <td>4</td>\n      <td>4</td>\n      <td>4</td>\n      <td>4</td>\n      <td>3</td>\n      <td>4</td>\n      <td>5</td>\n      <td>3</td>\n      <td>2</td>\n      <td>5</td>\n      <td>4</td>\n      <td>5</td>\n      <td>4</td>\n      <td>5</td>\n      <td>5</td>\n      <td>5</td>\n      <td>3</td>\n      <td>1</td>\n      <td>5</td>\n      <td>5</td>\n      <td>0</td>\n      <td>1</td>\n      <td>2</td>\n      <td>4</td>\n      <td>4</td>\n      <td>2</td>\n      <td>5</td>\n      <td>5</td>\n      <td>1</td>\n      <td>5</td>\n      <td>2</td>\n      <td>2</td>\n      <td>4</td>\n      <td>4</td>\n      <td>2</td>\n      <td>1</td>\n      <td>1</td>\n    </tr>\n    <tr>\n      <th>912</th>\n      <td>0</td>\n      <td>3</td>\n      <td>4</td>\n      <td>3</td>\n      <td>5</td>\n      <td>5</td>\n      <td>0</td>\n      <td>4</td>\n      <td>4</td>\n      <td>3</td>\n      <td>3</td>\n      <td>3</td>\n      <td>4</td>\n      <td>3</td>\n      <td>2</td>\n      <td>3</td>\n      <td>1</td>\n      <td>3</td>\n      <td>5</td>\n      <td>4</td>\n      <td>4</td>\n      <td>4</td>\n      <td>4</td>\n      <td>2</td>\n      <td>1</td>\n      <td>3</td>\n      <td>3</td>\n      <td>3</td>\n      <td>1</td>\n      <td>1</td>\n      <td>4</td>\n      <td>4</td>\n      <td>4</td>\n      <td>3</td>\n      <td>3</td>\n      <td>3</td>\n      <td>0</td>\n      <td>3</td>\n      <td>3</td>\n      <td>2</td>\n      <td>3</td>\n      <td>3</td>\n      <td>1</td>\n      <td>1</td>\n    </tr>\n  </tbody>\n</table>\n<p>913 rows × 44 columns</p>\n</div>"
     },
     "execution_count": 35,
     "metadata": {},
     "output_type": "execute_result"
    }
   ],
   "source": [
    "data"
   ],
   "metadata": {
    "collapsed": false,
    "pycharm": {
     "name": "#%%\n"
    }
   }
  },
  {
   "cell_type": "code",
   "execution_count": 35,
   "outputs": [],
   "source": [],
   "metadata": {
    "collapsed": false,
    "pycharm": {
     "name": "#%%\n"
    }
   }
  },
  {
   "cell_type": "code",
   "execution_count": 36,
   "outputs": [],
   "source": [
    "#normalizza colone\n"
   ],
   "metadata": {
    "collapsed": false,
    "pycharm": {
     "name": "#%%\n"
    }
   }
  },
  {
   "cell_type": "code",
   "execution_count": 36,
   "outputs": [],
   "source": [],
   "metadata": {
    "collapsed": false,
    "pycharm": {
     "name": "#%%\n"
    }
   }
  }
 ],
 "metadata": {
  "kernelspec": {
   "name": "myenv",
   "language": "python",
   "display_name": "Python (wiki4HEProject)"
  },
  "language_info": {
   "codemirror_mode": {
    "name": "ipython",
    "version": 2
   },
   "file_extension": ".py",
   "mimetype": "text/x-python",
   "name": "python",
   "nbconvert_exporter": "python",
   "pygments_lexer": "ipython2",
   "version": "2.7.6"
  }
 },
 "nbformat": 4,
 "nbformat_minor": 0
}