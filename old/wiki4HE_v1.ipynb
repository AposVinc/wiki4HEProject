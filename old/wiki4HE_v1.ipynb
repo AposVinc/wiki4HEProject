{
 "cells": [
  {
   "cell_type": "code",
   "source": [
    "# gestione missing values:\n",
    "# togliere campione,\n",
    "# se per 900 campioni abbiamo solo 10 campioni e ognuno di questi ha una sola domanda alla quale non ha risposto\n",
    "#       si posso gestire in maniera tale da non perdere il campione,\n",
    "#       oppure talmente pochi che si possono eliminare\n",
    "# tirar fuori un altra colonna, rapporto tra risposta fra una colonna e un'altra\n",
    "#       analizza l'efficenza su questo calcolo\n",
    "# o raggruppamento per ruolo/professione in maniera efficiente e non\n",
    "# statistica esplorativa\n"
   ],
   "metadata": {
    "collapsed": false,
    "pycharm": {
     "name": "#%%\n"
    }
   },
   "execution_count": 27,
   "outputs": []
  },
  {
   "cell_type": "code",
   "execution_count": 28,
   "outputs": [],
   "source": [
    "#non considerare Use5\n",
    "#prevedere se prof è d'accordo con l'apprendimento con wiki dalle altre domande\n",
    "# in input tutto cio che non è \"use\" - output: si seleziona qualcuno di questi use e si cerca di predirli\n",
    "\n",
    "# tipo di docente ha rilevanza nella decisione\n",
    "\n",
    "\n"
   ],
   "metadata": {
    "collapsed": false,
    "pycharm": {
     "name": "#%%\n"
    }
   }
  },
  {
   "cell_type": "code",
   "execution_count": 29,
   "metadata": {
    "collapsed": true
   },
   "outputs": [
    {
     "data": {
      "text/plain": "     AGE  GENDER DOMAIN  PhD YEARSEXP  UNIVERSITY UOC_POSITION OTHER_POSITION  \\\n0     40       0      2    1       14           1            2              ?   \n1     42       0      5    1       18           1            2              ?   \n2     37       0      4    1       13           1            3              ?   \n3     40       0      4    0       13           1            3              ?   \n4     51       0      6    0        8           1            3              ?   \n..   ...     ...    ...  ...      ...         ...          ...            ...   \n908   43       0      5    1       21           2            ?              ?   \n909   53       0      6    0       25           2            ?              ?   \n910   39       0      5    1        9           2            ?              ?   \n911   40       0      3    1       10           2            ?              ?   \n912   41       1      3    1       12           2            ?              ?   \n\n    OTHERSTATUS USERWIKI PU1 PU2 PU3 PEU1 PEU2 PEU3 ENJ1 ENJ2 Qu1 Qu2 Qu3 Qu4  \\\n0             ?        0   4   4   3    5    5    3    4    4   3   3   2   2   \n1             ?        0   2   3   3    4    4    3    3    4   4   4   3   3   \n2             ?        0   2   2   2    4    4    3    3    3   2   2   2   5   \n3             ?        0   3   3   4    3    3    3    4    3   3   4   3   3   \n4             ?        1   4   3   5    5    4    3    4    4   4   5   4   3   \n..          ...      ...  ..  ..  ..  ...  ...  ...  ...  ...  ..  ..  ..  ..   \n908           2        0   3   3   3    5    5    2    4    5   3   3   4   5   \n909           6        0   3   3   4    5    4    3    4    4   4   4   4   3   \n910           4        0   3   3   3    5    4    3    3    4   3   3   2   5   \n911           2        0   3   3   5    5    4    2    4    4   4   4   3   2   \n912           2        0   3   4   3    5    5    ?    4    4   3   3   3   2   \n\n    Qu5 Vis1 Vis2 Vis3 Im1 Im2 Im3 SA1 SA2 SA3 Use1 Use2 Use3 Use4 Use5 Pf1  \\\n0     3    3    3    1   2   4   2   4   4   4    3    1    1    2    4   1   \n1     2    3    3    1   1   2   1   4   4   4    2    2    1    1    2   1   \n2     3    2    3    2   2   4   3   4   2   4    1    1    1    1    1   3   \n3     3    3    4    3   2   2   3   5   5   5    3    3    3    3    3   4   \n4     4    4    4    4   3   2   3   5   5   5    3    3    5    5    5   5   \n..   ..  ...  ...  ...  ..  ..  ..  ..  ..  ..  ...  ...  ...  ...  ...  ..   \n908   2    2    2    1   2   2   2   3   3   4    ?    ?    2    2    2   1   \n909   3    2    3    3   2   ?   2   ?   4   5    3    2    3    3    5   2   \n910   2    2    4    1   1   2   ?   4   5   4    3    1    1    1    3   5   \n911   5    3    2    5   4   5   4   5   5   5    3    1    5    5    ?   1   \n912   3    2    3    1   3   5   4   4   4   4    2    1    3    3    3   1   \n\n    Pf2 Pf3 JR1 JR2 BI1 BI2 Inc1 Inc2 Inc3 Inc4 Exp1 Exp2 Exp3 Exp4 Exp5  \n0     1   3   4   1   2   3    5    5    5    5    4    4    4    1    2  \n1     1   1   4   3   2   2    4    4    3    4    2    2    4    2    4  \n2     3   3   4   3   1   1    5    3    5    5    2    2    2    1    3  \n3     4   4   5   4   3   3    3    4    4    3    4    4    3    3    4  \n4     5   5   3   3   5   5    5    5    4    4    5    5    5    4    4  \n..   ..  ..  ..  ..  ..  ..  ...  ...  ...  ...  ...  ...  ...  ...  ...  \n908   2   1   5   4   2   2    2    2    2    2    ?    ?    ?    ?    ?  \n909   2   4   3   3   4   4    4    3    3    4    4    4    4    1    1  \n910   5   3   3   1   2   2    5    4    3    ?    5    5    5    4    1  \n911   2   4   4   2   5   5    1    5    2    2    4    4    2    1    1  \n912   1   4   4   4   3   3    3    ?    3    3    2    3    3    1    1  \n\n[913 rows x 53 columns]",
      "text/html": "<div>\n<style scoped>\n    .dataframe tbody tr th:only-of-type {\n        vertical-align: middle;\n    }\n\n    .dataframe tbody tr th {\n        vertical-align: top;\n    }\n\n    .dataframe thead th {\n        text-align: right;\n    }\n</style>\n<table border=\"1\" class=\"dataframe\">\n  <thead>\n    <tr style=\"text-align: right;\">\n      <th></th>\n      <th>AGE</th>\n      <th>GENDER</th>\n      <th>DOMAIN</th>\n      <th>PhD</th>\n      <th>YEARSEXP</th>\n      <th>UNIVERSITY</th>\n      <th>UOC_POSITION</th>\n      <th>OTHER_POSITION</th>\n      <th>OTHERSTATUS</th>\n      <th>USERWIKI</th>\n      <th>PU1</th>\n      <th>PU2</th>\n      <th>PU3</th>\n      <th>PEU1</th>\n      <th>PEU2</th>\n      <th>PEU3</th>\n      <th>ENJ1</th>\n      <th>ENJ2</th>\n      <th>Qu1</th>\n      <th>Qu2</th>\n      <th>Qu3</th>\n      <th>Qu4</th>\n      <th>Qu5</th>\n      <th>Vis1</th>\n      <th>Vis2</th>\n      <th>Vis3</th>\n      <th>Im1</th>\n      <th>Im2</th>\n      <th>Im3</th>\n      <th>SA1</th>\n      <th>SA2</th>\n      <th>SA3</th>\n      <th>Use1</th>\n      <th>Use2</th>\n      <th>Use3</th>\n      <th>Use4</th>\n      <th>Use5</th>\n      <th>Pf1</th>\n      <th>Pf2</th>\n      <th>Pf3</th>\n      <th>JR1</th>\n      <th>JR2</th>\n      <th>BI1</th>\n      <th>BI2</th>\n      <th>Inc1</th>\n      <th>Inc2</th>\n      <th>Inc3</th>\n      <th>Inc4</th>\n      <th>Exp1</th>\n      <th>Exp2</th>\n      <th>Exp3</th>\n      <th>Exp4</th>\n      <th>Exp5</th>\n    </tr>\n  </thead>\n  <tbody>\n    <tr>\n      <th>0</th>\n      <td>40</td>\n      <td>0</td>\n      <td>2</td>\n      <td>1</td>\n      <td>14</td>\n      <td>1</td>\n      <td>2</td>\n      <td>?</td>\n      <td>?</td>\n      <td>0</td>\n      <td>4</td>\n      <td>4</td>\n      <td>3</td>\n      <td>5</td>\n      <td>5</td>\n      <td>3</td>\n      <td>4</td>\n      <td>4</td>\n      <td>3</td>\n      <td>3</td>\n      <td>2</td>\n      <td>2</td>\n      <td>3</td>\n      <td>3</td>\n      <td>3</td>\n      <td>1</td>\n      <td>2</td>\n      <td>4</td>\n      <td>2</td>\n      <td>4</td>\n      <td>4</td>\n      <td>4</td>\n      <td>3</td>\n      <td>1</td>\n      <td>1</td>\n      <td>2</td>\n      <td>4</td>\n      <td>1</td>\n      <td>1</td>\n      <td>3</td>\n      <td>4</td>\n      <td>1</td>\n      <td>2</td>\n      <td>3</td>\n      <td>5</td>\n      <td>5</td>\n      <td>5</td>\n      <td>5</td>\n      <td>4</td>\n      <td>4</td>\n      <td>4</td>\n      <td>1</td>\n      <td>2</td>\n    </tr>\n    <tr>\n      <th>1</th>\n      <td>42</td>\n      <td>0</td>\n      <td>5</td>\n      <td>1</td>\n      <td>18</td>\n      <td>1</td>\n      <td>2</td>\n      <td>?</td>\n      <td>?</td>\n      <td>0</td>\n      <td>2</td>\n      <td>3</td>\n      <td>3</td>\n      <td>4</td>\n      <td>4</td>\n      <td>3</td>\n      <td>3</td>\n      <td>4</td>\n      <td>4</td>\n      <td>4</td>\n      <td>3</td>\n      <td>3</td>\n      <td>2</td>\n      <td>3</td>\n      <td>3</td>\n      <td>1</td>\n      <td>1</td>\n      <td>2</td>\n      <td>1</td>\n      <td>4</td>\n      <td>4</td>\n      <td>4</td>\n      <td>2</td>\n      <td>2</td>\n      <td>1</td>\n      <td>1</td>\n      <td>2</td>\n      <td>1</td>\n      <td>1</td>\n      <td>1</td>\n      <td>4</td>\n      <td>3</td>\n      <td>2</td>\n      <td>2</td>\n      <td>4</td>\n      <td>4</td>\n      <td>3</td>\n      <td>4</td>\n      <td>2</td>\n      <td>2</td>\n      <td>4</td>\n      <td>2</td>\n      <td>4</td>\n    </tr>\n    <tr>\n      <th>2</th>\n      <td>37</td>\n      <td>0</td>\n      <td>4</td>\n      <td>1</td>\n      <td>13</td>\n      <td>1</td>\n      <td>3</td>\n      <td>?</td>\n      <td>?</td>\n      <td>0</td>\n      <td>2</td>\n      <td>2</td>\n      <td>2</td>\n      <td>4</td>\n      <td>4</td>\n      <td>3</td>\n      <td>3</td>\n      <td>3</td>\n      <td>2</td>\n      <td>2</td>\n      <td>2</td>\n      <td>5</td>\n      <td>3</td>\n      <td>2</td>\n      <td>3</td>\n      <td>2</td>\n      <td>2</td>\n      <td>4</td>\n      <td>3</td>\n      <td>4</td>\n      <td>2</td>\n      <td>4</td>\n      <td>1</td>\n      <td>1</td>\n      <td>1</td>\n      <td>1</td>\n      <td>1</td>\n      <td>3</td>\n      <td>3</td>\n      <td>3</td>\n      <td>4</td>\n      <td>3</td>\n      <td>1</td>\n      <td>1</td>\n      <td>5</td>\n      <td>3</td>\n      <td>5</td>\n      <td>5</td>\n      <td>2</td>\n      <td>2</td>\n      <td>2</td>\n      <td>1</td>\n      <td>3</td>\n    </tr>\n    <tr>\n      <th>3</th>\n      <td>40</td>\n      <td>0</td>\n      <td>4</td>\n      <td>0</td>\n      <td>13</td>\n      <td>1</td>\n      <td>3</td>\n      <td>?</td>\n      <td>?</td>\n      <td>0</td>\n      <td>3</td>\n      <td>3</td>\n      <td>4</td>\n      <td>3</td>\n      <td>3</td>\n      <td>3</td>\n      <td>4</td>\n      <td>3</td>\n      <td>3</td>\n      <td>4</td>\n      <td>3</td>\n      <td>3</td>\n      <td>3</td>\n      <td>3</td>\n      <td>4</td>\n      <td>3</td>\n      <td>2</td>\n      <td>2</td>\n      <td>3</td>\n      <td>5</td>\n      <td>5</td>\n      <td>5</td>\n      <td>3</td>\n      <td>3</td>\n      <td>3</td>\n      <td>3</td>\n      <td>3</td>\n      <td>4</td>\n      <td>4</td>\n      <td>4</td>\n      <td>5</td>\n      <td>4</td>\n      <td>3</td>\n      <td>3</td>\n      <td>3</td>\n      <td>4</td>\n      <td>4</td>\n      <td>3</td>\n      <td>4</td>\n      <td>4</td>\n      <td>3</td>\n      <td>3</td>\n      <td>4</td>\n    </tr>\n    <tr>\n      <th>4</th>\n      <td>51</td>\n      <td>0</td>\n      <td>6</td>\n      <td>0</td>\n      <td>8</td>\n      <td>1</td>\n      <td>3</td>\n      <td>?</td>\n      <td>?</td>\n      <td>1</td>\n      <td>4</td>\n      <td>3</td>\n      <td>5</td>\n      <td>5</td>\n      <td>4</td>\n      <td>3</td>\n      <td>4</td>\n      <td>4</td>\n      <td>4</td>\n      <td>5</td>\n      <td>4</td>\n      <td>3</td>\n      <td>4</td>\n      <td>4</td>\n      <td>4</td>\n      <td>4</td>\n      <td>3</td>\n      <td>2</td>\n      <td>3</td>\n      <td>5</td>\n      <td>5</td>\n      <td>5</td>\n      <td>3</td>\n      <td>3</td>\n      <td>5</td>\n      <td>5</td>\n      <td>5</td>\n      <td>5</td>\n      <td>5</td>\n      <td>5</td>\n      <td>3</td>\n      <td>3</td>\n      <td>5</td>\n      <td>5</td>\n      <td>5</td>\n      <td>5</td>\n      <td>4</td>\n      <td>4</td>\n      <td>5</td>\n      <td>5</td>\n      <td>5</td>\n      <td>4</td>\n      <td>4</td>\n    </tr>\n    <tr>\n      <th>...</th>\n      <td>...</td>\n      <td>...</td>\n      <td>...</td>\n      <td>...</td>\n      <td>...</td>\n      <td>...</td>\n      <td>...</td>\n      <td>...</td>\n      <td>...</td>\n      <td>...</td>\n      <td>...</td>\n      <td>...</td>\n      <td>...</td>\n      <td>...</td>\n      <td>...</td>\n      <td>...</td>\n      <td>...</td>\n      <td>...</td>\n      <td>...</td>\n      <td>...</td>\n      <td>...</td>\n      <td>...</td>\n      <td>...</td>\n      <td>...</td>\n      <td>...</td>\n      <td>...</td>\n      <td>...</td>\n      <td>...</td>\n      <td>...</td>\n      <td>...</td>\n      <td>...</td>\n      <td>...</td>\n      <td>...</td>\n      <td>...</td>\n      <td>...</td>\n      <td>...</td>\n      <td>...</td>\n      <td>...</td>\n      <td>...</td>\n      <td>...</td>\n      <td>...</td>\n      <td>...</td>\n      <td>...</td>\n      <td>...</td>\n      <td>...</td>\n      <td>...</td>\n      <td>...</td>\n      <td>...</td>\n      <td>...</td>\n      <td>...</td>\n      <td>...</td>\n      <td>...</td>\n      <td>...</td>\n    </tr>\n    <tr>\n      <th>908</th>\n      <td>43</td>\n      <td>0</td>\n      <td>5</td>\n      <td>1</td>\n      <td>21</td>\n      <td>2</td>\n      <td>?</td>\n      <td>?</td>\n      <td>2</td>\n      <td>0</td>\n      <td>3</td>\n      <td>3</td>\n      <td>3</td>\n      <td>5</td>\n      <td>5</td>\n      <td>2</td>\n      <td>4</td>\n      <td>5</td>\n      <td>3</td>\n      <td>3</td>\n      <td>4</td>\n      <td>5</td>\n      <td>2</td>\n      <td>2</td>\n      <td>2</td>\n      <td>1</td>\n      <td>2</td>\n      <td>2</td>\n      <td>2</td>\n      <td>3</td>\n      <td>3</td>\n      <td>4</td>\n      <td>?</td>\n      <td>?</td>\n      <td>2</td>\n      <td>2</td>\n      <td>2</td>\n      <td>1</td>\n      <td>2</td>\n      <td>1</td>\n      <td>5</td>\n      <td>4</td>\n      <td>2</td>\n      <td>2</td>\n      <td>2</td>\n      <td>2</td>\n      <td>2</td>\n      <td>2</td>\n      <td>?</td>\n      <td>?</td>\n      <td>?</td>\n      <td>?</td>\n      <td>?</td>\n    </tr>\n    <tr>\n      <th>909</th>\n      <td>53</td>\n      <td>0</td>\n      <td>6</td>\n      <td>0</td>\n      <td>25</td>\n      <td>2</td>\n      <td>?</td>\n      <td>?</td>\n      <td>6</td>\n      <td>0</td>\n      <td>3</td>\n      <td>3</td>\n      <td>4</td>\n      <td>5</td>\n      <td>4</td>\n      <td>3</td>\n      <td>4</td>\n      <td>4</td>\n      <td>4</td>\n      <td>4</td>\n      <td>4</td>\n      <td>3</td>\n      <td>3</td>\n      <td>2</td>\n      <td>3</td>\n      <td>3</td>\n      <td>2</td>\n      <td>?</td>\n      <td>2</td>\n      <td>?</td>\n      <td>4</td>\n      <td>5</td>\n      <td>3</td>\n      <td>2</td>\n      <td>3</td>\n      <td>3</td>\n      <td>5</td>\n      <td>2</td>\n      <td>2</td>\n      <td>4</td>\n      <td>3</td>\n      <td>3</td>\n      <td>4</td>\n      <td>4</td>\n      <td>4</td>\n      <td>3</td>\n      <td>3</td>\n      <td>4</td>\n      <td>4</td>\n      <td>4</td>\n      <td>4</td>\n      <td>1</td>\n      <td>1</td>\n    </tr>\n    <tr>\n      <th>910</th>\n      <td>39</td>\n      <td>0</td>\n      <td>5</td>\n      <td>1</td>\n      <td>9</td>\n      <td>2</td>\n      <td>?</td>\n      <td>?</td>\n      <td>4</td>\n      <td>0</td>\n      <td>3</td>\n      <td>3</td>\n      <td>3</td>\n      <td>5</td>\n      <td>4</td>\n      <td>3</td>\n      <td>3</td>\n      <td>4</td>\n      <td>3</td>\n      <td>3</td>\n      <td>2</td>\n      <td>5</td>\n      <td>2</td>\n      <td>2</td>\n      <td>4</td>\n      <td>1</td>\n      <td>1</td>\n      <td>2</td>\n      <td>?</td>\n      <td>4</td>\n      <td>5</td>\n      <td>4</td>\n      <td>3</td>\n      <td>1</td>\n      <td>1</td>\n      <td>1</td>\n      <td>3</td>\n      <td>5</td>\n      <td>5</td>\n      <td>3</td>\n      <td>3</td>\n      <td>1</td>\n      <td>2</td>\n      <td>2</td>\n      <td>5</td>\n      <td>4</td>\n      <td>3</td>\n      <td>?</td>\n      <td>5</td>\n      <td>5</td>\n      <td>5</td>\n      <td>4</td>\n      <td>1</td>\n    </tr>\n    <tr>\n      <th>911</th>\n      <td>40</td>\n      <td>0</td>\n      <td>3</td>\n      <td>1</td>\n      <td>10</td>\n      <td>2</td>\n      <td>?</td>\n      <td>?</td>\n      <td>2</td>\n      <td>0</td>\n      <td>3</td>\n      <td>3</td>\n      <td>5</td>\n      <td>5</td>\n      <td>4</td>\n      <td>2</td>\n      <td>4</td>\n      <td>4</td>\n      <td>4</td>\n      <td>4</td>\n      <td>3</td>\n      <td>2</td>\n      <td>5</td>\n      <td>3</td>\n      <td>2</td>\n      <td>5</td>\n      <td>4</td>\n      <td>5</td>\n      <td>4</td>\n      <td>5</td>\n      <td>5</td>\n      <td>5</td>\n      <td>3</td>\n      <td>1</td>\n      <td>5</td>\n      <td>5</td>\n      <td>?</td>\n      <td>1</td>\n      <td>2</td>\n      <td>4</td>\n      <td>4</td>\n      <td>2</td>\n      <td>5</td>\n      <td>5</td>\n      <td>1</td>\n      <td>5</td>\n      <td>2</td>\n      <td>2</td>\n      <td>4</td>\n      <td>4</td>\n      <td>2</td>\n      <td>1</td>\n      <td>1</td>\n    </tr>\n    <tr>\n      <th>912</th>\n      <td>41</td>\n      <td>1</td>\n      <td>3</td>\n      <td>1</td>\n      <td>12</td>\n      <td>2</td>\n      <td>?</td>\n      <td>?</td>\n      <td>2</td>\n      <td>0</td>\n      <td>3</td>\n      <td>4</td>\n      <td>3</td>\n      <td>5</td>\n      <td>5</td>\n      <td>?</td>\n      <td>4</td>\n      <td>4</td>\n      <td>3</td>\n      <td>3</td>\n      <td>3</td>\n      <td>2</td>\n      <td>3</td>\n      <td>2</td>\n      <td>3</td>\n      <td>1</td>\n      <td>3</td>\n      <td>5</td>\n      <td>4</td>\n      <td>4</td>\n      <td>4</td>\n      <td>4</td>\n      <td>2</td>\n      <td>1</td>\n      <td>3</td>\n      <td>3</td>\n      <td>3</td>\n      <td>1</td>\n      <td>1</td>\n      <td>4</td>\n      <td>4</td>\n      <td>4</td>\n      <td>3</td>\n      <td>3</td>\n      <td>3</td>\n      <td>?</td>\n      <td>3</td>\n      <td>3</td>\n      <td>2</td>\n      <td>3</td>\n      <td>3</td>\n      <td>1</td>\n      <td>1</td>\n    </tr>\n  </tbody>\n</table>\n<p>913 rows × 53 columns</p>\n</div>"
     },
     "execution_count": 29,
     "metadata": {},
     "output_type": "execute_result"
    }
   ],
   "source": [
    "import numpy as np\n",
    "import pandas as pd\n",
    "\n",
    "data = pd.read_csv('dataset/uci - missing data/wiki4HE/wiki4HE.csv', sep=';')\n",
    "data"
   ]
  },
  {
   "cell_type": "code",
   "execution_count": 30,
   "outputs": [
    {
     "data": {
      "text/plain": "     AGE  GENDER DOMAIN  PhD YEARSEXP  UNIVERSITY UOC_POSITION OTHER_POSITION  \\\n0     40       0      2    1       14           1            2            NaN   \n1     42       0      5    1       18           1            2            NaN   \n2     37       0      4    1       13           1            3            NaN   \n3     40       0      4    0       13           1            3            NaN   \n4     51       0      6    0        8           1            3            NaN   \n..   ...     ...    ...  ...      ...         ...          ...            ...   \n908   43       0      5    1       21           2          NaN            NaN   \n909   53       0      6    0       25           2          NaN            NaN   \n910   39       0      5    1        9           2          NaN            NaN   \n911   40       0      3    1       10           2          NaN            NaN   \n912   41       1      3    1       12           2          NaN            NaN   \n\n    OTHERSTATUS USERWIKI PU1 PU2 PU3 PEU1 PEU2 PEU3 ENJ1 ENJ2 Qu1 Qu2 Qu3 Qu4  \\\n0           NaN        0   4   4   3    5    5    3    4    4   3   3   2   2   \n1           NaN        0   2   3   3    4    4    3    3    4   4   4   3   3   \n2           NaN        0   2   2   2    4    4    3    3    3   2   2   2   5   \n3           NaN        0   3   3   4    3    3    3    4    3   3   4   3   3   \n4           NaN        1   4   3   5    5    4    3    4    4   4   5   4   3   \n..          ...      ...  ..  ..  ..  ...  ...  ...  ...  ...  ..  ..  ..  ..   \n908           2        0   3   3   3    5    5    2    4    5   3   3   4   5   \n909           6        0   3   3   4    5    4    3    4    4   4   4   4   3   \n910           4        0   3   3   3    5    4    3    3    4   3   3   2   5   \n911           2        0   3   3   5    5    4    2    4    4   4   4   3   2   \n912           2        0   3   4   3    5    5  NaN    4    4   3   3   3   2   \n\n    Qu5 Vis1 Vis2 Vis3 Im1  Im2  Im3  SA1 SA2 SA3 Use1 Use2 Use3 Use4 Use5  \\\n0     3    3    3    1   2    4    2    4   4   4    3    1    1    2    4   \n1     2    3    3    1   1    2    1    4   4   4    2    2    1    1    2   \n2     3    2    3    2   2    4    3    4   2   4    1    1    1    1    1   \n3     3    3    4    3   2    2    3    5   5   5    3    3    3    3    3   \n4     4    4    4    4   3    2    3    5   5   5    3    3    5    5    5   \n..   ..  ...  ...  ...  ..  ...  ...  ...  ..  ..  ...  ...  ...  ...  ...   \n908   2    2    2    1   2    2    2    3   3   4  NaN  NaN    2    2    2   \n909   3    2    3    3   2  NaN    2  NaN   4   5    3    2    3    3    5   \n910   2    2    4    1   1    2  NaN    4   5   4    3    1    1    1    3   \n911   5    3    2    5   4    5    4    5   5   5    3    1    5    5  NaN   \n912   3    2    3    1   3    5    4    4   4   4    2    1    3    3    3   \n\n    Pf1 Pf2 Pf3 JR1 JR2 BI1 BI2 Inc1 Inc2 Inc3 Inc4 Exp1 Exp2 Exp3 Exp4 Exp5  \n0     1   1   3   4   1   2   3    5    5    5    5    4    4    4    1    2  \n1     1   1   1   4   3   2   2    4    4    3    4    2    2    4    2    4  \n2     3   3   3   4   3   1   1    5    3    5    5    2    2    2    1    3  \n3     4   4   4   5   4   3   3    3    4    4    3    4    4    3    3    4  \n4     5   5   5   3   3   5   5    5    5    4    4    5    5    5    4    4  \n..   ..  ..  ..  ..  ..  ..  ..  ...  ...  ...  ...  ...  ...  ...  ...  ...  \n908   1   2   1   5   4   2   2    2    2    2    2  NaN  NaN  NaN  NaN  NaN  \n909   2   2   4   3   3   4   4    4    3    3    4    4    4    4    1    1  \n910   5   5   3   3   1   2   2    5    4    3  NaN    5    5    5    4    1  \n911   1   2   4   4   2   5   5    1    5    2    2    4    4    2    1    1  \n912   1   1   4   4   4   3   3    3  NaN    3    3    2    3    3    1    1  \n\n[913 rows x 53 columns]",
      "text/html": "<div>\n<style scoped>\n    .dataframe tbody tr th:only-of-type {\n        vertical-align: middle;\n    }\n\n    .dataframe tbody tr th {\n        vertical-align: top;\n    }\n\n    .dataframe thead th {\n        text-align: right;\n    }\n</style>\n<table border=\"1\" class=\"dataframe\">\n  <thead>\n    <tr style=\"text-align: right;\">\n      <th></th>\n      <th>AGE</th>\n      <th>GENDER</th>\n      <th>DOMAIN</th>\n      <th>PhD</th>\n      <th>YEARSEXP</th>\n      <th>UNIVERSITY</th>\n      <th>UOC_POSITION</th>\n      <th>OTHER_POSITION</th>\n      <th>OTHERSTATUS</th>\n      <th>USERWIKI</th>\n      <th>PU1</th>\n      <th>PU2</th>\n      <th>PU3</th>\n      <th>PEU1</th>\n      <th>PEU2</th>\n      <th>PEU3</th>\n      <th>ENJ1</th>\n      <th>ENJ2</th>\n      <th>Qu1</th>\n      <th>Qu2</th>\n      <th>Qu3</th>\n      <th>Qu4</th>\n      <th>Qu5</th>\n      <th>Vis1</th>\n      <th>Vis2</th>\n      <th>Vis3</th>\n      <th>Im1</th>\n      <th>Im2</th>\n      <th>Im3</th>\n      <th>SA1</th>\n      <th>SA2</th>\n      <th>SA3</th>\n      <th>Use1</th>\n      <th>Use2</th>\n      <th>Use3</th>\n      <th>Use4</th>\n      <th>Use5</th>\n      <th>Pf1</th>\n      <th>Pf2</th>\n      <th>Pf3</th>\n      <th>JR1</th>\n      <th>JR2</th>\n      <th>BI1</th>\n      <th>BI2</th>\n      <th>Inc1</th>\n      <th>Inc2</th>\n      <th>Inc3</th>\n      <th>Inc4</th>\n      <th>Exp1</th>\n      <th>Exp2</th>\n      <th>Exp3</th>\n      <th>Exp4</th>\n      <th>Exp5</th>\n    </tr>\n  </thead>\n  <tbody>\n    <tr>\n      <th>0</th>\n      <td>40</td>\n      <td>0</td>\n      <td>2</td>\n      <td>1</td>\n      <td>14</td>\n      <td>1</td>\n      <td>2</td>\n      <td>NaN</td>\n      <td>NaN</td>\n      <td>0</td>\n      <td>4</td>\n      <td>4</td>\n      <td>3</td>\n      <td>5</td>\n      <td>5</td>\n      <td>3</td>\n      <td>4</td>\n      <td>4</td>\n      <td>3</td>\n      <td>3</td>\n      <td>2</td>\n      <td>2</td>\n      <td>3</td>\n      <td>3</td>\n      <td>3</td>\n      <td>1</td>\n      <td>2</td>\n      <td>4</td>\n      <td>2</td>\n      <td>4</td>\n      <td>4</td>\n      <td>4</td>\n      <td>3</td>\n      <td>1</td>\n      <td>1</td>\n      <td>2</td>\n      <td>4</td>\n      <td>1</td>\n      <td>1</td>\n      <td>3</td>\n      <td>4</td>\n      <td>1</td>\n      <td>2</td>\n      <td>3</td>\n      <td>5</td>\n      <td>5</td>\n      <td>5</td>\n      <td>5</td>\n      <td>4</td>\n      <td>4</td>\n      <td>4</td>\n      <td>1</td>\n      <td>2</td>\n    </tr>\n    <tr>\n      <th>1</th>\n      <td>42</td>\n      <td>0</td>\n      <td>5</td>\n      <td>1</td>\n      <td>18</td>\n      <td>1</td>\n      <td>2</td>\n      <td>NaN</td>\n      <td>NaN</td>\n      <td>0</td>\n      <td>2</td>\n      <td>3</td>\n      <td>3</td>\n      <td>4</td>\n      <td>4</td>\n      <td>3</td>\n      <td>3</td>\n      <td>4</td>\n      <td>4</td>\n      <td>4</td>\n      <td>3</td>\n      <td>3</td>\n      <td>2</td>\n      <td>3</td>\n      <td>3</td>\n      <td>1</td>\n      <td>1</td>\n      <td>2</td>\n      <td>1</td>\n      <td>4</td>\n      <td>4</td>\n      <td>4</td>\n      <td>2</td>\n      <td>2</td>\n      <td>1</td>\n      <td>1</td>\n      <td>2</td>\n      <td>1</td>\n      <td>1</td>\n      <td>1</td>\n      <td>4</td>\n      <td>3</td>\n      <td>2</td>\n      <td>2</td>\n      <td>4</td>\n      <td>4</td>\n      <td>3</td>\n      <td>4</td>\n      <td>2</td>\n      <td>2</td>\n      <td>4</td>\n      <td>2</td>\n      <td>4</td>\n    </tr>\n    <tr>\n      <th>2</th>\n      <td>37</td>\n      <td>0</td>\n      <td>4</td>\n      <td>1</td>\n      <td>13</td>\n      <td>1</td>\n      <td>3</td>\n      <td>NaN</td>\n      <td>NaN</td>\n      <td>0</td>\n      <td>2</td>\n      <td>2</td>\n      <td>2</td>\n      <td>4</td>\n      <td>4</td>\n      <td>3</td>\n      <td>3</td>\n      <td>3</td>\n      <td>2</td>\n      <td>2</td>\n      <td>2</td>\n      <td>5</td>\n      <td>3</td>\n      <td>2</td>\n      <td>3</td>\n      <td>2</td>\n      <td>2</td>\n      <td>4</td>\n      <td>3</td>\n      <td>4</td>\n      <td>2</td>\n      <td>4</td>\n      <td>1</td>\n      <td>1</td>\n      <td>1</td>\n      <td>1</td>\n      <td>1</td>\n      <td>3</td>\n      <td>3</td>\n      <td>3</td>\n      <td>4</td>\n      <td>3</td>\n      <td>1</td>\n      <td>1</td>\n      <td>5</td>\n      <td>3</td>\n      <td>5</td>\n      <td>5</td>\n      <td>2</td>\n      <td>2</td>\n      <td>2</td>\n      <td>1</td>\n      <td>3</td>\n    </tr>\n    <tr>\n      <th>3</th>\n      <td>40</td>\n      <td>0</td>\n      <td>4</td>\n      <td>0</td>\n      <td>13</td>\n      <td>1</td>\n      <td>3</td>\n      <td>NaN</td>\n      <td>NaN</td>\n      <td>0</td>\n      <td>3</td>\n      <td>3</td>\n      <td>4</td>\n      <td>3</td>\n      <td>3</td>\n      <td>3</td>\n      <td>4</td>\n      <td>3</td>\n      <td>3</td>\n      <td>4</td>\n      <td>3</td>\n      <td>3</td>\n      <td>3</td>\n      <td>3</td>\n      <td>4</td>\n      <td>3</td>\n      <td>2</td>\n      <td>2</td>\n      <td>3</td>\n      <td>5</td>\n      <td>5</td>\n      <td>5</td>\n      <td>3</td>\n      <td>3</td>\n      <td>3</td>\n      <td>3</td>\n      <td>3</td>\n      <td>4</td>\n      <td>4</td>\n      <td>4</td>\n      <td>5</td>\n      <td>4</td>\n      <td>3</td>\n      <td>3</td>\n      <td>3</td>\n      <td>4</td>\n      <td>4</td>\n      <td>3</td>\n      <td>4</td>\n      <td>4</td>\n      <td>3</td>\n      <td>3</td>\n      <td>4</td>\n    </tr>\n    <tr>\n      <th>4</th>\n      <td>51</td>\n      <td>0</td>\n      <td>6</td>\n      <td>0</td>\n      <td>8</td>\n      <td>1</td>\n      <td>3</td>\n      <td>NaN</td>\n      <td>NaN</td>\n      <td>1</td>\n      <td>4</td>\n      <td>3</td>\n      <td>5</td>\n      <td>5</td>\n      <td>4</td>\n      <td>3</td>\n      <td>4</td>\n      <td>4</td>\n      <td>4</td>\n      <td>5</td>\n      <td>4</td>\n      <td>3</td>\n      <td>4</td>\n      <td>4</td>\n      <td>4</td>\n      <td>4</td>\n      <td>3</td>\n      <td>2</td>\n      <td>3</td>\n      <td>5</td>\n      <td>5</td>\n      <td>5</td>\n      <td>3</td>\n      <td>3</td>\n      <td>5</td>\n      <td>5</td>\n      <td>5</td>\n      <td>5</td>\n      <td>5</td>\n      <td>5</td>\n      <td>3</td>\n      <td>3</td>\n      <td>5</td>\n      <td>5</td>\n      <td>5</td>\n      <td>5</td>\n      <td>4</td>\n      <td>4</td>\n      <td>5</td>\n      <td>5</td>\n      <td>5</td>\n      <td>4</td>\n      <td>4</td>\n    </tr>\n    <tr>\n      <th>...</th>\n      <td>...</td>\n      <td>...</td>\n      <td>...</td>\n      <td>...</td>\n      <td>...</td>\n      <td>...</td>\n      <td>...</td>\n      <td>...</td>\n      <td>...</td>\n      <td>...</td>\n      <td>...</td>\n      <td>...</td>\n      <td>...</td>\n      <td>...</td>\n      <td>...</td>\n      <td>...</td>\n      <td>...</td>\n      <td>...</td>\n      <td>...</td>\n      <td>...</td>\n      <td>...</td>\n      <td>...</td>\n      <td>...</td>\n      <td>...</td>\n      <td>...</td>\n      <td>...</td>\n      <td>...</td>\n      <td>...</td>\n      <td>...</td>\n      <td>...</td>\n      <td>...</td>\n      <td>...</td>\n      <td>...</td>\n      <td>...</td>\n      <td>...</td>\n      <td>...</td>\n      <td>...</td>\n      <td>...</td>\n      <td>...</td>\n      <td>...</td>\n      <td>...</td>\n      <td>...</td>\n      <td>...</td>\n      <td>...</td>\n      <td>...</td>\n      <td>...</td>\n      <td>...</td>\n      <td>...</td>\n      <td>...</td>\n      <td>...</td>\n      <td>...</td>\n      <td>...</td>\n      <td>...</td>\n    </tr>\n    <tr>\n      <th>908</th>\n      <td>43</td>\n      <td>0</td>\n      <td>5</td>\n      <td>1</td>\n      <td>21</td>\n      <td>2</td>\n      <td>NaN</td>\n      <td>NaN</td>\n      <td>2</td>\n      <td>0</td>\n      <td>3</td>\n      <td>3</td>\n      <td>3</td>\n      <td>5</td>\n      <td>5</td>\n      <td>2</td>\n      <td>4</td>\n      <td>5</td>\n      <td>3</td>\n      <td>3</td>\n      <td>4</td>\n      <td>5</td>\n      <td>2</td>\n      <td>2</td>\n      <td>2</td>\n      <td>1</td>\n      <td>2</td>\n      <td>2</td>\n      <td>2</td>\n      <td>3</td>\n      <td>3</td>\n      <td>4</td>\n      <td>NaN</td>\n      <td>NaN</td>\n      <td>2</td>\n      <td>2</td>\n      <td>2</td>\n      <td>1</td>\n      <td>2</td>\n      <td>1</td>\n      <td>5</td>\n      <td>4</td>\n      <td>2</td>\n      <td>2</td>\n      <td>2</td>\n      <td>2</td>\n      <td>2</td>\n      <td>2</td>\n      <td>NaN</td>\n      <td>NaN</td>\n      <td>NaN</td>\n      <td>NaN</td>\n      <td>NaN</td>\n    </tr>\n    <tr>\n      <th>909</th>\n      <td>53</td>\n      <td>0</td>\n      <td>6</td>\n      <td>0</td>\n      <td>25</td>\n      <td>2</td>\n      <td>NaN</td>\n      <td>NaN</td>\n      <td>6</td>\n      <td>0</td>\n      <td>3</td>\n      <td>3</td>\n      <td>4</td>\n      <td>5</td>\n      <td>4</td>\n      <td>3</td>\n      <td>4</td>\n      <td>4</td>\n      <td>4</td>\n      <td>4</td>\n      <td>4</td>\n      <td>3</td>\n      <td>3</td>\n      <td>2</td>\n      <td>3</td>\n      <td>3</td>\n      <td>2</td>\n      <td>NaN</td>\n      <td>2</td>\n      <td>NaN</td>\n      <td>4</td>\n      <td>5</td>\n      <td>3</td>\n      <td>2</td>\n      <td>3</td>\n      <td>3</td>\n      <td>5</td>\n      <td>2</td>\n      <td>2</td>\n      <td>4</td>\n      <td>3</td>\n      <td>3</td>\n      <td>4</td>\n      <td>4</td>\n      <td>4</td>\n      <td>3</td>\n      <td>3</td>\n      <td>4</td>\n      <td>4</td>\n      <td>4</td>\n      <td>4</td>\n      <td>1</td>\n      <td>1</td>\n    </tr>\n    <tr>\n      <th>910</th>\n      <td>39</td>\n      <td>0</td>\n      <td>5</td>\n      <td>1</td>\n      <td>9</td>\n      <td>2</td>\n      <td>NaN</td>\n      <td>NaN</td>\n      <td>4</td>\n      <td>0</td>\n      <td>3</td>\n      <td>3</td>\n      <td>3</td>\n      <td>5</td>\n      <td>4</td>\n      <td>3</td>\n      <td>3</td>\n      <td>4</td>\n      <td>3</td>\n      <td>3</td>\n      <td>2</td>\n      <td>5</td>\n      <td>2</td>\n      <td>2</td>\n      <td>4</td>\n      <td>1</td>\n      <td>1</td>\n      <td>2</td>\n      <td>NaN</td>\n      <td>4</td>\n      <td>5</td>\n      <td>4</td>\n      <td>3</td>\n      <td>1</td>\n      <td>1</td>\n      <td>1</td>\n      <td>3</td>\n      <td>5</td>\n      <td>5</td>\n      <td>3</td>\n      <td>3</td>\n      <td>1</td>\n      <td>2</td>\n      <td>2</td>\n      <td>5</td>\n      <td>4</td>\n      <td>3</td>\n      <td>NaN</td>\n      <td>5</td>\n      <td>5</td>\n      <td>5</td>\n      <td>4</td>\n      <td>1</td>\n    </tr>\n    <tr>\n      <th>911</th>\n      <td>40</td>\n      <td>0</td>\n      <td>3</td>\n      <td>1</td>\n      <td>10</td>\n      <td>2</td>\n      <td>NaN</td>\n      <td>NaN</td>\n      <td>2</td>\n      <td>0</td>\n      <td>3</td>\n      <td>3</td>\n      <td>5</td>\n      <td>5</td>\n      <td>4</td>\n      <td>2</td>\n      <td>4</td>\n      <td>4</td>\n      <td>4</td>\n      <td>4</td>\n      <td>3</td>\n      <td>2</td>\n      <td>5</td>\n      <td>3</td>\n      <td>2</td>\n      <td>5</td>\n      <td>4</td>\n      <td>5</td>\n      <td>4</td>\n      <td>5</td>\n      <td>5</td>\n      <td>5</td>\n      <td>3</td>\n      <td>1</td>\n      <td>5</td>\n      <td>5</td>\n      <td>NaN</td>\n      <td>1</td>\n      <td>2</td>\n      <td>4</td>\n      <td>4</td>\n      <td>2</td>\n      <td>5</td>\n      <td>5</td>\n      <td>1</td>\n      <td>5</td>\n      <td>2</td>\n      <td>2</td>\n      <td>4</td>\n      <td>4</td>\n      <td>2</td>\n      <td>1</td>\n      <td>1</td>\n    </tr>\n    <tr>\n      <th>912</th>\n      <td>41</td>\n      <td>1</td>\n      <td>3</td>\n      <td>1</td>\n      <td>12</td>\n      <td>2</td>\n      <td>NaN</td>\n      <td>NaN</td>\n      <td>2</td>\n      <td>0</td>\n      <td>3</td>\n      <td>4</td>\n      <td>3</td>\n      <td>5</td>\n      <td>5</td>\n      <td>NaN</td>\n      <td>4</td>\n      <td>4</td>\n      <td>3</td>\n      <td>3</td>\n      <td>3</td>\n      <td>2</td>\n      <td>3</td>\n      <td>2</td>\n      <td>3</td>\n      <td>1</td>\n      <td>3</td>\n      <td>5</td>\n      <td>4</td>\n      <td>4</td>\n      <td>4</td>\n      <td>4</td>\n      <td>2</td>\n      <td>1</td>\n      <td>3</td>\n      <td>3</td>\n      <td>3</td>\n      <td>1</td>\n      <td>1</td>\n      <td>4</td>\n      <td>4</td>\n      <td>4</td>\n      <td>3</td>\n      <td>3</td>\n      <td>3</td>\n      <td>NaN</td>\n      <td>3</td>\n      <td>3</td>\n      <td>2</td>\n      <td>3</td>\n      <td>3</td>\n      <td>1</td>\n      <td>1</td>\n    </tr>\n  </tbody>\n</table>\n<p>913 rows × 53 columns</p>\n</div>"
     },
     "execution_count": 30,
     "metadata": {},
     "output_type": "execute_result"
    }
   ],
   "source": [
    "data.replace('?', np.nan, inplace=True)\n",
    "data"
   ],
   "metadata": {
    "collapsed": false,
    "pycharm": {
     "name": "#%%\n"
    }
   }
  },
  {
   "cell_type": "code",
   "execution_count": 31,
   "outputs": [
    {
     "data": {
      "text/plain": "   AGE  GENDER DOMAIN  PhD YEARSEXP  UNIVERSITY UOC_POSITION OTHER_POSITION  \\\n0   40       0      2    1       14           1            2            NaN   \n1   42       0      5    1       18           1            2            NaN   \n2   37       0      4    1       13           1            3            NaN   \n3   40       0      4    0       13           1            3            NaN   \n4   51       0      6    0        8           1            3            NaN   \n\n  OTHERSTATUS USERWIKI PU1 PU2 PU3 PEU1 PEU2 PEU3 ENJ1 ENJ2 Qu1 Qu2 Qu3 Qu4  \\\n0         NaN        0   4   4   3    5    5    3    4    4   3   3   2   2   \n1         NaN        0   2   3   3    4    4    3    3    4   4   4   3   3   \n2         NaN        0   2   2   2    4    4    3    3    3   2   2   2   5   \n3         NaN        0   3   3   4    3    3    3    4    3   3   4   3   3   \n4         NaN        1   4   3   5    5    4    3    4    4   4   5   4   3   \n\n  Qu5 Vis1 Vis2 Vis3 Im1 Im2 Im3 SA1 SA2 SA3 Use1 Use2 Use3 Use4 Use5 Pf1 Pf2  \\\n0   3    3    3    1   2   4   2   4   4   4    3    1    1    2    4   1   1   \n1   2    3    3    1   1   2   1   4   4   4    2    2    1    1    2   1   1   \n2   3    2    3    2   2   4   3   4   2   4    1    1    1    1    1   3   3   \n3   3    3    4    3   2   2   3   5   5   5    3    3    3    3    3   4   4   \n4   4    4    4    4   3   2   3   5   5   5    3    3    5    5    5   5   5   \n\n  Pf3 JR1 JR2 BI1 BI2 Inc1 Inc2 Inc3 Inc4 Exp1 Exp2 Exp3 Exp4 Exp5  \n0   3   4   1   2   3    5    5    5    5    4    4    4    1    2  \n1   1   4   3   2   2    4    4    3    4    2    2    4    2    4  \n2   3   4   3   1   1    5    3    5    5    2    2    2    1    3  \n3   4   5   4   3   3    3    4    4    3    4    4    3    3    4  \n4   5   3   3   5   5    5    5    4    4    5    5    5    4    4  ",
      "text/html": "<div>\n<style scoped>\n    .dataframe tbody tr th:only-of-type {\n        vertical-align: middle;\n    }\n\n    .dataframe tbody tr th {\n        vertical-align: top;\n    }\n\n    .dataframe thead th {\n        text-align: right;\n    }\n</style>\n<table border=\"1\" class=\"dataframe\">\n  <thead>\n    <tr style=\"text-align: right;\">\n      <th></th>\n      <th>AGE</th>\n      <th>GENDER</th>\n      <th>DOMAIN</th>\n      <th>PhD</th>\n      <th>YEARSEXP</th>\n      <th>UNIVERSITY</th>\n      <th>UOC_POSITION</th>\n      <th>OTHER_POSITION</th>\n      <th>OTHERSTATUS</th>\n      <th>USERWIKI</th>\n      <th>PU1</th>\n      <th>PU2</th>\n      <th>PU3</th>\n      <th>PEU1</th>\n      <th>PEU2</th>\n      <th>PEU3</th>\n      <th>ENJ1</th>\n      <th>ENJ2</th>\n      <th>Qu1</th>\n      <th>Qu2</th>\n      <th>Qu3</th>\n      <th>Qu4</th>\n      <th>Qu5</th>\n      <th>Vis1</th>\n      <th>Vis2</th>\n      <th>Vis3</th>\n      <th>Im1</th>\n      <th>Im2</th>\n      <th>Im3</th>\n      <th>SA1</th>\n      <th>SA2</th>\n      <th>SA3</th>\n      <th>Use1</th>\n      <th>Use2</th>\n      <th>Use3</th>\n      <th>Use4</th>\n      <th>Use5</th>\n      <th>Pf1</th>\n      <th>Pf2</th>\n      <th>Pf3</th>\n      <th>JR1</th>\n      <th>JR2</th>\n      <th>BI1</th>\n      <th>BI2</th>\n      <th>Inc1</th>\n      <th>Inc2</th>\n      <th>Inc3</th>\n      <th>Inc4</th>\n      <th>Exp1</th>\n      <th>Exp2</th>\n      <th>Exp3</th>\n      <th>Exp4</th>\n      <th>Exp5</th>\n    </tr>\n  </thead>\n  <tbody>\n    <tr>\n      <th>0</th>\n      <td>40</td>\n      <td>0</td>\n      <td>2</td>\n      <td>1</td>\n      <td>14</td>\n      <td>1</td>\n      <td>2</td>\n      <td>NaN</td>\n      <td>NaN</td>\n      <td>0</td>\n      <td>4</td>\n      <td>4</td>\n      <td>3</td>\n      <td>5</td>\n      <td>5</td>\n      <td>3</td>\n      <td>4</td>\n      <td>4</td>\n      <td>3</td>\n      <td>3</td>\n      <td>2</td>\n      <td>2</td>\n      <td>3</td>\n      <td>3</td>\n      <td>3</td>\n      <td>1</td>\n      <td>2</td>\n      <td>4</td>\n      <td>2</td>\n      <td>4</td>\n      <td>4</td>\n      <td>4</td>\n      <td>3</td>\n      <td>1</td>\n      <td>1</td>\n      <td>2</td>\n      <td>4</td>\n      <td>1</td>\n      <td>1</td>\n      <td>3</td>\n      <td>4</td>\n      <td>1</td>\n      <td>2</td>\n      <td>3</td>\n      <td>5</td>\n      <td>5</td>\n      <td>5</td>\n      <td>5</td>\n      <td>4</td>\n      <td>4</td>\n      <td>4</td>\n      <td>1</td>\n      <td>2</td>\n    </tr>\n    <tr>\n      <th>1</th>\n      <td>42</td>\n      <td>0</td>\n      <td>5</td>\n      <td>1</td>\n      <td>18</td>\n      <td>1</td>\n      <td>2</td>\n      <td>NaN</td>\n      <td>NaN</td>\n      <td>0</td>\n      <td>2</td>\n      <td>3</td>\n      <td>3</td>\n      <td>4</td>\n      <td>4</td>\n      <td>3</td>\n      <td>3</td>\n      <td>4</td>\n      <td>4</td>\n      <td>4</td>\n      <td>3</td>\n      <td>3</td>\n      <td>2</td>\n      <td>3</td>\n      <td>3</td>\n      <td>1</td>\n      <td>1</td>\n      <td>2</td>\n      <td>1</td>\n      <td>4</td>\n      <td>4</td>\n      <td>4</td>\n      <td>2</td>\n      <td>2</td>\n      <td>1</td>\n      <td>1</td>\n      <td>2</td>\n      <td>1</td>\n      <td>1</td>\n      <td>1</td>\n      <td>4</td>\n      <td>3</td>\n      <td>2</td>\n      <td>2</td>\n      <td>4</td>\n      <td>4</td>\n      <td>3</td>\n      <td>4</td>\n      <td>2</td>\n      <td>2</td>\n      <td>4</td>\n      <td>2</td>\n      <td>4</td>\n    </tr>\n    <tr>\n      <th>2</th>\n      <td>37</td>\n      <td>0</td>\n      <td>4</td>\n      <td>1</td>\n      <td>13</td>\n      <td>1</td>\n      <td>3</td>\n      <td>NaN</td>\n      <td>NaN</td>\n      <td>0</td>\n      <td>2</td>\n      <td>2</td>\n      <td>2</td>\n      <td>4</td>\n      <td>4</td>\n      <td>3</td>\n      <td>3</td>\n      <td>3</td>\n      <td>2</td>\n      <td>2</td>\n      <td>2</td>\n      <td>5</td>\n      <td>3</td>\n      <td>2</td>\n      <td>3</td>\n      <td>2</td>\n      <td>2</td>\n      <td>4</td>\n      <td>3</td>\n      <td>4</td>\n      <td>2</td>\n      <td>4</td>\n      <td>1</td>\n      <td>1</td>\n      <td>1</td>\n      <td>1</td>\n      <td>1</td>\n      <td>3</td>\n      <td>3</td>\n      <td>3</td>\n      <td>4</td>\n      <td>3</td>\n      <td>1</td>\n      <td>1</td>\n      <td>5</td>\n      <td>3</td>\n      <td>5</td>\n      <td>5</td>\n      <td>2</td>\n      <td>2</td>\n      <td>2</td>\n      <td>1</td>\n      <td>3</td>\n    </tr>\n    <tr>\n      <th>3</th>\n      <td>40</td>\n      <td>0</td>\n      <td>4</td>\n      <td>0</td>\n      <td>13</td>\n      <td>1</td>\n      <td>3</td>\n      <td>NaN</td>\n      <td>NaN</td>\n      <td>0</td>\n      <td>3</td>\n      <td>3</td>\n      <td>4</td>\n      <td>3</td>\n      <td>3</td>\n      <td>3</td>\n      <td>4</td>\n      <td>3</td>\n      <td>3</td>\n      <td>4</td>\n      <td>3</td>\n      <td>3</td>\n      <td>3</td>\n      <td>3</td>\n      <td>4</td>\n      <td>3</td>\n      <td>2</td>\n      <td>2</td>\n      <td>3</td>\n      <td>5</td>\n      <td>5</td>\n      <td>5</td>\n      <td>3</td>\n      <td>3</td>\n      <td>3</td>\n      <td>3</td>\n      <td>3</td>\n      <td>4</td>\n      <td>4</td>\n      <td>4</td>\n      <td>5</td>\n      <td>4</td>\n      <td>3</td>\n      <td>3</td>\n      <td>3</td>\n      <td>4</td>\n      <td>4</td>\n      <td>3</td>\n      <td>4</td>\n      <td>4</td>\n      <td>3</td>\n      <td>3</td>\n      <td>4</td>\n    </tr>\n    <tr>\n      <th>4</th>\n      <td>51</td>\n      <td>0</td>\n      <td>6</td>\n      <td>0</td>\n      <td>8</td>\n      <td>1</td>\n      <td>3</td>\n      <td>NaN</td>\n      <td>NaN</td>\n      <td>1</td>\n      <td>4</td>\n      <td>3</td>\n      <td>5</td>\n      <td>5</td>\n      <td>4</td>\n      <td>3</td>\n      <td>4</td>\n      <td>4</td>\n      <td>4</td>\n      <td>5</td>\n      <td>4</td>\n      <td>3</td>\n      <td>4</td>\n      <td>4</td>\n      <td>4</td>\n      <td>4</td>\n      <td>3</td>\n      <td>2</td>\n      <td>3</td>\n      <td>5</td>\n      <td>5</td>\n      <td>5</td>\n      <td>3</td>\n      <td>3</td>\n      <td>5</td>\n      <td>5</td>\n      <td>5</td>\n      <td>5</td>\n      <td>5</td>\n      <td>5</td>\n      <td>3</td>\n      <td>3</td>\n      <td>5</td>\n      <td>5</td>\n      <td>5</td>\n      <td>5</td>\n      <td>4</td>\n      <td>4</td>\n      <td>5</td>\n      <td>5</td>\n      <td>5</td>\n      <td>4</td>\n      <td>4</td>\n    </tr>\n  </tbody>\n</table>\n</div>"
     },
     "execution_count": 31,
     "metadata": {},
     "output_type": "execute_result"
    }
   ],
   "source": [
    "pd.set_option('display.max_columns', None)\n",
    "data.head()"
   ],
   "metadata": {
    "collapsed": false,
    "pycharm": {
     "name": "#%%\n"
    }
   }
  },
  {
   "cell_type": "code",
   "execution_count": 32,
   "outputs": [
    {
     "name": "stdout",
     "output_type": "stream",
     "text": [
      "<class 'pandas.core.frame.DataFrame'>\n",
      "RangeIndex: 913 entries, 0 to 912\n",
      "Data columns (total 53 columns):\n",
      " #   Column          Non-Null Count  Dtype \n",
      "---  ------          --------------  ----- \n",
      " 0   AGE             913 non-null    int64 \n",
      " 1   GENDER          913 non-null    int64 \n",
      " 2   DOMAIN          911 non-null    object\n",
      " 3   PhD             913 non-null    int64 \n",
      " 4   YEARSEXP        890 non-null    object\n",
      " 5   UNIVERSITY      913 non-null    int64 \n",
      " 6   UOC_POSITION    800 non-null    object\n",
      " 7   OTHER_POSITION  652 non-null    object\n",
      " 8   OTHERSTATUS     373 non-null    object\n",
      " 9   USERWIKI        909 non-null    object\n",
      " 10  PU1             906 non-null    object\n",
      " 11  PU2             902 non-null    object\n",
      " 12  PU3             908 non-null    object\n",
      " 13  PEU1            909 non-null    object\n",
      " 14  PEU2            899 non-null    object\n",
      " 15  PEU3            816 non-null    object\n",
      " 16  ENJ1            906 non-null    object\n",
      " 17  ENJ2            896 non-null    object\n",
      " 18  Qu1             906 non-null    object\n",
      " 19  Qu2             903 non-null    object\n",
      " 20  Qu3             898 non-null    object\n",
      " 21  Qu4             891 non-null    object\n",
      " 22  Qu5             884 non-null    object\n",
      " 23  Vis1            841 non-null    object\n",
      " 24  Vis2            796 non-null    object\n",
      " 25  Vis3            905 non-null    object\n",
      " 26  Im1             891 non-null    object\n",
      " 27  Im2             893 non-null    object\n",
      " 28  Im3             856 non-null    object\n",
      " 29  SA1             902 non-null    object\n",
      " 30  SA2             901 non-null    object\n",
      " 31  SA3             902 non-null    object\n",
      " 32  Use1            899 non-null    object\n",
      " 33  Use2            896 non-null    object\n",
      " 34  Use3            904 non-null    object\n",
      " 35  Use4            890 non-null    object\n",
      " 36  Use5            898 non-null    object\n",
      " 37  Pf1             902 non-null    object\n",
      " 38  Pf2             907 non-null    object\n",
      " 39  Pf3             899 non-null    object\n",
      " 40  JR1             886 non-null    object\n",
      " 41  JR2             860 non-null    object\n",
      " 42  BI1             881 non-null    object\n",
      " 43  BI2             870 non-null    object\n",
      " 44  Inc1            878 non-null    object\n",
      " 45  Inc2            878 non-null    object\n",
      " 46  Inc3            876 non-null    object\n",
      " 47  Inc4            871 non-null    object\n",
      " 48  Exp1            900 non-null    object\n",
      " 49  Exp2            902 non-null    object\n",
      " 50  Exp3            900 non-null    object\n",
      " 51  Exp4            899 non-null    object\n",
      " 52  Exp5            900 non-null    object\n",
      "dtypes: int64(4), object(49)\n",
      "memory usage: 378.2+ KB\n"
     ]
    }
   ],
   "source": [
    "# data.describe()\n",
    "data.info()"
   ],
   "metadata": {
    "collapsed": false,
    "pycharm": {
     "name": "#%%\n"
    }
   }
  },
  {
   "cell_type": "code",
   "source": [
    "pd.DataFrame({ 'contain na ': data.isna().any() ,'number of na ': data.isna().sum() })"
   ],
   "metadata": {
    "collapsed": false,
    "pycharm": {
     "name": "#%%\n"
    }
   },
   "execution_count": 33,
   "outputs": [
    {
     "data": {
      "text/plain": "                contain na   number of na \nAGE                   False              0\nGENDER                False              0\nDOMAIN                 True              2\nPhD                   False              0\nYEARSEXP               True             23\nUNIVERSITY            False              0\nUOC_POSITION           True            113\nOTHER_POSITION         True            261\nOTHERSTATUS            True            540\nUSERWIKI               True              4\nPU1                    True              7\nPU2                    True             11\nPU3                    True              5\nPEU1                   True              4\nPEU2                   True             14\nPEU3                   True             97\nENJ1                   True              7\nENJ2                   True             17\nQu1                    True              7\nQu2                    True             10\nQu3                    True             15\nQu4                    True             22\nQu5                    True             29\nVis1                   True             72\nVis2                   True            117\nVis3                   True              8\nIm1                    True             22\nIm2                    True             20\nIm3                    True             57\nSA1                    True             11\nSA2                    True             12\nSA3                    True             11\nUse1                   True             14\nUse2                   True             17\nUse3                   True              9\nUse4                   True             23\nUse5                   True             15\nPf1                    True             11\nPf2                    True              6\nPf3                    True             14\nJR1                    True             27\nJR2                    True             53\nBI1                    True             32\nBI2                    True             43\nInc1                   True             35\nInc2                   True             35\nInc3                   True             37\nInc4                   True             42\nExp1                   True             13\nExp2                   True             11\nExp3                   True             13\nExp4                   True             14\nExp5                   True             13",
      "text/html": "<div>\n<style scoped>\n    .dataframe tbody tr th:only-of-type {\n        vertical-align: middle;\n    }\n\n    .dataframe tbody tr th {\n        vertical-align: top;\n    }\n\n    .dataframe thead th {\n        text-align: right;\n    }\n</style>\n<table border=\"1\" class=\"dataframe\">\n  <thead>\n    <tr style=\"text-align: right;\">\n      <th></th>\n      <th>contain na</th>\n      <th>number of na</th>\n    </tr>\n  </thead>\n  <tbody>\n    <tr>\n      <th>AGE</th>\n      <td>False</td>\n      <td>0</td>\n    </tr>\n    <tr>\n      <th>GENDER</th>\n      <td>False</td>\n      <td>0</td>\n    </tr>\n    <tr>\n      <th>DOMAIN</th>\n      <td>True</td>\n      <td>2</td>\n    </tr>\n    <tr>\n      <th>PhD</th>\n      <td>False</td>\n      <td>0</td>\n    </tr>\n    <tr>\n      <th>YEARSEXP</th>\n      <td>True</td>\n      <td>23</td>\n    </tr>\n    <tr>\n      <th>UNIVERSITY</th>\n      <td>False</td>\n      <td>0</td>\n    </tr>\n    <tr>\n      <th>UOC_POSITION</th>\n      <td>True</td>\n      <td>113</td>\n    </tr>\n    <tr>\n      <th>OTHER_POSITION</th>\n      <td>True</td>\n      <td>261</td>\n    </tr>\n    <tr>\n      <th>OTHERSTATUS</th>\n      <td>True</td>\n      <td>540</td>\n    </tr>\n    <tr>\n      <th>USERWIKI</th>\n      <td>True</td>\n      <td>4</td>\n    </tr>\n    <tr>\n      <th>PU1</th>\n      <td>True</td>\n      <td>7</td>\n    </tr>\n    <tr>\n      <th>PU2</th>\n      <td>True</td>\n      <td>11</td>\n    </tr>\n    <tr>\n      <th>PU3</th>\n      <td>True</td>\n      <td>5</td>\n    </tr>\n    <tr>\n      <th>PEU1</th>\n      <td>True</td>\n      <td>4</td>\n    </tr>\n    <tr>\n      <th>PEU2</th>\n      <td>True</td>\n      <td>14</td>\n    </tr>\n    <tr>\n      <th>PEU3</th>\n      <td>True</td>\n      <td>97</td>\n    </tr>\n    <tr>\n      <th>ENJ1</th>\n      <td>True</td>\n      <td>7</td>\n    </tr>\n    <tr>\n      <th>ENJ2</th>\n      <td>True</td>\n      <td>17</td>\n    </tr>\n    <tr>\n      <th>Qu1</th>\n      <td>True</td>\n      <td>7</td>\n    </tr>\n    <tr>\n      <th>Qu2</th>\n      <td>True</td>\n      <td>10</td>\n    </tr>\n    <tr>\n      <th>Qu3</th>\n      <td>True</td>\n      <td>15</td>\n    </tr>\n    <tr>\n      <th>Qu4</th>\n      <td>True</td>\n      <td>22</td>\n    </tr>\n    <tr>\n      <th>Qu5</th>\n      <td>True</td>\n      <td>29</td>\n    </tr>\n    <tr>\n      <th>Vis1</th>\n      <td>True</td>\n      <td>72</td>\n    </tr>\n    <tr>\n      <th>Vis2</th>\n      <td>True</td>\n      <td>117</td>\n    </tr>\n    <tr>\n      <th>Vis3</th>\n      <td>True</td>\n      <td>8</td>\n    </tr>\n    <tr>\n      <th>Im1</th>\n      <td>True</td>\n      <td>22</td>\n    </tr>\n    <tr>\n      <th>Im2</th>\n      <td>True</td>\n      <td>20</td>\n    </tr>\n    <tr>\n      <th>Im3</th>\n      <td>True</td>\n      <td>57</td>\n    </tr>\n    <tr>\n      <th>SA1</th>\n      <td>True</td>\n      <td>11</td>\n    </tr>\n    <tr>\n      <th>SA2</th>\n      <td>True</td>\n      <td>12</td>\n    </tr>\n    <tr>\n      <th>SA3</th>\n      <td>True</td>\n      <td>11</td>\n    </tr>\n    <tr>\n      <th>Use1</th>\n      <td>True</td>\n      <td>14</td>\n    </tr>\n    <tr>\n      <th>Use2</th>\n      <td>True</td>\n      <td>17</td>\n    </tr>\n    <tr>\n      <th>Use3</th>\n      <td>True</td>\n      <td>9</td>\n    </tr>\n    <tr>\n      <th>Use4</th>\n      <td>True</td>\n      <td>23</td>\n    </tr>\n    <tr>\n      <th>Use5</th>\n      <td>True</td>\n      <td>15</td>\n    </tr>\n    <tr>\n      <th>Pf1</th>\n      <td>True</td>\n      <td>11</td>\n    </tr>\n    <tr>\n      <th>Pf2</th>\n      <td>True</td>\n      <td>6</td>\n    </tr>\n    <tr>\n      <th>Pf3</th>\n      <td>True</td>\n      <td>14</td>\n    </tr>\n    <tr>\n      <th>JR1</th>\n      <td>True</td>\n      <td>27</td>\n    </tr>\n    <tr>\n      <th>JR2</th>\n      <td>True</td>\n      <td>53</td>\n    </tr>\n    <tr>\n      <th>BI1</th>\n      <td>True</td>\n      <td>32</td>\n    </tr>\n    <tr>\n      <th>BI2</th>\n      <td>True</td>\n      <td>43</td>\n    </tr>\n    <tr>\n      <th>Inc1</th>\n      <td>True</td>\n      <td>35</td>\n    </tr>\n    <tr>\n      <th>Inc2</th>\n      <td>True</td>\n      <td>35</td>\n    </tr>\n    <tr>\n      <th>Inc3</th>\n      <td>True</td>\n      <td>37</td>\n    </tr>\n    <tr>\n      <th>Inc4</th>\n      <td>True</td>\n      <td>42</td>\n    </tr>\n    <tr>\n      <th>Exp1</th>\n      <td>True</td>\n      <td>13</td>\n    </tr>\n    <tr>\n      <th>Exp2</th>\n      <td>True</td>\n      <td>11</td>\n    </tr>\n    <tr>\n      <th>Exp3</th>\n      <td>True</td>\n      <td>13</td>\n    </tr>\n    <tr>\n      <th>Exp4</th>\n      <td>True</td>\n      <td>14</td>\n    </tr>\n    <tr>\n      <th>Exp5</th>\n      <td>True</td>\n      <td>13</td>\n    </tr>\n  </tbody>\n</table>\n</div>"
     },
     "execution_count": 33,
     "metadata": {},
     "output_type": "execute_result"
    }
   ]
  },
  {
   "cell_type": "code",
   "execution_count": 34,
   "outputs": [
    {
     "data": {
      "text/plain": "737"
     },
     "execution_count": 34,
     "metadata": {},
     "output_type": "execute_result"
    }
   ],
   "source": [
    "# numero di righe con almeno un na:\n",
    "data.shape[0] - data.dropna().shape[0]\n"
   ],
   "metadata": {
    "collapsed": false,
    "pycharm": {
     "name": "#%%\n"
    }
   }
  },
  {
   "cell_type": "code",
   "execution_count": 35,
   "outputs": [],
   "source": [
    "# data = data.astype(int)\n",
    "# a = data.dropna().astype('int64')\n",
    "# a.info()"
   ],
   "metadata": {
    "collapsed": false,
    "pycharm": {
     "name": "#%%\n"
    }
   }
  },
  {
   "cell_type": "code",
   "execution_count": 36,
   "outputs": [
    {
     "name": "stdout",
     "output_type": "stream",
     "text": [
      "<class 'pandas.core.frame.DataFrame'>\n",
      "RangeIndex: 913 entries, 0 to 912\n",
      "Data columns (total 53 columns):\n",
      " #   Column          Non-Null Count  Dtype \n",
      "---  ------          --------------  ----- \n",
      " 0   AGE             913 non-null    int64 \n",
      " 1   GENDER          913 non-null    int64 \n",
      " 2   DOMAIN          911 non-null    object\n",
      " 3   PhD             913 non-null    int64 \n",
      " 4   YEARSEXP        890 non-null    object\n",
      " 5   UNIVERSITY      913 non-null    int64 \n",
      " 6   UOC_POSITION    800 non-null    object\n",
      " 7   OTHER_POSITION  652 non-null    object\n",
      " 8   OTHERSTATUS     373 non-null    object\n",
      " 9   USERWIKI        909 non-null    object\n",
      " 10  PU1             906 non-null    object\n",
      " 11  PU2             902 non-null    object\n",
      " 12  PU3             908 non-null    object\n",
      " 13  PEU1            909 non-null    object\n",
      " 14  PEU2            899 non-null    object\n",
      " 15  PEU3            816 non-null    object\n",
      " 16  ENJ1            906 non-null    object\n",
      " 17  ENJ2            896 non-null    object\n",
      " 18  Qu1             906 non-null    object\n",
      " 19  Qu2             903 non-null    object\n",
      " 20  Qu3             898 non-null    object\n",
      " 21  Qu4             891 non-null    object\n",
      " 22  Qu5             884 non-null    object\n",
      " 23  Vis1            841 non-null    object\n",
      " 24  Vis2            796 non-null    object\n",
      " 25  Vis3            905 non-null    object\n",
      " 26  Im1             891 non-null    object\n",
      " 27  Im2             893 non-null    object\n",
      " 28  Im3             856 non-null    object\n",
      " 29  SA1             902 non-null    object\n",
      " 30  SA2             901 non-null    object\n",
      " 31  SA3             902 non-null    object\n",
      " 32  Use1            899 non-null    object\n",
      " 33  Use2            896 non-null    object\n",
      " 34  Use3            904 non-null    object\n",
      " 35  Use4            890 non-null    object\n",
      " 36  Use5            898 non-null    object\n",
      " 37  Pf1             902 non-null    object\n",
      " 38  Pf2             907 non-null    object\n",
      " 39  Pf3             899 non-null    object\n",
      " 40  JR1             886 non-null    object\n",
      " 41  JR2             860 non-null    object\n",
      " 42  BI1             881 non-null    object\n",
      " 43  BI2             870 non-null    object\n",
      " 44  Inc1            878 non-null    object\n",
      " 45  Inc2            878 non-null    object\n",
      " 46  Inc3            876 non-null    object\n",
      " 47  Inc4            871 non-null    object\n",
      " 48  Exp1            900 non-null    object\n",
      " 49  Exp2            902 non-null    object\n",
      " 50  Exp3            900 non-null    object\n",
      " 51  Exp4            899 non-null    object\n",
      " 52  Exp5            900 non-null    object\n",
      "dtypes: int64(4), object(49)\n",
      "memory usage: 378.2+ KB\n"
     ]
    }
   ],
   "source": [
    "data.info()\n"
   ],
   "metadata": {
    "collapsed": false,
    "pycharm": {
     "name": "#%%\n"
    }
   }
  },
  {
   "cell_type": "code",
   "execution_count": 37,
   "outputs": [],
   "source": [
    "#cambio phd e Other in bool\n",
    "\n",
    "# University si indica l'uni di appartenenza\n",
    "# se in UNI = 1 -> in UOC la posizione in UOC - probabilmente non hanno altri impieghi in altre uni\n",
    "# se in UNI = 2 -> in UOC la posizione in UOC prob non esiste - hanno altri ruoli\n",
    "#potrei percio creare una col con solo la posizione lavorativa\n",
    "\n",
    "\n",
    "# tenere conto (sotto)\n",
    "\n",
    "# maggior parte dei dati mancanti provengono dalla variabile \"OTHER_POSITION\".\n",
    "# Questa variabile descrive il \"lavoro come part-time in un'altra università e membri UPF\".\n",
    "# Questa è una domanda mal progettata in quanto non è applicabile\n",
    "# alla maggior parte dei membri della facoltà e quindi non hanno risposto.\n",
    "# Di conseguenza, rimuoveremo questa variabile dai dati per eliminare i dati mancanti sistematici."
   ],
   "metadata": {
    "collapsed": false,
    "pycharm": {
     "name": "#%%\n"
    }
   }
  },
  {
   "cell_type": "code",
   "execution_count": 38,
   "outputs": [],
   "source": [
    "# si potrebbe dividere anche in PROFESSORI E DOMANDE per poi riunirli con JOIN\n",
    "\n",
    "# domande = data.iloc[:, 10:]\n",
    "# prof = data.iloc[:, :10]"
   ],
   "metadata": {
    "collapsed": false,
    "pycharm": {
     "name": "#%%\n"
    }
   }
  },
  {
   "cell_type": "code",
   "execution_count": 39,
   "outputs": [
    {
     "data": {
      "text/plain": "count    652.000000\nmean       1.588957\nstd        0.492401\nmin        1.000000\n25%        1.000000\n50%        2.000000\n75%        2.000000\nmax        2.000000\nName: OTHER_POSITION, dtype: float64"
     },
     "execution_count": 39,
     "metadata": {},
     "output_type": "execute_result"
    }
   ],
   "source": [
    "a = data['OTHER_POSITION'].dropna().astype(int)\n",
    "a.describe()"
   ],
   "metadata": {
    "collapsed": false,
    "pycharm": {
     "name": "#%%\n"
    }
   }
  },
  {
   "cell_type": "code",
   "execution_count": 40,
   "outputs": [
    {
     "data": {
      "text/plain": "count    373.000000\nmean       4.209115\nstd        2.225034\nmin        1.000000\n25%        2.000000\n50%        4.000000\n75%        7.000000\nmax        7.000000\nName: OTHERSTATUS, dtype: float64"
     },
     "execution_count": 40,
     "metadata": {},
     "output_type": "execute_result"
    }
   ],
   "source": [
    "b = data['OTHERSTATUS'].dropna().astype(int)\n",
    "b.describe()"
   ],
   "metadata": {
    "collapsed": false,
    "pycharm": {
     "name": "#%%\n"
    }
   }
  },
  {
   "cell_type": "code",
   "execution_count": 41,
   "outputs": [
    {
     "data": {
      "text/plain": "107"
     },
     "execution_count": 41,
     "metadata": {},
     "output_type": "execute_result"
    }
   ],
   "source": [
    "b[b[:] == 7].count()\n"
   ],
   "metadata": {
    "collapsed": false,
    "pycharm": {
     "name": "#%%\n"
    }
   }
  },
  {
   "cell_type": "code",
   "execution_count": 42,
   "outputs": [
    {
     "name": "stdout",
     "output_type": "stream",
     "text": [
      "<class 'pandas.core.frame.DataFrame'>\n",
      "Int64Index: 907 entries, 0 to 912\n",
      "Data columns (total 53 columns):\n",
      " #   Column          Non-Null Count  Dtype \n",
      "---  ------          --------------  ----- \n",
      " 0   AGE             907 non-null    int32 \n",
      " 1   GENDER          907 non-null    int32 \n",
      " 2   DOMAIN          907 non-null    int32 \n",
      " 3   PhD             907 non-null    int32 \n",
      " 4   YEARSEXP        907 non-null    int32 \n",
      " 5   UNIVERSITY      907 non-null    int32 \n",
      " 6   UOC_POSITION    907 non-null    int32 \n",
      " 7   OTHER_POSITION  907 non-null    int32 \n",
      " 8   OTHERSTATUS     907 non-null    int32 \n",
      " 9   USERWIKI        907 non-null    int32 \n",
      " 10  PU1             900 non-null    object\n",
      " 11  PU2             896 non-null    object\n",
      " 12  PU3             902 non-null    object\n",
      " 13  PEU1            903 non-null    object\n",
      " 14  PEU2            893 non-null    object\n",
      " 15  PEU3            811 non-null    object\n",
      " 16  ENJ1            900 non-null    object\n",
      " 17  ENJ2            890 non-null    object\n",
      " 18  Qu1             900 non-null    object\n",
      " 19  Qu2             897 non-null    object\n",
      " 20  Qu3             892 non-null    object\n",
      " 21  Qu4             886 non-null    object\n",
      " 22  Qu5             878 non-null    object\n",
      " 23  Vis1            836 non-null    object\n",
      " 24  Vis2            792 non-null    object\n",
      " 25  Vis3            899 non-null    object\n",
      " 26  Im1             886 non-null    object\n",
      " 27  Im2             889 non-null    object\n",
      " 28  Im3             852 non-null    object\n",
      " 29  SA1             897 non-null    object\n",
      " 30  SA2             895 non-null    object\n",
      " 31  SA3             896 non-null    object\n",
      " 32  Use1            894 non-null    object\n",
      " 33  Use2            892 non-null    object\n",
      " 34  Use3            898 non-null    object\n",
      " 35  Use4            885 non-null    object\n",
      " 36  Use5            892 non-null    object\n",
      " 37  Pf1             896 non-null    object\n",
      " 38  Pf2             901 non-null    object\n",
      " 39  Pf3             895 non-null    object\n",
      " 40  JR1             882 non-null    object\n",
      " 41  JR2             856 non-null    object\n",
      " 42  BI1             877 non-null    object\n",
      " 43  BI2             867 non-null    object\n",
      " 44  Inc1            874 non-null    object\n",
      " 45  Inc2            874 non-null    object\n",
      " 46  Inc3            872 non-null    object\n",
      " 47  Inc4            868 non-null    object\n",
      " 48  Exp1            896 non-null    object\n",
      " 49  Exp2            897 non-null    object\n",
      " 50  Exp3            895 non-null    object\n",
      " 51  Exp4            896 non-null    object\n",
      " 52  Exp5            895 non-null    object\n",
      "dtypes: int32(10), object(43)\n",
      "memory usage: 347.2+ KB\n"
     ]
    }
   ],
   "source": [
    "data['YEARSEXP'] = data['YEARSEXP'].fillna(0)\n",
    "\n",
    "data['UOC_POSITION'] = data['UOC_POSITION'].fillna(0)\n",
    "data['OTHERSTATUS'] = data['OTHERSTATUS'].fillna(0)\n",
    "data['OTHER_POSITION'] = data['OTHER_POSITION'].fillna(0)\n",
    "\n",
    "# elimina righe  con domain e userwiki na, 5 righe in meno (domain si potrebbe considerare come altro)\n",
    "data = data[(data['DOMAIN'].notna()) & (data['USERWIKI'].notna())]\n",
    "\n",
    "data = data.astype({'AGE': 'int','GENDER': 'int','DOMAIN': 'int','PhD': 'int','YEARSEXP': 'int','UNIVERSITY': 'int','UOC_POSITION': 'int','OTHER_POSITION': 'int','OTHERSTATUS': 'int','USERWIKI': 'int'})\n",
    "\n",
    "data.info()\n",
    "\n",
    "# se si considera 7 come val buono\n",
    "# data[:][(data[\"OTHERSTATUS\"] == 0) & (data[\"UOC_POSITION\"] == 0)].info()"
   ],
   "metadata": {
    "collapsed": false,
    "pycharm": {
     "name": "#%%\n"
    }
   }
  },
  {
   "cell_type": "code",
   "execution_count": 43,
   "outputs": [],
   "source": [
    "# data[\"MAX POSITION\"] = data[[\"UOC_POSITION\", \"OTHERSTATUS\"]].max(axis=1)\n",
    "# data[:][data[\"MAX POSITION\"] == 0]"
   ],
   "metadata": {
    "collapsed": false,
    "pycharm": {
     "name": "#%%\n"
    }
   }
  },
  {
   "cell_type": "code",
   "execution_count": 44,
   "outputs": [],
   "source": [
    "# data = data.drop([813,828,830,835,882])\n",
    "# data = data.drop(columns=['UOC_POSITION', 'OTHERSTATUS', 'OTHER_POSITION'])"
   ],
   "metadata": {
    "collapsed": false,
    "pycharm": {
     "name": "#%%\n"
    }
   }
  },
  {
   "cell_type": "code",
   "execution_count": 44,
   "outputs": [],
   "source": [],
   "metadata": {
    "collapsed": false,
    "pycharm": {
     "name": "#%%\n"
    }
   }
  },
  {
   "cell_type": "code",
   "execution_count": 45,
   "outputs": [
    {
     "name": "stderr",
     "output_type": "stream",
     "text": [
      "<ipython-input-45-ae8ef9d916f7>:3: SettingWithCopyWarning: \n",
      "A value is trying to be set on a copy of a slice from a DataFrame\n",
      "\n",
      "See the caveats in the documentation: https://pandas.pydata.org/pandas-docs/stable/user_guide/indexing.html#returning-a-view-versus-a-copy\n",
      "  data['OTHERSTATUS'][ data['OTHERSTATUS'] > 6] = 0 # considero il 7 come \"altro\" percio non lo considero\n"
     ]
    },
    {
     "data": {
      "text/plain": "count    907.000000\nmean       4.996692\nstd        1.793104\nmin        0.000000\n25%        4.000000\n50%        6.000000\n75%        6.000000\nmax        6.000000\ndtype: float64"
     },
     "execution_count": 45,
     "metadata": {},
     "output_type": "execute_result"
    }
   ],
   "source": [
    "# se non si considera 7 come val buon\n",
    "\n",
    "data['OTHERSTATUS'][ data['OTHERSTATUS'] > 6] = 0 # considero il 7 come \"altro\" percio non lo considero\n",
    "\n",
    "position = data[[\"UOC_POSITION\", \"OTHERSTATUS\"]].max(axis=1)\n",
    "position[:].describe()\n",
    "# max_position"
   ],
   "metadata": {
    "collapsed": false,
    "pycharm": {
     "name": "#%%\n"
    }
   }
  },
  {
   "cell_type": "code",
   "execution_count": 46,
   "outputs": [
    {
     "name": "stdout",
     "output_type": "stream",
     "text": [
      "<class 'pandas.core.frame.DataFrame'>\n",
      "Int64Index: 871 entries, 0 to 912\n",
      "Data columns (total 51 columns):\n",
      " #   Column      Non-Null Count  Dtype \n",
      "---  ------      --------------  ----- \n",
      " 0   AGE         871 non-null    int32 \n",
      " 1   GENDER      871 non-null    int32 \n",
      " 2   DOMAIN      871 non-null    int32 \n",
      " 3   PhD         871 non-null    int32 \n",
      " 4   YEARSEXP    871 non-null    int32 \n",
      " 5   UNIVERSITY  871 non-null    int32 \n",
      " 6   POSITION    871 non-null    int32 \n",
      " 7   USERWIKI    871 non-null    int32 \n",
      " 8   PU1         865 non-null    object\n",
      " 9   PU2         861 non-null    object\n",
      " 10  PU3         867 non-null    object\n",
      " 11  PEU1        867 non-null    object\n",
      " 12  PEU2        857 non-null    object\n",
      " 13  PEU3        779 non-null    object\n",
      " 14  ENJ1        865 non-null    object\n",
      " 15  ENJ2        854 non-null    object\n",
      " 16  Qu1         864 non-null    object\n",
      " 17  Qu2         861 non-null    object\n",
      " 18  Qu3         857 non-null    object\n",
      " 19  Qu4         851 non-null    object\n",
      " 20  Qu5         843 non-null    object\n",
      " 21  Vis1        802 non-null    object\n",
      " 22  Vis2        761 non-null    object\n",
      " 23  Vis3        863 non-null    object\n",
      " 24  Im1         851 non-null    object\n",
      " 25  Im2         854 non-null    object\n",
      " 26  Im3         820 non-null    object\n",
      " 27  SA1         862 non-null    object\n",
      " 28  SA2         859 non-null    object\n",
      " 29  SA3         861 non-null    object\n",
      " 30  Use1        858 non-null    object\n",
      " 31  Use2        856 non-null    object\n",
      " 32  Use3        862 non-null    object\n",
      " 33  Use4        851 non-null    object\n",
      " 34  Use5        856 non-null    object\n",
      " 35  Pf1         860 non-null    object\n",
      " 36  Pf2         867 non-null    object\n",
      " 37  Pf3         859 non-null    object\n",
      " 38  JR1         849 non-null    object\n",
      " 39  JR2         823 non-null    object\n",
      " 40  BI1         843 non-null    object\n",
      " 41  BI2         833 non-null    object\n",
      " 42  Inc1        839 non-null    object\n",
      " 43  Inc2        839 non-null    object\n",
      " 44  Inc3        838 non-null    object\n",
      " 45  Inc4        833 non-null    object\n",
      " 46  Exp1        860 non-null    object\n",
      " 47  Exp2        861 non-null    object\n",
      " 48  Exp3        860 non-null    object\n",
      " 49  Exp4        860 non-null    object\n",
      " 50  Exp5        859 non-null    object\n",
      "dtypes: int32(8), object(43)\n",
      "memory usage: 326.6+ KB\n"
     ]
    }
   ],
   "source": [
    "data.insert(loc=6, column='POSITION', value=position)\n",
    "data = data.drop(columns=['UOC_POSITION', 'OTHERSTATUS', 'OTHER_POSITION'])\n",
    "data = data[data['POSITION'] != 0] # professori che non hanno neanche un ruolo\n",
    "data.info()"
   ],
   "metadata": {
    "collapsed": false,
    "pycharm": {
     "name": "#%%\n"
    }
   }
  },
  {
   "cell_type": "code",
   "execution_count": 47,
   "outputs": [
    {
     "data": {
      "text/plain": "            contain na   number of na \nAGE               False              0\nGENDER            False              0\nDOMAIN            False              0\nPhD               False              0\nYEARSEXP          False              0\nUNIVERSITY        False              0\nPOSITION          False              0\nUSERWIKI          False              0\nPU1                True              6\nPU2                True             10\nPU3                True              4\nPEU1               True              4\nPEU2               True             14\nPEU3               True             92\nENJ1               True              6\nENJ2               True             17\nQu1                True              7\nQu2                True             10\nQu3                True             14\nQu4                True             20\nQu5                True             28\nVis1               True             69\nVis2               True            110\nVis3               True              8\nIm1                True             20\nIm2                True             17\nIm3                True             51\nSA1                True              9\nSA2                True             12\nSA3                True             10\nUse1               True             13\nUse2               True             15\nUse3               True              9\nUse4               True             20\nUse5               True             15\nPf1                True             11\nPf2                True              4\nPf3                True             12\nJR1                True             22\nJR2                True             48\nBI1                True             28\nBI2                True             38\nInc1               True             32\nInc2               True             32\nInc3               True             33\nInc4               True             38\nExp1               True             11\nExp2               True             10\nExp3               True             11\nExp4               True             11\nExp5               True             12",
      "text/html": "<div>\n<style scoped>\n    .dataframe tbody tr th:only-of-type {\n        vertical-align: middle;\n    }\n\n    .dataframe tbody tr th {\n        vertical-align: top;\n    }\n\n    .dataframe thead th {\n        text-align: right;\n    }\n</style>\n<table border=\"1\" class=\"dataframe\">\n  <thead>\n    <tr style=\"text-align: right;\">\n      <th></th>\n      <th>contain na</th>\n      <th>number of na</th>\n    </tr>\n  </thead>\n  <tbody>\n    <tr>\n      <th>AGE</th>\n      <td>False</td>\n      <td>0</td>\n    </tr>\n    <tr>\n      <th>GENDER</th>\n      <td>False</td>\n      <td>0</td>\n    </tr>\n    <tr>\n      <th>DOMAIN</th>\n      <td>False</td>\n      <td>0</td>\n    </tr>\n    <tr>\n      <th>PhD</th>\n      <td>False</td>\n      <td>0</td>\n    </tr>\n    <tr>\n      <th>YEARSEXP</th>\n      <td>False</td>\n      <td>0</td>\n    </tr>\n    <tr>\n      <th>UNIVERSITY</th>\n      <td>False</td>\n      <td>0</td>\n    </tr>\n    <tr>\n      <th>POSITION</th>\n      <td>False</td>\n      <td>0</td>\n    </tr>\n    <tr>\n      <th>USERWIKI</th>\n      <td>False</td>\n      <td>0</td>\n    </tr>\n    <tr>\n      <th>PU1</th>\n      <td>True</td>\n      <td>6</td>\n    </tr>\n    <tr>\n      <th>PU2</th>\n      <td>True</td>\n      <td>10</td>\n    </tr>\n    <tr>\n      <th>PU3</th>\n      <td>True</td>\n      <td>4</td>\n    </tr>\n    <tr>\n      <th>PEU1</th>\n      <td>True</td>\n      <td>4</td>\n    </tr>\n    <tr>\n      <th>PEU2</th>\n      <td>True</td>\n      <td>14</td>\n    </tr>\n    <tr>\n      <th>PEU3</th>\n      <td>True</td>\n      <td>92</td>\n    </tr>\n    <tr>\n      <th>ENJ1</th>\n      <td>True</td>\n      <td>6</td>\n    </tr>\n    <tr>\n      <th>ENJ2</th>\n      <td>True</td>\n      <td>17</td>\n    </tr>\n    <tr>\n      <th>Qu1</th>\n      <td>True</td>\n      <td>7</td>\n    </tr>\n    <tr>\n      <th>Qu2</th>\n      <td>True</td>\n      <td>10</td>\n    </tr>\n    <tr>\n      <th>Qu3</th>\n      <td>True</td>\n      <td>14</td>\n    </tr>\n    <tr>\n      <th>Qu4</th>\n      <td>True</td>\n      <td>20</td>\n    </tr>\n    <tr>\n      <th>Qu5</th>\n      <td>True</td>\n      <td>28</td>\n    </tr>\n    <tr>\n      <th>Vis1</th>\n      <td>True</td>\n      <td>69</td>\n    </tr>\n    <tr>\n      <th>Vis2</th>\n      <td>True</td>\n      <td>110</td>\n    </tr>\n    <tr>\n      <th>Vis3</th>\n      <td>True</td>\n      <td>8</td>\n    </tr>\n    <tr>\n      <th>Im1</th>\n      <td>True</td>\n      <td>20</td>\n    </tr>\n    <tr>\n      <th>Im2</th>\n      <td>True</td>\n      <td>17</td>\n    </tr>\n    <tr>\n      <th>Im3</th>\n      <td>True</td>\n      <td>51</td>\n    </tr>\n    <tr>\n      <th>SA1</th>\n      <td>True</td>\n      <td>9</td>\n    </tr>\n    <tr>\n      <th>SA2</th>\n      <td>True</td>\n      <td>12</td>\n    </tr>\n    <tr>\n      <th>SA3</th>\n      <td>True</td>\n      <td>10</td>\n    </tr>\n    <tr>\n      <th>Use1</th>\n      <td>True</td>\n      <td>13</td>\n    </tr>\n    <tr>\n      <th>Use2</th>\n      <td>True</td>\n      <td>15</td>\n    </tr>\n    <tr>\n      <th>Use3</th>\n      <td>True</td>\n      <td>9</td>\n    </tr>\n    <tr>\n      <th>Use4</th>\n      <td>True</td>\n      <td>20</td>\n    </tr>\n    <tr>\n      <th>Use5</th>\n      <td>True</td>\n      <td>15</td>\n    </tr>\n    <tr>\n      <th>Pf1</th>\n      <td>True</td>\n      <td>11</td>\n    </tr>\n    <tr>\n      <th>Pf2</th>\n      <td>True</td>\n      <td>4</td>\n    </tr>\n    <tr>\n      <th>Pf3</th>\n      <td>True</td>\n      <td>12</td>\n    </tr>\n    <tr>\n      <th>JR1</th>\n      <td>True</td>\n      <td>22</td>\n    </tr>\n    <tr>\n      <th>JR2</th>\n      <td>True</td>\n      <td>48</td>\n    </tr>\n    <tr>\n      <th>BI1</th>\n      <td>True</td>\n      <td>28</td>\n    </tr>\n    <tr>\n      <th>BI2</th>\n      <td>True</td>\n      <td>38</td>\n    </tr>\n    <tr>\n      <th>Inc1</th>\n      <td>True</td>\n      <td>32</td>\n    </tr>\n    <tr>\n      <th>Inc2</th>\n      <td>True</td>\n      <td>32</td>\n    </tr>\n    <tr>\n      <th>Inc3</th>\n      <td>True</td>\n      <td>33</td>\n    </tr>\n    <tr>\n      <th>Inc4</th>\n      <td>True</td>\n      <td>38</td>\n    </tr>\n    <tr>\n      <th>Exp1</th>\n      <td>True</td>\n      <td>11</td>\n    </tr>\n    <tr>\n      <th>Exp2</th>\n      <td>True</td>\n      <td>10</td>\n    </tr>\n    <tr>\n      <th>Exp3</th>\n      <td>True</td>\n      <td>11</td>\n    </tr>\n    <tr>\n      <th>Exp4</th>\n      <td>True</td>\n      <td>11</td>\n    </tr>\n    <tr>\n      <th>Exp5</th>\n      <td>True</td>\n      <td>12</td>\n    </tr>\n  </tbody>\n</table>\n</div>"
     },
     "execution_count": 47,
     "metadata": {},
     "output_type": "execute_result"
    }
   ],
   "source": [
    "pd.DataFrame({ 'contain na ': data.isna().any() ,'number of na ': data.isna().sum() })"
   ],
   "metadata": {
    "collapsed": false,
    "pycharm": {
     "name": "#%%\n"
    }
   }
  },
  {
   "cell_type": "code",
   "execution_count": 48,
   "outputs": [],
   "source": [
    "# missin data su domande:\n",
    "# - dropna (no - troppe eliminazioni)\n",
    "# - media (se modello che vogliamo analizzare non ammette osservazioni mancanti - per alcune domande molti na - non mi convince)\n",
    "# - metto tutti a 0 o 6 (opterei pre questa - vedere distribuzione  )"
   ],
   "metadata": {
    "collapsed": false,
    "pycharm": {
     "name": "#%%\n"
    }
   }
  },
  {
   "cell_type": "code",
   "execution_count": 48,
   "outputs": [],
   "source": [],
   "metadata": {
    "collapsed": false,
    "pycharm": {
     "name": "#%%\n"
    }
   }
  },
  {
   "cell_type": "code",
   "execution_count": 49,
   "outputs": [
    {
     "data": {
      "text/plain": "     AGE  GENDER  DOMAIN  PhD  YEARSEXP  UNIVERSITY  POSITION  USERWIKI PU1  \\\n0     40       0       2    1        14           1         2         0   4   \n1     42       0       5    1        18           1         2         0   2   \n2     37       0       4    1        13           1         3         0   2   \n3     40       0       4    0        13           1         3         0   3   \n4     51       0       6    0         8           1         3         1   4   \n..   ...     ...     ...  ...       ...         ...       ...       ...  ..   \n894   43       1       6    1        20           2         2         0   2   \n895   52       0       4    1        15           2         2         1   5   \n897   27       0       2    0         0           2         4         1   5   \n899   58       0       6    1        20           2         3         0   2   \n901   34       1       6    1        10           2         4         0   3   \n\n    PU2 PU3 PEU1 PEU2 PEU3 ENJ1 ENJ2 Qu1 Qu2 Qu3 Qu4 Qu5 Vis1 Vis2 Vis3 Im1  \\\n0     4   3    5    5    3    4    4   3   3   2   2   3    3    3    1   2   \n1     3   3    4    4    3    3    4   4   4   3   3   2    3    3    1   1   \n2     2   2    4    4    3    3    3   2   2   2   5   3    2    3    2   2   \n3     3   4    3    3    3    4    3   3   4   3   3   3    3    4    3   2   \n4     3   5    5    4    3    4    4   4   5   4   3   4    4    4    4   3   \n..   ..  ..  ...  ...  ...  ...  ...  ..  ..  ..  ..  ..  ...  ...  ...  ..   \n894   2   2    5    4    3    3    3   2   2   2   4   2    2    3    1   1   \n895   5   5    5    5    4    5    5   4   5   4   2   4    3    4    4   4   \n897   5   5    5    5    4    5    5   5   5   5   1   5    4    4    3   5   \n899   3   3    4    4    4    4    4   2   2   2   3   2    2    2    2   2   \n901   4   4    5    4    4    4    4   3   4   1   3   3    2    4    1   3   \n\n    Im2 Im3 SA1 SA2 SA3 Use1 Use2 Use3 Use4 Use5 Pf1 Pf2 Pf3 JR1 JR2 BI1 BI2  \\\n0     4   2   4   4   4    3    1    1    2    4   1   1   3   4   1   2   3   \n1     2   1   4   4   4    2    2    1    1    2   1   1   1   4   3   2   2   \n2     4   3   4   2   4    1    1    1    1    1   3   3   3   4   3   1   1   \n3     2   3   5   5   5    3    3    3    3    3   4   4   4   5   4   3   3   \n4     2   3   5   5   5    3    3    5    5    5   5   5   5   3   3   5   5   \n..   ..  ..  ..  ..  ..  ...  ...  ...  ...  ...  ..  ..  ..  ..  ..  ..  ..   \n894   3   1   3   3   3    1    1    1    1    2   1   2   3   3   3   1   1   \n895   4   4   5   5   5    4    2    5    3    5   2   2   3   2   2   4   4   \n897   4   4   5   5   5    5    5    5    5    5   3   4   2   2   3   5   5   \n899   2   2   3   4   4    2    1    2    2    3   2   2   2   4   3   2   2   \n901   4   4   5   5   5    3    1    1    2    3   1   3   1   2   1   1   1   \n\n    Inc1 Inc2 Inc3 Inc4 Exp1 Exp2 Exp3 Exp4 Exp5  \n0      5    5    5    5    4    4    4    1    2  \n1      4    4    3    4    2    2    4    2    4  \n2      5    3    5    5    2    2    2    1    3  \n3      3    4    4    3    4    4    3    3    4  \n4      5    5    4    4    5    5    5    4    4  \n..   ...  ...  ...  ...  ...  ...  ...  ...  ...  \n894    1    1    1    1    1    1    1    1    1  \n895    3    3    3    3    4    5    5    2    5  \n897    5    3    5    5    5    5    5    2    5  \n899    3    4    4    3    3    3    3    1    2  \n901    5    5    3    4    4    4    5    1    1  \n\n[596 rows x 51 columns]",
      "text/html": "<div>\n<style scoped>\n    .dataframe tbody tr th:only-of-type {\n        vertical-align: middle;\n    }\n\n    .dataframe tbody tr th {\n        vertical-align: top;\n    }\n\n    .dataframe thead th {\n        text-align: right;\n    }\n</style>\n<table border=\"1\" class=\"dataframe\">\n  <thead>\n    <tr style=\"text-align: right;\">\n      <th></th>\n      <th>AGE</th>\n      <th>GENDER</th>\n      <th>DOMAIN</th>\n      <th>PhD</th>\n      <th>YEARSEXP</th>\n      <th>UNIVERSITY</th>\n      <th>POSITION</th>\n      <th>USERWIKI</th>\n      <th>PU1</th>\n      <th>PU2</th>\n      <th>PU3</th>\n      <th>PEU1</th>\n      <th>PEU2</th>\n      <th>PEU3</th>\n      <th>ENJ1</th>\n      <th>ENJ2</th>\n      <th>Qu1</th>\n      <th>Qu2</th>\n      <th>Qu3</th>\n      <th>Qu4</th>\n      <th>Qu5</th>\n      <th>Vis1</th>\n      <th>Vis2</th>\n      <th>Vis3</th>\n      <th>Im1</th>\n      <th>Im2</th>\n      <th>Im3</th>\n      <th>SA1</th>\n      <th>SA2</th>\n      <th>SA3</th>\n      <th>Use1</th>\n      <th>Use2</th>\n      <th>Use3</th>\n      <th>Use4</th>\n      <th>Use5</th>\n      <th>Pf1</th>\n      <th>Pf2</th>\n      <th>Pf3</th>\n      <th>JR1</th>\n      <th>JR2</th>\n      <th>BI1</th>\n      <th>BI2</th>\n      <th>Inc1</th>\n      <th>Inc2</th>\n      <th>Inc3</th>\n      <th>Inc4</th>\n      <th>Exp1</th>\n      <th>Exp2</th>\n      <th>Exp3</th>\n      <th>Exp4</th>\n      <th>Exp5</th>\n    </tr>\n  </thead>\n  <tbody>\n    <tr>\n      <th>0</th>\n      <td>40</td>\n      <td>0</td>\n      <td>2</td>\n      <td>1</td>\n      <td>14</td>\n      <td>1</td>\n      <td>2</td>\n      <td>0</td>\n      <td>4</td>\n      <td>4</td>\n      <td>3</td>\n      <td>5</td>\n      <td>5</td>\n      <td>3</td>\n      <td>4</td>\n      <td>4</td>\n      <td>3</td>\n      <td>3</td>\n      <td>2</td>\n      <td>2</td>\n      <td>3</td>\n      <td>3</td>\n      <td>3</td>\n      <td>1</td>\n      <td>2</td>\n      <td>4</td>\n      <td>2</td>\n      <td>4</td>\n      <td>4</td>\n      <td>4</td>\n      <td>3</td>\n      <td>1</td>\n      <td>1</td>\n      <td>2</td>\n      <td>4</td>\n      <td>1</td>\n      <td>1</td>\n      <td>3</td>\n      <td>4</td>\n      <td>1</td>\n      <td>2</td>\n      <td>3</td>\n      <td>5</td>\n      <td>5</td>\n      <td>5</td>\n      <td>5</td>\n      <td>4</td>\n      <td>4</td>\n      <td>4</td>\n      <td>1</td>\n      <td>2</td>\n    </tr>\n    <tr>\n      <th>1</th>\n      <td>42</td>\n      <td>0</td>\n      <td>5</td>\n      <td>1</td>\n      <td>18</td>\n      <td>1</td>\n      <td>2</td>\n      <td>0</td>\n      <td>2</td>\n      <td>3</td>\n      <td>3</td>\n      <td>4</td>\n      <td>4</td>\n      <td>3</td>\n      <td>3</td>\n      <td>4</td>\n      <td>4</td>\n      <td>4</td>\n      <td>3</td>\n      <td>3</td>\n      <td>2</td>\n      <td>3</td>\n      <td>3</td>\n      <td>1</td>\n      <td>1</td>\n      <td>2</td>\n      <td>1</td>\n      <td>4</td>\n      <td>4</td>\n      <td>4</td>\n      <td>2</td>\n      <td>2</td>\n      <td>1</td>\n      <td>1</td>\n      <td>2</td>\n      <td>1</td>\n      <td>1</td>\n      <td>1</td>\n      <td>4</td>\n      <td>3</td>\n      <td>2</td>\n      <td>2</td>\n      <td>4</td>\n      <td>4</td>\n      <td>3</td>\n      <td>4</td>\n      <td>2</td>\n      <td>2</td>\n      <td>4</td>\n      <td>2</td>\n      <td>4</td>\n    </tr>\n    <tr>\n      <th>2</th>\n      <td>37</td>\n      <td>0</td>\n      <td>4</td>\n      <td>1</td>\n      <td>13</td>\n      <td>1</td>\n      <td>3</td>\n      <td>0</td>\n      <td>2</td>\n      <td>2</td>\n      <td>2</td>\n      <td>4</td>\n      <td>4</td>\n      <td>3</td>\n      <td>3</td>\n      <td>3</td>\n      <td>2</td>\n      <td>2</td>\n      <td>2</td>\n      <td>5</td>\n      <td>3</td>\n      <td>2</td>\n      <td>3</td>\n      <td>2</td>\n      <td>2</td>\n      <td>4</td>\n      <td>3</td>\n      <td>4</td>\n      <td>2</td>\n      <td>4</td>\n      <td>1</td>\n      <td>1</td>\n      <td>1</td>\n      <td>1</td>\n      <td>1</td>\n      <td>3</td>\n      <td>3</td>\n      <td>3</td>\n      <td>4</td>\n      <td>3</td>\n      <td>1</td>\n      <td>1</td>\n      <td>5</td>\n      <td>3</td>\n      <td>5</td>\n      <td>5</td>\n      <td>2</td>\n      <td>2</td>\n      <td>2</td>\n      <td>1</td>\n      <td>3</td>\n    </tr>\n    <tr>\n      <th>3</th>\n      <td>40</td>\n      <td>0</td>\n      <td>4</td>\n      <td>0</td>\n      <td>13</td>\n      <td>1</td>\n      <td>3</td>\n      <td>0</td>\n      <td>3</td>\n      <td>3</td>\n      <td>4</td>\n      <td>3</td>\n      <td>3</td>\n      <td>3</td>\n      <td>4</td>\n      <td>3</td>\n      <td>3</td>\n      <td>4</td>\n      <td>3</td>\n      <td>3</td>\n      <td>3</td>\n      <td>3</td>\n      <td>4</td>\n      <td>3</td>\n      <td>2</td>\n      <td>2</td>\n      <td>3</td>\n      <td>5</td>\n      <td>5</td>\n      <td>5</td>\n      <td>3</td>\n      <td>3</td>\n      <td>3</td>\n      <td>3</td>\n      <td>3</td>\n      <td>4</td>\n      <td>4</td>\n      <td>4</td>\n      <td>5</td>\n      <td>4</td>\n      <td>3</td>\n      <td>3</td>\n      <td>3</td>\n      <td>4</td>\n      <td>4</td>\n      <td>3</td>\n      <td>4</td>\n      <td>4</td>\n      <td>3</td>\n      <td>3</td>\n      <td>4</td>\n    </tr>\n    <tr>\n      <th>4</th>\n      <td>51</td>\n      <td>0</td>\n      <td>6</td>\n      <td>0</td>\n      <td>8</td>\n      <td>1</td>\n      <td>3</td>\n      <td>1</td>\n      <td>4</td>\n      <td>3</td>\n      <td>5</td>\n      <td>5</td>\n      <td>4</td>\n      <td>3</td>\n      <td>4</td>\n      <td>4</td>\n      <td>4</td>\n      <td>5</td>\n      <td>4</td>\n      <td>3</td>\n      <td>4</td>\n      <td>4</td>\n      <td>4</td>\n      <td>4</td>\n      <td>3</td>\n      <td>2</td>\n      <td>3</td>\n      <td>5</td>\n      <td>5</td>\n      <td>5</td>\n      <td>3</td>\n      <td>3</td>\n      <td>5</td>\n      <td>5</td>\n      <td>5</td>\n      <td>5</td>\n      <td>5</td>\n      <td>5</td>\n      <td>3</td>\n      <td>3</td>\n      <td>5</td>\n      <td>5</td>\n      <td>5</td>\n      <td>5</td>\n      <td>4</td>\n      <td>4</td>\n      <td>5</td>\n      <td>5</td>\n      <td>5</td>\n      <td>4</td>\n      <td>4</td>\n    </tr>\n    <tr>\n      <th>...</th>\n      <td>...</td>\n      <td>...</td>\n      <td>...</td>\n      <td>...</td>\n      <td>...</td>\n      <td>...</td>\n      <td>...</td>\n      <td>...</td>\n      <td>...</td>\n      <td>...</td>\n      <td>...</td>\n      <td>...</td>\n      <td>...</td>\n      <td>...</td>\n      <td>...</td>\n      <td>...</td>\n      <td>...</td>\n      <td>...</td>\n      <td>...</td>\n      <td>...</td>\n      <td>...</td>\n      <td>...</td>\n      <td>...</td>\n      <td>...</td>\n      <td>...</td>\n      <td>...</td>\n      <td>...</td>\n      <td>...</td>\n      <td>...</td>\n      <td>...</td>\n      <td>...</td>\n      <td>...</td>\n      <td>...</td>\n      <td>...</td>\n      <td>...</td>\n      <td>...</td>\n      <td>...</td>\n      <td>...</td>\n      <td>...</td>\n      <td>...</td>\n      <td>...</td>\n      <td>...</td>\n      <td>...</td>\n      <td>...</td>\n      <td>...</td>\n      <td>...</td>\n      <td>...</td>\n      <td>...</td>\n      <td>...</td>\n      <td>...</td>\n      <td>...</td>\n    </tr>\n    <tr>\n      <th>894</th>\n      <td>43</td>\n      <td>1</td>\n      <td>6</td>\n      <td>1</td>\n      <td>20</td>\n      <td>2</td>\n      <td>2</td>\n      <td>0</td>\n      <td>2</td>\n      <td>2</td>\n      <td>2</td>\n      <td>5</td>\n      <td>4</td>\n      <td>3</td>\n      <td>3</td>\n      <td>3</td>\n      <td>2</td>\n      <td>2</td>\n      <td>2</td>\n      <td>4</td>\n      <td>2</td>\n      <td>2</td>\n      <td>3</td>\n      <td>1</td>\n      <td>1</td>\n      <td>3</td>\n      <td>1</td>\n      <td>3</td>\n      <td>3</td>\n      <td>3</td>\n      <td>1</td>\n      <td>1</td>\n      <td>1</td>\n      <td>1</td>\n      <td>2</td>\n      <td>1</td>\n      <td>2</td>\n      <td>3</td>\n      <td>3</td>\n      <td>3</td>\n      <td>1</td>\n      <td>1</td>\n      <td>1</td>\n      <td>1</td>\n      <td>1</td>\n      <td>1</td>\n      <td>1</td>\n      <td>1</td>\n      <td>1</td>\n      <td>1</td>\n      <td>1</td>\n    </tr>\n    <tr>\n      <th>895</th>\n      <td>52</td>\n      <td>0</td>\n      <td>4</td>\n      <td>1</td>\n      <td>15</td>\n      <td>2</td>\n      <td>2</td>\n      <td>1</td>\n      <td>5</td>\n      <td>5</td>\n      <td>5</td>\n      <td>5</td>\n      <td>5</td>\n      <td>4</td>\n      <td>5</td>\n      <td>5</td>\n      <td>4</td>\n      <td>5</td>\n      <td>4</td>\n      <td>2</td>\n      <td>4</td>\n      <td>3</td>\n      <td>4</td>\n      <td>4</td>\n      <td>4</td>\n      <td>4</td>\n      <td>4</td>\n      <td>5</td>\n      <td>5</td>\n      <td>5</td>\n      <td>4</td>\n      <td>2</td>\n      <td>5</td>\n      <td>3</td>\n      <td>5</td>\n      <td>2</td>\n      <td>2</td>\n      <td>3</td>\n      <td>2</td>\n      <td>2</td>\n      <td>4</td>\n      <td>4</td>\n      <td>3</td>\n      <td>3</td>\n      <td>3</td>\n      <td>3</td>\n      <td>4</td>\n      <td>5</td>\n      <td>5</td>\n      <td>2</td>\n      <td>5</td>\n    </tr>\n    <tr>\n      <th>897</th>\n      <td>27</td>\n      <td>0</td>\n      <td>2</td>\n      <td>0</td>\n      <td>0</td>\n      <td>2</td>\n      <td>4</td>\n      <td>1</td>\n      <td>5</td>\n      <td>5</td>\n      <td>5</td>\n      <td>5</td>\n      <td>5</td>\n      <td>4</td>\n      <td>5</td>\n      <td>5</td>\n      <td>5</td>\n      <td>5</td>\n      <td>5</td>\n      <td>1</td>\n      <td>5</td>\n      <td>4</td>\n      <td>4</td>\n      <td>3</td>\n      <td>5</td>\n      <td>4</td>\n      <td>4</td>\n      <td>5</td>\n      <td>5</td>\n      <td>5</td>\n      <td>5</td>\n      <td>5</td>\n      <td>5</td>\n      <td>5</td>\n      <td>5</td>\n      <td>3</td>\n      <td>4</td>\n      <td>2</td>\n      <td>2</td>\n      <td>3</td>\n      <td>5</td>\n      <td>5</td>\n      <td>5</td>\n      <td>3</td>\n      <td>5</td>\n      <td>5</td>\n      <td>5</td>\n      <td>5</td>\n      <td>5</td>\n      <td>2</td>\n      <td>5</td>\n    </tr>\n    <tr>\n      <th>899</th>\n      <td>58</td>\n      <td>0</td>\n      <td>6</td>\n      <td>1</td>\n      <td>20</td>\n      <td>2</td>\n      <td>3</td>\n      <td>0</td>\n      <td>2</td>\n      <td>3</td>\n      <td>3</td>\n      <td>4</td>\n      <td>4</td>\n      <td>4</td>\n      <td>4</td>\n      <td>4</td>\n      <td>2</td>\n      <td>2</td>\n      <td>2</td>\n      <td>3</td>\n      <td>2</td>\n      <td>2</td>\n      <td>2</td>\n      <td>2</td>\n      <td>2</td>\n      <td>2</td>\n      <td>2</td>\n      <td>3</td>\n      <td>4</td>\n      <td>4</td>\n      <td>2</td>\n      <td>1</td>\n      <td>2</td>\n      <td>2</td>\n      <td>3</td>\n      <td>2</td>\n      <td>2</td>\n      <td>2</td>\n      <td>4</td>\n      <td>3</td>\n      <td>2</td>\n      <td>2</td>\n      <td>3</td>\n      <td>4</td>\n      <td>4</td>\n      <td>3</td>\n      <td>3</td>\n      <td>3</td>\n      <td>3</td>\n      <td>1</td>\n      <td>2</td>\n    </tr>\n    <tr>\n      <th>901</th>\n      <td>34</td>\n      <td>1</td>\n      <td>6</td>\n      <td>1</td>\n      <td>10</td>\n      <td>2</td>\n      <td>4</td>\n      <td>0</td>\n      <td>3</td>\n      <td>4</td>\n      <td>4</td>\n      <td>5</td>\n      <td>4</td>\n      <td>4</td>\n      <td>4</td>\n      <td>4</td>\n      <td>3</td>\n      <td>4</td>\n      <td>1</td>\n      <td>3</td>\n      <td>3</td>\n      <td>2</td>\n      <td>4</td>\n      <td>1</td>\n      <td>3</td>\n      <td>4</td>\n      <td>4</td>\n      <td>5</td>\n      <td>5</td>\n      <td>5</td>\n      <td>3</td>\n      <td>1</td>\n      <td>1</td>\n      <td>2</td>\n      <td>3</td>\n      <td>1</td>\n      <td>3</td>\n      <td>1</td>\n      <td>2</td>\n      <td>1</td>\n      <td>1</td>\n      <td>1</td>\n      <td>5</td>\n      <td>5</td>\n      <td>3</td>\n      <td>4</td>\n      <td>4</td>\n      <td>4</td>\n      <td>5</td>\n      <td>1</td>\n      <td>1</td>\n    </tr>\n  </tbody>\n</table>\n<p>596 rows × 51 columns</p>\n</div>"
     },
     "execution_count": 49,
     "metadata": {},
     "output_type": "execute_result"
    }
   ],
   "source": [
    "# lo mostro soltanto per vedere quante sono le righe complete\n",
    "data.dropna()"
   ],
   "metadata": {
    "collapsed": false,
    "pycharm": {
     "name": "#%%\n"
    }
   }
  },
  {
   "cell_type": "code",
   "execution_count": 50,
   "outputs": [],
   "source": [
    "# dataset con almento un na\n",
    "# datana = data[data.isna().any(1)]\n",
    "# datana"
   ],
   "metadata": {
    "collapsed": false,
    "pycharm": {
     "name": "#%%\n"
    }
   }
  },
  {
   "cell_type": "code",
   "execution_count": 50,
   "outputs": [],
   "source": [],
   "metadata": {
    "collapsed": false,
    "pycharm": {
     "name": "#%%\n"
    }
   }
  },
  {
   "cell_type": "code",
   "execution_count": 50,
   "outputs": [],
   "source": [],
   "metadata": {
    "collapsed": false,
    "pycharm": {
     "name": "#%%\n"
    }
   }
  },
  {
   "cell_type": "code",
   "execution_count": 50,
   "outputs": [],
   "source": [],
   "metadata": {
    "collapsed": false,
    "pycharm": {
     "name": "#%%\n"
    }
   }
  },
  {
   "cell_type": "code",
   "execution_count": 51,
   "outputs": [],
   "source": [
    "# data = data.dropna()\n",
    "# data.info()"
   ],
   "metadata": {
    "collapsed": false,
    "pycharm": {
     "name": "#%%\n"
    }
   }
  },
  {
   "cell_type": "code",
   "execution_count": 52,
   "outputs": [],
   "source": [
    "# data.pivot_table('PhD', index=['GENDER'], columns='UNIVERSITY')"
   ],
   "metadata": {
    "collapsed": false,
    "pycharm": {
     "name": "#%%\n"
    }
   }
  }
 ],
 "metadata": {
  "kernelspec": {
   "name": "myenv",
   "language": "python",
   "display_name": "Python (wiki4HEProject)"
  },
  "language_info": {
   "codemirror_mode": {
    "name": "ipython",
    "version": 2
   },
   "file_extension": ".py",
   "mimetype": "text/x-python",
   "name": "python",
   "nbconvert_exporter": "python",
   "pygments_lexer": "ipython2",
   "version": "2.7.6"
  }
 },
 "nbformat": 4,
 "nbformat_minor": 0
}