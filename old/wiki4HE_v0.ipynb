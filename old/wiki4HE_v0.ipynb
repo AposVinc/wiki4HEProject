{
 "cells": [
  {
   "cell_type": "code",
   "source": [
    "# gestione missing values:\n",
    "# togliere campione,\n",
    "# se per 900 campioni abbiamo solo 10 campioni e ognuno di questi ha una sola domanda alla quale non ha risposto\n",
    "#       si posso gestire in maniera tale da non perdere il campione,\n",
    "#       oppure talmente pochi che si possono eliminare\n",
    "# tirar fuori un altra colonna, rapporto tra risposta fra una colonna e un'altra\n",
    "#       analizza l'efficenza su questo calcolo\n",
    "# o raggruppamento per ruolo/professione in maniera efficiente e non\n",
    "# statistica esplorativa\n"
   ],
   "metadata": {
    "collapsed": false,
    "pycharm": {
     "name": "#%%\n"
    }
   },
   "execution_count": 82,
   "outputs": []
  },
  {
   "cell_type": "code",
   "execution_count": 83,
   "outputs": [],
   "source": [
    "#non considerare Use5\n",
    "#prevedere se prof è d'accordo con l'apprendimento con wiki dalle altre domande\n",
    "# in input tutto cio che non è \"use\" - output: si seleziona qualcuno di questi use e si cerca di predirli\n",
    "\n",
    "# tipo di docente ha rilevanza nella decisione\n",
    "\n",
    "\n"
   ],
   "metadata": {
    "collapsed": false,
    "pycharm": {
     "name": "#%%\n"
    }
   }
  },
  {
   "cell_type": "code",
   "execution_count": 84,
   "metadata": {
    "collapsed": true
   },
   "outputs": [
    {
     "data": {
      "text/plain": "     AGE  GENDER DOMAIN  PhD YEARSEXP  UNIVERSITY UOC_POSITION OTHER_POSITION  \\\n0     40       0      2    1       14           1            2              ?   \n1     42       0      5    1       18           1            2              ?   \n2     37       0      4    1       13           1            3              ?   \n3     40       0      4    0       13           1            3              ?   \n4     51       0      6    0        8           1            3              ?   \n..   ...     ...    ...  ...      ...         ...          ...            ...   \n908   43       0      5    1       21           2            ?              ?   \n909   53       0      6    0       25           2            ?              ?   \n910   39       0      5    1        9           2            ?              ?   \n911   40       0      3    1       10           2            ?              ?   \n912   41       1      3    1       12           2            ?              ?   \n\n    OTHERSTATUS USERWIKI PU1 PU2 PU3 PEU1 PEU2 PEU3 ENJ1 ENJ2 Qu1 Qu2 Qu3 Qu4  \\\n0             ?        0   4   4   3    5    5    3    4    4   3   3   2   2   \n1             ?        0   2   3   3    4    4    3    3    4   4   4   3   3   \n2             ?        0   2   2   2    4    4    3    3    3   2   2   2   5   \n3             ?        0   3   3   4    3    3    3    4    3   3   4   3   3   \n4             ?        1   4   3   5    5    4    3    4    4   4   5   4   3   \n..          ...      ...  ..  ..  ..  ...  ...  ...  ...  ...  ..  ..  ..  ..   \n908           2        0   3   3   3    5    5    2    4    5   3   3   4   5   \n909           6        0   3   3   4    5    4    3    4    4   4   4   4   3   \n910           4        0   3   3   3    5    4    3    3    4   3   3   2   5   \n911           2        0   3   3   5    5    4    2    4    4   4   4   3   2   \n912           2        0   3   4   3    5    5    ?    4    4   3   3   3   2   \n\n    Qu5 Vis1 Vis2 Vis3 Im1 Im2 Im3 SA1 SA2 SA3 Use1 Use2 Use3 Use4 Use5 Pf1  \\\n0     3    3    3    1   2   4   2   4   4   4    3    1    1    2    4   1   \n1     2    3    3    1   1   2   1   4   4   4    2    2    1    1    2   1   \n2     3    2    3    2   2   4   3   4   2   4    1    1    1    1    1   3   \n3     3    3    4    3   2   2   3   5   5   5    3    3    3    3    3   4   \n4     4    4    4    4   3   2   3   5   5   5    3    3    5    5    5   5   \n..   ..  ...  ...  ...  ..  ..  ..  ..  ..  ..  ...  ...  ...  ...  ...  ..   \n908   2    2    2    1   2   2   2   3   3   4    ?    ?    2    2    2   1   \n909   3    2    3    3   2   ?   2   ?   4   5    3    2    3    3    5   2   \n910   2    2    4    1   1   2   ?   4   5   4    3    1    1    1    3   5   \n911   5    3    2    5   4   5   4   5   5   5    3    1    5    5    ?   1   \n912   3    2    3    1   3   5   4   4   4   4    2    1    3    3    3   1   \n\n    Pf2 Pf3 JR1 JR2 BI1 BI2 Inc1 Inc2 Inc3 Inc4 Exp1 Exp2 Exp3 Exp4 Exp5  \n0     1   3   4   1   2   3    5    5    5    5    4    4    4    1    2  \n1     1   1   4   3   2   2    4    4    3    4    2    2    4    2    4  \n2     3   3   4   3   1   1    5    3    5    5    2    2    2    1    3  \n3     4   4   5   4   3   3    3    4    4    3    4    4    3    3    4  \n4     5   5   3   3   5   5    5    5    4    4    5    5    5    4    4  \n..   ..  ..  ..  ..  ..  ..  ...  ...  ...  ...  ...  ...  ...  ...  ...  \n908   2   1   5   4   2   2    2    2    2    2    ?    ?    ?    ?    ?  \n909   2   4   3   3   4   4    4    3    3    4    4    4    4    1    1  \n910   5   3   3   1   2   2    5    4    3    ?    5    5    5    4    1  \n911   2   4   4   2   5   5    1    5    2    2    4    4    2    1    1  \n912   1   4   4   4   3   3    3    ?    3    3    2    3    3    1    1  \n\n[913 rows x 53 columns]",
      "text/html": "<div>\n<style scoped>\n    .dataframe tbody tr th:only-of-type {\n        vertical-align: middle;\n    }\n\n    .dataframe tbody tr th {\n        vertical-align: top;\n    }\n\n    .dataframe thead th {\n        text-align: right;\n    }\n</style>\n<table border=\"1\" class=\"dataframe\">\n  <thead>\n    <tr style=\"text-align: right;\">\n      <th></th>\n      <th>AGE</th>\n      <th>GENDER</th>\n      <th>DOMAIN</th>\n      <th>PhD</th>\n      <th>YEARSEXP</th>\n      <th>UNIVERSITY</th>\n      <th>UOC_POSITION</th>\n      <th>OTHER_POSITION</th>\n      <th>OTHERSTATUS</th>\n      <th>USERWIKI</th>\n      <th>PU1</th>\n      <th>PU2</th>\n      <th>PU3</th>\n      <th>PEU1</th>\n      <th>PEU2</th>\n      <th>PEU3</th>\n      <th>ENJ1</th>\n      <th>ENJ2</th>\n      <th>Qu1</th>\n      <th>Qu2</th>\n      <th>Qu3</th>\n      <th>Qu4</th>\n      <th>Qu5</th>\n      <th>Vis1</th>\n      <th>Vis2</th>\n      <th>Vis3</th>\n      <th>Im1</th>\n      <th>Im2</th>\n      <th>Im3</th>\n      <th>SA1</th>\n      <th>SA2</th>\n      <th>SA3</th>\n      <th>Use1</th>\n      <th>Use2</th>\n      <th>Use3</th>\n      <th>Use4</th>\n      <th>Use5</th>\n      <th>Pf1</th>\n      <th>Pf2</th>\n      <th>Pf3</th>\n      <th>JR1</th>\n      <th>JR2</th>\n      <th>BI1</th>\n      <th>BI2</th>\n      <th>Inc1</th>\n      <th>Inc2</th>\n      <th>Inc3</th>\n      <th>Inc4</th>\n      <th>Exp1</th>\n      <th>Exp2</th>\n      <th>Exp3</th>\n      <th>Exp4</th>\n      <th>Exp5</th>\n    </tr>\n  </thead>\n  <tbody>\n    <tr>\n      <th>0</th>\n      <td>40</td>\n      <td>0</td>\n      <td>2</td>\n      <td>1</td>\n      <td>14</td>\n      <td>1</td>\n      <td>2</td>\n      <td>?</td>\n      <td>?</td>\n      <td>0</td>\n      <td>4</td>\n      <td>4</td>\n      <td>3</td>\n      <td>5</td>\n      <td>5</td>\n      <td>3</td>\n      <td>4</td>\n      <td>4</td>\n      <td>3</td>\n      <td>3</td>\n      <td>2</td>\n      <td>2</td>\n      <td>3</td>\n      <td>3</td>\n      <td>3</td>\n      <td>1</td>\n      <td>2</td>\n      <td>4</td>\n      <td>2</td>\n      <td>4</td>\n      <td>4</td>\n      <td>4</td>\n      <td>3</td>\n      <td>1</td>\n      <td>1</td>\n      <td>2</td>\n      <td>4</td>\n      <td>1</td>\n      <td>1</td>\n      <td>3</td>\n      <td>4</td>\n      <td>1</td>\n      <td>2</td>\n      <td>3</td>\n      <td>5</td>\n      <td>5</td>\n      <td>5</td>\n      <td>5</td>\n      <td>4</td>\n      <td>4</td>\n      <td>4</td>\n      <td>1</td>\n      <td>2</td>\n    </tr>\n    <tr>\n      <th>1</th>\n      <td>42</td>\n      <td>0</td>\n      <td>5</td>\n      <td>1</td>\n      <td>18</td>\n      <td>1</td>\n      <td>2</td>\n      <td>?</td>\n      <td>?</td>\n      <td>0</td>\n      <td>2</td>\n      <td>3</td>\n      <td>3</td>\n      <td>4</td>\n      <td>4</td>\n      <td>3</td>\n      <td>3</td>\n      <td>4</td>\n      <td>4</td>\n      <td>4</td>\n      <td>3</td>\n      <td>3</td>\n      <td>2</td>\n      <td>3</td>\n      <td>3</td>\n      <td>1</td>\n      <td>1</td>\n      <td>2</td>\n      <td>1</td>\n      <td>4</td>\n      <td>4</td>\n      <td>4</td>\n      <td>2</td>\n      <td>2</td>\n      <td>1</td>\n      <td>1</td>\n      <td>2</td>\n      <td>1</td>\n      <td>1</td>\n      <td>1</td>\n      <td>4</td>\n      <td>3</td>\n      <td>2</td>\n      <td>2</td>\n      <td>4</td>\n      <td>4</td>\n      <td>3</td>\n      <td>4</td>\n      <td>2</td>\n      <td>2</td>\n      <td>4</td>\n      <td>2</td>\n      <td>4</td>\n    </tr>\n    <tr>\n      <th>2</th>\n      <td>37</td>\n      <td>0</td>\n      <td>4</td>\n      <td>1</td>\n      <td>13</td>\n      <td>1</td>\n      <td>3</td>\n      <td>?</td>\n      <td>?</td>\n      <td>0</td>\n      <td>2</td>\n      <td>2</td>\n      <td>2</td>\n      <td>4</td>\n      <td>4</td>\n      <td>3</td>\n      <td>3</td>\n      <td>3</td>\n      <td>2</td>\n      <td>2</td>\n      <td>2</td>\n      <td>5</td>\n      <td>3</td>\n      <td>2</td>\n      <td>3</td>\n      <td>2</td>\n      <td>2</td>\n      <td>4</td>\n      <td>3</td>\n      <td>4</td>\n      <td>2</td>\n      <td>4</td>\n      <td>1</td>\n      <td>1</td>\n      <td>1</td>\n      <td>1</td>\n      <td>1</td>\n      <td>3</td>\n      <td>3</td>\n      <td>3</td>\n      <td>4</td>\n      <td>3</td>\n      <td>1</td>\n      <td>1</td>\n      <td>5</td>\n      <td>3</td>\n      <td>5</td>\n      <td>5</td>\n      <td>2</td>\n      <td>2</td>\n      <td>2</td>\n      <td>1</td>\n      <td>3</td>\n    </tr>\n    <tr>\n      <th>3</th>\n      <td>40</td>\n      <td>0</td>\n      <td>4</td>\n      <td>0</td>\n      <td>13</td>\n      <td>1</td>\n      <td>3</td>\n      <td>?</td>\n      <td>?</td>\n      <td>0</td>\n      <td>3</td>\n      <td>3</td>\n      <td>4</td>\n      <td>3</td>\n      <td>3</td>\n      <td>3</td>\n      <td>4</td>\n      <td>3</td>\n      <td>3</td>\n      <td>4</td>\n      <td>3</td>\n      <td>3</td>\n      <td>3</td>\n      <td>3</td>\n      <td>4</td>\n      <td>3</td>\n      <td>2</td>\n      <td>2</td>\n      <td>3</td>\n      <td>5</td>\n      <td>5</td>\n      <td>5</td>\n      <td>3</td>\n      <td>3</td>\n      <td>3</td>\n      <td>3</td>\n      <td>3</td>\n      <td>4</td>\n      <td>4</td>\n      <td>4</td>\n      <td>5</td>\n      <td>4</td>\n      <td>3</td>\n      <td>3</td>\n      <td>3</td>\n      <td>4</td>\n      <td>4</td>\n      <td>3</td>\n      <td>4</td>\n      <td>4</td>\n      <td>3</td>\n      <td>3</td>\n      <td>4</td>\n    </tr>\n    <tr>\n      <th>4</th>\n      <td>51</td>\n      <td>0</td>\n      <td>6</td>\n      <td>0</td>\n      <td>8</td>\n      <td>1</td>\n      <td>3</td>\n      <td>?</td>\n      <td>?</td>\n      <td>1</td>\n      <td>4</td>\n      <td>3</td>\n      <td>5</td>\n      <td>5</td>\n      <td>4</td>\n      <td>3</td>\n      <td>4</td>\n      <td>4</td>\n      <td>4</td>\n      <td>5</td>\n      <td>4</td>\n      <td>3</td>\n      <td>4</td>\n      <td>4</td>\n      <td>4</td>\n      <td>4</td>\n      <td>3</td>\n      <td>2</td>\n      <td>3</td>\n      <td>5</td>\n      <td>5</td>\n      <td>5</td>\n      <td>3</td>\n      <td>3</td>\n      <td>5</td>\n      <td>5</td>\n      <td>5</td>\n      <td>5</td>\n      <td>5</td>\n      <td>5</td>\n      <td>3</td>\n      <td>3</td>\n      <td>5</td>\n      <td>5</td>\n      <td>5</td>\n      <td>5</td>\n      <td>4</td>\n      <td>4</td>\n      <td>5</td>\n      <td>5</td>\n      <td>5</td>\n      <td>4</td>\n      <td>4</td>\n    </tr>\n    <tr>\n      <th>...</th>\n      <td>...</td>\n      <td>...</td>\n      <td>...</td>\n      <td>...</td>\n      <td>...</td>\n      <td>...</td>\n      <td>...</td>\n      <td>...</td>\n      <td>...</td>\n      <td>...</td>\n      <td>...</td>\n      <td>...</td>\n      <td>...</td>\n      <td>...</td>\n      <td>...</td>\n      <td>...</td>\n      <td>...</td>\n      <td>...</td>\n      <td>...</td>\n      <td>...</td>\n      <td>...</td>\n      <td>...</td>\n      <td>...</td>\n      <td>...</td>\n      <td>...</td>\n      <td>...</td>\n      <td>...</td>\n      <td>...</td>\n      <td>...</td>\n      <td>...</td>\n      <td>...</td>\n      <td>...</td>\n      <td>...</td>\n      <td>...</td>\n      <td>...</td>\n      <td>...</td>\n      <td>...</td>\n      <td>...</td>\n      <td>...</td>\n      <td>...</td>\n      <td>...</td>\n      <td>...</td>\n      <td>...</td>\n      <td>...</td>\n      <td>...</td>\n      <td>...</td>\n      <td>...</td>\n      <td>...</td>\n      <td>...</td>\n      <td>...</td>\n      <td>...</td>\n      <td>...</td>\n      <td>...</td>\n    </tr>\n    <tr>\n      <th>908</th>\n      <td>43</td>\n      <td>0</td>\n      <td>5</td>\n      <td>1</td>\n      <td>21</td>\n      <td>2</td>\n      <td>?</td>\n      <td>?</td>\n      <td>2</td>\n      <td>0</td>\n      <td>3</td>\n      <td>3</td>\n      <td>3</td>\n      <td>5</td>\n      <td>5</td>\n      <td>2</td>\n      <td>4</td>\n      <td>5</td>\n      <td>3</td>\n      <td>3</td>\n      <td>4</td>\n      <td>5</td>\n      <td>2</td>\n      <td>2</td>\n      <td>2</td>\n      <td>1</td>\n      <td>2</td>\n      <td>2</td>\n      <td>2</td>\n      <td>3</td>\n      <td>3</td>\n      <td>4</td>\n      <td>?</td>\n      <td>?</td>\n      <td>2</td>\n      <td>2</td>\n      <td>2</td>\n      <td>1</td>\n      <td>2</td>\n      <td>1</td>\n      <td>5</td>\n      <td>4</td>\n      <td>2</td>\n      <td>2</td>\n      <td>2</td>\n      <td>2</td>\n      <td>2</td>\n      <td>2</td>\n      <td>?</td>\n      <td>?</td>\n      <td>?</td>\n      <td>?</td>\n      <td>?</td>\n    </tr>\n    <tr>\n      <th>909</th>\n      <td>53</td>\n      <td>0</td>\n      <td>6</td>\n      <td>0</td>\n      <td>25</td>\n      <td>2</td>\n      <td>?</td>\n      <td>?</td>\n      <td>6</td>\n      <td>0</td>\n      <td>3</td>\n      <td>3</td>\n      <td>4</td>\n      <td>5</td>\n      <td>4</td>\n      <td>3</td>\n      <td>4</td>\n      <td>4</td>\n      <td>4</td>\n      <td>4</td>\n      <td>4</td>\n      <td>3</td>\n      <td>3</td>\n      <td>2</td>\n      <td>3</td>\n      <td>3</td>\n      <td>2</td>\n      <td>?</td>\n      <td>2</td>\n      <td>?</td>\n      <td>4</td>\n      <td>5</td>\n      <td>3</td>\n      <td>2</td>\n      <td>3</td>\n      <td>3</td>\n      <td>5</td>\n      <td>2</td>\n      <td>2</td>\n      <td>4</td>\n      <td>3</td>\n      <td>3</td>\n      <td>4</td>\n      <td>4</td>\n      <td>4</td>\n      <td>3</td>\n      <td>3</td>\n      <td>4</td>\n      <td>4</td>\n      <td>4</td>\n      <td>4</td>\n      <td>1</td>\n      <td>1</td>\n    </tr>\n    <tr>\n      <th>910</th>\n      <td>39</td>\n      <td>0</td>\n      <td>5</td>\n      <td>1</td>\n      <td>9</td>\n      <td>2</td>\n      <td>?</td>\n      <td>?</td>\n      <td>4</td>\n      <td>0</td>\n      <td>3</td>\n      <td>3</td>\n      <td>3</td>\n      <td>5</td>\n      <td>4</td>\n      <td>3</td>\n      <td>3</td>\n      <td>4</td>\n      <td>3</td>\n      <td>3</td>\n      <td>2</td>\n      <td>5</td>\n      <td>2</td>\n      <td>2</td>\n      <td>4</td>\n      <td>1</td>\n      <td>1</td>\n      <td>2</td>\n      <td>?</td>\n      <td>4</td>\n      <td>5</td>\n      <td>4</td>\n      <td>3</td>\n      <td>1</td>\n      <td>1</td>\n      <td>1</td>\n      <td>3</td>\n      <td>5</td>\n      <td>5</td>\n      <td>3</td>\n      <td>3</td>\n      <td>1</td>\n      <td>2</td>\n      <td>2</td>\n      <td>5</td>\n      <td>4</td>\n      <td>3</td>\n      <td>?</td>\n      <td>5</td>\n      <td>5</td>\n      <td>5</td>\n      <td>4</td>\n      <td>1</td>\n    </tr>\n    <tr>\n      <th>911</th>\n      <td>40</td>\n      <td>0</td>\n      <td>3</td>\n      <td>1</td>\n      <td>10</td>\n      <td>2</td>\n      <td>?</td>\n      <td>?</td>\n      <td>2</td>\n      <td>0</td>\n      <td>3</td>\n      <td>3</td>\n      <td>5</td>\n      <td>5</td>\n      <td>4</td>\n      <td>2</td>\n      <td>4</td>\n      <td>4</td>\n      <td>4</td>\n      <td>4</td>\n      <td>3</td>\n      <td>2</td>\n      <td>5</td>\n      <td>3</td>\n      <td>2</td>\n      <td>5</td>\n      <td>4</td>\n      <td>5</td>\n      <td>4</td>\n      <td>5</td>\n      <td>5</td>\n      <td>5</td>\n      <td>3</td>\n      <td>1</td>\n      <td>5</td>\n      <td>5</td>\n      <td>?</td>\n      <td>1</td>\n      <td>2</td>\n      <td>4</td>\n      <td>4</td>\n      <td>2</td>\n      <td>5</td>\n      <td>5</td>\n      <td>1</td>\n      <td>5</td>\n      <td>2</td>\n      <td>2</td>\n      <td>4</td>\n      <td>4</td>\n      <td>2</td>\n      <td>1</td>\n      <td>1</td>\n    </tr>\n    <tr>\n      <th>912</th>\n      <td>41</td>\n      <td>1</td>\n      <td>3</td>\n      <td>1</td>\n      <td>12</td>\n      <td>2</td>\n      <td>?</td>\n      <td>?</td>\n      <td>2</td>\n      <td>0</td>\n      <td>3</td>\n      <td>4</td>\n      <td>3</td>\n      <td>5</td>\n      <td>5</td>\n      <td>?</td>\n      <td>4</td>\n      <td>4</td>\n      <td>3</td>\n      <td>3</td>\n      <td>3</td>\n      <td>2</td>\n      <td>3</td>\n      <td>2</td>\n      <td>3</td>\n      <td>1</td>\n      <td>3</td>\n      <td>5</td>\n      <td>4</td>\n      <td>4</td>\n      <td>4</td>\n      <td>4</td>\n      <td>2</td>\n      <td>1</td>\n      <td>3</td>\n      <td>3</td>\n      <td>3</td>\n      <td>1</td>\n      <td>1</td>\n      <td>4</td>\n      <td>4</td>\n      <td>4</td>\n      <td>3</td>\n      <td>3</td>\n      <td>3</td>\n      <td>?</td>\n      <td>3</td>\n      <td>3</td>\n      <td>2</td>\n      <td>3</td>\n      <td>3</td>\n      <td>1</td>\n      <td>1</td>\n    </tr>\n  </tbody>\n</table>\n<p>913 rows × 53 columns</p>\n</div>"
     },
     "execution_count": 84,
     "metadata": {},
     "output_type": "execute_result"
    }
   ],
   "source": [
    "import numpy as np\n",
    "import pandas as pd\n",
    "\n",
    "data = pd.read_csv('dataset/uci - missing data/wiki4HE/wiki4HE.csv', sep=';')\n",
    "data"
   ]
  },
  {
   "cell_type": "code",
   "execution_count": 85,
   "outputs": [
    {
     "data": {
      "text/plain": "     AGE  GENDER DOMAIN  PhD YEARSEXP  UNIVERSITY UOC_POSITION OTHER_POSITION  \\\n0     40       0      2    1       14           1            2            NaN   \n1     42       0      5    1       18           1            2            NaN   \n2     37       0      4    1       13           1            3            NaN   \n3     40       0      4    0       13           1            3            NaN   \n4     51       0      6    0        8           1            3            NaN   \n..   ...     ...    ...  ...      ...         ...          ...            ...   \n908   43       0      5    1       21           2          NaN            NaN   \n909   53       0      6    0       25           2          NaN            NaN   \n910   39       0      5    1        9           2          NaN            NaN   \n911   40       0      3    1       10           2          NaN            NaN   \n912   41       1      3    1       12           2          NaN            NaN   \n\n    OTHERSTATUS USERWIKI PU1 PU2 PU3 PEU1 PEU2 PEU3 ENJ1 ENJ2 Qu1 Qu2 Qu3 Qu4  \\\n0           NaN        0   4   4   3    5    5    3    4    4   3   3   2   2   \n1           NaN        0   2   3   3    4    4    3    3    4   4   4   3   3   \n2           NaN        0   2   2   2    4    4    3    3    3   2   2   2   5   \n3           NaN        0   3   3   4    3    3    3    4    3   3   4   3   3   \n4           NaN        1   4   3   5    5    4    3    4    4   4   5   4   3   \n..          ...      ...  ..  ..  ..  ...  ...  ...  ...  ...  ..  ..  ..  ..   \n908           2        0   3   3   3    5    5    2    4    5   3   3   4   5   \n909           6        0   3   3   4    5    4    3    4    4   4   4   4   3   \n910           4        0   3   3   3    5    4    3    3    4   3   3   2   5   \n911           2        0   3   3   5    5    4    2    4    4   4   4   3   2   \n912           2        0   3   4   3    5    5  NaN    4    4   3   3   3   2   \n\n    Qu5 Vis1 Vis2 Vis3 Im1  Im2  Im3  SA1 SA2 SA3 Use1 Use2 Use3 Use4 Use5  \\\n0     3    3    3    1   2    4    2    4   4   4    3    1    1    2    4   \n1     2    3    3    1   1    2    1    4   4   4    2    2    1    1    2   \n2     3    2    3    2   2    4    3    4   2   4    1    1    1    1    1   \n3     3    3    4    3   2    2    3    5   5   5    3    3    3    3    3   \n4     4    4    4    4   3    2    3    5   5   5    3    3    5    5    5   \n..   ..  ...  ...  ...  ..  ...  ...  ...  ..  ..  ...  ...  ...  ...  ...   \n908   2    2    2    1   2    2    2    3   3   4  NaN  NaN    2    2    2   \n909   3    2    3    3   2  NaN    2  NaN   4   5    3    2    3    3    5   \n910   2    2    4    1   1    2  NaN    4   5   4    3    1    1    1    3   \n911   5    3    2    5   4    5    4    5   5   5    3    1    5    5  NaN   \n912   3    2    3    1   3    5    4    4   4   4    2    1    3    3    3   \n\n    Pf1 Pf2 Pf3 JR1 JR2 BI1 BI2 Inc1 Inc2 Inc3 Inc4 Exp1 Exp2 Exp3 Exp4 Exp5  \n0     1   1   3   4   1   2   3    5    5    5    5    4    4    4    1    2  \n1     1   1   1   4   3   2   2    4    4    3    4    2    2    4    2    4  \n2     3   3   3   4   3   1   1    5    3    5    5    2    2    2    1    3  \n3     4   4   4   5   4   3   3    3    4    4    3    4    4    3    3    4  \n4     5   5   5   3   3   5   5    5    5    4    4    5    5    5    4    4  \n..   ..  ..  ..  ..  ..  ..  ..  ...  ...  ...  ...  ...  ...  ...  ...  ...  \n908   1   2   1   5   4   2   2    2    2    2    2  NaN  NaN  NaN  NaN  NaN  \n909   2   2   4   3   3   4   4    4    3    3    4    4    4    4    1    1  \n910   5   5   3   3   1   2   2    5    4    3  NaN    5    5    5    4    1  \n911   1   2   4   4   2   5   5    1    5    2    2    4    4    2    1    1  \n912   1   1   4   4   4   3   3    3  NaN    3    3    2    3    3    1    1  \n\n[913 rows x 53 columns]",
      "text/html": "<div>\n<style scoped>\n    .dataframe tbody tr th:only-of-type {\n        vertical-align: middle;\n    }\n\n    .dataframe tbody tr th {\n        vertical-align: top;\n    }\n\n    .dataframe thead th {\n        text-align: right;\n    }\n</style>\n<table border=\"1\" class=\"dataframe\">\n  <thead>\n    <tr style=\"text-align: right;\">\n      <th></th>\n      <th>AGE</th>\n      <th>GENDER</th>\n      <th>DOMAIN</th>\n      <th>PhD</th>\n      <th>YEARSEXP</th>\n      <th>UNIVERSITY</th>\n      <th>UOC_POSITION</th>\n      <th>OTHER_POSITION</th>\n      <th>OTHERSTATUS</th>\n      <th>USERWIKI</th>\n      <th>PU1</th>\n      <th>PU2</th>\n      <th>PU3</th>\n      <th>PEU1</th>\n      <th>PEU2</th>\n      <th>PEU3</th>\n      <th>ENJ1</th>\n      <th>ENJ2</th>\n      <th>Qu1</th>\n      <th>Qu2</th>\n      <th>Qu3</th>\n      <th>Qu4</th>\n      <th>Qu5</th>\n      <th>Vis1</th>\n      <th>Vis2</th>\n      <th>Vis3</th>\n      <th>Im1</th>\n      <th>Im2</th>\n      <th>Im3</th>\n      <th>SA1</th>\n      <th>SA2</th>\n      <th>SA3</th>\n      <th>Use1</th>\n      <th>Use2</th>\n      <th>Use3</th>\n      <th>Use4</th>\n      <th>Use5</th>\n      <th>Pf1</th>\n      <th>Pf2</th>\n      <th>Pf3</th>\n      <th>JR1</th>\n      <th>JR2</th>\n      <th>BI1</th>\n      <th>BI2</th>\n      <th>Inc1</th>\n      <th>Inc2</th>\n      <th>Inc3</th>\n      <th>Inc4</th>\n      <th>Exp1</th>\n      <th>Exp2</th>\n      <th>Exp3</th>\n      <th>Exp4</th>\n      <th>Exp5</th>\n    </tr>\n  </thead>\n  <tbody>\n    <tr>\n      <th>0</th>\n      <td>40</td>\n      <td>0</td>\n      <td>2</td>\n      <td>1</td>\n      <td>14</td>\n      <td>1</td>\n      <td>2</td>\n      <td>NaN</td>\n      <td>NaN</td>\n      <td>0</td>\n      <td>4</td>\n      <td>4</td>\n      <td>3</td>\n      <td>5</td>\n      <td>5</td>\n      <td>3</td>\n      <td>4</td>\n      <td>4</td>\n      <td>3</td>\n      <td>3</td>\n      <td>2</td>\n      <td>2</td>\n      <td>3</td>\n      <td>3</td>\n      <td>3</td>\n      <td>1</td>\n      <td>2</td>\n      <td>4</td>\n      <td>2</td>\n      <td>4</td>\n      <td>4</td>\n      <td>4</td>\n      <td>3</td>\n      <td>1</td>\n      <td>1</td>\n      <td>2</td>\n      <td>4</td>\n      <td>1</td>\n      <td>1</td>\n      <td>3</td>\n      <td>4</td>\n      <td>1</td>\n      <td>2</td>\n      <td>3</td>\n      <td>5</td>\n      <td>5</td>\n      <td>5</td>\n      <td>5</td>\n      <td>4</td>\n      <td>4</td>\n      <td>4</td>\n      <td>1</td>\n      <td>2</td>\n    </tr>\n    <tr>\n      <th>1</th>\n      <td>42</td>\n      <td>0</td>\n      <td>5</td>\n      <td>1</td>\n      <td>18</td>\n      <td>1</td>\n      <td>2</td>\n      <td>NaN</td>\n      <td>NaN</td>\n      <td>0</td>\n      <td>2</td>\n      <td>3</td>\n      <td>3</td>\n      <td>4</td>\n      <td>4</td>\n      <td>3</td>\n      <td>3</td>\n      <td>4</td>\n      <td>4</td>\n      <td>4</td>\n      <td>3</td>\n      <td>3</td>\n      <td>2</td>\n      <td>3</td>\n      <td>3</td>\n      <td>1</td>\n      <td>1</td>\n      <td>2</td>\n      <td>1</td>\n      <td>4</td>\n      <td>4</td>\n      <td>4</td>\n      <td>2</td>\n      <td>2</td>\n      <td>1</td>\n      <td>1</td>\n      <td>2</td>\n      <td>1</td>\n      <td>1</td>\n      <td>1</td>\n      <td>4</td>\n      <td>3</td>\n      <td>2</td>\n      <td>2</td>\n      <td>4</td>\n      <td>4</td>\n      <td>3</td>\n      <td>4</td>\n      <td>2</td>\n      <td>2</td>\n      <td>4</td>\n      <td>2</td>\n      <td>4</td>\n    </tr>\n    <tr>\n      <th>2</th>\n      <td>37</td>\n      <td>0</td>\n      <td>4</td>\n      <td>1</td>\n      <td>13</td>\n      <td>1</td>\n      <td>3</td>\n      <td>NaN</td>\n      <td>NaN</td>\n      <td>0</td>\n      <td>2</td>\n      <td>2</td>\n      <td>2</td>\n      <td>4</td>\n      <td>4</td>\n      <td>3</td>\n      <td>3</td>\n      <td>3</td>\n      <td>2</td>\n      <td>2</td>\n      <td>2</td>\n      <td>5</td>\n      <td>3</td>\n      <td>2</td>\n      <td>3</td>\n      <td>2</td>\n      <td>2</td>\n      <td>4</td>\n      <td>3</td>\n      <td>4</td>\n      <td>2</td>\n      <td>4</td>\n      <td>1</td>\n      <td>1</td>\n      <td>1</td>\n      <td>1</td>\n      <td>1</td>\n      <td>3</td>\n      <td>3</td>\n      <td>3</td>\n      <td>4</td>\n      <td>3</td>\n      <td>1</td>\n      <td>1</td>\n      <td>5</td>\n      <td>3</td>\n      <td>5</td>\n      <td>5</td>\n      <td>2</td>\n      <td>2</td>\n      <td>2</td>\n      <td>1</td>\n      <td>3</td>\n    </tr>\n    <tr>\n      <th>3</th>\n      <td>40</td>\n      <td>0</td>\n      <td>4</td>\n      <td>0</td>\n      <td>13</td>\n      <td>1</td>\n      <td>3</td>\n      <td>NaN</td>\n      <td>NaN</td>\n      <td>0</td>\n      <td>3</td>\n      <td>3</td>\n      <td>4</td>\n      <td>3</td>\n      <td>3</td>\n      <td>3</td>\n      <td>4</td>\n      <td>3</td>\n      <td>3</td>\n      <td>4</td>\n      <td>3</td>\n      <td>3</td>\n      <td>3</td>\n      <td>3</td>\n      <td>4</td>\n      <td>3</td>\n      <td>2</td>\n      <td>2</td>\n      <td>3</td>\n      <td>5</td>\n      <td>5</td>\n      <td>5</td>\n      <td>3</td>\n      <td>3</td>\n      <td>3</td>\n      <td>3</td>\n      <td>3</td>\n      <td>4</td>\n      <td>4</td>\n      <td>4</td>\n      <td>5</td>\n      <td>4</td>\n      <td>3</td>\n      <td>3</td>\n      <td>3</td>\n      <td>4</td>\n      <td>4</td>\n      <td>3</td>\n      <td>4</td>\n      <td>4</td>\n      <td>3</td>\n      <td>3</td>\n      <td>4</td>\n    </tr>\n    <tr>\n      <th>4</th>\n      <td>51</td>\n      <td>0</td>\n      <td>6</td>\n      <td>0</td>\n      <td>8</td>\n      <td>1</td>\n      <td>3</td>\n      <td>NaN</td>\n      <td>NaN</td>\n      <td>1</td>\n      <td>4</td>\n      <td>3</td>\n      <td>5</td>\n      <td>5</td>\n      <td>4</td>\n      <td>3</td>\n      <td>4</td>\n      <td>4</td>\n      <td>4</td>\n      <td>5</td>\n      <td>4</td>\n      <td>3</td>\n      <td>4</td>\n      <td>4</td>\n      <td>4</td>\n      <td>4</td>\n      <td>3</td>\n      <td>2</td>\n      <td>3</td>\n      <td>5</td>\n      <td>5</td>\n      <td>5</td>\n      <td>3</td>\n      <td>3</td>\n      <td>5</td>\n      <td>5</td>\n      <td>5</td>\n      <td>5</td>\n      <td>5</td>\n      <td>5</td>\n      <td>3</td>\n      <td>3</td>\n      <td>5</td>\n      <td>5</td>\n      <td>5</td>\n      <td>5</td>\n      <td>4</td>\n      <td>4</td>\n      <td>5</td>\n      <td>5</td>\n      <td>5</td>\n      <td>4</td>\n      <td>4</td>\n    </tr>\n    <tr>\n      <th>...</th>\n      <td>...</td>\n      <td>...</td>\n      <td>...</td>\n      <td>...</td>\n      <td>...</td>\n      <td>...</td>\n      <td>...</td>\n      <td>...</td>\n      <td>...</td>\n      <td>...</td>\n      <td>...</td>\n      <td>...</td>\n      <td>...</td>\n      <td>...</td>\n      <td>...</td>\n      <td>...</td>\n      <td>...</td>\n      <td>...</td>\n      <td>...</td>\n      <td>...</td>\n      <td>...</td>\n      <td>...</td>\n      <td>...</td>\n      <td>...</td>\n      <td>...</td>\n      <td>...</td>\n      <td>...</td>\n      <td>...</td>\n      <td>...</td>\n      <td>...</td>\n      <td>...</td>\n      <td>...</td>\n      <td>...</td>\n      <td>...</td>\n      <td>...</td>\n      <td>...</td>\n      <td>...</td>\n      <td>...</td>\n      <td>...</td>\n      <td>...</td>\n      <td>...</td>\n      <td>...</td>\n      <td>...</td>\n      <td>...</td>\n      <td>...</td>\n      <td>...</td>\n      <td>...</td>\n      <td>...</td>\n      <td>...</td>\n      <td>...</td>\n      <td>...</td>\n      <td>...</td>\n      <td>...</td>\n    </tr>\n    <tr>\n      <th>908</th>\n      <td>43</td>\n      <td>0</td>\n      <td>5</td>\n      <td>1</td>\n      <td>21</td>\n      <td>2</td>\n      <td>NaN</td>\n      <td>NaN</td>\n      <td>2</td>\n      <td>0</td>\n      <td>3</td>\n      <td>3</td>\n      <td>3</td>\n      <td>5</td>\n      <td>5</td>\n      <td>2</td>\n      <td>4</td>\n      <td>5</td>\n      <td>3</td>\n      <td>3</td>\n      <td>4</td>\n      <td>5</td>\n      <td>2</td>\n      <td>2</td>\n      <td>2</td>\n      <td>1</td>\n      <td>2</td>\n      <td>2</td>\n      <td>2</td>\n      <td>3</td>\n      <td>3</td>\n      <td>4</td>\n      <td>NaN</td>\n      <td>NaN</td>\n      <td>2</td>\n      <td>2</td>\n      <td>2</td>\n      <td>1</td>\n      <td>2</td>\n      <td>1</td>\n      <td>5</td>\n      <td>4</td>\n      <td>2</td>\n      <td>2</td>\n      <td>2</td>\n      <td>2</td>\n      <td>2</td>\n      <td>2</td>\n      <td>NaN</td>\n      <td>NaN</td>\n      <td>NaN</td>\n      <td>NaN</td>\n      <td>NaN</td>\n    </tr>\n    <tr>\n      <th>909</th>\n      <td>53</td>\n      <td>0</td>\n      <td>6</td>\n      <td>0</td>\n      <td>25</td>\n      <td>2</td>\n      <td>NaN</td>\n      <td>NaN</td>\n      <td>6</td>\n      <td>0</td>\n      <td>3</td>\n      <td>3</td>\n      <td>4</td>\n      <td>5</td>\n      <td>4</td>\n      <td>3</td>\n      <td>4</td>\n      <td>4</td>\n      <td>4</td>\n      <td>4</td>\n      <td>4</td>\n      <td>3</td>\n      <td>3</td>\n      <td>2</td>\n      <td>3</td>\n      <td>3</td>\n      <td>2</td>\n      <td>NaN</td>\n      <td>2</td>\n      <td>NaN</td>\n      <td>4</td>\n      <td>5</td>\n      <td>3</td>\n      <td>2</td>\n      <td>3</td>\n      <td>3</td>\n      <td>5</td>\n      <td>2</td>\n      <td>2</td>\n      <td>4</td>\n      <td>3</td>\n      <td>3</td>\n      <td>4</td>\n      <td>4</td>\n      <td>4</td>\n      <td>3</td>\n      <td>3</td>\n      <td>4</td>\n      <td>4</td>\n      <td>4</td>\n      <td>4</td>\n      <td>1</td>\n      <td>1</td>\n    </tr>\n    <tr>\n      <th>910</th>\n      <td>39</td>\n      <td>0</td>\n      <td>5</td>\n      <td>1</td>\n      <td>9</td>\n      <td>2</td>\n      <td>NaN</td>\n      <td>NaN</td>\n      <td>4</td>\n      <td>0</td>\n      <td>3</td>\n      <td>3</td>\n      <td>3</td>\n      <td>5</td>\n      <td>4</td>\n      <td>3</td>\n      <td>3</td>\n      <td>4</td>\n      <td>3</td>\n      <td>3</td>\n      <td>2</td>\n      <td>5</td>\n      <td>2</td>\n      <td>2</td>\n      <td>4</td>\n      <td>1</td>\n      <td>1</td>\n      <td>2</td>\n      <td>NaN</td>\n      <td>4</td>\n      <td>5</td>\n      <td>4</td>\n      <td>3</td>\n      <td>1</td>\n      <td>1</td>\n      <td>1</td>\n      <td>3</td>\n      <td>5</td>\n      <td>5</td>\n      <td>3</td>\n      <td>3</td>\n      <td>1</td>\n      <td>2</td>\n      <td>2</td>\n      <td>5</td>\n      <td>4</td>\n      <td>3</td>\n      <td>NaN</td>\n      <td>5</td>\n      <td>5</td>\n      <td>5</td>\n      <td>4</td>\n      <td>1</td>\n    </tr>\n    <tr>\n      <th>911</th>\n      <td>40</td>\n      <td>0</td>\n      <td>3</td>\n      <td>1</td>\n      <td>10</td>\n      <td>2</td>\n      <td>NaN</td>\n      <td>NaN</td>\n      <td>2</td>\n      <td>0</td>\n      <td>3</td>\n      <td>3</td>\n      <td>5</td>\n      <td>5</td>\n      <td>4</td>\n      <td>2</td>\n      <td>4</td>\n      <td>4</td>\n      <td>4</td>\n      <td>4</td>\n      <td>3</td>\n      <td>2</td>\n      <td>5</td>\n      <td>3</td>\n      <td>2</td>\n      <td>5</td>\n      <td>4</td>\n      <td>5</td>\n      <td>4</td>\n      <td>5</td>\n      <td>5</td>\n      <td>5</td>\n      <td>3</td>\n      <td>1</td>\n      <td>5</td>\n      <td>5</td>\n      <td>NaN</td>\n      <td>1</td>\n      <td>2</td>\n      <td>4</td>\n      <td>4</td>\n      <td>2</td>\n      <td>5</td>\n      <td>5</td>\n      <td>1</td>\n      <td>5</td>\n      <td>2</td>\n      <td>2</td>\n      <td>4</td>\n      <td>4</td>\n      <td>2</td>\n      <td>1</td>\n      <td>1</td>\n    </tr>\n    <tr>\n      <th>912</th>\n      <td>41</td>\n      <td>1</td>\n      <td>3</td>\n      <td>1</td>\n      <td>12</td>\n      <td>2</td>\n      <td>NaN</td>\n      <td>NaN</td>\n      <td>2</td>\n      <td>0</td>\n      <td>3</td>\n      <td>4</td>\n      <td>3</td>\n      <td>5</td>\n      <td>5</td>\n      <td>NaN</td>\n      <td>4</td>\n      <td>4</td>\n      <td>3</td>\n      <td>3</td>\n      <td>3</td>\n      <td>2</td>\n      <td>3</td>\n      <td>2</td>\n      <td>3</td>\n      <td>1</td>\n      <td>3</td>\n      <td>5</td>\n      <td>4</td>\n      <td>4</td>\n      <td>4</td>\n      <td>4</td>\n      <td>2</td>\n      <td>1</td>\n      <td>3</td>\n      <td>3</td>\n      <td>3</td>\n      <td>1</td>\n      <td>1</td>\n      <td>4</td>\n      <td>4</td>\n      <td>4</td>\n      <td>3</td>\n      <td>3</td>\n      <td>3</td>\n      <td>NaN</td>\n      <td>3</td>\n      <td>3</td>\n      <td>2</td>\n      <td>3</td>\n      <td>3</td>\n      <td>1</td>\n      <td>1</td>\n    </tr>\n  </tbody>\n</table>\n<p>913 rows × 53 columns</p>\n</div>"
     },
     "execution_count": 85,
     "metadata": {},
     "output_type": "execute_result"
    }
   ],
   "source": [
    "data.replace('?', np.nan, inplace=True)\n",
    "data"
   ],
   "metadata": {
    "collapsed": false,
    "pycharm": {
     "name": "#%%\n"
    }
   }
  },
  {
   "cell_type": "code",
   "execution_count": 86,
   "outputs": [
    {
     "data": {
      "text/plain": "   AGE  GENDER DOMAIN  PhD YEARSEXP  UNIVERSITY UOC_POSITION OTHER_POSITION  \\\n0   40       0      2    1       14           1            2            NaN   \n1   42       0      5    1       18           1            2            NaN   \n2   37       0      4    1       13           1            3            NaN   \n3   40       0      4    0       13           1            3            NaN   \n4   51       0      6    0        8           1            3            NaN   \n\n  OTHERSTATUS USERWIKI PU1 PU2 PU3 PEU1 PEU2 PEU3 ENJ1 ENJ2 Qu1 Qu2 Qu3 Qu4  \\\n0         NaN        0   4   4   3    5    5    3    4    4   3   3   2   2   \n1         NaN        0   2   3   3    4    4    3    3    4   4   4   3   3   \n2         NaN        0   2   2   2    4    4    3    3    3   2   2   2   5   \n3         NaN        0   3   3   4    3    3    3    4    3   3   4   3   3   \n4         NaN        1   4   3   5    5    4    3    4    4   4   5   4   3   \n\n  Qu5 Vis1 Vis2 Vis3 Im1 Im2 Im3 SA1 SA2 SA3 Use1 Use2 Use3 Use4 Use5 Pf1 Pf2  \\\n0   3    3    3    1   2   4   2   4   4   4    3    1    1    2    4   1   1   \n1   2    3    3    1   1   2   1   4   4   4    2    2    1    1    2   1   1   \n2   3    2    3    2   2   4   3   4   2   4    1    1    1    1    1   3   3   \n3   3    3    4    3   2   2   3   5   5   5    3    3    3    3    3   4   4   \n4   4    4    4    4   3   2   3   5   5   5    3    3    5    5    5   5   5   \n\n  Pf3 JR1 JR2 BI1 BI2 Inc1 Inc2 Inc3 Inc4 Exp1 Exp2 Exp3 Exp4 Exp5  \n0   3   4   1   2   3    5    5    5    5    4    4    4    1    2  \n1   1   4   3   2   2    4    4    3    4    2    2    4    2    4  \n2   3   4   3   1   1    5    3    5    5    2    2    2    1    3  \n3   4   5   4   3   3    3    4    4    3    4    4    3    3    4  \n4   5   3   3   5   5    5    5    4    4    5    5    5    4    4  ",
      "text/html": "<div>\n<style scoped>\n    .dataframe tbody tr th:only-of-type {\n        vertical-align: middle;\n    }\n\n    .dataframe tbody tr th {\n        vertical-align: top;\n    }\n\n    .dataframe thead th {\n        text-align: right;\n    }\n</style>\n<table border=\"1\" class=\"dataframe\">\n  <thead>\n    <tr style=\"text-align: right;\">\n      <th></th>\n      <th>AGE</th>\n      <th>GENDER</th>\n      <th>DOMAIN</th>\n      <th>PhD</th>\n      <th>YEARSEXP</th>\n      <th>UNIVERSITY</th>\n      <th>UOC_POSITION</th>\n      <th>OTHER_POSITION</th>\n      <th>OTHERSTATUS</th>\n      <th>USERWIKI</th>\n      <th>PU1</th>\n      <th>PU2</th>\n      <th>PU3</th>\n      <th>PEU1</th>\n      <th>PEU2</th>\n      <th>PEU3</th>\n      <th>ENJ1</th>\n      <th>ENJ2</th>\n      <th>Qu1</th>\n      <th>Qu2</th>\n      <th>Qu3</th>\n      <th>Qu4</th>\n      <th>Qu5</th>\n      <th>Vis1</th>\n      <th>Vis2</th>\n      <th>Vis3</th>\n      <th>Im1</th>\n      <th>Im2</th>\n      <th>Im3</th>\n      <th>SA1</th>\n      <th>SA2</th>\n      <th>SA3</th>\n      <th>Use1</th>\n      <th>Use2</th>\n      <th>Use3</th>\n      <th>Use4</th>\n      <th>Use5</th>\n      <th>Pf1</th>\n      <th>Pf2</th>\n      <th>Pf3</th>\n      <th>JR1</th>\n      <th>JR2</th>\n      <th>BI1</th>\n      <th>BI2</th>\n      <th>Inc1</th>\n      <th>Inc2</th>\n      <th>Inc3</th>\n      <th>Inc4</th>\n      <th>Exp1</th>\n      <th>Exp2</th>\n      <th>Exp3</th>\n      <th>Exp4</th>\n      <th>Exp5</th>\n    </tr>\n  </thead>\n  <tbody>\n    <tr>\n      <th>0</th>\n      <td>40</td>\n      <td>0</td>\n      <td>2</td>\n      <td>1</td>\n      <td>14</td>\n      <td>1</td>\n      <td>2</td>\n      <td>NaN</td>\n      <td>NaN</td>\n      <td>0</td>\n      <td>4</td>\n      <td>4</td>\n      <td>3</td>\n      <td>5</td>\n      <td>5</td>\n      <td>3</td>\n      <td>4</td>\n      <td>4</td>\n      <td>3</td>\n      <td>3</td>\n      <td>2</td>\n      <td>2</td>\n      <td>3</td>\n      <td>3</td>\n      <td>3</td>\n      <td>1</td>\n      <td>2</td>\n      <td>4</td>\n      <td>2</td>\n      <td>4</td>\n      <td>4</td>\n      <td>4</td>\n      <td>3</td>\n      <td>1</td>\n      <td>1</td>\n      <td>2</td>\n      <td>4</td>\n      <td>1</td>\n      <td>1</td>\n      <td>3</td>\n      <td>4</td>\n      <td>1</td>\n      <td>2</td>\n      <td>3</td>\n      <td>5</td>\n      <td>5</td>\n      <td>5</td>\n      <td>5</td>\n      <td>4</td>\n      <td>4</td>\n      <td>4</td>\n      <td>1</td>\n      <td>2</td>\n    </tr>\n    <tr>\n      <th>1</th>\n      <td>42</td>\n      <td>0</td>\n      <td>5</td>\n      <td>1</td>\n      <td>18</td>\n      <td>1</td>\n      <td>2</td>\n      <td>NaN</td>\n      <td>NaN</td>\n      <td>0</td>\n      <td>2</td>\n      <td>3</td>\n      <td>3</td>\n      <td>4</td>\n      <td>4</td>\n      <td>3</td>\n      <td>3</td>\n      <td>4</td>\n      <td>4</td>\n      <td>4</td>\n      <td>3</td>\n      <td>3</td>\n      <td>2</td>\n      <td>3</td>\n      <td>3</td>\n      <td>1</td>\n      <td>1</td>\n      <td>2</td>\n      <td>1</td>\n      <td>4</td>\n      <td>4</td>\n      <td>4</td>\n      <td>2</td>\n      <td>2</td>\n      <td>1</td>\n      <td>1</td>\n      <td>2</td>\n      <td>1</td>\n      <td>1</td>\n      <td>1</td>\n      <td>4</td>\n      <td>3</td>\n      <td>2</td>\n      <td>2</td>\n      <td>4</td>\n      <td>4</td>\n      <td>3</td>\n      <td>4</td>\n      <td>2</td>\n      <td>2</td>\n      <td>4</td>\n      <td>2</td>\n      <td>4</td>\n    </tr>\n    <tr>\n      <th>2</th>\n      <td>37</td>\n      <td>0</td>\n      <td>4</td>\n      <td>1</td>\n      <td>13</td>\n      <td>1</td>\n      <td>3</td>\n      <td>NaN</td>\n      <td>NaN</td>\n      <td>0</td>\n      <td>2</td>\n      <td>2</td>\n      <td>2</td>\n      <td>4</td>\n      <td>4</td>\n      <td>3</td>\n      <td>3</td>\n      <td>3</td>\n      <td>2</td>\n      <td>2</td>\n      <td>2</td>\n      <td>5</td>\n      <td>3</td>\n      <td>2</td>\n      <td>3</td>\n      <td>2</td>\n      <td>2</td>\n      <td>4</td>\n      <td>3</td>\n      <td>4</td>\n      <td>2</td>\n      <td>4</td>\n      <td>1</td>\n      <td>1</td>\n      <td>1</td>\n      <td>1</td>\n      <td>1</td>\n      <td>3</td>\n      <td>3</td>\n      <td>3</td>\n      <td>4</td>\n      <td>3</td>\n      <td>1</td>\n      <td>1</td>\n      <td>5</td>\n      <td>3</td>\n      <td>5</td>\n      <td>5</td>\n      <td>2</td>\n      <td>2</td>\n      <td>2</td>\n      <td>1</td>\n      <td>3</td>\n    </tr>\n    <tr>\n      <th>3</th>\n      <td>40</td>\n      <td>0</td>\n      <td>4</td>\n      <td>0</td>\n      <td>13</td>\n      <td>1</td>\n      <td>3</td>\n      <td>NaN</td>\n      <td>NaN</td>\n      <td>0</td>\n      <td>3</td>\n      <td>3</td>\n      <td>4</td>\n      <td>3</td>\n      <td>3</td>\n      <td>3</td>\n      <td>4</td>\n      <td>3</td>\n      <td>3</td>\n      <td>4</td>\n      <td>3</td>\n      <td>3</td>\n      <td>3</td>\n      <td>3</td>\n      <td>4</td>\n      <td>3</td>\n      <td>2</td>\n      <td>2</td>\n      <td>3</td>\n      <td>5</td>\n      <td>5</td>\n      <td>5</td>\n      <td>3</td>\n      <td>3</td>\n      <td>3</td>\n      <td>3</td>\n      <td>3</td>\n      <td>4</td>\n      <td>4</td>\n      <td>4</td>\n      <td>5</td>\n      <td>4</td>\n      <td>3</td>\n      <td>3</td>\n      <td>3</td>\n      <td>4</td>\n      <td>4</td>\n      <td>3</td>\n      <td>4</td>\n      <td>4</td>\n      <td>3</td>\n      <td>3</td>\n      <td>4</td>\n    </tr>\n    <tr>\n      <th>4</th>\n      <td>51</td>\n      <td>0</td>\n      <td>6</td>\n      <td>0</td>\n      <td>8</td>\n      <td>1</td>\n      <td>3</td>\n      <td>NaN</td>\n      <td>NaN</td>\n      <td>1</td>\n      <td>4</td>\n      <td>3</td>\n      <td>5</td>\n      <td>5</td>\n      <td>4</td>\n      <td>3</td>\n      <td>4</td>\n      <td>4</td>\n      <td>4</td>\n      <td>5</td>\n      <td>4</td>\n      <td>3</td>\n      <td>4</td>\n      <td>4</td>\n      <td>4</td>\n      <td>4</td>\n      <td>3</td>\n      <td>2</td>\n      <td>3</td>\n      <td>5</td>\n      <td>5</td>\n      <td>5</td>\n      <td>3</td>\n      <td>3</td>\n      <td>5</td>\n      <td>5</td>\n      <td>5</td>\n      <td>5</td>\n      <td>5</td>\n      <td>5</td>\n      <td>3</td>\n      <td>3</td>\n      <td>5</td>\n      <td>5</td>\n      <td>5</td>\n      <td>5</td>\n      <td>4</td>\n      <td>4</td>\n      <td>5</td>\n      <td>5</td>\n      <td>5</td>\n      <td>4</td>\n      <td>4</td>\n    </tr>\n  </tbody>\n</table>\n</div>"
     },
     "execution_count": 86,
     "metadata": {},
     "output_type": "execute_result"
    }
   ],
   "source": [
    "pd.set_option('display.max_columns', None)\n",
    "data.head()"
   ],
   "metadata": {
    "collapsed": false,
    "pycharm": {
     "name": "#%%\n"
    }
   }
  },
  {
   "cell_type": "code",
   "execution_count": 87,
   "outputs": [
    {
     "data": {
      "text/plain": "              AGE      GENDER         PhD  UNIVERSITY\ncount  913.000000  913.000000  913.000000  913.000000\nmean    42.246440    0.424973    0.464403    1.123768\nstd      8.058418    0.494610    0.499005    0.329497\nmin     23.000000    0.000000    0.000000    1.000000\n25%     36.000000    0.000000    0.000000    1.000000\n50%     42.000000    0.000000    0.000000    1.000000\n75%     47.000000    1.000000    1.000000    1.000000\nmax     69.000000    1.000000    1.000000    2.000000",
      "text/html": "<div>\n<style scoped>\n    .dataframe tbody tr th:only-of-type {\n        vertical-align: middle;\n    }\n\n    .dataframe tbody tr th {\n        vertical-align: top;\n    }\n\n    .dataframe thead th {\n        text-align: right;\n    }\n</style>\n<table border=\"1\" class=\"dataframe\">\n  <thead>\n    <tr style=\"text-align: right;\">\n      <th></th>\n      <th>AGE</th>\n      <th>GENDER</th>\n      <th>PhD</th>\n      <th>UNIVERSITY</th>\n    </tr>\n  </thead>\n  <tbody>\n    <tr>\n      <th>count</th>\n      <td>913.000000</td>\n      <td>913.000000</td>\n      <td>913.000000</td>\n      <td>913.000000</td>\n    </tr>\n    <tr>\n      <th>mean</th>\n      <td>42.246440</td>\n      <td>0.424973</td>\n      <td>0.464403</td>\n      <td>1.123768</td>\n    </tr>\n    <tr>\n      <th>std</th>\n      <td>8.058418</td>\n      <td>0.494610</td>\n      <td>0.499005</td>\n      <td>0.329497</td>\n    </tr>\n    <tr>\n      <th>min</th>\n      <td>23.000000</td>\n      <td>0.000000</td>\n      <td>0.000000</td>\n      <td>1.000000</td>\n    </tr>\n    <tr>\n      <th>25%</th>\n      <td>36.000000</td>\n      <td>0.000000</td>\n      <td>0.000000</td>\n      <td>1.000000</td>\n    </tr>\n    <tr>\n      <th>50%</th>\n      <td>42.000000</td>\n      <td>0.000000</td>\n      <td>0.000000</td>\n      <td>1.000000</td>\n    </tr>\n    <tr>\n      <th>75%</th>\n      <td>47.000000</td>\n      <td>1.000000</td>\n      <td>1.000000</td>\n      <td>1.000000</td>\n    </tr>\n    <tr>\n      <th>max</th>\n      <td>69.000000</td>\n      <td>1.000000</td>\n      <td>1.000000</td>\n      <td>2.000000</td>\n    </tr>\n  </tbody>\n</table>\n</div>"
     },
     "execution_count": 87,
     "metadata": {},
     "output_type": "execute_result"
    }
   ],
   "source": [
    "data.describe()\n"
   ],
   "metadata": {
    "collapsed": false,
    "pycharm": {
     "name": "#%%\n"
    }
   }
  },
  {
   "cell_type": "code",
   "source": [
    "pd.DataFrame({ 'contain na ': data.isna().any() ,'count na ': data.isna().sum() })"
   ],
   "metadata": {
    "collapsed": false,
    "pycharm": {
     "name": "#%%\n"
    }
   },
   "execution_count": 88,
   "outputs": [
    {
     "data": {
      "text/plain": "                contain na   count na \nAGE                   False          0\nGENDER                False          0\nDOMAIN                 True          2\nPhD                   False          0\nYEARSEXP               True         23\nUNIVERSITY            False          0\nUOC_POSITION           True        113\nOTHER_POSITION         True        261\nOTHERSTATUS            True        540\nUSERWIKI               True          4\nPU1                    True          7\nPU2                    True         11\nPU3                    True          5\nPEU1                   True          4\nPEU2                   True         14\nPEU3                   True         97\nENJ1                   True          7\nENJ2                   True         17\nQu1                    True          7\nQu2                    True         10\nQu3                    True         15\nQu4                    True         22\nQu5                    True         29\nVis1                   True         72\nVis2                   True        117\nVis3                   True          8\nIm1                    True         22\nIm2                    True         20\nIm3                    True         57\nSA1                    True         11\nSA2                    True         12\nSA3                    True         11\nUse1                   True         14\nUse2                   True         17\nUse3                   True          9\nUse4                   True         23\nUse5                   True         15\nPf1                    True         11\nPf2                    True          6\nPf3                    True         14\nJR1                    True         27\nJR2                    True         53\nBI1                    True         32\nBI2                    True         43\nInc1                   True         35\nInc2                   True         35\nInc3                   True         37\nInc4                   True         42\nExp1                   True         13\nExp2                   True         11\nExp3                   True         13\nExp4                   True         14\nExp5                   True         13",
      "text/html": "<div>\n<style scoped>\n    .dataframe tbody tr th:only-of-type {\n        vertical-align: middle;\n    }\n\n    .dataframe tbody tr th {\n        vertical-align: top;\n    }\n\n    .dataframe thead th {\n        text-align: right;\n    }\n</style>\n<table border=\"1\" class=\"dataframe\">\n  <thead>\n    <tr style=\"text-align: right;\">\n      <th></th>\n      <th>contain na</th>\n      <th>count na</th>\n    </tr>\n  </thead>\n  <tbody>\n    <tr>\n      <th>AGE</th>\n      <td>False</td>\n      <td>0</td>\n    </tr>\n    <tr>\n      <th>GENDER</th>\n      <td>False</td>\n      <td>0</td>\n    </tr>\n    <tr>\n      <th>DOMAIN</th>\n      <td>True</td>\n      <td>2</td>\n    </tr>\n    <tr>\n      <th>PhD</th>\n      <td>False</td>\n      <td>0</td>\n    </tr>\n    <tr>\n      <th>YEARSEXP</th>\n      <td>True</td>\n      <td>23</td>\n    </tr>\n    <tr>\n      <th>UNIVERSITY</th>\n      <td>False</td>\n      <td>0</td>\n    </tr>\n    <tr>\n      <th>UOC_POSITION</th>\n      <td>True</td>\n      <td>113</td>\n    </tr>\n    <tr>\n      <th>OTHER_POSITION</th>\n      <td>True</td>\n      <td>261</td>\n    </tr>\n    <tr>\n      <th>OTHERSTATUS</th>\n      <td>True</td>\n      <td>540</td>\n    </tr>\n    <tr>\n      <th>USERWIKI</th>\n      <td>True</td>\n      <td>4</td>\n    </tr>\n    <tr>\n      <th>PU1</th>\n      <td>True</td>\n      <td>7</td>\n    </tr>\n    <tr>\n      <th>PU2</th>\n      <td>True</td>\n      <td>11</td>\n    </tr>\n    <tr>\n      <th>PU3</th>\n      <td>True</td>\n      <td>5</td>\n    </tr>\n    <tr>\n      <th>PEU1</th>\n      <td>True</td>\n      <td>4</td>\n    </tr>\n    <tr>\n      <th>PEU2</th>\n      <td>True</td>\n      <td>14</td>\n    </tr>\n    <tr>\n      <th>PEU3</th>\n      <td>True</td>\n      <td>97</td>\n    </tr>\n    <tr>\n      <th>ENJ1</th>\n      <td>True</td>\n      <td>7</td>\n    </tr>\n    <tr>\n      <th>ENJ2</th>\n      <td>True</td>\n      <td>17</td>\n    </tr>\n    <tr>\n      <th>Qu1</th>\n      <td>True</td>\n      <td>7</td>\n    </tr>\n    <tr>\n      <th>Qu2</th>\n      <td>True</td>\n      <td>10</td>\n    </tr>\n    <tr>\n      <th>Qu3</th>\n      <td>True</td>\n      <td>15</td>\n    </tr>\n    <tr>\n      <th>Qu4</th>\n      <td>True</td>\n      <td>22</td>\n    </tr>\n    <tr>\n      <th>Qu5</th>\n      <td>True</td>\n      <td>29</td>\n    </tr>\n    <tr>\n      <th>Vis1</th>\n      <td>True</td>\n      <td>72</td>\n    </tr>\n    <tr>\n      <th>Vis2</th>\n      <td>True</td>\n      <td>117</td>\n    </tr>\n    <tr>\n      <th>Vis3</th>\n      <td>True</td>\n      <td>8</td>\n    </tr>\n    <tr>\n      <th>Im1</th>\n      <td>True</td>\n      <td>22</td>\n    </tr>\n    <tr>\n      <th>Im2</th>\n      <td>True</td>\n      <td>20</td>\n    </tr>\n    <tr>\n      <th>Im3</th>\n      <td>True</td>\n      <td>57</td>\n    </tr>\n    <tr>\n      <th>SA1</th>\n      <td>True</td>\n      <td>11</td>\n    </tr>\n    <tr>\n      <th>SA2</th>\n      <td>True</td>\n      <td>12</td>\n    </tr>\n    <tr>\n      <th>SA3</th>\n      <td>True</td>\n      <td>11</td>\n    </tr>\n    <tr>\n      <th>Use1</th>\n      <td>True</td>\n      <td>14</td>\n    </tr>\n    <tr>\n      <th>Use2</th>\n      <td>True</td>\n      <td>17</td>\n    </tr>\n    <tr>\n      <th>Use3</th>\n      <td>True</td>\n      <td>9</td>\n    </tr>\n    <tr>\n      <th>Use4</th>\n      <td>True</td>\n      <td>23</td>\n    </tr>\n    <tr>\n      <th>Use5</th>\n      <td>True</td>\n      <td>15</td>\n    </tr>\n    <tr>\n      <th>Pf1</th>\n      <td>True</td>\n      <td>11</td>\n    </tr>\n    <tr>\n      <th>Pf2</th>\n      <td>True</td>\n      <td>6</td>\n    </tr>\n    <tr>\n      <th>Pf3</th>\n      <td>True</td>\n      <td>14</td>\n    </tr>\n    <tr>\n      <th>JR1</th>\n      <td>True</td>\n      <td>27</td>\n    </tr>\n    <tr>\n      <th>JR2</th>\n      <td>True</td>\n      <td>53</td>\n    </tr>\n    <tr>\n      <th>BI1</th>\n      <td>True</td>\n      <td>32</td>\n    </tr>\n    <tr>\n      <th>BI2</th>\n      <td>True</td>\n      <td>43</td>\n    </tr>\n    <tr>\n      <th>Inc1</th>\n      <td>True</td>\n      <td>35</td>\n    </tr>\n    <tr>\n      <th>Inc2</th>\n      <td>True</td>\n      <td>35</td>\n    </tr>\n    <tr>\n      <th>Inc3</th>\n      <td>True</td>\n      <td>37</td>\n    </tr>\n    <tr>\n      <th>Inc4</th>\n      <td>True</td>\n      <td>42</td>\n    </tr>\n    <tr>\n      <th>Exp1</th>\n      <td>True</td>\n      <td>13</td>\n    </tr>\n    <tr>\n      <th>Exp2</th>\n      <td>True</td>\n      <td>11</td>\n    </tr>\n    <tr>\n      <th>Exp3</th>\n      <td>True</td>\n      <td>13</td>\n    </tr>\n    <tr>\n      <th>Exp4</th>\n      <td>True</td>\n      <td>14</td>\n    </tr>\n    <tr>\n      <th>Exp5</th>\n      <td>True</td>\n      <td>13</td>\n    </tr>\n  </tbody>\n</table>\n</div>"
     },
     "execution_count": 88,
     "metadata": {},
     "output_type": "execute_result"
    }
   ]
  },
  {
   "cell_type": "code",
   "execution_count": 89,
   "outputs": [
    {
     "data": {
      "text/plain": "737"
     },
     "execution_count": 89,
     "metadata": {},
     "output_type": "execute_result"
    }
   ],
   "source": [
    "# numero di righe con almeno un na:\n",
    "data.shape[0] - data.dropna().shape[0]\n"
   ],
   "metadata": {
    "collapsed": false,
    "pycharm": {
     "name": "#%%\n"
    }
   }
  },
  {
   "cell_type": "code",
   "execution_count": 98,
   "outputs": [],
   "source": [
    "# data = data.astype(int)\n",
    "# a = data.dropna().astype('int64')\n",
    "# a.info()"
   ],
   "metadata": {
    "collapsed": false,
    "pycharm": {
     "name": "#%%\n"
    }
   }
  },
  {
   "cell_type": "code",
   "execution_count": 99,
   "outputs": [
    {
     "name": "stdout",
     "output_type": "stream",
     "text": [
      "<class 'pandas.core.frame.DataFrame'>\n",
      "RangeIndex: 913 entries, 0 to 912\n",
      "Data columns (total 53 columns):\n",
      " #   Column          Non-Null Count  Dtype \n",
      "---  ------          --------------  ----- \n",
      " 0   AGE             913 non-null    int64 \n",
      " 1   GENDER          913 non-null    int64 \n",
      " 2   DOMAIN          911 non-null    object\n",
      " 3   PhD             913 non-null    int64 \n",
      " 4   YEARSEXP        890 non-null    object\n",
      " 5   UNIVERSITY      913 non-null    int64 \n",
      " 6   UOC_POSITION    800 non-null    object\n",
      " 7   OTHER_POSITION  652 non-null    object\n",
      " 8   OTHERSTATUS     373 non-null    object\n",
      " 9   USERWIKI        909 non-null    object\n",
      " 10  PU1             906 non-null    object\n",
      " 11  PU2             902 non-null    object\n",
      " 12  PU3             908 non-null    object\n",
      " 13  PEU1            909 non-null    object\n",
      " 14  PEU2            899 non-null    object\n",
      " 15  PEU3            816 non-null    object\n",
      " 16  ENJ1            906 non-null    object\n",
      " 17  ENJ2            896 non-null    object\n",
      " 18  Qu1             906 non-null    object\n",
      " 19  Qu2             903 non-null    object\n",
      " 20  Qu3             898 non-null    object\n",
      " 21  Qu4             891 non-null    object\n",
      " 22  Qu5             884 non-null    object\n",
      " 23  Vis1            841 non-null    object\n",
      " 24  Vis2            796 non-null    object\n",
      " 25  Vis3            905 non-null    object\n",
      " 26  Im1             891 non-null    object\n",
      " 27  Im2             893 non-null    object\n",
      " 28  Im3             856 non-null    object\n",
      " 29  SA1             902 non-null    object\n",
      " 30  SA2             901 non-null    object\n",
      " 31  SA3             902 non-null    object\n",
      " 32  Use1            899 non-null    object\n",
      " 33  Use2            896 non-null    object\n",
      " 34  Use3            904 non-null    object\n",
      " 35  Use4            890 non-null    object\n",
      " 36  Use5            898 non-null    object\n",
      " 37  Pf1             902 non-null    object\n",
      " 38  Pf2             907 non-null    object\n",
      " 39  Pf3             899 non-null    object\n",
      " 40  JR1             886 non-null    object\n",
      " 41  JR2             860 non-null    object\n",
      " 42  BI1             881 non-null    object\n",
      " 43  BI2             870 non-null    object\n",
      " 44  Inc1            878 non-null    object\n",
      " 45  Inc2            878 non-null    object\n",
      " 46  Inc3            876 non-null    object\n",
      " 47  Inc4            871 non-null    object\n",
      " 48  Exp1            900 non-null    object\n",
      " 49  Exp2            902 non-null    object\n",
      " 50  Exp3            900 non-null    object\n",
      " 51  Exp4            899 non-null    object\n",
      " 52  Exp5            900 non-null    object\n",
      "dtypes: int64(4), object(49)\n",
      "memory usage: 378.2+ KB\n"
     ]
    }
   ],
   "source": [
    "data.info()\n"
   ],
   "metadata": {
    "collapsed": false,
    "pycharm": {
     "name": "#%%\n"
    }
   }
  },
  {
   "cell_type": "code",
   "execution_count": 107,
   "outputs": [
    {
     "data": {
      "text/plain": "count    652.000000\nmean       1.588957\nstd        0.492401\nmin        1.000000\n25%        1.000000\n50%        2.000000\n75%        2.000000\nmax        2.000000\nName: OTHER_POSITION, dtype: float64"
     },
     "execution_count": 107,
     "metadata": {},
     "output_type": "execute_result"
    }
   ],
   "source": [
    "#cambio phd e Other in bool\n",
    "\n",
    "# University si indica l'uni di appartenenza\n",
    "# se in UNI = 1 -> in UOC la posizione in UOC - probabilmente non hanno altri impieghi in altre uni\n",
    "# se in UNI = 2 -> in UOC la posizione in UOC prob non esiste - hanno altri ruoli\n",
    "#potrei percio creare una col con solo la posizione lavorativa\n",
    "\n",
    "\n",
    "# tenere conto (sotto)\n",
    "\n",
    "# maggior parte dei dati mancanti provengono dalla variabile \"OTHER_POSITION\".\n",
    "# Questa variabile descrive il \"lavoro come part-time in un'altra università e membri UPF\".\n",
    "# Questa è una domanda mal progettata in quanto non è applicabile\n",
    "# alla maggior parte dei membri della facoltà e quindi non hanno risposto.\n",
    "# Di conseguenza, rimuoveremo questa variabile dai dati per eliminare i dati mancanti sistematici.\n"
   ],
   "metadata": {
    "collapsed": false,
    "pycharm": {
     "name": "#%%\n"
    }
   }
  },
  {
   "cell_type": "code",
   "execution_count": 129,
   "outputs": [
    {
     "data": {
      "text/plain": "count    373.000000\nmean       4.209115\nstd        2.225034\nmin        1.000000\n25%        2.000000\n50%        4.000000\n75%        7.000000\nmax        7.000000\nName: OTHERSTATUS, dtype: float64"
     },
     "execution_count": 129,
     "metadata": {},
     "output_type": "execute_result"
    }
   ],
   "source": [
    "a = data['OTHERSTATUS'].dropna().astype(int)\n",
    "a.describe()"
   ],
   "metadata": {
    "collapsed": false,
    "pycharm": {
     "name": "#%%\n"
    }
   }
  },
  {
   "cell_type": "code",
   "execution_count": 133,
   "outputs": [
    {
     "data": {
      "text/plain": "148    7\n157    7\n165    7\n166    7\n178    7\n      ..\n902    7\n903    7\n904    7\n906    7\n907    7\nName: OTHERSTATUS, Length: 107, dtype: int32"
     },
     "execution_count": 133,
     "metadata": {},
     "output_type": "execute_result"
    }
   ],
   "source": [
    "a[a[:] == 7]"
   ],
   "metadata": {
    "collapsed": false,
    "pycharm": {
     "name": "#%%\n"
    }
   }
  },
  {
   "cell_type": "code",
   "execution_count": null,
   "outputs": [],
   "source": [
    "\n",
    "data['OTHER_POSITION'].dropna().astype(int).describe()"
   ],
   "metadata": {
    "collapsed": false,
    "pycharm": {
     "name": "#%%\n"
    }
   }
  },
  {
   "cell_type": "code",
   "execution_count": 108,
   "outputs": [
    {
     "data": {
      "text/plain": "count    373.000000\nmean       4.209115\nstd        2.225034\nmin        1.000000\n25%        2.000000\n50%        4.000000\n75%        7.000000\nmax        7.000000\nName: OTHERSTATUS, dtype: float64"
     },
     "execution_count": 108,
     "metadata": {},
     "output_type": "execute_result"
    }
   ],
   "source": [
    "data['OTHERSTATUS'].dropna().astype(int).describe()"
   ],
   "metadata": {
    "collapsed": false,
    "pycharm": {
     "name": "#%%\n"
    }
   }
  },
  {
   "cell_type": "code",
   "execution_count": 101,
   "outputs": [
    {
     "data": {
      "text/plain": "     AGE  GENDER DOMAIN  PhD YEARSEXP  UNIVERSITY UOC_POSITION OTHER_POSITION  \\\n141   49       0      1    0        6           1            6              2   \n142   46       0      3    0        4           1            6              2   \n143   54       0      6    0       11           1            6              2   \n144   47       0      6    0        5           1            6              2   \n145   53       0      6    0       10           1            6              2   \n..   ...     ...    ...  ...      ...         ...          ...            ...   \n795   62       1      3    0       15           1            6              2   \n796   46       1      1    1       21           1            6              1   \n797   49       1      1    1       23           1            6              1   \n798   42       1      5    0       19           1            6              2   \n799   45       1      3    1       20           1            6              1   \n\n    OTHERSTATUS USERWIKI PU1 PU2 PU3 PEU1 PEU2 PEU3 ENJ1 ENJ2 Qu1 Qu2 Qu3 Qu4  \\\n141         NaN        0   5   5   5    5    5    5    5    5   4   5   4   4   \n142         NaN        0   2   2   2    4    3    3    3    3   2   2   2   2   \n143         NaN        0   5   5   5    5    5    5    5    5   3   3   3   3   \n144         NaN        0   4   3   4    3    4    3    4  NaN   2   2   2   4   \n145         NaN        1   2   2   1    2    2    2    2    2   3   3   3   3   \n..          ...      ...  ..  ..  ..  ...  ...  ...  ...  ...  ..  ..  ..  ..   \n795         NaN        0   2   5   4    5    5    4    3    3   4   3   3   3   \n796           2        0   3   4   5    4    5  NaN    5    5   4   4   4   1   \n797           2        0   3   3   3    5    5  NaN    4    4   3   3   3   2   \n798         NaN        1   2   2   3    4    3    2    3    3   3   3   3   3   \n799           2        0   2   2   2    4    2    1    2    2   3   3   3   2   \n\n    Qu5 Vis1 Vis2 Vis3  Im1 Im2  Im3 SA1  SA2  SA3 Use1 Use2 Use3 Use4 Use5  \\\n141   5    3  NaN    5    2   3    4   5    5    5    4    1    5    5    5   \n142   1    1    2    1    1   3    1   3    3    3    1    1    1    1    1   \n143   3    4    4    5    2   2    2   5    5    5    5    5    5    5    5   \n144   3    4    3    3    3   3  NaN   4    4    4    2    2    3    3    4   \n145   2    2    3    3    2   2    3   2    2    2    2    3    2    3    2   \n..   ..  ...  ...  ...  ...  ..  ...  ..  ...  ...  ...  ...  ...  ...  ...   \n795   4    3    3    3  NaN   3    3   4    3  NaN    3    2    4    2    4   \n796   4  NaN  NaN    4    1   1    3   5    5    5    4    1    5    3    5   \n797   3    3  NaN    1    1   3    5   5    3    5    2    3    4    4    4   \n798   3    2    2    2    3   3    3   3    3  NaN    2    2    3    3    3   \n799   2    2    1    1    2   2    2   2  NaN    2    1    1    1    1    2   \n\n    Pf1 Pf2 Pf3  JR1  JR2 BI1  BI2 Inc1 Inc2 Inc3 Inc4 Exp1 Exp2 Exp3 Exp4  \\\n141   5   5   4  NaN  NaN   5    5    5    5    5    5    5    5    5    1   \n142   2   2   1    3    3   1    1    1    1    1    1    1    1    2    1   \n143   1   3   3    5    5   5    5    5    5    5    5    5    5    5    1   \n144   3   4   3    4    4   3  NaN    4    3    3    3    3    3    4    2   \n145   2   1   2    1    2   3    3    1    3    4    1    2    2    1    2   \n..   ..  ..  ..  ...  ...  ..  ...  ...  ...  ...  ...  ...  ...  ...  ...   \n795   1   2   1    3  NaN   3    4    3    2    3    1    4    3    2    1   \n796   3   2   4    4    4   4    5    4    4    5    5    5    4    4    1   \n797   4   4   4    2    3   4    3    4    4    4    4    4    4    4    1   \n798   2   2   2    4    3   3    3    3    2    3    2    2    2    4    1   \n799   1   1   1    3    3   2    2    2    2    2    2    2    3    4    1   \n\n    Exp5  \n141    3  \n142    2  \n143    5  \n144    3  \n145    1  \n..   ...  \n795    2  \n796    1  \n797    2  \n798    2  \n799    1  \n\n[652 rows x 53 columns]",
      "text/html": "<div>\n<style scoped>\n    .dataframe tbody tr th:only-of-type {\n        vertical-align: middle;\n    }\n\n    .dataframe tbody tr th {\n        vertical-align: top;\n    }\n\n    .dataframe thead th {\n        text-align: right;\n    }\n</style>\n<table border=\"1\" class=\"dataframe\">\n  <thead>\n    <tr style=\"text-align: right;\">\n      <th></th>\n      <th>AGE</th>\n      <th>GENDER</th>\n      <th>DOMAIN</th>\n      <th>PhD</th>\n      <th>YEARSEXP</th>\n      <th>UNIVERSITY</th>\n      <th>UOC_POSITION</th>\n      <th>OTHER_POSITION</th>\n      <th>OTHERSTATUS</th>\n      <th>USERWIKI</th>\n      <th>PU1</th>\n      <th>PU2</th>\n      <th>PU3</th>\n      <th>PEU1</th>\n      <th>PEU2</th>\n      <th>PEU3</th>\n      <th>ENJ1</th>\n      <th>ENJ2</th>\n      <th>Qu1</th>\n      <th>Qu2</th>\n      <th>Qu3</th>\n      <th>Qu4</th>\n      <th>Qu5</th>\n      <th>Vis1</th>\n      <th>Vis2</th>\n      <th>Vis3</th>\n      <th>Im1</th>\n      <th>Im2</th>\n      <th>Im3</th>\n      <th>SA1</th>\n      <th>SA2</th>\n      <th>SA3</th>\n      <th>Use1</th>\n      <th>Use2</th>\n      <th>Use3</th>\n      <th>Use4</th>\n      <th>Use5</th>\n      <th>Pf1</th>\n      <th>Pf2</th>\n      <th>Pf3</th>\n      <th>JR1</th>\n      <th>JR2</th>\n      <th>BI1</th>\n      <th>BI2</th>\n      <th>Inc1</th>\n      <th>Inc2</th>\n      <th>Inc3</th>\n      <th>Inc4</th>\n      <th>Exp1</th>\n      <th>Exp2</th>\n      <th>Exp3</th>\n      <th>Exp4</th>\n      <th>Exp5</th>\n    </tr>\n  </thead>\n  <tbody>\n    <tr>\n      <th>141</th>\n      <td>49</td>\n      <td>0</td>\n      <td>1</td>\n      <td>0</td>\n      <td>6</td>\n      <td>1</td>\n      <td>6</td>\n      <td>2</td>\n      <td>NaN</td>\n      <td>0</td>\n      <td>5</td>\n      <td>5</td>\n      <td>5</td>\n      <td>5</td>\n      <td>5</td>\n      <td>5</td>\n      <td>5</td>\n      <td>5</td>\n      <td>4</td>\n      <td>5</td>\n      <td>4</td>\n      <td>4</td>\n      <td>5</td>\n      <td>3</td>\n      <td>NaN</td>\n      <td>5</td>\n      <td>2</td>\n      <td>3</td>\n      <td>4</td>\n      <td>5</td>\n      <td>5</td>\n      <td>5</td>\n      <td>4</td>\n      <td>1</td>\n      <td>5</td>\n      <td>5</td>\n      <td>5</td>\n      <td>5</td>\n      <td>5</td>\n      <td>4</td>\n      <td>NaN</td>\n      <td>NaN</td>\n      <td>5</td>\n      <td>5</td>\n      <td>5</td>\n      <td>5</td>\n      <td>5</td>\n      <td>5</td>\n      <td>5</td>\n      <td>5</td>\n      <td>5</td>\n      <td>1</td>\n      <td>3</td>\n    </tr>\n    <tr>\n      <th>142</th>\n      <td>46</td>\n      <td>0</td>\n      <td>3</td>\n      <td>0</td>\n      <td>4</td>\n      <td>1</td>\n      <td>6</td>\n      <td>2</td>\n      <td>NaN</td>\n      <td>0</td>\n      <td>2</td>\n      <td>2</td>\n      <td>2</td>\n      <td>4</td>\n      <td>3</td>\n      <td>3</td>\n      <td>3</td>\n      <td>3</td>\n      <td>2</td>\n      <td>2</td>\n      <td>2</td>\n      <td>2</td>\n      <td>1</td>\n      <td>1</td>\n      <td>2</td>\n      <td>1</td>\n      <td>1</td>\n      <td>3</td>\n      <td>1</td>\n      <td>3</td>\n      <td>3</td>\n      <td>3</td>\n      <td>1</td>\n      <td>1</td>\n      <td>1</td>\n      <td>1</td>\n      <td>1</td>\n      <td>2</td>\n      <td>2</td>\n      <td>1</td>\n      <td>3</td>\n      <td>3</td>\n      <td>1</td>\n      <td>1</td>\n      <td>1</td>\n      <td>1</td>\n      <td>1</td>\n      <td>1</td>\n      <td>1</td>\n      <td>1</td>\n      <td>2</td>\n      <td>1</td>\n      <td>2</td>\n    </tr>\n    <tr>\n      <th>143</th>\n      <td>54</td>\n      <td>0</td>\n      <td>6</td>\n      <td>0</td>\n      <td>11</td>\n      <td>1</td>\n      <td>6</td>\n      <td>2</td>\n      <td>NaN</td>\n      <td>0</td>\n      <td>5</td>\n      <td>5</td>\n      <td>5</td>\n      <td>5</td>\n      <td>5</td>\n      <td>5</td>\n      <td>5</td>\n      <td>5</td>\n      <td>3</td>\n      <td>3</td>\n      <td>3</td>\n      <td>3</td>\n      <td>3</td>\n      <td>4</td>\n      <td>4</td>\n      <td>5</td>\n      <td>2</td>\n      <td>2</td>\n      <td>2</td>\n      <td>5</td>\n      <td>5</td>\n      <td>5</td>\n      <td>5</td>\n      <td>5</td>\n      <td>5</td>\n      <td>5</td>\n      <td>5</td>\n      <td>1</td>\n      <td>3</td>\n      <td>3</td>\n      <td>5</td>\n      <td>5</td>\n      <td>5</td>\n      <td>5</td>\n      <td>5</td>\n      <td>5</td>\n      <td>5</td>\n      <td>5</td>\n      <td>5</td>\n      <td>5</td>\n      <td>5</td>\n      <td>1</td>\n      <td>5</td>\n    </tr>\n    <tr>\n      <th>144</th>\n      <td>47</td>\n      <td>0</td>\n      <td>6</td>\n      <td>0</td>\n      <td>5</td>\n      <td>1</td>\n      <td>6</td>\n      <td>2</td>\n      <td>NaN</td>\n      <td>0</td>\n      <td>4</td>\n      <td>3</td>\n      <td>4</td>\n      <td>3</td>\n      <td>4</td>\n      <td>3</td>\n      <td>4</td>\n      <td>NaN</td>\n      <td>2</td>\n      <td>2</td>\n      <td>2</td>\n      <td>4</td>\n      <td>3</td>\n      <td>4</td>\n      <td>3</td>\n      <td>3</td>\n      <td>3</td>\n      <td>3</td>\n      <td>NaN</td>\n      <td>4</td>\n      <td>4</td>\n      <td>4</td>\n      <td>2</td>\n      <td>2</td>\n      <td>3</td>\n      <td>3</td>\n      <td>4</td>\n      <td>3</td>\n      <td>4</td>\n      <td>3</td>\n      <td>4</td>\n      <td>4</td>\n      <td>3</td>\n      <td>NaN</td>\n      <td>4</td>\n      <td>3</td>\n      <td>3</td>\n      <td>3</td>\n      <td>3</td>\n      <td>3</td>\n      <td>4</td>\n      <td>2</td>\n      <td>3</td>\n    </tr>\n    <tr>\n      <th>145</th>\n      <td>53</td>\n      <td>0</td>\n      <td>6</td>\n      <td>0</td>\n      <td>10</td>\n      <td>1</td>\n      <td>6</td>\n      <td>2</td>\n      <td>NaN</td>\n      <td>1</td>\n      <td>2</td>\n      <td>2</td>\n      <td>1</td>\n      <td>2</td>\n      <td>2</td>\n      <td>2</td>\n      <td>2</td>\n      <td>2</td>\n      <td>3</td>\n      <td>3</td>\n      <td>3</td>\n      <td>3</td>\n      <td>2</td>\n      <td>2</td>\n      <td>3</td>\n      <td>3</td>\n      <td>2</td>\n      <td>2</td>\n      <td>3</td>\n      <td>2</td>\n      <td>2</td>\n      <td>2</td>\n      <td>2</td>\n      <td>3</td>\n      <td>2</td>\n      <td>3</td>\n      <td>2</td>\n      <td>2</td>\n      <td>1</td>\n      <td>2</td>\n      <td>1</td>\n      <td>2</td>\n      <td>3</td>\n      <td>3</td>\n      <td>1</td>\n      <td>3</td>\n      <td>4</td>\n      <td>1</td>\n      <td>2</td>\n      <td>2</td>\n      <td>1</td>\n      <td>2</td>\n      <td>1</td>\n    </tr>\n    <tr>\n      <th>...</th>\n      <td>...</td>\n      <td>...</td>\n      <td>...</td>\n      <td>...</td>\n      <td>...</td>\n      <td>...</td>\n      <td>...</td>\n      <td>...</td>\n      <td>...</td>\n      <td>...</td>\n      <td>...</td>\n      <td>...</td>\n      <td>...</td>\n      <td>...</td>\n      <td>...</td>\n      <td>...</td>\n      <td>...</td>\n      <td>...</td>\n      <td>...</td>\n      <td>...</td>\n      <td>...</td>\n      <td>...</td>\n      <td>...</td>\n      <td>...</td>\n      <td>...</td>\n      <td>...</td>\n      <td>...</td>\n      <td>...</td>\n      <td>...</td>\n      <td>...</td>\n      <td>...</td>\n      <td>...</td>\n      <td>...</td>\n      <td>...</td>\n      <td>...</td>\n      <td>...</td>\n      <td>...</td>\n      <td>...</td>\n      <td>...</td>\n      <td>...</td>\n      <td>...</td>\n      <td>...</td>\n      <td>...</td>\n      <td>...</td>\n      <td>...</td>\n      <td>...</td>\n      <td>...</td>\n      <td>...</td>\n      <td>...</td>\n      <td>...</td>\n      <td>...</td>\n      <td>...</td>\n      <td>...</td>\n    </tr>\n    <tr>\n      <th>795</th>\n      <td>62</td>\n      <td>1</td>\n      <td>3</td>\n      <td>0</td>\n      <td>15</td>\n      <td>1</td>\n      <td>6</td>\n      <td>2</td>\n      <td>NaN</td>\n      <td>0</td>\n      <td>2</td>\n      <td>5</td>\n      <td>4</td>\n      <td>5</td>\n      <td>5</td>\n      <td>4</td>\n      <td>3</td>\n      <td>3</td>\n      <td>4</td>\n      <td>3</td>\n      <td>3</td>\n      <td>3</td>\n      <td>4</td>\n      <td>3</td>\n      <td>3</td>\n      <td>3</td>\n      <td>NaN</td>\n      <td>3</td>\n      <td>3</td>\n      <td>4</td>\n      <td>3</td>\n      <td>NaN</td>\n      <td>3</td>\n      <td>2</td>\n      <td>4</td>\n      <td>2</td>\n      <td>4</td>\n      <td>1</td>\n      <td>2</td>\n      <td>1</td>\n      <td>3</td>\n      <td>NaN</td>\n      <td>3</td>\n      <td>4</td>\n      <td>3</td>\n      <td>2</td>\n      <td>3</td>\n      <td>1</td>\n      <td>4</td>\n      <td>3</td>\n      <td>2</td>\n      <td>1</td>\n      <td>2</td>\n    </tr>\n    <tr>\n      <th>796</th>\n      <td>46</td>\n      <td>1</td>\n      <td>1</td>\n      <td>1</td>\n      <td>21</td>\n      <td>1</td>\n      <td>6</td>\n      <td>1</td>\n      <td>2</td>\n      <td>0</td>\n      <td>3</td>\n      <td>4</td>\n      <td>5</td>\n      <td>4</td>\n      <td>5</td>\n      <td>NaN</td>\n      <td>5</td>\n      <td>5</td>\n      <td>4</td>\n      <td>4</td>\n      <td>4</td>\n      <td>1</td>\n      <td>4</td>\n      <td>NaN</td>\n      <td>NaN</td>\n      <td>4</td>\n      <td>1</td>\n      <td>1</td>\n      <td>3</td>\n      <td>5</td>\n      <td>5</td>\n      <td>5</td>\n      <td>4</td>\n      <td>1</td>\n      <td>5</td>\n      <td>3</td>\n      <td>5</td>\n      <td>3</td>\n      <td>2</td>\n      <td>4</td>\n      <td>4</td>\n      <td>4</td>\n      <td>4</td>\n      <td>5</td>\n      <td>4</td>\n      <td>4</td>\n      <td>5</td>\n      <td>5</td>\n      <td>5</td>\n      <td>4</td>\n      <td>4</td>\n      <td>1</td>\n      <td>1</td>\n    </tr>\n    <tr>\n      <th>797</th>\n      <td>49</td>\n      <td>1</td>\n      <td>1</td>\n      <td>1</td>\n      <td>23</td>\n      <td>1</td>\n      <td>6</td>\n      <td>1</td>\n      <td>2</td>\n      <td>0</td>\n      <td>3</td>\n      <td>3</td>\n      <td>3</td>\n      <td>5</td>\n      <td>5</td>\n      <td>NaN</td>\n      <td>4</td>\n      <td>4</td>\n      <td>3</td>\n      <td>3</td>\n      <td>3</td>\n      <td>2</td>\n      <td>3</td>\n      <td>3</td>\n      <td>NaN</td>\n      <td>1</td>\n      <td>1</td>\n      <td>3</td>\n      <td>5</td>\n      <td>5</td>\n      <td>3</td>\n      <td>5</td>\n      <td>2</td>\n      <td>3</td>\n      <td>4</td>\n      <td>4</td>\n      <td>4</td>\n      <td>4</td>\n      <td>4</td>\n      <td>4</td>\n      <td>2</td>\n      <td>3</td>\n      <td>4</td>\n      <td>3</td>\n      <td>4</td>\n      <td>4</td>\n      <td>4</td>\n      <td>4</td>\n      <td>4</td>\n      <td>4</td>\n      <td>4</td>\n      <td>1</td>\n      <td>2</td>\n    </tr>\n    <tr>\n      <th>798</th>\n      <td>42</td>\n      <td>1</td>\n      <td>5</td>\n      <td>0</td>\n      <td>19</td>\n      <td>1</td>\n      <td>6</td>\n      <td>2</td>\n      <td>NaN</td>\n      <td>1</td>\n      <td>2</td>\n      <td>2</td>\n      <td>3</td>\n      <td>4</td>\n      <td>3</td>\n      <td>2</td>\n      <td>3</td>\n      <td>3</td>\n      <td>3</td>\n      <td>3</td>\n      <td>3</td>\n      <td>3</td>\n      <td>3</td>\n      <td>2</td>\n      <td>2</td>\n      <td>2</td>\n      <td>3</td>\n      <td>3</td>\n      <td>3</td>\n      <td>3</td>\n      <td>3</td>\n      <td>NaN</td>\n      <td>2</td>\n      <td>2</td>\n      <td>3</td>\n      <td>3</td>\n      <td>3</td>\n      <td>2</td>\n      <td>2</td>\n      <td>2</td>\n      <td>4</td>\n      <td>3</td>\n      <td>3</td>\n      <td>3</td>\n      <td>3</td>\n      <td>2</td>\n      <td>3</td>\n      <td>2</td>\n      <td>2</td>\n      <td>2</td>\n      <td>4</td>\n      <td>1</td>\n      <td>2</td>\n    </tr>\n    <tr>\n      <th>799</th>\n      <td>45</td>\n      <td>1</td>\n      <td>3</td>\n      <td>1</td>\n      <td>20</td>\n      <td>1</td>\n      <td>6</td>\n      <td>1</td>\n      <td>2</td>\n      <td>0</td>\n      <td>2</td>\n      <td>2</td>\n      <td>2</td>\n      <td>4</td>\n      <td>2</td>\n      <td>1</td>\n      <td>2</td>\n      <td>2</td>\n      <td>3</td>\n      <td>3</td>\n      <td>3</td>\n      <td>2</td>\n      <td>2</td>\n      <td>2</td>\n      <td>1</td>\n      <td>1</td>\n      <td>2</td>\n      <td>2</td>\n      <td>2</td>\n      <td>2</td>\n      <td>NaN</td>\n      <td>2</td>\n      <td>1</td>\n      <td>1</td>\n      <td>1</td>\n      <td>1</td>\n      <td>2</td>\n      <td>1</td>\n      <td>1</td>\n      <td>1</td>\n      <td>3</td>\n      <td>3</td>\n      <td>2</td>\n      <td>2</td>\n      <td>2</td>\n      <td>2</td>\n      <td>2</td>\n      <td>2</td>\n      <td>2</td>\n      <td>3</td>\n      <td>4</td>\n      <td>1</td>\n      <td>1</td>\n    </tr>\n  </tbody>\n</table>\n<p>652 rows × 53 columns</p>\n</div>"
     },
     "execution_count": 101,
     "metadata": {},
     "output_type": "execute_result"
    }
   ],
   "source": [
    "data[data['OTHER_POSITION'].notna()]"
   ],
   "metadata": {
    "collapsed": false,
    "pycharm": {
     "name": "#%%\n"
    }
   }
  },
  {
   "cell_type": "code",
   "execution_count": null,
   "outputs": [],
   "source": [
    "data[data['OTHERSTATUS'].notna()]"
   ],
   "metadata": {
    "collapsed": false,
    "pycharm": {
     "name": "#%%\n"
    }
   }
  },
  {
   "cell_type": "code",
   "execution_count": null,
   "outputs": [],
   "source": [
    "data['OTHER_POSITION'].dropna().astype(str).astype(int).describe()\n"
   ],
   "metadata": {
    "collapsed": false,
    "pycharm": {
     "name": "#%%\n"
    }
   }
  },
  {
   "cell_type": "code",
   "execution_count": null,
   "outputs": [],
   "source": [],
   "metadata": {
    "collapsed": false,
    "pycharm": {
     "name": "#%%\n"
    }
   }
  },
  {
   "cell_type": "code",
   "execution_count": null,
   "outputs": [],
   "source": [],
   "metadata": {
    "collapsed": false,
    "pycharm": {
     "name": "#%%\n"
    }
   }
  },
  {
   "cell_type": "code",
   "execution_count": 92,
   "outputs": [
    {
     "data": {
      "text/plain": "     AGE  GENDER DOMAIN  PhD YEARSEXP  UNIVERSITY UOC_POSITION OTHER_POSITION  \\\n148   43       0      6    0        7           1            6              1   \n149   39       0      6    0       15           1            6              1   \n160   43       0      5    1       20           1            6              1   \n164   44       0      1    1       20           1            6              1   \n165   44       0      6    0       20           1            6              1   \n..   ...     ...    ...  ...      ...         ...          ...            ...   \n784   40       1      1    1        9           1            6              1   \n785   27       1      6    0        4           1            6              1   \n786   49       1      1    0        0           1            6              1   \n789   63       1      6    1       36           1            6              1   \n792   50       1      6    1       19           1            6              1   \n\n    OTHERSTATUS USERWIKI PU1 PU2 PU3 PEU1 PEU2 PEU3 ENJ1 ENJ2 Qu1 Qu2 Qu3 Qu4  \\\n148           7        0   5   5   5    5    4    4    5    4   4   4   4   4   \n149           3        0   3   2   2    4    4    2    2    3   3   3   3   3   \n160           2        0   2   2   1    4    3    3    2    3   2   2   2   4   \n164           2        0   3   4   4    4    4    2    5    4   4   3   3   3   \n165           7        0   4   4   3    5    5    4    4    4   3   4   2   3   \n..          ...      ...  ..  ..  ..  ...  ...  ...  ...  ...  ..  ..  ..  ..   \n784           2        0   3   3   4    5    5    3    3    4   3   3   3   3   \n785           7        0   1   1   1    5    5    5    1    5   3   2   3   2   \n786           3        0   2   2   3    4    3    3    2    3   2   2   2   2   \n789           2        0   4   4   4    4    4    3    4    4   4   4   3   2   \n792           2        1   2   3   3    2    4    2    3    2   2   2   2   4   \n\n    Qu5 Vis1 Vis2 Vis3 Im1 Im2 Im3 SA1 SA2 SA3 Use1 Use2 Use3 Use4 Use5 Pf1  \\\n148   4    5    3    4   4   5   5   4   5   5    3    4    5    5    4   3   \n149   2    2    3    2   2   4   2   4   4   3    1    1    2    2    3   1   \n160   1    2    3    1   1   3   1   3   4   3    1    1    1    1    2   2   \n164   3    3    3    1   2   2   2   3   2   3    1    1    3    2    4   1   \n165   3    2    4    1   3   4   5   5   5   5    1    1    3    3    4   2   \n..   ..  ...  ...  ...  ..  ..  ..  ..  ..  ..  ...  ...  ...  ...  ...  ..   \n784   3    3    3    2   2   3   3   5   5   5    3    3    3    3    4   1   \n785   4    1    5    1   1   4   1   5   5   5    3    1    1    1    1   3   \n786   2    2    2    1   2   2   2   5   5   5    1    1    2    2    3   1   \n789   3    3    3    3   3   3   3   4   4   4    1    1    4    4    4   1   \n792   2    2    2    1   2   2   3   4   4   4    2    1    2    1    5   2   \n\n    Pf2 Pf3 JR1 JR2 BI1 BI2 Inc1 Inc2 Inc3 Inc4 Exp1 Exp2 Exp3 Exp4 Exp5  \n148   3   4   5   3   4   4    4    4    4    4    4    5    5    2    4  \n149   1   2   2   2   2   3    4    4    3    4    2    3    4    1    2  \n160   2   2   3   2   1   1    1    1    1    1    1    2    3    1    1  \n164   1   1   3   3   3   3    3    5    3    3    2    3    1    1    1  \n165   3   3   5   4   3   3    4    4    5    3    4    4    4    2    3  \n..   ..  ..  ..  ..  ..  ..  ...  ...  ...  ...  ...  ...  ...  ...  ...  \n784   3   3   3   3   4   4    5    5    3    5    3    3    3    1    1  \n785   4   3   5   5   1   1    4    3    4    2    3    3    3    1    1  \n786   3   3   3   3   2   2    3    4    5    5    2    2    2    2    2  \n789   2   1   3   3   3   3    3    3    3    3    3    3    4    1    1  \n792   2   3   5   4   1   2    4    4    4    4    1    3    2    1    3  \n\n[176 rows x 53 columns]",
      "text/html": "<div>\n<style scoped>\n    .dataframe tbody tr th:only-of-type {\n        vertical-align: middle;\n    }\n\n    .dataframe tbody tr th {\n        vertical-align: top;\n    }\n\n    .dataframe thead th {\n        text-align: right;\n    }\n</style>\n<table border=\"1\" class=\"dataframe\">\n  <thead>\n    <tr style=\"text-align: right;\">\n      <th></th>\n      <th>AGE</th>\n      <th>GENDER</th>\n      <th>DOMAIN</th>\n      <th>PhD</th>\n      <th>YEARSEXP</th>\n      <th>UNIVERSITY</th>\n      <th>UOC_POSITION</th>\n      <th>OTHER_POSITION</th>\n      <th>OTHERSTATUS</th>\n      <th>USERWIKI</th>\n      <th>PU1</th>\n      <th>PU2</th>\n      <th>PU3</th>\n      <th>PEU1</th>\n      <th>PEU2</th>\n      <th>PEU3</th>\n      <th>ENJ1</th>\n      <th>ENJ2</th>\n      <th>Qu1</th>\n      <th>Qu2</th>\n      <th>Qu3</th>\n      <th>Qu4</th>\n      <th>Qu5</th>\n      <th>Vis1</th>\n      <th>Vis2</th>\n      <th>Vis3</th>\n      <th>Im1</th>\n      <th>Im2</th>\n      <th>Im3</th>\n      <th>SA1</th>\n      <th>SA2</th>\n      <th>SA3</th>\n      <th>Use1</th>\n      <th>Use2</th>\n      <th>Use3</th>\n      <th>Use4</th>\n      <th>Use5</th>\n      <th>Pf1</th>\n      <th>Pf2</th>\n      <th>Pf3</th>\n      <th>JR1</th>\n      <th>JR2</th>\n      <th>BI1</th>\n      <th>BI2</th>\n      <th>Inc1</th>\n      <th>Inc2</th>\n      <th>Inc3</th>\n      <th>Inc4</th>\n      <th>Exp1</th>\n      <th>Exp2</th>\n      <th>Exp3</th>\n      <th>Exp4</th>\n      <th>Exp5</th>\n    </tr>\n  </thead>\n  <tbody>\n    <tr>\n      <th>148</th>\n      <td>43</td>\n      <td>0</td>\n      <td>6</td>\n      <td>0</td>\n      <td>7</td>\n      <td>1</td>\n      <td>6</td>\n      <td>1</td>\n      <td>7</td>\n      <td>0</td>\n      <td>5</td>\n      <td>5</td>\n      <td>5</td>\n      <td>5</td>\n      <td>4</td>\n      <td>4</td>\n      <td>5</td>\n      <td>4</td>\n      <td>4</td>\n      <td>4</td>\n      <td>4</td>\n      <td>4</td>\n      <td>4</td>\n      <td>5</td>\n      <td>3</td>\n      <td>4</td>\n      <td>4</td>\n      <td>5</td>\n      <td>5</td>\n      <td>4</td>\n      <td>5</td>\n      <td>5</td>\n      <td>3</td>\n      <td>4</td>\n      <td>5</td>\n      <td>5</td>\n      <td>4</td>\n      <td>3</td>\n      <td>3</td>\n      <td>4</td>\n      <td>5</td>\n      <td>3</td>\n      <td>4</td>\n      <td>4</td>\n      <td>4</td>\n      <td>4</td>\n      <td>4</td>\n      <td>4</td>\n      <td>4</td>\n      <td>5</td>\n      <td>5</td>\n      <td>2</td>\n      <td>4</td>\n    </tr>\n    <tr>\n      <th>149</th>\n      <td>39</td>\n      <td>0</td>\n      <td>6</td>\n      <td>0</td>\n      <td>15</td>\n      <td>1</td>\n      <td>6</td>\n      <td>1</td>\n      <td>3</td>\n      <td>0</td>\n      <td>3</td>\n      <td>2</td>\n      <td>2</td>\n      <td>4</td>\n      <td>4</td>\n      <td>2</td>\n      <td>2</td>\n      <td>3</td>\n      <td>3</td>\n      <td>3</td>\n      <td>3</td>\n      <td>3</td>\n      <td>2</td>\n      <td>2</td>\n      <td>3</td>\n      <td>2</td>\n      <td>2</td>\n      <td>4</td>\n      <td>2</td>\n      <td>4</td>\n      <td>4</td>\n      <td>3</td>\n      <td>1</td>\n      <td>1</td>\n      <td>2</td>\n      <td>2</td>\n      <td>3</td>\n      <td>1</td>\n      <td>1</td>\n      <td>2</td>\n      <td>2</td>\n      <td>2</td>\n      <td>2</td>\n      <td>3</td>\n      <td>4</td>\n      <td>4</td>\n      <td>3</td>\n      <td>4</td>\n      <td>2</td>\n      <td>3</td>\n      <td>4</td>\n      <td>1</td>\n      <td>2</td>\n    </tr>\n    <tr>\n      <th>160</th>\n      <td>43</td>\n      <td>0</td>\n      <td>5</td>\n      <td>1</td>\n      <td>20</td>\n      <td>1</td>\n      <td>6</td>\n      <td>1</td>\n      <td>2</td>\n      <td>0</td>\n      <td>2</td>\n      <td>2</td>\n      <td>1</td>\n      <td>4</td>\n      <td>3</td>\n      <td>3</td>\n      <td>2</td>\n      <td>3</td>\n      <td>2</td>\n      <td>2</td>\n      <td>2</td>\n      <td>4</td>\n      <td>1</td>\n      <td>2</td>\n      <td>3</td>\n      <td>1</td>\n      <td>1</td>\n      <td>3</td>\n      <td>1</td>\n      <td>3</td>\n      <td>4</td>\n      <td>3</td>\n      <td>1</td>\n      <td>1</td>\n      <td>1</td>\n      <td>1</td>\n      <td>2</td>\n      <td>2</td>\n      <td>2</td>\n      <td>2</td>\n      <td>3</td>\n      <td>2</td>\n      <td>1</td>\n      <td>1</td>\n      <td>1</td>\n      <td>1</td>\n      <td>1</td>\n      <td>1</td>\n      <td>1</td>\n      <td>2</td>\n      <td>3</td>\n      <td>1</td>\n      <td>1</td>\n    </tr>\n    <tr>\n      <th>164</th>\n      <td>44</td>\n      <td>0</td>\n      <td>1</td>\n      <td>1</td>\n      <td>20</td>\n      <td>1</td>\n      <td>6</td>\n      <td>1</td>\n      <td>2</td>\n      <td>0</td>\n      <td>3</td>\n      <td>4</td>\n      <td>4</td>\n      <td>4</td>\n      <td>4</td>\n      <td>2</td>\n      <td>5</td>\n      <td>4</td>\n      <td>4</td>\n      <td>3</td>\n      <td>3</td>\n      <td>3</td>\n      <td>3</td>\n      <td>3</td>\n      <td>3</td>\n      <td>1</td>\n      <td>2</td>\n      <td>2</td>\n      <td>2</td>\n      <td>3</td>\n      <td>2</td>\n      <td>3</td>\n      <td>1</td>\n      <td>1</td>\n      <td>3</td>\n      <td>2</td>\n      <td>4</td>\n      <td>1</td>\n      <td>1</td>\n      <td>1</td>\n      <td>3</td>\n      <td>3</td>\n      <td>3</td>\n      <td>3</td>\n      <td>3</td>\n      <td>5</td>\n      <td>3</td>\n      <td>3</td>\n      <td>2</td>\n      <td>3</td>\n      <td>1</td>\n      <td>1</td>\n      <td>1</td>\n    </tr>\n    <tr>\n      <th>165</th>\n      <td>44</td>\n      <td>0</td>\n      <td>6</td>\n      <td>0</td>\n      <td>20</td>\n      <td>1</td>\n      <td>6</td>\n      <td>1</td>\n      <td>7</td>\n      <td>0</td>\n      <td>4</td>\n      <td>4</td>\n      <td>3</td>\n      <td>5</td>\n      <td>5</td>\n      <td>4</td>\n      <td>4</td>\n      <td>4</td>\n      <td>3</td>\n      <td>4</td>\n      <td>2</td>\n      <td>3</td>\n      <td>3</td>\n      <td>2</td>\n      <td>4</td>\n      <td>1</td>\n      <td>3</td>\n      <td>4</td>\n      <td>5</td>\n      <td>5</td>\n      <td>5</td>\n      <td>5</td>\n      <td>1</td>\n      <td>1</td>\n      <td>3</td>\n      <td>3</td>\n      <td>4</td>\n      <td>2</td>\n      <td>3</td>\n      <td>3</td>\n      <td>5</td>\n      <td>4</td>\n      <td>3</td>\n      <td>3</td>\n      <td>4</td>\n      <td>4</td>\n      <td>5</td>\n      <td>3</td>\n      <td>4</td>\n      <td>4</td>\n      <td>4</td>\n      <td>2</td>\n      <td>3</td>\n    </tr>\n    <tr>\n      <th>...</th>\n      <td>...</td>\n      <td>...</td>\n      <td>...</td>\n      <td>...</td>\n      <td>...</td>\n      <td>...</td>\n      <td>...</td>\n      <td>...</td>\n      <td>...</td>\n      <td>...</td>\n      <td>...</td>\n      <td>...</td>\n      <td>...</td>\n      <td>...</td>\n      <td>...</td>\n      <td>...</td>\n      <td>...</td>\n      <td>...</td>\n      <td>...</td>\n      <td>...</td>\n      <td>...</td>\n      <td>...</td>\n      <td>...</td>\n      <td>...</td>\n      <td>...</td>\n      <td>...</td>\n      <td>...</td>\n      <td>...</td>\n      <td>...</td>\n      <td>...</td>\n      <td>...</td>\n      <td>...</td>\n      <td>...</td>\n      <td>...</td>\n      <td>...</td>\n      <td>...</td>\n      <td>...</td>\n      <td>...</td>\n      <td>...</td>\n      <td>...</td>\n      <td>...</td>\n      <td>...</td>\n      <td>...</td>\n      <td>...</td>\n      <td>...</td>\n      <td>...</td>\n      <td>...</td>\n      <td>...</td>\n      <td>...</td>\n      <td>...</td>\n      <td>...</td>\n      <td>...</td>\n      <td>...</td>\n    </tr>\n    <tr>\n      <th>784</th>\n      <td>40</td>\n      <td>1</td>\n      <td>1</td>\n      <td>1</td>\n      <td>9</td>\n      <td>1</td>\n      <td>6</td>\n      <td>1</td>\n      <td>2</td>\n      <td>0</td>\n      <td>3</td>\n      <td>3</td>\n      <td>4</td>\n      <td>5</td>\n      <td>5</td>\n      <td>3</td>\n      <td>3</td>\n      <td>4</td>\n      <td>3</td>\n      <td>3</td>\n      <td>3</td>\n      <td>3</td>\n      <td>3</td>\n      <td>3</td>\n      <td>3</td>\n      <td>2</td>\n      <td>2</td>\n      <td>3</td>\n      <td>3</td>\n      <td>5</td>\n      <td>5</td>\n      <td>5</td>\n      <td>3</td>\n      <td>3</td>\n      <td>3</td>\n      <td>3</td>\n      <td>4</td>\n      <td>1</td>\n      <td>3</td>\n      <td>3</td>\n      <td>3</td>\n      <td>3</td>\n      <td>4</td>\n      <td>4</td>\n      <td>5</td>\n      <td>5</td>\n      <td>3</td>\n      <td>5</td>\n      <td>3</td>\n      <td>3</td>\n      <td>3</td>\n      <td>1</td>\n      <td>1</td>\n    </tr>\n    <tr>\n      <th>785</th>\n      <td>27</td>\n      <td>1</td>\n      <td>6</td>\n      <td>0</td>\n      <td>4</td>\n      <td>1</td>\n      <td>6</td>\n      <td>1</td>\n      <td>7</td>\n      <td>0</td>\n      <td>1</td>\n      <td>1</td>\n      <td>1</td>\n      <td>5</td>\n      <td>5</td>\n      <td>5</td>\n      <td>1</td>\n      <td>5</td>\n      <td>3</td>\n      <td>2</td>\n      <td>3</td>\n      <td>2</td>\n      <td>4</td>\n      <td>1</td>\n      <td>5</td>\n      <td>1</td>\n      <td>1</td>\n      <td>4</td>\n      <td>1</td>\n      <td>5</td>\n      <td>5</td>\n      <td>5</td>\n      <td>3</td>\n      <td>1</td>\n      <td>1</td>\n      <td>1</td>\n      <td>1</td>\n      <td>3</td>\n      <td>4</td>\n      <td>3</td>\n      <td>5</td>\n      <td>5</td>\n      <td>1</td>\n      <td>1</td>\n      <td>4</td>\n      <td>3</td>\n      <td>4</td>\n      <td>2</td>\n      <td>3</td>\n      <td>3</td>\n      <td>3</td>\n      <td>1</td>\n      <td>1</td>\n    </tr>\n    <tr>\n      <th>786</th>\n      <td>49</td>\n      <td>1</td>\n      <td>1</td>\n      <td>0</td>\n      <td>0</td>\n      <td>1</td>\n      <td>6</td>\n      <td>1</td>\n      <td>3</td>\n      <td>0</td>\n      <td>2</td>\n      <td>2</td>\n      <td>3</td>\n      <td>4</td>\n      <td>3</td>\n      <td>3</td>\n      <td>2</td>\n      <td>3</td>\n      <td>2</td>\n      <td>2</td>\n      <td>2</td>\n      <td>2</td>\n      <td>2</td>\n      <td>2</td>\n      <td>2</td>\n      <td>1</td>\n      <td>2</td>\n      <td>2</td>\n      <td>2</td>\n      <td>5</td>\n      <td>5</td>\n      <td>5</td>\n      <td>1</td>\n      <td>1</td>\n      <td>2</td>\n      <td>2</td>\n      <td>3</td>\n      <td>1</td>\n      <td>3</td>\n      <td>3</td>\n      <td>3</td>\n      <td>3</td>\n      <td>2</td>\n      <td>2</td>\n      <td>3</td>\n      <td>4</td>\n      <td>5</td>\n      <td>5</td>\n      <td>2</td>\n      <td>2</td>\n      <td>2</td>\n      <td>2</td>\n      <td>2</td>\n    </tr>\n    <tr>\n      <th>789</th>\n      <td>63</td>\n      <td>1</td>\n      <td>6</td>\n      <td>1</td>\n      <td>36</td>\n      <td>1</td>\n      <td>6</td>\n      <td>1</td>\n      <td>2</td>\n      <td>0</td>\n      <td>4</td>\n      <td>4</td>\n      <td>4</td>\n      <td>4</td>\n      <td>4</td>\n      <td>3</td>\n      <td>4</td>\n      <td>4</td>\n      <td>4</td>\n      <td>4</td>\n      <td>3</td>\n      <td>2</td>\n      <td>3</td>\n      <td>3</td>\n      <td>3</td>\n      <td>3</td>\n      <td>3</td>\n      <td>3</td>\n      <td>3</td>\n      <td>4</td>\n      <td>4</td>\n      <td>4</td>\n      <td>1</td>\n      <td>1</td>\n      <td>4</td>\n      <td>4</td>\n      <td>4</td>\n      <td>1</td>\n      <td>2</td>\n      <td>1</td>\n      <td>3</td>\n      <td>3</td>\n      <td>3</td>\n      <td>3</td>\n      <td>3</td>\n      <td>3</td>\n      <td>3</td>\n      <td>3</td>\n      <td>3</td>\n      <td>3</td>\n      <td>4</td>\n      <td>1</td>\n      <td>1</td>\n    </tr>\n    <tr>\n      <th>792</th>\n      <td>50</td>\n      <td>1</td>\n      <td>6</td>\n      <td>1</td>\n      <td>19</td>\n      <td>1</td>\n      <td>6</td>\n      <td>1</td>\n      <td>2</td>\n      <td>1</td>\n      <td>2</td>\n      <td>3</td>\n      <td>3</td>\n      <td>2</td>\n      <td>4</td>\n      <td>2</td>\n      <td>3</td>\n      <td>2</td>\n      <td>2</td>\n      <td>2</td>\n      <td>2</td>\n      <td>4</td>\n      <td>2</td>\n      <td>2</td>\n      <td>2</td>\n      <td>1</td>\n      <td>2</td>\n      <td>2</td>\n      <td>3</td>\n      <td>4</td>\n      <td>4</td>\n      <td>4</td>\n      <td>2</td>\n      <td>1</td>\n      <td>2</td>\n      <td>1</td>\n      <td>5</td>\n      <td>2</td>\n      <td>2</td>\n      <td>3</td>\n      <td>5</td>\n      <td>4</td>\n      <td>1</td>\n      <td>2</td>\n      <td>4</td>\n      <td>4</td>\n      <td>4</td>\n      <td>4</td>\n      <td>1</td>\n      <td>3</td>\n      <td>2</td>\n      <td>1</td>\n      <td>3</td>\n    </tr>\n  </tbody>\n</table>\n<p>176 rows × 53 columns</p>\n</div>"
     },
     "execution_count": 92,
     "metadata": {},
     "output_type": "execute_result"
    }
   ],
   "source": [
    "# lo mostro soltanto, per vedere quante sono le righe complete\n",
    "data.dropna()"
   ],
   "metadata": {
    "collapsed": false,
    "pycharm": {
     "name": "#%%\n"
    }
   }
  },
  {
   "cell_type": "code",
   "execution_count": 93,
   "outputs": [
    {
     "data": {
      "text/plain": "     AGE  GENDER DOMAIN  PhD YEARSEXP  UNIVERSITY UOC_POSITION OTHER_POSITION  \\\n0     40       0      2    1       14           1            2            NaN   \n1     42       0      5    1       18           1            2            NaN   \n2     37       0      4    1       13           1            3            NaN   \n3     40       0      4    0       13           1            3            NaN   \n4     51       0      6    0        8           1            3            NaN   \n..   ...     ...    ...  ...      ...         ...          ...            ...   \n908   43       0      5    1       21           2          NaN            NaN   \n909   53       0      6    0       25           2          NaN            NaN   \n910   39       0      5    1        9           2          NaN            NaN   \n911   40       0      3    1       10           2          NaN            NaN   \n912   41       1      3    1       12           2          NaN            NaN   \n\n    OTHERSTATUS USERWIKI PU1 PU2 PU3 PEU1 PEU2 PEU3 ENJ1 ENJ2 Qu1 Qu2 Qu3 Qu4  \\\n0           NaN        0   4   4   3    5    5    3    4    4   3   3   2   2   \n1           NaN        0   2   3   3    4    4    3    3    4   4   4   3   3   \n2           NaN        0   2   2   2    4    4    3    3    3   2   2   2   5   \n3           NaN        0   3   3   4    3    3    3    4    3   3   4   3   3   \n4           NaN        1   4   3   5    5    4    3    4    4   4   5   4   3   \n..          ...      ...  ..  ..  ..  ...  ...  ...  ...  ...  ..  ..  ..  ..   \n908           2        0   3   3   3    5    5    2    4    5   3   3   4   5   \n909           6        0   3   3   4    5    4    3    4    4   4   4   4   3   \n910           4        0   3   3   3    5    4    3    3    4   3   3   2   5   \n911           2        0   3   3   5    5    4    2    4    4   4   4   3   2   \n912           2        0   3   4   3    5    5  NaN    4    4   3   3   3   2   \n\n    Qu5 Vis1 Vis2 Vis3 Im1  Im2  Im3  SA1 SA2 SA3 Use1 Use2 Use3 Use4 Use5  \\\n0     3    3    3    1   2    4    2    4   4   4    3    1    1    2    4   \n1     2    3    3    1   1    2    1    4   4   4    2    2    1    1    2   \n2     3    2    3    2   2    4    3    4   2   4    1    1    1    1    1   \n3     3    3    4    3   2    2    3    5   5   5    3    3    3    3    3   \n4     4    4    4    4   3    2    3    5   5   5    3    3    5    5    5   \n..   ..  ...  ...  ...  ..  ...  ...  ...  ..  ..  ...  ...  ...  ...  ...   \n908   2    2    2    1   2    2    2    3   3   4  NaN  NaN    2    2    2   \n909   3    2    3    3   2  NaN    2  NaN   4   5    3    2    3    3    5   \n910   2    2    4    1   1    2  NaN    4   5   4    3    1    1    1    3   \n911   5    3    2    5   4    5    4    5   5   5    3    1    5    5  NaN   \n912   3    2    3    1   3    5    4    4   4   4    2    1    3    3    3   \n\n    Pf1 Pf2 Pf3 JR1 JR2 BI1 BI2 Inc1 Inc2 Inc3 Inc4 Exp1 Exp2 Exp3 Exp4 Exp5  \n0     1   1   3   4   1   2   3    5    5    5    5    4    4    4    1    2  \n1     1   1   1   4   3   2   2    4    4    3    4    2    2    4    2    4  \n2     3   3   3   4   3   1   1    5    3    5    5    2    2    2    1    3  \n3     4   4   4   5   4   3   3    3    4    4    3    4    4    3    3    4  \n4     5   5   5   3   3   5   5    5    5    4    4    5    5    5    4    4  \n..   ..  ..  ..  ..  ..  ..  ..  ...  ...  ...  ...  ...  ...  ...  ...  ...  \n908   1   2   1   5   4   2   2    2    2    2    2  NaN  NaN  NaN  NaN  NaN  \n909   2   2   4   3   3   4   4    4    3    3    4    4    4    4    1    1  \n910   5   5   3   3   1   2   2    5    4    3  NaN    5    5    5    4    1  \n911   1   2   4   4   2   5   5    1    5    2    2    4    4    2    1    1  \n912   1   1   4   4   4   3   3    3  NaN    3    3    2    3    3    1    1  \n\n[737 rows x 53 columns]",
      "text/html": "<div>\n<style scoped>\n    .dataframe tbody tr th:only-of-type {\n        vertical-align: middle;\n    }\n\n    .dataframe tbody tr th {\n        vertical-align: top;\n    }\n\n    .dataframe thead th {\n        text-align: right;\n    }\n</style>\n<table border=\"1\" class=\"dataframe\">\n  <thead>\n    <tr style=\"text-align: right;\">\n      <th></th>\n      <th>AGE</th>\n      <th>GENDER</th>\n      <th>DOMAIN</th>\n      <th>PhD</th>\n      <th>YEARSEXP</th>\n      <th>UNIVERSITY</th>\n      <th>UOC_POSITION</th>\n      <th>OTHER_POSITION</th>\n      <th>OTHERSTATUS</th>\n      <th>USERWIKI</th>\n      <th>PU1</th>\n      <th>PU2</th>\n      <th>PU3</th>\n      <th>PEU1</th>\n      <th>PEU2</th>\n      <th>PEU3</th>\n      <th>ENJ1</th>\n      <th>ENJ2</th>\n      <th>Qu1</th>\n      <th>Qu2</th>\n      <th>Qu3</th>\n      <th>Qu4</th>\n      <th>Qu5</th>\n      <th>Vis1</th>\n      <th>Vis2</th>\n      <th>Vis3</th>\n      <th>Im1</th>\n      <th>Im2</th>\n      <th>Im3</th>\n      <th>SA1</th>\n      <th>SA2</th>\n      <th>SA3</th>\n      <th>Use1</th>\n      <th>Use2</th>\n      <th>Use3</th>\n      <th>Use4</th>\n      <th>Use5</th>\n      <th>Pf1</th>\n      <th>Pf2</th>\n      <th>Pf3</th>\n      <th>JR1</th>\n      <th>JR2</th>\n      <th>BI1</th>\n      <th>BI2</th>\n      <th>Inc1</th>\n      <th>Inc2</th>\n      <th>Inc3</th>\n      <th>Inc4</th>\n      <th>Exp1</th>\n      <th>Exp2</th>\n      <th>Exp3</th>\n      <th>Exp4</th>\n      <th>Exp5</th>\n    </tr>\n  </thead>\n  <tbody>\n    <tr>\n      <th>0</th>\n      <td>40</td>\n      <td>0</td>\n      <td>2</td>\n      <td>1</td>\n      <td>14</td>\n      <td>1</td>\n      <td>2</td>\n      <td>NaN</td>\n      <td>NaN</td>\n      <td>0</td>\n      <td>4</td>\n      <td>4</td>\n      <td>3</td>\n      <td>5</td>\n      <td>5</td>\n      <td>3</td>\n      <td>4</td>\n      <td>4</td>\n      <td>3</td>\n      <td>3</td>\n      <td>2</td>\n      <td>2</td>\n      <td>3</td>\n      <td>3</td>\n      <td>3</td>\n      <td>1</td>\n      <td>2</td>\n      <td>4</td>\n      <td>2</td>\n      <td>4</td>\n      <td>4</td>\n      <td>4</td>\n      <td>3</td>\n      <td>1</td>\n      <td>1</td>\n      <td>2</td>\n      <td>4</td>\n      <td>1</td>\n      <td>1</td>\n      <td>3</td>\n      <td>4</td>\n      <td>1</td>\n      <td>2</td>\n      <td>3</td>\n      <td>5</td>\n      <td>5</td>\n      <td>5</td>\n      <td>5</td>\n      <td>4</td>\n      <td>4</td>\n      <td>4</td>\n      <td>1</td>\n      <td>2</td>\n    </tr>\n    <tr>\n      <th>1</th>\n      <td>42</td>\n      <td>0</td>\n      <td>5</td>\n      <td>1</td>\n      <td>18</td>\n      <td>1</td>\n      <td>2</td>\n      <td>NaN</td>\n      <td>NaN</td>\n      <td>0</td>\n      <td>2</td>\n      <td>3</td>\n      <td>3</td>\n      <td>4</td>\n      <td>4</td>\n      <td>3</td>\n      <td>3</td>\n      <td>4</td>\n      <td>4</td>\n      <td>4</td>\n      <td>3</td>\n      <td>3</td>\n      <td>2</td>\n      <td>3</td>\n      <td>3</td>\n      <td>1</td>\n      <td>1</td>\n      <td>2</td>\n      <td>1</td>\n      <td>4</td>\n      <td>4</td>\n      <td>4</td>\n      <td>2</td>\n      <td>2</td>\n      <td>1</td>\n      <td>1</td>\n      <td>2</td>\n      <td>1</td>\n      <td>1</td>\n      <td>1</td>\n      <td>4</td>\n      <td>3</td>\n      <td>2</td>\n      <td>2</td>\n      <td>4</td>\n      <td>4</td>\n      <td>3</td>\n      <td>4</td>\n      <td>2</td>\n      <td>2</td>\n      <td>4</td>\n      <td>2</td>\n      <td>4</td>\n    </tr>\n    <tr>\n      <th>2</th>\n      <td>37</td>\n      <td>0</td>\n      <td>4</td>\n      <td>1</td>\n      <td>13</td>\n      <td>1</td>\n      <td>3</td>\n      <td>NaN</td>\n      <td>NaN</td>\n      <td>0</td>\n      <td>2</td>\n      <td>2</td>\n      <td>2</td>\n      <td>4</td>\n      <td>4</td>\n      <td>3</td>\n      <td>3</td>\n      <td>3</td>\n      <td>2</td>\n      <td>2</td>\n      <td>2</td>\n      <td>5</td>\n      <td>3</td>\n      <td>2</td>\n      <td>3</td>\n      <td>2</td>\n      <td>2</td>\n      <td>4</td>\n      <td>3</td>\n      <td>4</td>\n      <td>2</td>\n      <td>4</td>\n      <td>1</td>\n      <td>1</td>\n      <td>1</td>\n      <td>1</td>\n      <td>1</td>\n      <td>3</td>\n      <td>3</td>\n      <td>3</td>\n      <td>4</td>\n      <td>3</td>\n      <td>1</td>\n      <td>1</td>\n      <td>5</td>\n      <td>3</td>\n      <td>5</td>\n      <td>5</td>\n      <td>2</td>\n      <td>2</td>\n      <td>2</td>\n      <td>1</td>\n      <td>3</td>\n    </tr>\n    <tr>\n      <th>3</th>\n      <td>40</td>\n      <td>0</td>\n      <td>4</td>\n      <td>0</td>\n      <td>13</td>\n      <td>1</td>\n      <td>3</td>\n      <td>NaN</td>\n      <td>NaN</td>\n      <td>0</td>\n      <td>3</td>\n      <td>3</td>\n      <td>4</td>\n      <td>3</td>\n      <td>3</td>\n      <td>3</td>\n      <td>4</td>\n      <td>3</td>\n      <td>3</td>\n      <td>4</td>\n      <td>3</td>\n      <td>3</td>\n      <td>3</td>\n      <td>3</td>\n      <td>4</td>\n      <td>3</td>\n      <td>2</td>\n      <td>2</td>\n      <td>3</td>\n      <td>5</td>\n      <td>5</td>\n      <td>5</td>\n      <td>3</td>\n      <td>3</td>\n      <td>3</td>\n      <td>3</td>\n      <td>3</td>\n      <td>4</td>\n      <td>4</td>\n      <td>4</td>\n      <td>5</td>\n      <td>4</td>\n      <td>3</td>\n      <td>3</td>\n      <td>3</td>\n      <td>4</td>\n      <td>4</td>\n      <td>3</td>\n      <td>4</td>\n      <td>4</td>\n      <td>3</td>\n      <td>3</td>\n      <td>4</td>\n    </tr>\n    <tr>\n      <th>4</th>\n      <td>51</td>\n      <td>0</td>\n      <td>6</td>\n      <td>0</td>\n      <td>8</td>\n      <td>1</td>\n      <td>3</td>\n      <td>NaN</td>\n      <td>NaN</td>\n      <td>1</td>\n      <td>4</td>\n      <td>3</td>\n      <td>5</td>\n      <td>5</td>\n      <td>4</td>\n      <td>3</td>\n      <td>4</td>\n      <td>4</td>\n      <td>4</td>\n      <td>5</td>\n      <td>4</td>\n      <td>3</td>\n      <td>4</td>\n      <td>4</td>\n      <td>4</td>\n      <td>4</td>\n      <td>3</td>\n      <td>2</td>\n      <td>3</td>\n      <td>5</td>\n      <td>5</td>\n      <td>5</td>\n      <td>3</td>\n      <td>3</td>\n      <td>5</td>\n      <td>5</td>\n      <td>5</td>\n      <td>5</td>\n      <td>5</td>\n      <td>5</td>\n      <td>3</td>\n      <td>3</td>\n      <td>5</td>\n      <td>5</td>\n      <td>5</td>\n      <td>5</td>\n      <td>4</td>\n      <td>4</td>\n      <td>5</td>\n      <td>5</td>\n      <td>5</td>\n      <td>4</td>\n      <td>4</td>\n    </tr>\n    <tr>\n      <th>...</th>\n      <td>...</td>\n      <td>...</td>\n      <td>...</td>\n      <td>...</td>\n      <td>...</td>\n      <td>...</td>\n      <td>...</td>\n      <td>...</td>\n      <td>...</td>\n      <td>...</td>\n      <td>...</td>\n      <td>...</td>\n      <td>...</td>\n      <td>...</td>\n      <td>...</td>\n      <td>...</td>\n      <td>...</td>\n      <td>...</td>\n      <td>...</td>\n      <td>...</td>\n      <td>...</td>\n      <td>...</td>\n      <td>...</td>\n      <td>...</td>\n      <td>...</td>\n      <td>...</td>\n      <td>...</td>\n      <td>...</td>\n      <td>...</td>\n      <td>...</td>\n      <td>...</td>\n      <td>...</td>\n      <td>...</td>\n      <td>...</td>\n      <td>...</td>\n      <td>...</td>\n      <td>...</td>\n      <td>...</td>\n      <td>...</td>\n      <td>...</td>\n      <td>...</td>\n      <td>...</td>\n      <td>...</td>\n      <td>...</td>\n      <td>...</td>\n      <td>...</td>\n      <td>...</td>\n      <td>...</td>\n      <td>...</td>\n      <td>...</td>\n      <td>...</td>\n      <td>...</td>\n      <td>...</td>\n    </tr>\n    <tr>\n      <th>908</th>\n      <td>43</td>\n      <td>0</td>\n      <td>5</td>\n      <td>1</td>\n      <td>21</td>\n      <td>2</td>\n      <td>NaN</td>\n      <td>NaN</td>\n      <td>2</td>\n      <td>0</td>\n      <td>3</td>\n      <td>3</td>\n      <td>3</td>\n      <td>5</td>\n      <td>5</td>\n      <td>2</td>\n      <td>4</td>\n      <td>5</td>\n      <td>3</td>\n      <td>3</td>\n      <td>4</td>\n      <td>5</td>\n      <td>2</td>\n      <td>2</td>\n      <td>2</td>\n      <td>1</td>\n      <td>2</td>\n      <td>2</td>\n      <td>2</td>\n      <td>3</td>\n      <td>3</td>\n      <td>4</td>\n      <td>NaN</td>\n      <td>NaN</td>\n      <td>2</td>\n      <td>2</td>\n      <td>2</td>\n      <td>1</td>\n      <td>2</td>\n      <td>1</td>\n      <td>5</td>\n      <td>4</td>\n      <td>2</td>\n      <td>2</td>\n      <td>2</td>\n      <td>2</td>\n      <td>2</td>\n      <td>2</td>\n      <td>NaN</td>\n      <td>NaN</td>\n      <td>NaN</td>\n      <td>NaN</td>\n      <td>NaN</td>\n    </tr>\n    <tr>\n      <th>909</th>\n      <td>53</td>\n      <td>0</td>\n      <td>6</td>\n      <td>0</td>\n      <td>25</td>\n      <td>2</td>\n      <td>NaN</td>\n      <td>NaN</td>\n      <td>6</td>\n      <td>0</td>\n      <td>3</td>\n      <td>3</td>\n      <td>4</td>\n      <td>5</td>\n      <td>4</td>\n      <td>3</td>\n      <td>4</td>\n      <td>4</td>\n      <td>4</td>\n      <td>4</td>\n      <td>4</td>\n      <td>3</td>\n      <td>3</td>\n      <td>2</td>\n      <td>3</td>\n      <td>3</td>\n      <td>2</td>\n      <td>NaN</td>\n      <td>2</td>\n      <td>NaN</td>\n      <td>4</td>\n      <td>5</td>\n      <td>3</td>\n      <td>2</td>\n      <td>3</td>\n      <td>3</td>\n      <td>5</td>\n      <td>2</td>\n      <td>2</td>\n      <td>4</td>\n      <td>3</td>\n      <td>3</td>\n      <td>4</td>\n      <td>4</td>\n      <td>4</td>\n      <td>3</td>\n      <td>3</td>\n      <td>4</td>\n      <td>4</td>\n      <td>4</td>\n      <td>4</td>\n      <td>1</td>\n      <td>1</td>\n    </tr>\n    <tr>\n      <th>910</th>\n      <td>39</td>\n      <td>0</td>\n      <td>5</td>\n      <td>1</td>\n      <td>9</td>\n      <td>2</td>\n      <td>NaN</td>\n      <td>NaN</td>\n      <td>4</td>\n      <td>0</td>\n      <td>3</td>\n      <td>3</td>\n      <td>3</td>\n      <td>5</td>\n      <td>4</td>\n      <td>3</td>\n      <td>3</td>\n      <td>4</td>\n      <td>3</td>\n      <td>3</td>\n      <td>2</td>\n      <td>5</td>\n      <td>2</td>\n      <td>2</td>\n      <td>4</td>\n      <td>1</td>\n      <td>1</td>\n      <td>2</td>\n      <td>NaN</td>\n      <td>4</td>\n      <td>5</td>\n      <td>4</td>\n      <td>3</td>\n      <td>1</td>\n      <td>1</td>\n      <td>1</td>\n      <td>3</td>\n      <td>5</td>\n      <td>5</td>\n      <td>3</td>\n      <td>3</td>\n      <td>1</td>\n      <td>2</td>\n      <td>2</td>\n      <td>5</td>\n      <td>4</td>\n      <td>3</td>\n      <td>NaN</td>\n      <td>5</td>\n      <td>5</td>\n      <td>5</td>\n      <td>4</td>\n      <td>1</td>\n    </tr>\n    <tr>\n      <th>911</th>\n      <td>40</td>\n      <td>0</td>\n      <td>3</td>\n      <td>1</td>\n      <td>10</td>\n      <td>2</td>\n      <td>NaN</td>\n      <td>NaN</td>\n      <td>2</td>\n      <td>0</td>\n      <td>3</td>\n      <td>3</td>\n      <td>5</td>\n      <td>5</td>\n      <td>4</td>\n      <td>2</td>\n      <td>4</td>\n      <td>4</td>\n      <td>4</td>\n      <td>4</td>\n      <td>3</td>\n      <td>2</td>\n      <td>5</td>\n      <td>3</td>\n      <td>2</td>\n      <td>5</td>\n      <td>4</td>\n      <td>5</td>\n      <td>4</td>\n      <td>5</td>\n      <td>5</td>\n      <td>5</td>\n      <td>3</td>\n      <td>1</td>\n      <td>5</td>\n      <td>5</td>\n      <td>NaN</td>\n      <td>1</td>\n      <td>2</td>\n      <td>4</td>\n      <td>4</td>\n      <td>2</td>\n      <td>5</td>\n      <td>5</td>\n      <td>1</td>\n      <td>5</td>\n      <td>2</td>\n      <td>2</td>\n      <td>4</td>\n      <td>4</td>\n      <td>2</td>\n      <td>1</td>\n      <td>1</td>\n    </tr>\n    <tr>\n      <th>912</th>\n      <td>41</td>\n      <td>1</td>\n      <td>3</td>\n      <td>1</td>\n      <td>12</td>\n      <td>2</td>\n      <td>NaN</td>\n      <td>NaN</td>\n      <td>2</td>\n      <td>0</td>\n      <td>3</td>\n      <td>4</td>\n      <td>3</td>\n      <td>5</td>\n      <td>5</td>\n      <td>NaN</td>\n      <td>4</td>\n      <td>4</td>\n      <td>3</td>\n      <td>3</td>\n      <td>3</td>\n      <td>2</td>\n      <td>3</td>\n      <td>2</td>\n      <td>3</td>\n      <td>1</td>\n      <td>3</td>\n      <td>5</td>\n      <td>4</td>\n      <td>4</td>\n      <td>4</td>\n      <td>4</td>\n      <td>2</td>\n      <td>1</td>\n      <td>3</td>\n      <td>3</td>\n      <td>3</td>\n      <td>1</td>\n      <td>1</td>\n      <td>4</td>\n      <td>4</td>\n      <td>4</td>\n      <td>3</td>\n      <td>3</td>\n      <td>3</td>\n      <td>NaN</td>\n      <td>3</td>\n      <td>3</td>\n      <td>2</td>\n      <td>3</td>\n      <td>3</td>\n      <td>1</td>\n      <td>1</td>\n    </tr>\n  </tbody>\n</table>\n<p>737 rows × 53 columns</p>\n</div>"
     },
     "execution_count": 93,
     "metadata": {},
     "output_type": "execute_result"
    }
   ],
   "source": [
    "datana = data[data.isna().any(1)]\n",
    "datana"
   ],
   "metadata": {
    "collapsed": false,
    "pycharm": {
     "name": "#%%\n"
    }
   }
  },
  {
   "cell_type": "code",
   "execution_count": null,
   "outputs": [],
   "source": [
    "datana.isna().sum()\n"
   ],
   "metadata": {
    "collapsed": false,
    "pycharm": {
     "name": "#%%\n"
    }
   }
  },
  {
   "cell_type": "code",
   "execution_count": null,
   "outputs": [],
   "source": [],
   "metadata": {
    "collapsed": false,
    "pycharm": {
     "name": "#%%\n"
    }
   }
  },
  {
   "cell_type": "code",
   "execution_count": null,
   "outputs": [],
   "source": [],
   "metadata": {
    "collapsed": false,
    "pycharm": {
     "name": "#%%\n"
    }
   }
  }
 ],
 "metadata": {
  "kernelspec": {
   "name": "myenv",
   "language": "python",
   "display_name": "Python (wiki4HEProject)"
  },
  "language_info": {
   "codemirror_mode": {
    "name": "ipython",
    "version": 2
   },
   "file_extension": ".py",
   "mimetype": "text/x-python",
   "name": "python",
   "nbconvert_exporter": "python",
   "pygments_lexer": "ipython2",
   "version": "2.7.6"
  }
 },
 "nbformat": 4,
 "nbformat_minor": 0
}