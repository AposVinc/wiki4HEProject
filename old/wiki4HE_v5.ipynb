{
 "cells": [
  {
   "cell_type": "markdown",
   "source": [
    "# MWT - Data Science - wiki4HE\n",
    "\n",
    "Il set di dati __wiki4HE__ contiene informazioni su un questionario proposto a dei professori universitari, ai quali è stato chiesto di rispondere a delle domande sull'utilizzo di Wikipedia come risorsa didattica.\n",
    "\n",
    "Il dataset è composto da due sottoinsiemi contenenti i dati demografici degli intervistati e le relative risposte alle domande poste loro.\n",
    "I professori che si sono sottoposti al sondaggio appartengono a due diverse università spagnole, ovvero la _Universitat Oberta de Catalunya_ e la _Universitat Pompeu Fabra_, e sono specializzati in diversi ambiti accademici.\n",
    "La scala dei valori delle risposte all'indagine variano da 1 a 5, dove 1 rappresenta il totale disaccordo con l'affermazione e 5 il viceversa.\n",
    "\n",
    "Il lavoro su questo dataset si suddividerà in steps nei quali si analizzeranno i dati, in seguito questi verranno combinati così da incrementare le informazioni a disposizione per l'addestramento ed infine verrà eseguita una gestione degli eventuali dati mancanti.\n",
    "Ci si soffermerà anche sul confronto fra le funzioni ottimizzate delle librerie importate e alcune funzioni, dichiarate in Python sfruttando il linguaggio e i suoi costrutti, che vanno a simulare le prime.\n",
    "\n",
    "Lo scopo ultimo di questo elaborato è quello di utilizzare questo dataset per l'addestramento di una macchina capace di predirre le risposte sull'utilizzo di Wikipedia come stumento per l'integrazione del materiale didattico da parte degli studenti, questo sarà possibile analizzando le caratteristiche dei professori e delle risposte date da ognuno di essi.\n",
    "Nel dataset sono presenti domande specifiche che danno una risposta all'obiettivo della predizione, per questo motivo verranno escluse dal set di dati utilizato per l'addestramento."
   ],
   "metadata": {
    "collapsed": false
   }
  },
  {
   "cell_type": "markdown",
   "source": [
    "## Indice:\n",
    "1. Import del Dataset e analisi preliminari\n",
    "2. Manipolazione e pulizia (Data Wrangling)\n",
    "    1. Valutazione dei NaN\n",
    "    2. Divisione del set\n",
    "        1. Professori\n",
    "        2. Questionario\n",
    "3. Preparazione Modello ML\n"
   ],
   "metadata": {
    "collapsed": false
   }
  },
  {
   "cell_type": "markdown",
   "source": [
    "\n",
    "# Import del Dataset e analisi preliminari\n",
    "Dopo aver importato il dataset, è stato sostituito il carattere \"?\" che rappresenta una risposta mancante con il valore NaN di numpy.\n",
    "\n",
    "Viene eseguita una stampa dei primi campioni per ottenere una visione generica del dataset che si sta analizzando e in seguito vengono stampate le informazioni generali relative alla dimensione e ai tipi di ogni attributo del set di dati."
   ],
   "metadata": {
    "collapsed": false
   }
  },
  {
   "cell_type": "code",
   "execution_count": 1,
   "outputs": [
    {
     "name": "stdout",
     "output_type": "stream",
     "text": [
      "   AGE  GENDER DOMAIN  PhD YEARSEXP  UNIVERSITY UOC_POSITION OTHER_POSITION  \\\n",
      "0   40       0      2    1       14           1            2            NaN   \n",
      "1   42       0      5    1       18           1            2            NaN   \n",
      "2   37       0      4    1       13           1            3            NaN   \n",
      "3   40       0      4    0       13           1            3            NaN   \n",
      "4   51       0      6    0        8           1            3            NaN   \n",
      "\n",
      "  OTHERSTATUS USERWIKI PU1 PU2 PU3 PEU1 PEU2 PEU3 ENJ1 ENJ2 Qu1 Qu2 Qu3 Qu4  \\\n",
      "0         NaN        0   4   4   3    5    5    3    4    4   3   3   2   2   \n",
      "1         NaN        0   2   3   3    4    4    3    3    4   4   4   3   3   \n",
      "2         NaN        0   2   2   2    4    4    3    3    3   2   2   2   5   \n",
      "3         NaN        0   3   3   4    3    3    3    4    3   3   4   3   3   \n",
      "4         NaN        1   4   3   5    5    4    3    4    4   4   5   4   3   \n",
      "\n",
      "  Qu5 Vis1 Vis2 Vis3 Im1 Im2 Im3 SA1 SA2 SA3 Use1 Use2 Use3 Use4 Use5 Pf1 Pf2  \\\n",
      "0   3    3    3    1   2   4   2   4   4   4    3    1    1    2    4   1   1   \n",
      "1   2    3    3    1   1   2   1   4   4   4    2    2    1    1    2   1   1   \n",
      "2   3    2    3    2   2   4   3   4   2   4    1    1    1    1    1   3   3   \n",
      "3   3    3    4    3   2   2   3   5   5   5    3    3    3    3    3   4   4   \n",
      "4   4    4    4    4   3   2   3   5   5   5    3    3    5    5    5   5   5   \n",
      "\n",
      "  Pf3 JR1 JR2 BI1 BI2 Inc1 Inc2 Inc3 Inc4 Exp1 Exp2 Exp3 Exp4 Exp5  \n",
      "0   3   4   1   2   3    5    5    5    5    4    4    4    1    2  \n",
      "1   1   4   3   2   2    4    4    3    4    2    2    4    2    4  \n",
      "2   3   4   3   1   1    5    3    5    5    2    2    2    1    3  \n",
      "3   4   5   4   3   3    3    4    4    3    4    4    3    3    4  \n",
      "4   5   3   3   5   5    5    5    4    4    5    5    5    4    4  \n"
     ]
    }
   ],
   "source": [
    "import numpy as np\n",
    "import pandas as pd\n",
    "import seaborn as sns\n",
    "import matplotlib.pyplot as plt\n",
    "import main\n",
    "\n",
    "data = pd.read_csv('dataset/uci - missing data/wiki4HE/wiki4HE.csv', sep=';')\n",
    "pd.set_option('display.max_columns', 54)\n",
    "data.replace('?', np.nan, inplace=True)\n",
    "#stampa delle prime righe\n",
    "print(data.head())"
   ],
   "metadata": {
    "collapsed": false,
    "pycharm": {
     "name": "#%%\n"
    }
   }
  },
  {
   "cell_type": "code",
   "execution_count": 2,
   "outputs": [
    {
     "name": "stdout",
     "output_type": "stream",
     "text": [
      "<class 'pandas.core.frame.DataFrame'>\n",
      "RangeIndex: 913 entries, 0 to 912\n",
      "Data columns (total 53 columns):\n",
      " #   Column          Non-Null Count  Dtype \n",
      "---  ------          --------------  ----- \n",
      " 0   AGE             913 non-null    int64 \n",
      " 1   GENDER          913 non-null    int64 \n",
      " 2   DOMAIN          911 non-null    object\n",
      " 3   PhD             913 non-null    int64 \n",
      " 4   YEARSEXP        890 non-null    object\n",
      " 5   UNIVERSITY      913 non-null    int64 \n",
      " 6   UOC_POSITION    800 non-null    object\n",
      " 7   OTHER_POSITION  652 non-null    object\n",
      " 8   OTHERSTATUS     373 non-null    object\n",
      " 9   USERWIKI        909 non-null    object\n",
      " 10  PU1             906 non-null    object\n",
      " 11  PU2             902 non-null    object\n",
      " 12  PU3             908 non-null    object\n",
      " 13  PEU1            909 non-null    object\n",
      " 14  PEU2            899 non-null    object\n",
      " 15  PEU3            816 non-null    object\n",
      " 16  ENJ1            906 non-null    object\n",
      " 17  ENJ2            896 non-null    object\n",
      " 18  Qu1             906 non-null    object\n",
      " 19  Qu2             903 non-null    object\n",
      " 20  Qu3             898 non-null    object\n",
      " 21  Qu4             891 non-null    object\n",
      " 22  Qu5             884 non-null    object\n",
      " 23  Vis1            841 non-null    object\n",
      " 24  Vis2            796 non-null    object\n",
      " 25  Vis3            905 non-null    object\n",
      " 26  Im1             891 non-null    object\n",
      " 27  Im2             893 non-null    object\n",
      " 28  Im3             856 non-null    object\n",
      " 29  SA1             902 non-null    object\n",
      " 30  SA2             901 non-null    object\n",
      " 31  SA3             902 non-null    object\n",
      " 32  Use1            899 non-null    object\n",
      " 33  Use2            896 non-null    object\n",
      " 34  Use3            904 non-null    object\n",
      " 35  Use4            890 non-null    object\n",
      " 36  Use5            898 non-null    object\n",
      " 37  Pf1             902 non-null    object\n",
      " 38  Pf2             907 non-null    object\n",
      " 39  Pf3             899 non-null    object\n",
      " 40  JR1             886 non-null    object\n",
      " 41  JR2             860 non-null    object\n",
      " 42  BI1             881 non-null    object\n",
      " 43  BI2             870 non-null    object\n",
      " 44  Inc1            878 non-null    object\n",
      " 45  Inc2            878 non-null    object\n",
      " 46  Inc3            876 non-null    object\n",
      " 47  Inc4            871 non-null    object\n",
      " 48  Exp1            900 non-null    object\n",
      " 49  Exp2            902 non-null    object\n",
      " 50  Exp3            900 non-null    object\n",
      " 51  Exp4            899 non-null    object\n",
      " 52  Exp5            900 non-null    object\n",
      "dtypes: int64(4), object(49)\n",
      "memory usage: 378.2+ KB\n"
     ]
    }
   ],
   "source": [
    "#info\n",
    "data.info()"
   ],
   "metadata": {
    "collapsed": false,
    "pycharm": {
     "name": "#%%\n"
    }
   }
  },
  {
   "cell_type": "markdown",
   "source": [
    "\n",
    "# Manipolazione e pulizia (Data Wrangling\n",
    "\n",
    "##  Valutazione dei NaN\n",
    "\n",
    "Ai fini dell'organizzazione del lavoro di pulizia, risulta interessante capire quanti e dove sono presenti i valori Nan.\n",
    "Si puo notare che la maggior parte delle istanze ha almeno un valore NaN, per questo motivo risulta utile visionare il conteggio degli NaN per ogni attributo\n"
   ],
   "metadata": {
    "collapsed": false
   }
  },
  {
   "cell_type": "code",
   "execution_count": 3,
   "outputs": [
    {
     "data": {
      "text/plain": "737"
     },
     "execution_count": 3,
     "metadata": {},
     "output_type": "execute_result"
    }
   ],
   "source": [
    "# numero di righe con almeno un na:\n",
    "data.shape[0] - data.dropna().shape[0]"
   ],
   "metadata": {
    "collapsed": false,
    "pycharm": {
     "name": "#%%\n"
    }
   }
  },
  {
   "cell_type": "code",
   "execution_count": 4,
   "outputs": [
    {
     "data": {
      "text/plain": "                contain na   number of na \nAGE                   False              0\nGENDER                False              0\nDOMAIN                 True              2\nPhD                   False              0\nYEARSEXP               True             23\nUNIVERSITY            False              0\nUOC_POSITION           True            113\nOTHER_POSITION         True            261\nOTHERSTATUS            True            540\nUSERWIKI               True              4\nPU1                    True              7\nPU2                    True             11\nPU3                    True              5\nPEU1                   True              4\nPEU2                   True             14\nPEU3                   True             97\nENJ1                   True              7\nENJ2                   True             17\nQu1                    True              7\nQu2                    True             10\nQu3                    True             15\nQu4                    True             22\nQu5                    True             29\nVis1                   True             72\nVis2                   True            117\nVis3                   True              8\nIm1                    True             22\nIm2                    True             20\nIm3                    True             57\nSA1                    True             11\nSA2                    True             12\nSA3                    True             11\nUse1                   True             14\nUse2                   True             17\nUse3                   True              9\nUse4                   True             23\nUse5                   True             15\nPf1                    True             11\nPf2                    True              6\nPf3                    True             14\nJR1                    True             27\nJR2                    True             53\nBI1                    True             32\nBI2                    True             43\nInc1                   True             35\nInc2                   True             35\nInc3                   True             37\nInc4                   True             42\nExp1                   True             13\nExp2                   True             11\nExp3                   True             13\nExp4                   True             14\nExp5                   True             13",
      "text/html": "<div>\n<style scoped>\n    .dataframe tbody tr th:only-of-type {\n        vertical-align: middle;\n    }\n\n    .dataframe tbody tr th {\n        vertical-align: top;\n    }\n\n    .dataframe thead th {\n        text-align: right;\n    }\n</style>\n<table border=\"1\" class=\"dataframe\">\n  <thead>\n    <tr style=\"text-align: right;\">\n      <th></th>\n      <th>contain na</th>\n      <th>number of na</th>\n    </tr>\n  </thead>\n  <tbody>\n    <tr>\n      <th>AGE</th>\n      <td>False</td>\n      <td>0</td>\n    </tr>\n    <tr>\n      <th>GENDER</th>\n      <td>False</td>\n      <td>0</td>\n    </tr>\n    <tr>\n      <th>DOMAIN</th>\n      <td>True</td>\n      <td>2</td>\n    </tr>\n    <tr>\n      <th>PhD</th>\n      <td>False</td>\n      <td>0</td>\n    </tr>\n    <tr>\n      <th>YEARSEXP</th>\n      <td>True</td>\n      <td>23</td>\n    </tr>\n    <tr>\n      <th>UNIVERSITY</th>\n      <td>False</td>\n      <td>0</td>\n    </tr>\n    <tr>\n      <th>UOC_POSITION</th>\n      <td>True</td>\n      <td>113</td>\n    </tr>\n    <tr>\n      <th>OTHER_POSITION</th>\n      <td>True</td>\n      <td>261</td>\n    </tr>\n    <tr>\n      <th>OTHERSTATUS</th>\n      <td>True</td>\n      <td>540</td>\n    </tr>\n    <tr>\n      <th>USERWIKI</th>\n      <td>True</td>\n      <td>4</td>\n    </tr>\n    <tr>\n      <th>PU1</th>\n      <td>True</td>\n      <td>7</td>\n    </tr>\n    <tr>\n      <th>PU2</th>\n      <td>True</td>\n      <td>11</td>\n    </tr>\n    <tr>\n      <th>PU3</th>\n      <td>True</td>\n      <td>5</td>\n    </tr>\n    <tr>\n      <th>PEU1</th>\n      <td>True</td>\n      <td>4</td>\n    </tr>\n    <tr>\n      <th>PEU2</th>\n      <td>True</td>\n      <td>14</td>\n    </tr>\n    <tr>\n      <th>PEU3</th>\n      <td>True</td>\n      <td>97</td>\n    </tr>\n    <tr>\n      <th>ENJ1</th>\n      <td>True</td>\n      <td>7</td>\n    </tr>\n    <tr>\n      <th>ENJ2</th>\n      <td>True</td>\n      <td>17</td>\n    </tr>\n    <tr>\n      <th>Qu1</th>\n      <td>True</td>\n      <td>7</td>\n    </tr>\n    <tr>\n      <th>Qu2</th>\n      <td>True</td>\n      <td>10</td>\n    </tr>\n    <tr>\n      <th>Qu3</th>\n      <td>True</td>\n      <td>15</td>\n    </tr>\n    <tr>\n      <th>Qu4</th>\n      <td>True</td>\n      <td>22</td>\n    </tr>\n    <tr>\n      <th>Qu5</th>\n      <td>True</td>\n      <td>29</td>\n    </tr>\n    <tr>\n      <th>Vis1</th>\n      <td>True</td>\n      <td>72</td>\n    </tr>\n    <tr>\n      <th>Vis2</th>\n      <td>True</td>\n      <td>117</td>\n    </tr>\n    <tr>\n      <th>Vis3</th>\n      <td>True</td>\n      <td>8</td>\n    </tr>\n    <tr>\n      <th>Im1</th>\n      <td>True</td>\n      <td>22</td>\n    </tr>\n    <tr>\n      <th>Im2</th>\n      <td>True</td>\n      <td>20</td>\n    </tr>\n    <tr>\n      <th>Im3</th>\n      <td>True</td>\n      <td>57</td>\n    </tr>\n    <tr>\n      <th>SA1</th>\n      <td>True</td>\n      <td>11</td>\n    </tr>\n    <tr>\n      <th>SA2</th>\n      <td>True</td>\n      <td>12</td>\n    </tr>\n    <tr>\n      <th>SA3</th>\n      <td>True</td>\n      <td>11</td>\n    </tr>\n    <tr>\n      <th>Use1</th>\n      <td>True</td>\n      <td>14</td>\n    </tr>\n    <tr>\n      <th>Use2</th>\n      <td>True</td>\n      <td>17</td>\n    </tr>\n    <tr>\n      <th>Use3</th>\n      <td>True</td>\n      <td>9</td>\n    </tr>\n    <tr>\n      <th>Use4</th>\n      <td>True</td>\n      <td>23</td>\n    </tr>\n    <tr>\n      <th>Use5</th>\n      <td>True</td>\n      <td>15</td>\n    </tr>\n    <tr>\n      <th>Pf1</th>\n      <td>True</td>\n      <td>11</td>\n    </tr>\n    <tr>\n      <th>Pf2</th>\n      <td>True</td>\n      <td>6</td>\n    </tr>\n    <tr>\n      <th>Pf3</th>\n      <td>True</td>\n      <td>14</td>\n    </tr>\n    <tr>\n      <th>JR1</th>\n      <td>True</td>\n      <td>27</td>\n    </tr>\n    <tr>\n      <th>JR2</th>\n      <td>True</td>\n      <td>53</td>\n    </tr>\n    <tr>\n      <th>BI1</th>\n      <td>True</td>\n      <td>32</td>\n    </tr>\n    <tr>\n      <th>BI2</th>\n      <td>True</td>\n      <td>43</td>\n    </tr>\n    <tr>\n      <th>Inc1</th>\n      <td>True</td>\n      <td>35</td>\n    </tr>\n    <tr>\n      <th>Inc2</th>\n      <td>True</td>\n      <td>35</td>\n    </tr>\n    <tr>\n      <th>Inc3</th>\n      <td>True</td>\n      <td>37</td>\n    </tr>\n    <tr>\n      <th>Inc4</th>\n      <td>True</td>\n      <td>42</td>\n    </tr>\n    <tr>\n      <th>Exp1</th>\n      <td>True</td>\n      <td>13</td>\n    </tr>\n    <tr>\n      <th>Exp2</th>\n      <td>True</td>\n      <td>11</td>\n    </tr>\n    <tr>\n      <th>Exp3</th>\n      <td>True</td>\n      <td>13</td>\n    </tr>\n    <tr>\n      <th>Exp4</th>\n      <td>True</td>\n      <td>14</td>\n    </tr>\n    <tr>\n      <th>Exp5</th>\n      <td>True</td>\n      <td>13</td>\n    </tr>\n  </tbody>\n</table>\n</div>"
     },
     "execution_count": 4,
     "metadata": {},
     "output_type": "execute_result"
    }
   ],
   "source": [
    "#numero di na per ogni attributo\n",
    "pd.DataFrame({ 'contain na ': data.isna().any() ,'number of na ': data.isna().sum() })"
   ],
   "metadata": {
    "collapsed": false,
    "pycharm": {
     "name": "#%%\n"
    }
   }
  },
  {
   "cell_type": "markdown",
   "source": [
    "## Divisione del set\n",
    "\n",
    "Data la struttura del dataset, è possibile lavorare separando i dati demografici dei professori dalle domande del questionario. Per questo motivo dividiamo il set in due sottoinsiemi che chiameremo ___\"Prof\"___ e ___\"Questionario\"___"
   ],
   "metadata": {
    "collapsed": false
   }
  },
  {
   "cell_type": "code",
   "execution_count": 5,
   "outputs": [],
   "source": [
    "prof = data.iloc[:, :10]\n",
    "questionario = data.iloc[:, 10:]"
   ],
   "metadata": {
    "collapsed": false,
    "pycharm": {
     "name": "#%%\n"
    }
   }
  },
  {
   "cell_type": "markdown",
   "source": [
    "## Professori\n",
    "\n",
    "Questo sottoinsieme raccoglie varie informazioni relative ai professori:\n",
    "- Età\n",
    "- Genere\n",
    "- Dominio\n",
    "- Anni di esperienza da professore\n",
    "- In possesso di PhD\n",
    "- Università di appartenenza\n",
    "- Posizione lavorativa ricoperta in UOC\n",
    "- Se insegna in altri Istituiti Universitari\n",
    "- Posizione lavorativa presso altre Università e dipendente di UPF\n",
    "- Utente registrato su Wikipedia\n",
    "\n",
    "Per avere una visione più puntale del sottoinsieme in lavorazione risulta essere vantaggioso la costruzione di plot descrittivi"
   ],
   "metadata": {
    "collapsed": false
   }
  },
  {
   "cell_type": "markdown",
   "source": [
    "### Grafici"
   ],
   "metadata": {
    "collapsed": false
   }
  },
  {
   "cell_type": "code",
   "execution_count": 6,
   "outputs": [
    {
     "data": {
      "text/plain": "[Text(0, 0, '0'),\n Text(10, 0, '10'),\n Text(20, 0, '20'),\n Text(30, 0, '30'),\n Text(40, 0, '40'),\n Text(50, 0, '50'),\n Text(60, 0, 'NaN')]"
     },
     "execution_count": 6,
     "metadata": {},
     "output_type": "execute_result"
    },
    {
     "data": {
      "text/plain": "<Figure size 1152x720 with 3 Axes>",
      "image/png": "[encoded data removed]"
     },
     "metadata": {
      "needs_background": "light"
     },
     "output_type": "display_data"
    }
   ],
   "source": [
    "# GENDER #AGE YEARSEXP\n",
    "\n",
    "fig = plt.figure(figsize = (16,10))\n",
    "\n",
    "ax = fig.add_subplot(2, 3, 1)\n",
    "counts, bins, patches = ax.hist(prof['GENDER'].map({0: 'Uomo', 1: 'Donna'}), bins = 3)\n",
    "ax.set_title(\"Genere\", fontsize = 14)\n",
    "ax.set_ylabel(\"Quantità\")\n",
    "ax.set_ylim((0, 1000))\n",
    "\n",
    "ax = fig.add_subplot(2, 3, 2)\n",
    "ax.hist(prof['AGE'].fillna(80).astype(int), bins = 20)\n",
    "ax.set_title(\"Età\", fontsize = 14)\n",
    "ax.set_ylim((0, 150))\n",
    "ax.set_xticks([30, 40, 50, 60, 70, 80])\n",
    "ax.set_xticklabels([30, 40, 50, 60, 70, \"NaN\"])\n",
    "\n",
    "ax = fig.add_subplot(2, 3, 3)\n",
    "ax.hist(prof['YEARSEXP'].fillna(60).astype(int), bins = 20)\n",
    "ax.set_title(\"Anni esperienza\", fontsize = 14)\n",
    "ax.set_ylim((0, 200))\n",
    "ax.set_xticks([0, 10, 20, 30, 40, 50, 60])\n",
    "ax.set_xticklabels([0, 10, 20, 30, 40, 50, \"NaN\"])"
   ],
   "metadata": {
    "collapsed": false,
    "pycharm": {
     "name": "#%%\n"
    }
   }
  },
  {
   "cell_type": "code",
   "execution_count": 7,
   "outputs": [
    {
     "data": {
      "text/plain": "[Text(0, 0, '0'),\n Text(0, 100, '100'),\n Text(0, 200, '200'),\n Text(0, 300, '300'),\n Text(0, 400, '>400')]"
     },
     "execution_count": 7,
     "metadata": {},
     "output_type": "execute_result"
    },
    {
     "data": {
      "text/plain": "<Figure size 1152x720 with 4 Axes>",
      "image/png": "[encoded data removed]"
     },
     "metadata": {
      "needs_background": "light"
     },
     "output_type": "display_data"
    }
   ],
   "source": [
    "fig = plt.figure(figsize = (16,10))\n",
    "\n",
    "ax = fig.add_subplot(2, 3, 1)\n",
    "counts, bins, patches = ax.hist(prof['PhD'].map({0: 'No', 1: 'Si'}), bins = 3)\n",
    "ax.set_title(\"Hanno PhD?\", fontsize = 14)\n",
    "ax.set_ylabel(\"Quanti professori?\")\n",
    "ax.set_ylim((0, 1000))\n",
    "ax.set_yticks([0, 250, 500, 750, 1000])\n",
    "ax.set_yticklabels([0, 250, 500, 750, \">1000\"])\n",
    "\n",
    "ax = fig.add_subplot(2, 3, 2)\n",
    "ax.hist(prof['UNIVERSITY'].fillna(0).astype(int).map({0:'NaN', 1: 'UOC', 2: 'UPF'}), bins = 10)\n",
    "ax.set_title(\"Università di appartenenza\", fontsize = 14)\n",
    "ax.set_ylim((0, 1000))\n",
    "ax.set_yticks([0, 250, 500, 750, 1000])\n",
    "ax.set_yticklabels([ \"\",  \"\",  \"\",  \"\", \"\"])\n",
    "\n",
    "ax = fig.add_subplot(2, 3, 3)\n",
    "ax.hist(prof['USERWIKI'].fillna(2).astype(int).map({0: 'No', 1: 'Si', 2:'NaN'}), bins = 10)\n",
    "ax.set_title(\"Utente di Wikipedia\", fontsize = 14)\n",
    "ax.set_ylim((0, 1000))\n",
    "ax.set_yticks([0, 250, 500, 750, 1000])\n",
    "ax.set_yticklabels([ \"\",  \"\",  \"\",  \"\", \"\"])\n",
    "\n",
    "ax = fig.add_subplot(2, 1, 2)\n",
    "ax.hist(prof['DOMAIN'].fillna(7).astype(int).map({1: \"Arts & Humanities\", 2:\"Sciences\", 3:\"Health Sciences\",\n",
    "                                   4:\"Engineering & Architecture\", 5:\"Law & Politics\",\n",
    "                                   6:\"Social Science\", 7:'NaN'}), bins = 20)\n",
    "ax.set_title(\"Dominio Didattico\", fontsize = 14)\n",
    "ax.set_ylim((0, 400))\n",
    "ax.set_yticks([0, 100, 200, 300, 400])\n",
    "ax.set_yticklabels([0, 100, 200, 300, \">400\"])"
   ],
   "metadata": {
    "collapsed": false,
    "pycharm": {
     "name": "#%%\n"
    }
   }
  },
  {
   "cell_type": "code",
   "execution_count": 8,
   "outputs": [
    {
     "data": {
      "text/plain": "(0.0, 800.0)"
     },
     "execution_count": 8,
     "metadata": {},
     "output_type": "execute_result"
    },
    {
     "data": {
      "text/plain": "<Figure size 1152x720 with 2 Axes>",
      "image/png": "[encoded data removed]"
     },
     "metadata": {
      "needs_background": "light"
     },
     "output_type": "display_data"
    }
   ],
   "source": [
    "fig = plt.figure(figsize = (16,10))\n",
    "\n",
    "ax = fig.add_subplot(2, 1, 1)\n",
    "ax.hist(prof['UOC_POSITION'].fillna(7).astype(int).map({1: \"Professor\", 2: \"Associate\", 3: \"Assistant\", 4: \"Lecturer\", 5: \"Instructor\", 6: \"Adjunct\", 7:'NaN'}), bins = 13)\n",
    "ax.set_title(\"Impiego UOC\", fontsize = 14)\n",
    "ax.set_ylim((0, 800))\n",
    "\n",
    "ax = fig.add_subplot(2, 1, 2)\n",
    "ax.hist(prof['OTHERSTATUS'].fillna(7).astype(int).map({1: \"Professor\", 2: \"Associate\", 3: \"Assistant\", 4: \"Lecturer\", 5: \"Instructor\", 6: \"Adjunct\", 7:'NaN'}), bins = 13)\n",
    "ax.set_title(\"impiego UPF\", fontsize = 14)\n",
    "ax.set_ylim((0, 800))"
   ],
   "metadata": {
    "collapsed": false,
    "pycharm": {
     "name": "#%%\n"
    }
   }
  },
  {
   "cell_type": "markdown",
   "source": [
    "### Pulizia degli attributi e cambio dtype\n",
    "\n",
    "I valori nulli relativi agli anni di esperienza possono essere interpretati come l'assenza di questi ultimi.\n",
    "\n",
    "I valori nulli relativi al dominio e alla registrazione sono solo 5 e possono essere eliminati, avendo infatti un dataset da 913 campioni l'eliminazione di questi 5 non variano alterano la natura del set."
   ],
   "metadata": {
    "collapsed": false
   }
  },
  {
   "cell_type": "code",
   "execution_count": 9,
   "outputs": [
    {
     "data": {
      "text/plain": "(907, 10)"
     },
     "execution_count": 9,
     "metadata": {},
     "output_type": "execute_result"
    }
   ],
   "source": [
    "# se non specificato considero gli anni di esperienza = 0\n",
    "prof['YEARSEXP'] = prof['YEARSEXP'].fillna(0)\n",
    "\n",
    "# eliminazione righe con domain e userwiki na\n",
    "prof = prof[prof['DOMAIN'].notna() & prof['USERWIKI'].notna()]\n",
    "\n",
    "# cambio dei tipi\n",
    "prof = prof.astype({'AGE': 'int8','GENDER': 'int8','DOMAIN': 'int8','PhD': 'bool','YEARSEXP': 'int8','UNIVERSITY': 'int8','USERWIKI': 'bool'})\n",
    "\n",
    "#quanti campioni rimanenti\n",
    "prof.shape"
   ],
   "metadata": {
    "collapsed": false,
    "pycharm": {
     "name": "#%%\n"
    }
   }
  },
  {
   "cell_type": "markdown",
   "source": [
    "### Incongruenze nel dataset\n",
    "\n",
    "Gli attributi \"OTHER\", \"OTHER_POSITION\" della descrizione non corrispondono a quelli presenti nel DataFrames:\n",
    " - __\"OTHER\"__ - non è presente;\n",
    " - __\"OTHER_POSITION\"__ - non rispecchia i valori attesi.\n",
    "\n",
    "L'attributo \"OTHER_POSITION\" del dataset presenta solo due valori, ___1___ e ___2___, questi risultano essere associabili all' attributo \"OTHER\" nella descrizione."
   ],
   "metadata": {
    "collapsed": false
   }
  },
  {
   "cell_type": "code",
   "execution_count": 10,
   "outputs": [
    {
     "data": {
      "text/plain": "count    648.000000\nmean       1.586420\nstd        0.492855\nmin        1.000000\n25%        1.000000\n50%        2.000000\n75%        2.000000\nmax        2.000000\nName: OTHER_POSITION, dtype: float64"
     },
     "execution_count": 10,
     "metadata": {},
     "output_type": "execute_result"
    }
   ],
   "source": [
    "prof['OTHER_POSITION'].dropna().astype(int).describe()"
   ],
   "metadata": {
    "collapsed": false,
    "pycharm": {
     "name": "#%%\n"
    }
   }
  },
  {
   "cell_type": "markdown",
   "source": [
    "Nel dataset è presente un'altra colonna che non viene descritta sul sito, ovvero \"OTHERSTATUS\".\n",
    "I dati di quest'ultima vanno da un minimo di ___1___ a un massimo di ___7___ e risultano essere associabili ai valori attesi dall'attibuto \"OTHER_POSITION\" del sito, ad esclusione del valore 7."
   ],
   "metadata": {
    "collapsed": false
   }
  },
  {
   "cell_type": "code",
   "execution_count": 11,
   "outputs": [
    {
     "data": {
      "text/plain": "count    372.000000\nmean       4.201613\nstd        2.223302\nmin        1.000000\n25%        2.000000\n50%        4.000000\n75%        7.000000\nmax        7.000000\nName: OTHERSTATUS, dtype: float64"
     },
     "execution_count": 11,
     "metadata": {},
     "output_type": "execute_result"
    }
   ],
   "source": [
    "prof['OTHERSTATUS'].dropna().astype(int).describe()"
   ],
   "metadata": {
    "collapsed": false,
    "pycharm": {
     "name": "#%%\n"
    }
   }
  },
  {
   "cell_type": "markdown",
   "source": [
    "### Assunzioni\n",
    "\n",
    "Assumiamo come veritiere le supposizioni precedenti e associamo i vari attributi alle colonne nel dataset:\n",
    "- \"OTHER\" (sito) -> \"OTHER_POSITION\" (dataset)\n",
    "- \"OTHER_POSITION\" (sito) -> \"OTHERSTATUS\" (dataset)\n",
    "\n",
    "Il valore ___7___ presente nell'attributo \"OTHERSTATUS\" verrà interpretato come \"Altro\" e perciò specificherà una posizione lavorativa non in elenco."
   ],
   "metadata": {
    "collapsed": false
   }
  },
  {
   "cell_type": "code",
   "execution_count": 12,
   "outputs": [
    {
     "data": {
      "text/plain": "106"
     },
     "execution_count": 12,
     "metadata": {},
     "output_type": "execute_result"
    }
   ],
   "source": [
    "prof['OTHERSTATUS'].dropna().astype(int)[prof['OTHERSTATUS'].dropna().astype(int)[:] == 7].count()"
   ],
   "metadata": {
    "collapsed": false,
    "pycharm": {
     "name": "#%%\n"
    }
   }
  },
  {
   "cell_type": "markdown",
   "source": [
    "L'attributo \"OTHER_POSITION\" inoltre ha maggior parte dei dati mancanti, infatti questa variabile descrive il \"lavoro come part-time in un'altra università e membri UPF\".\n",
    "Possiamo affermare che questa domanda è mal progettata in quanto non è applicabile alla maggior parte dei membri della facoltà e che quindi non hanno risposto."
   ],
   "metadata": {
    "collapsed": false
   }
  },
  {
   "cell_type": "code",
   "execution_count": 13,
   "outputs": [
    {
     "data": {
      "text/plain": "(112, 10)"
     },
     "execution_count": 13,
     "metadata": {},
     "output_type": "execute_result"
    }
   ],
   "source": [
    "# quanti prof non sono assunti da UOC\n",
    "prof[prof['UNIVERSITY'] == 2].shape"
   ],
   "metadata": {
    "collapsed": false,
    "pycharm": {
     "name": "#%%\n"
    }
   }
  },
  {
   "cell_type": "code",
   "execution_count": 14,
   "outputs": [
    {
     "data": {
      "text/plain": "                contain na   number of na \nAGE                   False              0\nGENDER                False              0\nDOMAIN                False              0\nPhD                   False              0\nYEARSEXP              False              0\nUNIVERSITY            False              0\nUOC_POSITION           True            112\nOTHER_POSITION         True            112\nOTHERSTATUS            True              5\nUSERWIKI              False              0",
      "text/html": "<div>\n<style scoped>\n    .dataframe tbody tr th:only-of-type {\n        vertical-align: middle;\n    }\n\n    .dataframe tbody tr th {\n        vertical-align: top;\n    }\n\n    .dataframe thead th {\n        text-align: right;\n    }\n</style>\n<table border=\"1\" class=\"dataframe\">\n  <thead>\n    <tr style=\"text-align: right;\">\n      <th></th>\n      <th>contain na</th>\n      <th>number of na</th>\n    </tr>\n  </thead>\n  <tbody>\n    <tr>\n      <th>AGE</th>\n      <td>False</td>\n      <td>0</td>\n    </tr>\n    <tr>\n      <th>GENDER</th>\n      <td>False</td>\n      <td>0</td>\n    </tr>\n    <tr>\n      <th>DOMAIN</th>\n      <td>False</td>\n      <td>0</td>\n    </tr>\n    <tr>\n      <th>PhD</th>\n      <td>False</td>\n      <td>0</td>\n    </tr>\n    <tr>\n      <th>YEARSEXP</th>\n      <td>False</td>\n      <td>0</td>\n    </tr>\n    <tr>\n      <th>UNIVERSITY</th>\n      <td>False</td>\n      <td>0</td>\n    </tr>\n    <tr>\n      <th>UOC_POSITION</th>\n      <td>True</td>\n      <td>112</td>\n    </tr>\n    <tr>\n      <th>OTHER_POSITION</th>\n      <td>True</td>\n      <td>112</td>\n    </tr>\n    <tr>\n      <th>OTHERSTATUS</th>\n      <td>True</td>\n      <td>5</td>\n    </tr>\n    <tr>\n      <th>USERWIKI</th>\n      <td>False</td>\n      <td>0</td>\n    </tr>\n  </tbody>\n</table>\n</div>"
     },
     "execution_count": 14,
     "metadata": {},
     "output_type": "execute_result"
    }
   ],
   "source": [
    "#tutti i professori non associati a UPF non hanno un ruolo in \"UOC_POSITION\", il ruolo ricoperto è descritto in \"OTHERSTATUS\"\n",
    "pd.DataFrame({ 'contain na ': prof[prof['UNIVERSITY'] == 2].isna().any() ,'number of na ': prof[prof['UNIVERSITY'] == 2].isna().sum() })"
   ],
   "metadata": {
    "collapsed": false,
    "pycharm": {
     "name": "#%%\n"
    }
   }
  },
  {
   "cell_type": "markdown",
   "source": [
    "A conferma di quanto affermato poco sopra, analizzando l'attributo \"OTHER_POSITION\" si può notare come nel dataset alcuni professori di UOC hanno un altro impiego presso altre facoltà, mentre nessuno dei professori UPF ne ha"
   ],
   "metadata": {
    "collapsed": false
   }
  },
  {
   "cell_type": "code",
   "execution_count": 15,
   "outputs": [
    {
     "data": {
      "text/plain": "268"
     },
     "execution_count": 15,
     "metadata": {},
     "output_type": "execute_result"
    }
   ],
   "source": [
    "other_pos = prof[(prof[\"OTHER_POSITION\"].notna())].fillna(0).astype(int)\n",
    "\n",
    "#prof di UOC con un altro impiego presso un'altra università\n",
    "other_pos.loc[(other_pos['OTHER_POSITION'] == 1) & (other_pos['UNIVERSITY'] == 1)][\"OTHERSTATUS\"].count()"
   ],
   "metadata": {
    "collapsed": false,
    "pycharm": {
     "name": "#%%\n"
    }
   }
  },
  {
   "cell_type": "code",
   "execution_count": 16,
   "outputs": [
    {
     "data": {
      "text/plain": "0"
     },
     "execution_count": 16,
     "metadata": {},
     "output_type": "execute_result"
    }
   ],
   "source": [
    "#prof di UPF con un altro impiego presso un'altra università\n",
    "other_pos.loc[(other_pos['OTHER_POSITION'] == 1) & (other_pos['UNIVERSITY'] == 2)][\"OTHERSTATUS\"].count()\n"
   ],
   "metadata": {
    "collapsed": false,
    "pycharm": {
     "name": "#%%\n"
    }
   }
  },
  {
   "cell_type": "markdown",
   "source": [
    "### Valutazione NaN su \"UOC_POSITION\", \"OTHERSTATUS\", \"OTHER_POSITION\"\n",
    "\n",
    "Un'altra osservazione che possiamo eseguire su questi attributi l'analisi sugli NaN."
   ],
   "metadata": {
    "collapsed": false
   }
  },
  {
   "cell_type": "code",
   "execution_count": 17,
   "outputs": [
    {
     "data": {
      "text/plain": "                contain na   number of na \nUOC_POSITION           True            112\nOTHERSTATUS            True            535\nOTHER_POSITION         True            259",
      "text/html": "<div>\n<style scoped>\n    .dataframe tbody tr th:only-of-type {\n        vertical-align: middle;\n    }\n\n    .dataframe tbody tr th {\n        vertical-align: top;\n    }\n\n    .dataframe thead th {\n        text-align: right;\n    }\n</style>\n<table border=\"1\" class=\"dataframe\">\n  <thead>\n    <tr style=\"text-align: right;\">\n      <th></th>\n      <th>contain na</th>\n      <th>number of na</th>\n    </tr>\n  </thead>\n  <tbody>\n    <tr>\n      <th>UOC_POSITION</th>\n      <td>True</td>\n      <td>112</td>\n    </tr>\n    <tr>\n      <th>OTHERSTATUS</th>\n      <td>True</td>\n      <td>535</td>\n    </tr>\n    <tr>\n      <th>OTHER_POSITION</th>\n      <td>True</td>\n      <td>259</td>\n    </tr>\n  </tbody>\n</table>\n</div>"
     },
     "execution_count": 17,
     "metadata": {},
     "output_type": "execute_result"
    }
   ],
   "source": [
    "pd.DataFrame({ 'contain na ': prof[[\"UOC_POSITION\", \"OTHERSTATUS\", \"OTHER_POSITION\"]].isna().any() ,'number of na ': prof[[\"UOC_POSITION\", \"OTHERSTATUS\", 'OTHER_POSITION']].isna().sum() })"
   ],
   "metadata": {
    "collapsed": false,
    "pycharm": {
     "name": "#%%\n"
    }
   }
  },
  {
   "cell_type": "markdown",
   "source": [
    "Queste tre informazioni presentano un elevato numero di NaN, per questo motivo l'operazione di `fillna()` è estremamente sconsigliata. Questa altererebbe la natura dei dati, andando a creare valutazioni errate nelle fasi successive dello studio e per questo motivo l'unica soluzione percorribile è quella dell' dell'eliminazione netta."
   ],
   "metadata": {
    "collapsed": false
   }
  },
  {
   "cell_type": "markdown",
   "source": [
    "### Costruzione attributo POSITION\n",
    "\n",
    "Prima di eliminare dal dataset le colonne citate poco sopra, è possibile recuperare una parte di informazione grazie alla combinazione delle tre colonne.\n",
    "\n",
    "L' attributo \"UNIVERSITY\" indica l'università di appartenenza, a seconda dei valori infatti:\n",
    "- se 1 -> il prof. ha un ruolo in UOC\n",
    "- se 2 -> il prof. o ha un ruolo un ruolo in UPF o in un'altra università\n",
    "\n",
    "Dagli studi e dalle analisi precedenti abbiamo osservato come le informazioni sulla posizione lavorativa di un professore sia enunciata negli attributi \"UOC_POSITION\" e \"OTHERSTATUS\" per i dipendenti di UOC e solo nell'attributo \"OTHERSTATUS\" per i dipendenti UPF.\n",
    "\n",
    "Sfruttando questa conoscenza è possibile ottenere un nuovo attributo \"POSITION\" che descriverà la posizione di maggior rilievo ricoperta dal professore combinando le informazioni presenti nelle varie colonne."
   ],
   "metadata": {
    "collapsed": false
   }
  },
  {
   "cell_type": "code",
   "execution_count": 18,
   "outputs": [
    {
     "name": "stderr",
     "output_type": "stream",
     "text": [
      "<ipython-input-18-f60dfb56dc25>:6: SettingWithCopyWarning: \n",
      "A value is trying to be set on a copy of a slice from a DataFrame\n",
      "\n",
      "See the caveats in the documentation: https://pandas.pydata.org/pandas-docs/stable/user_guide/indexing.html#returning-a-view-versus-a-copy\n",
      "  prof['OTHERSTATUS'][ prof['OTHERSTATUS'] > 6] = 0 # considero il 7 come \"altro\" percio non lo considero\n"
     ]
    }
   ],
   "source": [
    "prof['UOC_POSITION'] = prof['UOC_POSITION'].fillna(0).astype(int)\n",
    "prof['OTHERSTATUS'] = prof['OTHERSTATUS'].fillna(0).astype(int)\n",
    "prof['OTHER_POSITION'] = prof['OTHER_POSITION'].fillna(0).astype(int)\n",
    "\n",
    "# sostituzione del val 7/\"Altro\" con 0 per sfruttare la UFunc max()\n",
    "prof['OTHERSTATUS'][ prof['OTHERSTATUS'] > 6] = 0"
   ],
   "metadata": {
    "collapsed": false,
    "pycharm": {
     "name": "#%%\n"
    }
   }
  },
  {
   "cell_type": "markdown",
   "source": [
    "#### Confronto fra UFunc e Funzioni semplici\n",
    "\n",
    "Come si puo vedere di seguito, il confronto conferma quanto ci aspettavamo. Le funzioni ottimizzate risultano essere molto più veloci rispetto alla funzione scritta con il linguaggio ad alto livello.\n",
    "l'UFunc risulta essere piu velore del"
   ],
   "metadata": {
    "collapsed": false
   }
  },
  {
   "cell_type": "markdown",
   "source": [
    "# 25.8 micros 164 ns per loop ( mean std. dev . of 7 runs , 10000 loops each )\n",
    "# 25.8 medi del tempo che necessita per fare questa op\n",
    "# vari run e fa 10000 llops\n",
    "#164 deviazione standard"
   ],
   "metadata": {
    "collapsed": false,
    "pycharm": {
     "name": "#%% md\n"
    }
   }
  },
  {
   "cell_type": "code",
   "execution_count": 19,
   "outputs": [],
   "source": [
    "# %timeit prof[[\"UOC_POSITION\", \"OTHERSTATUS\"]].max(axis=1)"
   ],
   "metadata": {
    "collapsed": false,
    "pycharm": {
     "name": "#%%\n"
    }
   }
  },
  {
   "cell_type": "code",
   "execution_count": 20,
   "outputs": [],
   "source": [
    "# %timeit main.merge_two_series_by_max(prof['OTHERSTATUS'].array, prof['UOC_POSITION'].array)"
   ],
   "metadata": {
    "collapsed": false,
    "pycharm": {
     "name": "#%%\n"
    }
   }
  },
  {
   "cell_type": "markdown",
   "source": [
    "Grazie a questo confronto tra funzioni, decidiamo di utlizzare la UFunc dato che questa risulta essere piu veloce.\n",
    "\n",
    "Una volta ottenuta la Series contenente la posizione lavorativa più importante ricoperta da ogni professore, la inseriamo nel dataset ed eliminiamo i 3 attributi utilizzati per costruirla poichè questi presentano un gran numero di NaN."
   ],
   "metadata": {
    "collapsed": false
   }
  },
  {
   "cell_type": "code",
   "execution_count": 21,
   "outputs": [
    {
     "name": "stdout",
     "output_type": "stream",
     "text": [
      "<class 'pandas.core.frame.DataFrame'>\n",
      "Int64Index: 871 entries, 0 to 912\n",
      "Data columns (total 8 columns):\n",
      " #   Column      Non-Null Count  Dtype\n",
      "---  ------      --------------  -----\n",
      " 0   AGE         871 non-null    int8 \n",
      " 1   GENDER      871 non-null    int8 \n",
      " 2   DOMAIN      871 non-null    int8 \n",
      " 3   PhD         871 non-null    bool \n",
      " 4   YEARSEXP    871 non-null    int8 \n",
      " 5   UNIVERSITY  871 non-null    int8 \n",
      " 6   POSITION    871 non-null    int8 \n",
      " 7   USERWIKI    871 non-null    bool \n",
      "dtypes: bool(2), int8(6)\n",
      "memory usage: 13.6 KB\n"
     ]
    }
   ],
   "source": [
    "position = prof[[\"UOC_POSITION\", \"OTHERSTATUS\"]].max(axis=1).astype('int8')\n",
    "\n",
    "#inseriamo in ordine la nuova colonna ed eliminiamo 3 colonne\n",
    "prof.insert(loc=6, column='POSITION', value=position)\n",
    "prof = prof.drop(columns=['UOC_POSITION', 'OTHERSTATUS', 'OTHER_POSITION'])\n",
    "\n",
    "# professori che non hanno neanche un ruolo vengono eliminati\n",
    "prof = prof[prof['POSITION'] != 0]\n",
    "prof.info()\n"
   ],
   "metadata": {
    "collapsed": false,
    "pycharm": {
     "name": "#%%\n"
    }
   }
  },
  {
   "cell_type": "markdown",
   "source": [
    "Controllando di nuovo il DataFrame \"prof\" e i suoi valori NaN possiamo affermare di aver eseguito una pulizia completa del dataset perdendo poche informazioni."
   ],
   "metadata": {
    "collapsed": false
   }
  },
  {
   "cell_type": "code",
   "execution_count": 22,
   "outputs": [
    {
     "data": {
      "text/plain": "            contain na   number of na \nAGE               False              0\nGENDER            False              0\nDOMAIN            False              0\nPhD               False              0\nYEARSEXP          False              0\nUNIVERSITY        False              0\nPOSITION          False              0\nUSERWIKI          False              0",
      "text/html": "<div>\n<style scoped>\n    .dataframe tbody tr th:only-of-type {\n        vertical-align: middle;\n    }\n\n    .dataframe tbody tr th {\n        vertical-align: top;\n    }\n\n    .dataframe thead th {\n        text-align: right;\n    }\n</style>\n<table border=\"1\" class=\"dataframe\">\n  <thead>\n    <tr style=\"text-align: right;\">\n      <th></th>\n      <th>contain na</th>\n      <th>number of na</th>\n    </tr>\n  </thead>\n  <tbody>\n    <tr>\n      <th>AGE</th>\n      <td>False</td>\n      <td>0</td>\n    </tr>\n    <tr>\n      <th>GENDER</th>\n      <td>False</td>\n      <td>0</td>\n    </tr>\n    <tr>\n      <th>DOMAIN</th>\n      <td>False</td>\n      <td>0</td>\n    </tr>\n    <tr>\n      <th>PhD</th>\n      <td>False</td>\n      <td>0</td>\n    </tr>\n    <tr>\n      <th>YEARSEXP</th>\n      <td>False</td>\n      <td>0</td>\n    </tr>\n    <tr>\n      <th>UNIVERSITY</th>\n      <td>False</td>\n      <td>0</td>\n    </tr>\n    <tr>\n      <th>POSITION</th>\n      <td>False</td>\n      <td>0</td>\n    </tr>\n    <tr>\n      <th>USERWIKI</th>\n      <td>False</td>\n      <td>0</td>\n    </tr>\n  </tbody>\n</table>\n</div>"
     },
     "execution_count": 22,
     "metadata": {},
     "output_type": "execute_result"
    }
   ],
   "source": [
    "# mostra na di prof dopo manuipolazioni\n",
    "pd.DataFrame({ 'contain na ': prof.isna().any() ,'number of na ': prof.isna().sum() })"
   ],
   "metadata": {
    "collapsed": false,
    "pycharm": {
     "name": "#%%\n"
    }
   }
  },
  {
   "cell_type": "markdown",
   "source": [
    "------------------------------------------------"
   ],
   "metadata": {
    "collapsed": false
   }
  },
  {
   "cell_type": "markdown",
   "source": [
    "## Questionario\n",
    "\n",
    "Questo sottoinsieme raccoglie risposte al sondaggio rilasciate da ogni professore.\n",
    "Ogni risposta puo avere un solo valore da 1 a 5, dove __1__: rappresenta \"fortemente in disaccordo / mai\" e __5__: \"fortemente d'accordo / sempre\"\n",
    "\n",
    "Argomento | Nome attributo | Desc\n",
    "----|------|-------\n",
    "Utilità percepita | PU1 | L'uso di Wikipedia rende più facile per gli studenti sviluppare nuove competenze\n",
    " - | PU2 | L'uso di Wikipedia migliora l'apprendimento degli studenti\n",
    " - | PU3 | Wikipedia è utile per l'insegnamento\n",
    "Facilità d'uso percepita | PEU1| Wikipedia è facile da usare\n",
    " - | PEU2 | È facile trovare in Wikipedia le informazioni che cerchi\n",
    " - | PEU3 | È facile aggiungere o modificare informazioni in Wikipedia\n",
    "Piacere percepito | ENJ1| L'uso di Wikipedia stimola la curiosità\n",
    " - | ENJ2 | L'uso di Wikipedia è divertente\n",
    "Qualità | QU1| Gli articoli di Wikipedia sono affidabili\n",
    " - | QU2 | Gli articoli di Wikipedia sono aggiornati\n",
    " - | QU3 | Gli articoli di Wikipedia sono completi\n",
    " - | QU4 | Nella mia area di competenza, Wikipedia ha una qualità inferiore rispetto ad altre risorse educative\n",
    " - | QU5 | Ho fiducia nel sistema di editing di Wikipedia\n",
    "Visibilità | VIS1| Wikipedia migliora la visibilità del lavoro degli studenti\n",
    " - | VIS2 | È facile avere un registro dei contributi fatti in Wikipedia\n",
    " - | VIS3 | Cito Wikipedia nei miei articoli accademici\n",
    "Immagine sociale | IM1| L'uso di Wikipedia è ben considerato dai colleghi\n",
    " - | IM2 | Nel mondo accademico, la condivisione di risorse educative aperte è apprezzata\n",
    " - | IM3 | I miei colleghi usano Wikipedia\n",
    "Atteggiamento di condivisione | SA1| È importante condividere i contenuti accademici in piattaforme aperte\n",
    " - | SA2 | È importante pubblicare i risultati della ricerca in altri media che non siano riviste accademiche o libri\n",
    " - | SA3 | È importante che gli studenti acquisiscano familiarità con gli ambienti collaborativi online\n",
    "Comportamento d'uso | USE1| Uso Wikipedia per sviluppare il mio materiale didattico\n",
    " - | USE2 | Uso Wikipedia come piattaforma per sviluppare attività educative con gli studenti\n",
    " - | USE3 | Raccomando ai miei studenti di usare Wikipedia\n",
    " - | USE4 | Raccomando ai miei colleghi di usare Wikipedia\n",
    " - | USE5 | Sono d'accordo che i miei studenti usino Wikipedia nei miei corsi\n",
    "Profilo 2.0 | PF1| Contribuisco ai blog\n",
    " - | PF2 | Partecipo attivamente alle reti sociali\n",
    " - | PF3 | Pubblico contenuti accademici in piattaforme aperte\n",
    "Rilevanza del lavoro | JR1| La mia università promuove l'uso di ambienti collaborativi aperti in Internet\n",
    " - | JR2 | La mia università considera l'uso di ambienti collaborativi aperti in Internet come un merito dell'insegnamento\n",
    "Intenzione comportamentale | BI1| In futuro raccomanderò l'uso di Wikipedia ai miei colleghi e studenti\n",
    " - | BI2 | In futuro userò Wikipedia nella mia attività di insegnamento\n",
    "Incentivi | INC1| Per progettare attività educative utilizzando Wikipedia, sarebbe utile: una guida alle migliori pratiche\n",
    " - | INC2 | Per progettare attività educative utilizzando Wikipedia, sarebbe utile: ricevere istruzioni da un collega\n",
    " - | INC3 | Per progettare attività educative utilizzando Wikipedia, sarebbe utile: ottenere una formazione specifica\n",
    " - | INC4 | Sarebbe utile progettare attività educative usando Wikipedia: maggiore riconoscimento istituzionale\n",
    "Esperienza | EXP1| Consulto Wikipedia per questioni relative al mio campo di competenza\n",
    " - | EXP2 | Consulto Wikipedia per altre questioni accademiche\n",
    " - | EXP3 | Consulto Wikipedia per questioni personali\n",
    " - | EXP4 | Contribuisco a Wikipedia (edizioni, revisioni, miglioramento degli articoli...)\n",
    " - | EXP5 | Uso i wiki per lavorare con i miei studenti"
   ],
   "metadata": {
    "collapsed": false
   }
  },
  {
   "cell_type": "markdown",
   "source": [
    "Prima di procedere con l'analisi del set di dati verranno eliminate i campioni dei professori non più presenti nel dataset grazie all'utilizzo degli Index"
   ],
   "metadata": {
    "collapsed": false
   }
  },
  {
   "cell_type": "code",
   "execution_count": 23,
   "outputs": [
    {
     "data": {
      "text/plain": "      contain na   number of na \nPU1          True              6\nPU2          True             10\nPU3          True              4\nPEU1         True              4\nPEU2         True             14\nPEU3         True             92\nENJ1         True              6\nENJ2         True             17\nQu1          True              7\nQu2          True             10\nQu3          True             14\nQu4          True             20\nQu5          True             28\nVis1         True             69\nVis2         True            110\nVis3         True              8\nIm1          True             20\nIm2          True             17\nIm3          True             51\nSA1          True              9\nSA2          True             12\nSA3          True             10\nUse1         True             13\nUse2         True             15\nUse3         True              9\nUse4         True             20\nUse5         True             15\nPf1          True             11\nPf2          True              4\nPf3          True             12\nJR1          True             22\nJR2          True             48\nBI1          True             28\nBI2          True             38\nInc1         True             32\nInc2         True             32\nInc3         True             33\nInc4         True             38\nExp1         True             11\nExp2         True             10\nExp3         True             11\nExp4         True             11\nExp5         True             12",
      "text/html": "<div>\n<style scoped>\n    .dataframe tbody tr th:only-of-type {\n        vertical-align: middle;\n    }\n\n    .dataframe tbody tr th {\n        vertical-align: top;\n    }\n\n    .dataframe thead th {\n        text-align: right;\n    }\n</style>\n<table border=\"1\" class=\"dataframe\">\n  <thead>\n    <tr style=\"text-align: right;\">\n      <th></th>\n      <th>contain na</th>\n      <th>number of na</th>\n    </tr>\n  </thead>\n  <tbody>\n    <tr>\n      <th>PU1</th>\n      <td>True</td>\n      <td>6</td>\n    </tr>\n    <tr>\n      <th>PU2</th>\n      <td>True</td>\n      <td>10</td>\n    </tr>\n    <tr>\n      <th>PU3</th>\n      <td>True</td>\n      <td>4</td>\n    </tr>\n    <tr>\n      <th>PEU1</th>\n      <td>True</td>\n      <td>4</td>\n    </tr>\n    <tr>\n      <th>PEU2</th>\n      <td>True</td>\n      <td>14</td>\n    </tr>\n    <tr>\n      <th>PEU3</th>\n      <td>True</td>\n      <td>92</td>\n    </tr>\n    <tr>\n      <th>ENJ1</th>\n      <td>True</td>\n      <td>6</td>\n    </tr>\n    <tr>\n      <th>ENJ2</th>\n      <td>True</td>\n      <td>17</td>\n    </tr>\n    <tr>\n      <th>Qu1</th>\n      <td>True</td>\n      <td>7</td>\n    </tr>\n    <tr>\n      <th>Qu2</th>\n      <td>True</td>\n      <td>10</td>\n    </tr>\n    <tr>\n      <th>Qu3</th>\n      <td>True</td>\n      <td>14</td>\n    </tr>\n    <tr>\n      <th>Qu4</th>\n      <td>True</td>\n      <td>20</td>\n    </tr>\n    <tr>\n      <th>Qu5</th>\n      <td>True</td>\n      <td>28</td>\n    </tr>\n    <tr>\n      <th>Vis1</th>\n      <td>True</td>\n      <td>69</td>\n    </tr>\n    <tr>\n      <th>Vis2</th>\n      <td>True</td>\n      <td>110</td>\n    </tr>\n    <tr>\n      <th>Vis3</th>\n      <td>True</td>\n      <td>8</td>\n    </tr>\n    <tr>\n      <th>Im1</th>\n      <td>True</td>\n      <td>20</td>\n    </tr>\n    <tr>\n      <th>Im2</th>\n      <td>True</td>\n      <td>17</td>\n    </tr>\n    <tr>\n      <th>Im3</th>\n      <td>True</td>\n      <td>51</td>\n    </tr>\n    <tr>\n      <th>SA1</th>\n      <td>True</td>\n      <td>9</td>\n    </tr>\n    <tr>\n      <th>SA2</th>\n      <td>True</td>\n      <td>12</td>\n    </tr>\n    <tr>\n      <th>SA3</th>\n      <td>True</td>\n      <td>10</td>\n    </tr>\n    <tr>\n      <th>Use1</th>\n      <td>True</td>\n      <td>13</td>\n    </tr>\n    <tr>\n      <th>Use2</th>\n      <td>True</td>\n      <td>15</td>\n    </tr>\n    <tr>\n      <th>Use3</th>\n      <td>True</td>\n      <td>9</td>\n    </tr>\n    <tr>\n      <th>Use4</th>\n      <td>True</td>\n      <td>20</td>\n    </tr>\n    <tr>\n      <th>Use5</th>\n      <td>True</td>\n      <td>15</td>\n    </tr>\n    <tr>\n      <th>Pf1</th>\n      <td>True</td>\n      <td>11</td>\n    </tr>\n    <tr>\n      <th>Pf2</th>\n      <td>True</td>\n      <td>4</td>\n    </tr>\n    <tr>\n      <th>Pf3</th>\n      <td>True</td>\n      <td>12</td>\n    </tr>\n    <tr>\n      <th>JR1</th>\n      <td>True</td>\n      <td>22</td>\n    </tr>\n    <tr>\n      <th>JR2</th>\n      <td>True</td>\n      <td>48</td>\n    </tr>\n    <tr>\n      <th>BI1</th>\n      <td>True</td>\n      <td>28</td>\n    </tr>\n    <tr>\n      <th>BI2</th>\n      <td>True</td>\n      <td>38</td>\n    </tr>\n    <tr>\n      <th>Inc1</th>\n      <td>True</td>\n      <td>32</td>\n    </tr>\n    <tr>\n      <th>Inc2</th>\n      <td>True</td>\n      <td>32</td>\n    </tr>\n    <tr>\n      <th>Inc3</th>\n      <td>True</td>\n      <td>33</td>\n    </tr>\n    <tr>\n      <th>Inc4</th>\n      <td>True</td>\n      <td>38</td>\n    </tr>\n    <tr>\n      <th>Exp1</th>\n      <td>True</td>\n      <td>11</td>\n    </tr>\n    <tr>\n      <th>Exp2</th>\n      <td>True</td>\n      <td>10</td>\n    </tr>\n    <tr>\n      <th>Exp3</th>\n      <td>True</td>\n      <td>11</td>\n    </tr>\n    <tr>\n      <th>Exp4</th>\n      <td>True</td>\n      <td>11</td>\n    </tr>\n    <tr>\n      <th>Exp5</th>\n      <td>True</td>\n      <td>12</td>\n    </tr>\n  </tbody>\n</table>\n</div>"
     },
     "execution_count": 23,
     "metadata": {},
     "output_type": "execute_result"
    }
   ],
   "source": [
    "#escludo le domande relative ai professori non più presenti\n",
    "questionario = questionario.loc[prof.index]\n",
    "\n",
    "#stampa degli NaN per ogni attributo\n",
    "pd.DataFrame({ 'contain na ': questionario.isna().any() ,'number of na ': questionario.isna().sum() })"
   ],
   "metadata": {
    "collapsed": false,
    "pycharm": {
     "name": "#%%\n"
    }
   }
  },
  {
   "cell_type": "markdown",
   "source": [
    "### Grafici\n",
    "\n",
    "Per avere una visione più puntale del sottoinsieme in lavorazione risulta essere vantaggioso la costruzione di plot descrittivi.\n"
   ],
   "metadata": {
    "collapsed": false
   }
  },
  {
   "cell_type": "code",
   "execution_count": 23,
   "outputs": [],
   "source": [],
   "metadata": {
    "collapsed": false,
    "pycharm": {
     "name": "#%%\n"
    }
   }
  },
  {
   "cell_type": "markdown",
   "source": [
    "Come possiamo vedere dai grafici, la maggior parte delle domande ha una distribuzione quasi normale, con la maggior parte delle risposte concentrate tra 2, 3 e 4.\n",
    "Risultano essere presenti alcune domande sulle quali sono presenti molti valori rappresentati il disaccordo, è il caso Use1, Use2, Vis3 e Exp5.\n",
    "Queste domande, riferendosi all'uso di wikipedia per l'elaborazione di materiale e attività educative, risultano essere molto interessanti ai fini dello studio e forniscono un indicazione sull'opinione di una buona parte dei professori.\n"
   ],
   "metadata": {
    "collapsed": false
   }
  },
  {
   "cell_type": "markdown",
   "source": [
    "### Ricodifica QU4\n",
    "\n",
    "Analizzando le domande relative al questionario si è notato che la domanda QU4 (\"Nella mia area di competenza, Wikipedia ha una qualità inferiore rispetto ad altre risorse educative\") è posta in maniera non coerente rispetto alle altre.\n",
    "\n",
    "In questa specifica domanda una risposta con valore 5 esprime un giudizio negativo, per questo motivo eseguiremo una ricodifica delle risposte cosi da ottenere una maggiore linearità."
   ],
   "metadata": {
    "collapsed": false
   }
  },
  {
   "cell_type": "markdown",
   "source": [
    "#### Confronto fra UFunc e Funzioni semplici\n",
    "\n",
    "Per operare questo tipo di codifica era necessario operare su tutta la Series, questo ha permesso di confrontare i diversi approcci possibili.\n",
    "Nel primo caso si è utilizzata la funzione built-in `.map()` disponibile nella libreria Pandas, nel secondo la funzione utilizza UFuncs adatte alla manipolazione delle series mentre l'ultima consiste in un ciclo su tutta la Series dove per ogni elemento si applica una funzione lambda che simula la map() del primo test"
   ],
   "metadata": {
    "collapsed": false
   }
  },
  {
   "cell_type": "code",
   "execution_count": 24,
   "outputs": [],
   "source": [
    "#trasformo per facilitare il test\n",
    "questionario['Qu4'] = questionario['Qu4'].fillna(0).astype(int)\n"
   ],
   "metadata": {
    "collapsed": false,
    "pycharm": {
     "name": "#%%\n"
    }
   }
  },
  {
   "cell_type": "code",
   "execution_count": 25,
   "outputs": [],
   "source": [
    "# funzione built|in\n",
    "# %timeit questionario['Qu4'].map({1:5, 2:4, 3:3, 4:2, 5:1})"
   ],
   "metadata": {
    "collapsed": false,
    "pycharm": {
     "name": "#%%\n"
    }
   }
  },
  {
   "cell_type": "markdown",
   "source": [
    "`def reverse_vote_uf(s):\n",
    "\n",
    "    v1 = s.mask(s == 1, 5)\n",
    "    v2 = s.mask(s == 2, 4)\n",
    "    v3 = s.mask(s == 3, 3)\n",
    "    v4 = s.mask(s == 4, 2)\n",
    "    v5 = s.mask(s == 5, 1)\n",
    "\n",
    "    v3 = v3.combine(v1, max)\n",
    "    v3 = v3.combine(v2, max)\n",
    "    v3 = v3.combine(v4, max)\n",
    "    v3 = v3.combine(v5, max)\n",
    "\n",
    "    return v3`"
   ],
   "metadata": {
    "collapsed": false
   }
  },
  {
   "cell_type": "code",
   "execution_count": 26,
   "outputs": [],
   "source": [
    "# mask e combine\n",
    "# %timeit main.reverse_vote_uf(questionario['Qu4'])"
   ],
   "metadata": {
    "collapsed": false,
    "pycharm": {
     "name": "#%%\n"
    }
   }
  },
  {
   "cell_type": "markdown",
   "source": [
    "`def switch(e):\n",
    "    switcher = {\n",
    "        0: 0,\n",
    "        1: 5,\n",
    "        2: 4,\n",
    "        3: 3,\n",
    "        4: 2,\n",
    "        5: 1\n",
    "    }\n",
    "    return switcher.get(e, lambda: \"Invalid\")\n",
    "\n",
    "\n",
    "def reverse_vote_not_uf(s):\n",
    "    list = []\n",
    "    for i in range(s.size):\n",
    "        list.append(switch(s[i]))\n",
    "    return list`"
   ],
   "metadata": {
    "collapsed": false
   }
  },
  {
   "cell_type": "code",
   "execution_count": 27,
   "outputs": [],
   "source": [
    "# foreach con funzione switcher che utilizza map\n",
    "# %timeit main.reverse_vote_not_uf(questionario['Qu4'].array)"
   ],
   "metadata": {
    "collapsed": false,
    "pycharm": {
     "name": "#%%\n"
    }
   }
  },
  {
   "cell_type": "markdown",
   "source": [
    "Il risultato sorprende in parte, questo infatti conferma che la funzione `.map()` di pandas è la più veloce ed ottimizzata ma mostra come il secondo approccio sia meno efficiente rispetto all'ultimo.\n",
    "Questo risultato ci permette di fare riflessioni sulle `lambda` function, queste infatti risultano essere molto efficienti rispetto alle normali funzioni quasi quanto le `.map()`"
   ],
   "metadata": {
    "collapsed": false
   }
  },
  {
   "cell_type": "code",
   "execution_count": 28,
   "outputs": [],
   "source": [
    "questionario['Qu4'] = questionario['Qu4'].map({0:np.nan, 1:5, 2:4, 3:3, 4:2, 5:1})"
   ],
   "metadata": {
    "collapsed": false,
    "pycharm": {
     "name": "#%%\n"
    }
   }
  },
  {
   "cell_type": "markdown",
   "source": [
    "### Pulizia degli attributi e cambio dtype\n",
    "\n",
    "Tutti gli attributi, come visto in precedenza, possiedono almeno un NaN. Stampare il numero dei campioni coinvolti con nessun NaN è utile a capire quanto questo fenomeno abbia peso sul dataset."
   ],
   "metadata": {
    "collapsed": false
   }
  },
  {
   "cell_type": "code",
   "execution_count": 29,
   "outputs": [
    {
     "data": {
      "text/plain": "(596, 43)"
     },
     "execution_count": 29,
     "metadata": {},
     "output_type": "execute_result"
    }
   ],
   "source": [
    "# lo mostro soltanto per vedere quante sono le righe complete\n",
    "questionario.dropna().shape"
   ],
   "metadata": {
    "collapsed": false,
    "pycharm": {
     "name": "#%%\n"
    }
   }
  },
  {
   "cell_type": "markdown",
   "source": [
    "Una semplice esclusione delle osservazioni (righe) con NaN nelle risposte del sondaggio rimuove circa 300 osservazioni. Questo è circa 1/3 del set di dati ed è una parte abbastanza significativa dei dati perciò si cercherà un altro approccio per ottenere un dataset completamente pulito.\n",
    "\n",
    "#### Diversi approcci per pulizia"
   ],
   "metadata": {
    "collapsed": false
   }
  },
  {
   "cell_type": "markdown",
   "source": [
    "A seguito delle analisi sul dataset, le opzioni applicabili sono 3:\n",
    "\n",
    "- eliminare riga solo se ha n risposte mancanti, con n valore arbitrario\n",
    "- sostituire gli NaN con un valore specifico, ad esempio 0 o 6\n",
    "- sostituire gli NaN con la mediana\n",
    "\n",
    "La prima soluzione non risulta essere percorribile, ogni risposta alle domande può risultare importante ai fini dello studio. Ad esempio, eliminare una riga nel caso in cui il professore non abbia risposto ai quesiti \"USE\" quando questi sono quelli da predirre eliminerebbe campioni utili al dataset\n",
    "\n",
    "la seconda opzione risulterebbe interessante qualora il dataset non dovesse essere utilizzato per il ML, introdurre nuovi valori numerici che non hanno un reale riscontro con le domande effettuate porterebbe possibili comportamenti inattesi da parte degli algoritmi.\n",
    "\n",
    "La soluzione migliore risulta essere l'ultima anche se non risulterà possibile effettuare un'analisi sul motivo per cui i dati sono nulli."
   ],
   "metadata": {
    "collapsed": false
   }
  },
  {
   "cell_type": "code",
   "execution_count": 30,
   "outputs": [
    {
     "data": {
      "text/plain": "      contain na   number of na \nPU1         False              0\nPU2         False              0\nPU3         False              0\nPEU1        False              0\nPEU2        False              0\nPEU3        False              0\nENJ1        False              0\nENJ2        False              0\nQu1         False              0\nQu2         False              0\nQu3         False              0\nQu4         False              0\nQu5         False              0\nVis1        False              0\nVis2        False              0\nVis3        False              0\nIm1         False              0\nIm2         False              0\nIm3         False              0\nSA1         False              0\nSA2         False              0\nSA3         False              0\nUse1        False              0\nUse2        False              0\nUse3        False              0\nUse4        False              0\nUse5        False              0\nPf1         False              0\nPf2         False              0\nPf3         False              0\nJR1         False              0\nJR2         False              0\nBI1         False              0\nBI2         False              0\nInc1        False              0\nInc2        False              0\nInc3        False              0\nInc4        False              0\nExp1        False              0\nExp2        False              0\nExp3        False              0\nExp4        False              0\nExp5        False              0",
      "text/html": "<div>\n<style scoped>\n    .dataframe tbody tr th:only-of-type {\n        vertical-align: middle;\n    }\n\n    .dataframe tbody tr th {\n        vertical-align: top;\n    }\n\n    .dataframe thead th {\n        text-align: right;\n    }\n</style>\n<table border=\"1\" class=\"dataframe\">\n  <thead>\n    <tr style=\"text-align: right;\">\n      <th></th>\n      <th>contain na</th>\n      <th>number of na</th>\n    </tr>\n  </thead>\n  <tbody>\n    <tr>\n      <th>PU1</th>\n      <td>False</td>\n      <td>0</td>\n    </tr>\n    <tr>\n      <th>PU2</th>\n      <td>False</td>\n      <td>0</td>\n    </tr>\n    <tr>\n      <th>PU3</th>\n      <td>False</td>\n      <td>0</td>\n    </tr>\n    <tr>\n      <th>PEU1</th>\n      <td>False</td>\n      <td>0</td>\n    </tr>\n    <tr>\n      <th>PEU2</th>\n      <td>False</td>\n      <td>0</td>\n    </tr>\n    <tr>\n      <th>PEU3</th>\n      <td>False</td>\n      <td>0</td>\n    </tr>\n    <tr>\n      <th>ENJ1</th>\n      <td>False</td>\n      <td>0</td>\n    </tr>\n    <tr>\n      <th>ENJ2</th>\n      <td>False</td>\n      <td>0</td>\n    </tr>\n    <tr>\n      <th>Qu1</th>\n      <td>False</td>\n      <td>0</td>\n    </tr>\n    <tr>\n      <th>Qu2</th>\n      <td>False</td>\n      <td>0</td>\n    </tr>\n    <tr>\n      <th>Qu3</th>\n      <td>False</td>\n      <td>0</td>\n    </tr>\n    <tr>\n      <th>Qu4</th>\n      <td>False</td>\n      <td>0</td>\n    </tr>\n    <tr>\n      <th>Qu5</th>\n      <td>False</td>\n      <td>0</td>\n    </tr>\n    <tr>\n      <th>Vis1</th>\n      <td>False</td>\n      <td>0</td>\n    </tr>\n    <tr>\n      <th>Vis2</th>\n      <td>False</td>\n      <td>0</td>\n    </tr>\n    <tr>\n      <th>Vis3</th>\n      <td>False</td>\n      <td>0</td>\n    </tr>\n    <tr>\n      <th>Im1</th>\n      <td>False</td>\n      <td>0</td>\n    </tr>\n    <tr>\n      <th>Im2</th>\n      <td>False</td>\n      <td>0</td>\n    </tr>\n    <tr>\n      <th>Im3</th>\n      <td>False</td>\n      <td>0</td>\n    </tr>\n    <tr>\n      <th>SA1</th>\n      <td>False</td>\n      <td>0</td>\n    </tr>\n    <tr>\n      <th>SA2</th>\n      <td>False</td>\n      <td>0</td>\n    </tr>\n    <tr>\n      <th>SA3</th>\n      <td>False</td>\n      <td>0</td>\n    </tr>\n    <tr>\n      <th>Use1</th>\n      <td>False</td>\n      <td>0</td>\n    </tr>\n    <tr>\n      <th>Use2</th>\n      <td>False</td>\n      <td>0</td>\n    </tr>\n    <tr>\n      <th>Use3</th>\n      <td>False</td>\n      <td>0</td>\n    </tr>\n    <tr>\n      <th>Use4</th>\n      <td>False</td>\n      <td>0</td>\n    </tr>\n    <tr>\n      <th>Use5</th>\n      <td>False</td>\n      <td>0</td>\n    </tr>\n    <tr>\n      <th>Pf1</th>\n      <td>False</td>\n      <td>0</td>\n    </tr>\n    <tr>\n      <th>Pf2</th>\n      <td>False</td>\n      <td>0</td>\n    </tr>\n    <tr>\n      <th>Pf3</th>\n      <td>False</td>\n      <td>0</td>\n    </tr>\n    <tr>\n      <th>JR1</th>\n      <td>False</td>\n      <td>0</td>\n    </tr>\n    <tr>\n      <th>JR2</th>\n      <td>False</td>\n      <td>0</td>\n    </tr>\n    <tr>\n      <th>BI1</th>\n      <td>False</td>\n      <td>0</td>\n    </tr>\n    <tr>\n      <th>BI2</th>\n      <td>False</td>\n      <td>0</td>\n    </tr>\n    <tr>\n      <th>Inc1</th>\n      <td>False</td>\n      <td>0</td>\n    </tr>\n    <tr>\n      <th>Inc2</th>\n      <td>False</td>\n      <td>0</td>\n    </tr>\n    <tr>\n      <th>Inc3</th>\n      <td>False</td>\n      <td>0</td>\n    </tr>\n    <tr>\n      <th>Inc4</th>\n      <td>False</td>\n      <td>0</td>\n    </tr>\n    <tr>\n      <th>Exp1</th>\n      <td>False</td>\n      <td>0</td>\n    </tr>\n    <tr>\n      <th>Exp2</th>\n      <td>False</td>\n      <td>0</td>\n    </tr>\n    <tr>\n      <th>Exp3</th>\n      <td>False</td>\n      <td>0</td>\n    </tr>\n    <tr>\n      <th>Exp4</th>\n      <td>False</td>\n      <td>0</td>\n    </tr>\n    <tr>\n      <th>Exp5</th>\n      <td>False</td>\n      <td>0</td>\n    </tr>\n  </tbody>\n</table>\n</div>"
     },
     "execution_count": 30,
     "metadata": {},
     "output_type": "execute_result"
    }
   ],
   "source": [
    "# sfruttiamo le lamda function grazie alle osservazioni precedenti\n",
    "questionario = questionario.apply(lambda x: x.fillna(x.median()),axis=0)\n",
    "questionario = questionario.astype('int8')\n",
    "\n",
    "pd.DataFrame({ 'contain na ': questionario.isna().any() ,'number of na ': questionario.isna().sum() })"
   ],
   "metadata": {
    "collapsed": false,
    "pycharm": {
     "name": "#%%\n"
    }
   }
  },
  {
   "cell_type": "code",
   "execution_count": 31,
   "outputs": [
    {
     "data": {
      "text/plain": "              PU1         PU2         PU3        PEU1        PEU2        PEU3  \\\ncount  871.000000  871.000000  871.000000  871.000000  871.000000  871.000000   \nmean     3.137773    3.150402    3.450057    4.347876    4.049369    3.330654   \nstd      0.998543    0.976327    1.042531    0.786081    0.817114    0.872815   \nmin      1.000000    1.000000    1.000000    1.000000    1.000000    1.000000   \n25%      2.000000    2.000000    3.000000    4.000000    4.000000    3.000000   \n50%      3.000000    3.000000    3.000000    5.000000    4.000000    3.000000   \n75%      4.000000    4.000000    4.000000    5.000000    5.000000    4.000000   \nmax      5.000000    5.000000    5.000000    5.000000    5.000000    5.000000   \n\n             ENJ1        ENJ2         Qu1         Qu2         Qu3         Qu4  \\\ncount  871.000000  871.000000  871.000000  871.000000  871.000000  871.000000   \nmean     3.800230    3.828932    3.196326    3.415614    2.975890    2.771527   \nstd      0.962062    0.868021    0.861320    0.850657    0.855337    1.069716   \nmin      1.000000    1.000000    1.000000    1.000000    1.000000    1.000000   \n25%      3.000000    3.000000    3.000000    3.000000    2.000000    2.000000   \n50%      4.000000    4.000000    3.000000    3.000000    3.000000    3.000000   \n75%      4.000000    4.000000    4.000000    4.000000    4.000000    4.000000   \nmax      5.000000    5.000000    5.000000    5.000000    5.000000    5.000000   \n\n              Qu5        Vis1        Vis2        Vis3         Im1         Im2  \\\ncount  871.000000  871.000000  871.000000  871.000000  871.000000  871.000000   \nmean     3.027555    2.955224    3.068886    2.029851    2.458094    3.293915   \nstd      0.940371    0.866525    0.799329    1.146320    0.960256    1.026521   \nmin      1.000000    1.000000    1.000000    1.000000    1.000000    1.000000   \n25%      2.000000    2.000000    3.000000    1.000000    2.000000    3.000000   \n50%      3.000000    3.000000    3.000000    2.000000    2.000000    3.000000   \n75%      4.000000    3.000000    3.000000    3.000000    3.000000    4.000000   \nmax      5.000000    5.000000    5.000000    5.000000    5.000000    5.000000   \n\n              Im3         SA1         SA2         SA3        Use1        Use2  \\\ncount  871.000000  871.000000  871.000000  871.000000  871.000000  871.000000   \nmean     2.890930    4.187141    4.136625    4.392652    2.104478    1.820896   \nstd      0.968847    0.839058    0.946100    0.794892    1.082511    1.060286   \nmin      1.000000    1.000000    1.000000    1.000000    1.000000    1.000000   \n25%      2.000000    4.000000    4.000000    4.000000    1.000000    1.000000   \n50%      3.000000    4.000000    4.000000    5.000000    2.000000    1.000000   \n75%      3.000000    5.000000    5.000000    5.000000    3.000000    2.000000   \nmax      5.000000    5.000000    5.000000    5.000000    5.000000    5.000000   \n\n             Use3        Use4        Use5         Pf1         Pf2         Pf3  \\\ncount  871.000000  871.000000  871.000000  871.000000  871.000000  871.000000   \nmean     2.660161    2.535017    3.303100    2.264064    2.856487    2.544202   \nstd      1.197415    1.168889    1.075314    1.270924    1.305629    1.292795   \nmin      1.000000    1.000000    1.000000    1.000000    1.000000    1.000000   \n25%      2.000000    2.000000    3.000000    1.000000    2.000000    1.000000   \n50%      3.000000    2.000000    3.000000    2.000000    3.000000    2.000000   \n75%      4.000000    3.000000    4.000000    3.000000    4.000000    4.000000   \nmax      5.000000    5.000000    5.000000    5.000000    5.000000    5.000000   \n\n              JR1         JR2        BI1         BI2        Inc1        Inc2  \\\ncount  871.000000  871.000000  871.00000  871.000000  871.000000  871.000000   \nmean     3.722158    3.127440    2.95752    3.000000    3.783008    3.501722   \nstd      1.068226    1.170938    1.03359    1.073184    1.069960    1.105757   \nmin      1.000000    1.000000    1.00000    1.000000    1.000000    1.000000   \n25%      3.000000    2.000000    2.00000    2.000000    3.000000    3.000000   \n50%      4.000000    3.000000    3.00000    3.000000    4.000000    4.000000   \n75%      5.000000    4.000000    4.00000    4.000000    5.000000    4.000000   \nmax      5.000000    5.000000    5.00000    5.000000    5.000000    5.000000   \n\n             Inc3        Inc4        Exp1        Exp2        Exp3        Exp4  \\\ncount  871.000000  871.000000  871.000000  871.000000  871.000000  871.000000   \nmean     3.444317    3.528129    2.991963    3.489093    3.652124    1.572905   \nstd      1.129057    1.164149    1.176857    1.103623    1.111897    0.937789   \nmin      1.000000    1.000000    1.000000    1.000000    1.000000    1.000000   \n25%      3.000000    3.000000    2.000000    3.000000    3.000000    1.000000   \n50%      3.000000    4.000000    3.000000    4.000000    4.000000    1.000000   \n75%      4.000000    4.000000    4.000000    4.000000    4.000000    2.000000   \nmax      5.000000    5.000000    5.000000    5.000000    5.000000    5.000000   \n\n             Exp5  \ncount  871.000000  \nmean     2.478760  \nstd      1.336214  \nmin      1.000000  \n25%      1.000000  \n50%      2.000000  \n75%      4.000000  \nmax      5.000000  ",
      "text/html": "<div>\n<style scoped>\n    .dataframe tbody tr th:only-of-type {\n        vertical-align: middle;\n    }\n\n    .dataframe tbody tr th {\n        vertical-align: top;\n    }\n\n    .dataframe thead th {\n        text-align: right;\n    }\n</style>\n<table border=\"1\" class=\"dataframe\">\n  <thead>\n    <tr style=\"text-align: right;\">\n      <th></th>\n      <th>PU1</th>\n      <th>PU2</th>\n      <th>PU3</th>\n      <th>PEU1</th>\n      <th>PEU2</th>\n      <th>PEU3</th>\n      <th>ENJ1</th>\n      <th>ENJ2</th>\n      <th>Qu1</th>\n      <th>Qu2</th>\n      <th>Qu3</th>\n      <th>Qu4</th>\n      <th>Qu5</th>\n      <th>Vis1</th>\n      <th>Vis2</th>\n      <th>Vis3</th>\n      <th>Im1</th>\n      <th>Im2</th>\n      <th>Im3</th>\n      <th>SA1</th>\n      <th>SA2</th>\n      <th>SA3</th>\n      <th>Use1</th>\n      <th>Use2</th>\n      <th>Use3</th>\n      <th>Use4</th>\n      <th>Use5</th>\n      <th>Pf1</th>\n      <th>Pf2</th>\n      <th>Pf3</th>\n      <th>JR1</th>\n      <th>JR2</th>\n      <th>BI1</th>\n      <th>BI2</th>\n      <th>Inc1</th>\n      <th>Inc2</th>\n      <th>Inc3</th>\n      <th>Inc4</th>\n      <th>Exp1</th>\n      <th>Exp2</th>\n      <th>Exp3</th>\n      <th>Exp4</th>\n      <th>Exp5</th>\n    </tr>\n  </thead>\n  <tbody>\n    <tr>\n      <th>count</th>\n      <td>871.000000</td>\n      <td>871.000000</td>\n      <td>871.000000</td>\n      <td>871.000000</td>\n      <td>871.000000</td>\n      <td>871.000000</td>\n      <td>871.000000</td>\n      <td>871.000000</td>\n      <td>871.000000</td>\n      <td>871.000000</td>\n      <td>871.000000</td>\n      <td>871.000000</td>\n      <td>871.000000</td>\n      <td>871.000000</td>\n      <td>871.000000</td>\n      <td>871.000000</td>\n      <td>871.000000</td>\n      <td>871.000000</td>\n      <td>871.000000</td>\n      <td>871.000000</td>\n      <td>871.000000</td>\n      <td>871.000000</td>\n      <td>871.000000</td>\n      <td>871.000000</td>\n      <td>871.000000</td>\n      <td>871.000000</td>\n      <td>871.000000</td>\n      <td>871.000000</td>\n      <td>871.000000</td>\n      <td>871.000000</td>\n      <td>871.000000</td>\n      <td>871.000000</td>\n      <td>871.00000</td>\n      <td>871.000000</td>\n      <td>871.000000</td>\n      <td>871.000000</td>\n      <td>871.000000</td>\n      <td>871.000000</td>\n      <td>871.000000</td>\n      <td>871.000000</td>\n      <td>871.000000</td>\n      <td>871.000000</td>\n      <td>871.000000</td>\n    </tr>\n    <tr>\n      <th>mean</th>\n      <td>3.137773</td>\n      <td>3.150402</td>\n      <td>3.450057</td>\n      <td>4.347876</td>\n      <td>4.049369</td>\n      <td>3.330654</td>\n      <td>3.800230</td>\n      <td>3.828932</td>\n      <td>3.196326</td>\n      <td>3.415614</td>\n      <td>2.975890</td>\n      <td>2.771527</td>\n      <td>3.027555</td>\n      <td>2.955224</td>\n      <td>3.068886</td>\n      <td>2.029851</td>\n      <td>2.458094</td>\n      <td>3.293915</td>\n      <td>2.890930</td>\n      <td>4.187141</td>\n      <td>4.136625</td>\n      <td>4.392652</td>\n      <td>2.104478</td>\n      <td>1.820896</td>\n      <td>2.660161</td>\n      <td>2.535017</td>\n      <td>3.303100</td>\n      <td>2.264064</td>\n      <td>2.856487</td>\n      <td>2.544202</td>\n      <td>3.722158</td>\n      <td>3.127440</td>\n      <td>2.95752</td>\n      <td>3.000000</td>\n      <td>3.783008</td>\n      <td>3.501722</td>\n      <td>3.444317</td>\n      <td>3.528129</td>\n      <td>2.991963</td>\n      <td>3.489093</td>\n      <td>3.652124</td>\n      <td>1.572905</td>\n      <td>2.478760</td>\n    </tr>\n    <tr>\n      <th>std</th>\n      <td>0.998543</td>\n      <td>0.976327</td>\n      <td>1.042531</td>\n      <td>0.786081</td>\n      <td>0.817114</td>\n      <td>0.872815</td>\n      <td>0.962062</td>\n      <td>0.868021</td>\n      <td>0.861320</td>\n      <td>0.850657</td>\n      <td>0.855337</td>\n      <td>1.069716</td>\n      <td>0.940371</td>\n      <td>0.866525</td>\n      <td>0.799329</td>\n      <td>1.146320</td>\n      <td>0.960256</td>\n      <td>1.026521</td>\n      <td>0.968847</td>\n      <td>0.839058</td>\n      <td>0.946100</td>\n      <td>0.794892</td>\n      <td>1.082511</td>\n      <td>1.060286</td>\n      <td>1.197415</td>\n      <td>1.168889</td>\n      <td>1.075314</td>\n      <td>1.270924</td>\n      <td>1.305629</td>\n      <td>1.292795</td>\n      <td>1.068226</td>\n      <td>1.170938</td>\n      <td>1.03359</td>\n      <td>1.073184</td>\n      <td>1.069960</td>\n      <td>1.105757</td>\n      <td>1.129057</td>\n      <td>1.164149</td>\n      <td>1.176857</td>\n      <td>1.103623</td>\n      <td>1.111897</td>\n      <td>0.937789</td>\n      <td>1.336214</td>\n    </tr>\n    <tr>\n      <th>min</th>\n      <td>1.000000</td>\n      <td>1.000000</td>\n      <td>1.000000</td>\n      <td>1.000000</td>\n      <td>1.000000</td>\n      <td>1.000000</td>\n      <td>1.000000</td>\n      <td>1.000000</td>\n      <td>1.000000</td>\n      <td>1.000000</td>\n      <td>1.000000</td>\n      <td>1.000000</td>\n      <td>1.000000</td>\n      <td>1.000000</td>\n      <td>1.000000</td>\n      <td>1.000000</td>\n      <td>1.000000</td>\n      <td>1.000000</td>\n      <td>1.000000</td>\n      <td>1.000000</td>\n      <td>1.000000</td>\n      <td>1.000000</td>\n      <td>1.000000</td>\n      <td>1.000000</td>\n      <td>1.000000</td>\n      <td>1.000000</td>\n      <td>1.000000</td>\n      <td>1.000000</td>\n      <td>1.000000</td>\n      <td>1.000000</td>\n      <td>1.000000</td>\n      <td>1.000000</td>\n      <td>1.00000</td>\n      <td>1.000000</td>\n      <td>1.000000</td>\n      <td>1.000000</td>\n      <td>1.000000</td>\n      <td>1.000000</td>\n      <td>1.000000</td>\n      <td>1.000000</td>\n      <td>1.000000</td>\n      <td>1.000000</td>\n      <td>1.000000</td>\n    </tr>\n    <tr>\n      <th>25%</th>\n      <td>2.000000</td>\n      <td>2.000000</td>\n      <td>3.000000</td>\n      <td>4.000000</td>\n      <td>4.000000</td>\n      <td>3.000000</td>\n      <td>3.000000</td>\n      <td>3.000000</td>\n      <td>3.000000</td>\n      <td>3.000000</td>\n      <td>2.000000</td>\n      <td>2.000000</td>\n      <td>2.000000</td>\n      <td>2.000000</td>\n      <td>3.000000</td>\n      <td>1.000000</td>\n      <td>2.000000</td>\n      <td>3.000000</td>\n      <td>2.000000</td>\n      <td>4.000000</td>\n      <td>4.000000</td>\n      <td>4.000000</td>\n      <td>1.000000</td>\n      <td>1.000000</td>\n      <td>2.000000</td>\n      <td>2.000000</td>\n      <td>3.000000</td>\n      <td>1.000000</td>\n      <td>2.000000</td>\n      <td>1.000000</td>\n      <td>3.000000</td>\n      <td>2.000000</td>\n      <td>2.00000</td>\n      <td>2.000000</td>\n      <td>3.000000</td>\n      <td>3.000000</td>\n      <td>3.000000</td>\n      <td>3.000000</td>\n      <td>2.000000</td>\n      <td>3.000000</td>\n      <td>3.000000</td>\n      <td>1.000000</td>\n      <td>1.000000</td>\n    </tr>\n    <tr>\n      <th>50%</th>\n      <td>3.000000</td>\n      <td>3.000000</td>\n      <td>3.000000</td>\n      <td>5.000000</td>\n      <td>4.000000</td>\n      <td>3.000000</td>\n      <td>4.000000</td>\n      <td>4.000000</td>\n      <td>3.000000</td>\n      <td>3.000000</td>\n      <td>3.000000</td>\n      <td>3.000000</td>\n      <td>3.000000</td>\n      <td>3.000000</td>\n      <td>3.000000</td>\n      <td>2.000000</td>\n      <td>2.000000</td>\n      <td>3.000000</td>\n      <td>3.000000</td>\n      <td>4.000000</td>\n      <td>4.000000</td>\n      <td>5.000000</td>\n      <td>2.000000</td>\n      <td>1.000000</td>\n      <td>3.000000</td>\n      <td>2.000000</td>\n      <td>3.000000</td>\n      <td>2.000000</td>\n      <td>3.000000</td>\n      <td>2.000000</td>\n      <td>4.000000</td>\n      <td>3.000000</td>\n      <td>3.00000</td>\n      <td>3.000000</td>\n      <td>4.000000</td>\n      <td>4.000000</td>\n      <td>3.000000</td>\n      <td>4.000000</td>\n      <td>3.000000</td>\n      <td>4.000000</td>\n      <td>4.000000</td>\n      <td>1.000000</td>\n      <td>2.000000</td>\n    </tr>\n    <tr>\n      <th>75%</th>\n      <td>4.000000</td>\n      <td>4.000000</td>\n      <td>4.000000</td>\n      <td>5.000000</td>\n      <td>5.000000</td>\n      <td>4.000000</td>\n      <td>4.000000</td>\n      <td>4.000000</td>\n      <td>4.000000</td>\n      <td>4.000000</td>\n      <td>4.000000</td>\n      <td>4.000000</td>\n      <td>4.000000</td>\n      <td>3.000000</td>\n      <td>3.000000</td>\n      <td>3.000000</td>\n      <td>3.000000</td>\n      <td>4.000000</td>\n      <td>3.000000</td>\n      <td>5.000000</td>\n      <td>5.000000</td>\n      <td>5.000000</td>\n      <td>3.000000</td>\n      <td>2.000000</td>\n      <td>4.000000</td>\n      <td>3.000000</td>\n      <td>4.000000</td>\n      <td>3.000000</td>\n      <td>4.000000</td>\n      <td>4.000000</td>\n      <td>5.000000</td>\n      <td>4.000000</td>\n      <td>4.00000</td>\n      <td>4.000000</td>\n      <td>5.000000</td>\n      <td>4.000000</td>\n      <td>4.000000</td>\n      <td>4.000000</td>\n      <td>4.000000</td>\n      <td>4.000000</td>\n      <td>4.000000</td>\n      <td>2.000000</td>\n      <td>4.000000</td>\n    </tr>\n    <tr>\n      <th>max</th>\n      <td>5.000000</td>\n      <td>5.000000</td>\n      <td>5.000000</td>\n      <td>5.000000</td>\n      <td>5.000000</td>\n      <td>5.000000</td>\n      <td>5.000000</td>\n      <td>5.000000</td>\n      <td>5.000000</td>\n      <td>5.000000</td>\n      <td>5.000000</td>\n      <td>5.000000</td>\n      <td>5.000000</td>\n      <td>5.000000</td>\n      <td>5.000000</td>\n      <td>5.000000</td>\n      <td>5.000000</td>\n      <td>5.000000</td>\n      <td>5.000000</td>\n      <td>5.000000</td>\n      <td>5.000000</td>\n      <td>5.000000</td>\n      <td>5.000000</td>\n      <td>5.000000</td>\n      <td>5.000000</td>\n      <td>5.000000</td>\n      <td>5.000000</td>\n      <td>5.000000</td>\n      <td>5.000000</td>\n      <td>5.000000</td>\n      <td>5.000000</td>\n      <td>5.000000</td>\n      <td>5.00000</td>\n      <td>5.000000</td>\n      <td>5.000000</td>\n      <td>5.000000</td>\n      <td>5.000000</td>\n      <td>5.000000</td>\n      <td>5.000000</td>\n      <td>5.000000</td>\n      <td>5.000000</td>\n      <td>5.000000</td>\n      <td>5.000000</td>\n    </tr>\n  </tbody>\n</table>\n</div>"
     },
     "execution_count": 31,
     "metadata": {},
     "output_type": "execute_result"
    }
   ],
   "source": [
    "questionario.describe()"
   ],
   "metadata": {
    "collapsed": false,
    "pycharm": {
     "name": "#%%\n"
    }
   }
  },
  {
   "cell_type": "markdown",
   "source": [
    "# Preparazione modello ML"
   ],
   "metadata": {
    "collapsed": false
   }
  },
  {
   "cell_type": "code",
   "execution_count": 32,
   "outputs": [
    {
     "data": {
      "text/plain": "     AGE  GENDER  DOMAIN    PhD  YEARSEXP  UNIVERSITY  POSITION  USERWIKI  \\\n0     40       0       2   True        14           1         2      True   \n1     42       0       5   True        18           1         2      True   \n2     37       0       4   True        13           1         3      True   \n3     40       0       4  False        13           1         3      True   \n4     51       0       6  False         8           1         3      True   \n..   ...     ...     ...    ...       ...         ...       ...       ...   \n908   43       0       5   True        21           2         2      True   \n909   53       0       6  False        25           2         6      True   \n910   39       0       5   True         9           2         4      True   \n911   40       0       3   True        10           2         2      True   \n912   41       1       3   True        12           2         2      True   \n\n     PU1  PU2  PU3  PEU1  PEU2  PEU3  ENJ1  ENJ2  Qu1  Qu2  Qu3  Qu4  Qu5  \\\n0      4    4    3     5     5     3     4     4    3    3    2    4    3   \n1      2    3    3     4     4     3     3     4    4    4    3    3    2   \n2      2    2    2     4     4     3     3     3    2    2    2    1    3   \n3      3    3    4     3     3     3     4     3    3    4    3    3    3   \n4      4    3    5     5     4     3     4     4    4    5    4    3    4   \n..   ...  ...  ...   ...   ...   ...   ...   ...  ...  ...  ...  ...  ...   \n908    3    3    3     5     5     2     4     5    3    3    4    1    2   \n909    3    3    4     5     4     3     4     4    4    4    4    3    3   \n910    3    3    3     5     4     3     3     4    3    3    2    1    2   \n911    3    3    5     5     4     2     4     4    4    4    3    4    5   \n912    3    4    3     5     5     3     4     4    3    3    3    4    3   \n\n     Vis1  Vis2  Vis3  Im1  Im2  Im3  SA1  SA2  SA3  Use1  Use2  Use3  Use4  \\\n0       3     3     1    2    4    2    4    4    4     3     1     1     2   \n1       3     3     1    1    2    1    4    4    4     2     2     1     1   \n2       2     3     2    2    4    3    4    2    4     1     1     1     1   \n3       3     4     3    2    2    3    5    5    5     3     3     3     3   \n4       4     4     4    3    2    3    5    5    5     3     3     5     5   \n..    ...   ...   ...  ...  ...  ...  ...  ...  ...   ...   ...   ...   ...   \n908     2     2     1    2    2    2    3    3    4     2     1     2     2   \n909     2     3     3    2    3    2    4    4    5     3     2     3     3   \n910     2     4     1    1    2    3    4    5    4     3     1     1     1   \n911     3     2     5    4    5    4    5    5    5     3     1     5     5   \n912     2     3     1    3    5    4    4    4    4     2     1     3     3   \n\n     Use5  Pf1  Pf2  Pf3  JR1  JR2  BI1  BI2  Inc1  Inc2  Inc3  Inc4  Exp1  \\\n0       4    1    1    3    4    1    2    3     5     5     5     5     4   \n1       2    1    1    1    4    3    2    2     4     4     3     4     2   \n2       1    3    3    3    4    3    1    1     5     3     5     5     2   \n3       3    4    4    4    5    4    3    3     3     4     4     3     4   \n4       5    5    5    5    3    3    5    5     5     5     4     4     5   \n..    ...  ...  ...  ...  ...  ...  ...  ...   ...   ...   ...   ...   ...   \n908     2    1    2    1    5    4    2    2     2     2     2     2     3   \n909     5    2    2    4    3    3    4    4     4     3     3     4     4   \n910     3    5    5    3    3    1    2    2     5     4     3     4     5   \n911     3    1    2    4    4    2    5    5     1     5     2     2     4   \n912     3    1    1    4    4    4    3    3     3     4     3     3     2   \n\n     Exp2  Exp3  Exp4  Exp5  \n0       4     4     1     2  \n1       2     4     2     4  \n2       2     2     1     3  \n3       4     3     3     4  \n4       5     5     4     4  \n..    ...   ...   ...   ...  \n908     4     4     1     2  \n909     4     4     1     1  \n910     5     5     4     1  \n911     4     2     1     1  \n912     3     3     1     1  \n\n[871 rows x 51 columns]",
      "text/html": "<div>\n<style scoped>\n    .dataframe tbody tr th:only-of-type {\n        vertical-align: middle;\n    }\n\n    .dataframe tbody tr th {\n        vertical-align: top;\n    }\n\n    .dataframe thead th {\n        text-align: right;\n    }\n</style>\n<table border=\"1\" class=\"dataframe\">\n  <thead>\n    <tr style=\"text-align: right;\">\n      <th></th>\n      <th>AGE</th>\n      <th>GENDER</th>\n      <th>DOMAIN</th>\n      <th>PhD</th>\n      <th>YEARSEXP</th>\n      <th>UNIVERSITY</th>\n      <th>POSITION</th>\n      <th>USERWIKI</th>\n      <th>PU1</th>\n      <th>PU2</th>\n      <th>PU3</th>\n      <th>PEU1</th>\n      <th>PEU2</th>\n      <th>PEU3</th>\n      <th>ENJ1</th>\n      <th>ENJ2</th>\n      <th>Qu1</th>\n      <th>Qu2</th>\n      <th>Qu3</th>\n      <th>Qu4</th>\n      <th>Qu5</th>\n      <th>Vis1</th>\n      <th>Vis2</th>\n      <th>Vis3</th>\n      <th>Im1</th>\n      <th>Im2</th>\n      <th>Im3</th>\n      <th>SA1</th>\n      <th>SA2</th>\n      <th>SA3</th>\n      <th>Use1</th>\n      <th>Use2</th>\n      <th>Use3</th>\n      <th>Use4</th>\n      <th>Use5</th>\n      <th>Pf1</th>\n      <th>Pf2</th>\n      <th>Pf3</th>\n      <th>JR1</th>\n      <th>JR2</th>\n      <th>BI1</th>\n      <th>BI2</th>\n      <th>Inc1</th>\n      <th>Inc2</th>\n      <th>Inc3</th>\n      <th>Inc4</th>\n      <th>Exp1</th>\n      <th>Exp2</th>\n      <th>Exp3</th>\n      <th>Exp4</th>\n      <th>Exp5</th>\n    </tr>\n  </thead>\n  <tbody>\n    <tr>\n      <th>0</th>\n      <td>40</td>\n      <td>0</td>\n      <td>2</td>\n      <td>True</td>\n      <td>14</td>\n      <td>1</td>\n      <td>2</td>\n      <td>True</td>\n      <td>4</td>\n      <td>4</td>\n      <td>3</td>\n      <td>5</td>\n      <td>5</td>\n      <td>3</td>\n      <td>4</td>\n      <td>4</td>\n      <td>3</td>\n      <td>3</td>\n      <td>2</td>\n      <td>4</td>\n      <td>3</td>\n      <td>3</td>\n      <td>3</td>\n      <td>1</td>\n      <td>2</td>\n      <td>4</td>\n      <td>2</td>\n      <td>4</td>\n      <td>4</td>\n      <td>4</td>\n      <td>3</td>\n      <td>1</td>\n      <td>1</td>\n      <td>2</td>\n      <td>4</td>\n      <td>1</td>\n      <td>1</td>\n      <td>3</td>\n      <td>4</td>\n      <td>1</td>\n      <td>2</td>\n      <td>3</td>\n      <td>5</td>\n      <td>5</td>\n      <td>5</td>\n      <td>5</td>\n      <td>4</td>\n      <td>4</td>\n      <td>4</td>\n      <td>1</td>\n      <td>2</td>\n    </tr>\n    <tr>\n      <th>1</th>\n      <td>42</td>\n      <td>0</td>\n      <td>5</td>\n      <td>True</td>\n      <td>18</td>\n      <td>1</td>\n      <td>2</td>\n      <td>True</td>\n      <td>2</td>\n      <td>3</td>\n      <td>3</td>\n      <td>4</td>\n      <td>4</td>\n      <td>3</td>\n      <td>3</td>\n      <td>4</td>\n      <td>4</td>\n      <td>4</td>\n      <td>3</td>\n      <td>3</td>\n      <td>2</td>\n      <td>3</td>\n      <td>3</td>\n      <td>1</td>\n      <td>1</td>\n      <td>2</td>\n      <td>1</td>\n      <td>4</td>\n      <td>4</td>\n      <td>4</td>\n      <td>2</td>\n      <td>2</td>\n      <td>1</td>\n      <td>1</td>\n      <td>2</td>\n      <td>1</td>\n      <td>1</td>\n      <td>1</td>\n      <td>4</td>\n      <td>3</td>\n      <td>2</td>\n      <td>2</td>\n      <td>4</td>\n      <td>4</td>\n      <td>3</td>\n      <td>4</td>\n      <td>2</td>\n      <td>2</td>\n      <td>4</td>\n      <td>2</td>\n      <td>4</td>\n    </tr>\n    <tr>\n      <th>2</th>\n      <td>37</td>\n      <td>0</td>\n      <td>4</td>\n      <td>True</td>\n      <td>13</td>\n      <td>1</td>\n      <td>3</td>\n      <td>True</td>\n      <td>2</td>\n      <td>2</td>\n      <td>2</td>\n      <td>4</td>\n      <td>4</td>\n      <td>3</td>\n      <td>3</td>\n      <td>3</td>\n      <td>2</td>\n      <td>2</td>\n      <td>2</td>\n      <td>1</td>\n      <td>3</td>\n      <td>2</td>\n      <td>3</td>\n      <td>2</td>\n      <td>2</td>\n      <td>4</td>\n      <td>3</td>\n      <td>4</td>\n      <td>2</td>\n      <td>4</td>\n      <td>1</td>\n      <td>1</td>\n      <td>1</td>\n      <td>1</td>\n      <td>1</td>\n      <td>3</td>\n      <td>3</td>\n      <td>3</td>\n      <td>4</td>\n      <td>3</td>\n      <td>1</td>\n      <td>1</td>\n      <td>5</td>\n      <td>3</td>\n      <td>5</td>\n      <td>5</td>\n      <td>2</td>\n      <td>2</td>\n      <td>2</td>\n      <td>1</td>\n      <td>3</td>\n    </tr>\n    <tr>\n      <th>3</th>\n      <td>40</td>\n      <td>0</td>\n      <td>4</td>\n      <td>False</td>\n      <td>13</td>\n      <td>1</td>\n      <td>3</td>\n      <td>True</td>\n      <td>3</td>\n      <td>3</td>\n      <td>4</td>\n      <td>3</td>\n      <td>3</td>\n      <td>3</td>\n      <td>4</td>\n      <td>3</td>\n      <td>3</td>\n      <td>4</td>\n      <td>3</td>\n      <td>3</td>\n      <td>3</td>\n      <td>3</td>\n      <td>4</td>\n      <td>3</td>\n      <td>2</td>\n      <td>2</td>\n      <td>3</td>\n      <td>5</td>\n      <td>5</td>\n      <td>5</td>\n      <td>3</td>\n      <td>3</td>\n      <td>3</td>\n      <td>3</td>\n      <td>3</td>\n      <td>4</td>\n      <td>4</td>\n      <td>4</td>\n      <td>5</td>\n      <td>4</td>\n      <td>3</td>\n      <td>3</td>\n      <td>3</td>\n      <td>4</td>\n      <td>4</td>\n      <td>3</td>\n      <td>4</td>\n      <td>4</td>\n      <td>3</td>\n      <td>3</td>\n      <td>4</td>\n    </tr>\n    <tr>\n      <th>4</th>\n      <td>51</td>\n      <td>0</td>\n      <td>6</td>\n      <td>False</td>\n      <td>8</td>\n      <td>1</td>\n      <td>3</td>\n      <td>True</td>\n      <td>4</td>\n      <td>3</td>\n      <td>5</td>\n      <td>5</td>\n      <td>4</td>\n      <td>3</td>\n      <td>4</td>\n      <td>4</td>\n      <td>4</td>\n      <td>5</td>\n      <td>4</td>\n      <td>3</td>\n      <td>4</td>\n      <td>4</td>\n      <td>4</td>\n      <td>4</td>\n      <td>3</td>\n      <td>2</td>\n      <td>3</td>\n      <td>5</td>\n      <td>5</td>\n      <td>5</td>\n      <td>3</td>\n      <td>3</td>\n      <td>5</td>\n      <td>5</td>\n      <td>5</td>\n      <td>5</td>\n      <td>5</td>\n      <td>5</td>\n      <td>3</td>\n      <td>3</td>\n      <td>5</td>\n      <td>5</td>\n      <td>5</td>\n      <td>5</td>\n      <td>4</td>\n      <td>4</td>\n      <td>5</td>\n      <td>5</td>\n      <td>5</td>\n      <td>4</td>\n      <td>4</td>\n    </tr>\n    <tr>\n      <th>...</th>\n      <td>...</td>\n      <td>...</td>\n      <td>...</td>\n      <td>...</td>\n      <td>...</td>\n      <td>...</td>\n      <td>...</td>\n      <td>...</td>\n      <td>...</td>\n      <td>...</td>\n      <td>...</td>\n      <td>...</td>\n      <td>...</td>\n      <td>...</td>\n      <td>...</td>\n      <td>...</td>\n      <td>...</td>\n      <td>...</td>\n      <td>...</td>\n      <td>...</td>\n      <td>...</td>\n      <td>...</td>\n      <td>...</td>\n      <td>...</td>\n      <td>...</td>\n      <td>...</td>\n      <td>...</td>\n      <td>...</td>\n      <td>...</td>\n      <td>...</td>\n      <td>...</td>\n      <td>...</td>\n      <td>...</td>\n      <td>...</td>\n      <td>...</td>\n      <td>...</td>\n      <td>...</td>\n      <td>...</td>\n      <td>...</td>\n      <td>...</td>\n      <td>...</td>\n      <td>...</td>\n      <td>...</td>\n      <td>...</td>\n      <td>...</td>\n      <td>...</td>\n      <td>...</td>\n      <td>...</td>\n      <td>...</td>\n      <td>...</td>\n      <td>...</td>\n    </tr>\n    <tr>\n      <th>908</th>\n      <td>43</td>\n      <td>0</td>\n      <td>5</td>\n      <td>True</td>\n      <td>21</td>\n      <td>2</td>\n      <td>2</td>\n      <td>True</td>\n      <td>3</td>\n      <td>3</td>\n      <td>3</td>\n      <td>5</td>\n      <td>5</td>\n      <td>2</td>\n      <td>4</td>\n      <td>5</td>\n      <td>3</td>\n      <td>3</td>\n      <td>4</td>\n      <td>1</td>\n      <td>2</td>\n      <td>2</td>\n      <td>2</td>\n      <td>1</td>\n      <td>2</td>\n      <td>2</td>\n      <td>2</td>\n      <td>3</td>\n      <td>3</td>\n      <td>4</td>\n      <td>2</td>\n      <td>1</td>\n      <td>2</td>\n      <td>2</td>\n      <td>2</td>\n      <td>1</td>\n      <td>2</td>\n      <td>1</td>\n      <td>5</td>\n      <td>4</td>\n      <td>2</td>\n      <td>2</td>\n      <td>2</td>\n      <td>2</td>\n      <td>2</td>\n      <td>2</td>\n      <td>3</td>\n      <td>4</td>\n      <td>4</td>\n      <td>1</td>\n      <td>2</td>\n    </tr>\n    <tr>\n      <th>909</th>\n      <td>53</td>\n      <td>0</td>\n      <td>6</td>\n      <td>False</td>\n      <td>25</td>\n      <td>2</td>\n      <td>6</td>\n      <td>True</td>\n      <td>3</td>\n      <td>3</td>\n      <td>4</td>\n      <td>5</td>\n      <td>4</td>\n      <td>3</td>\n      <td>4</td>\n      <td>4</td>\n      <td>4</td>\n      <td>4</td>\n      <td>4</td>\n      <td>3</td>\n      <td>3</td>\n      <td>2</td>\n      <td>3</td>\n      <td>3</td>\n      <td>2</td>\n      <td>3</td>\n      <td>2</td>\n      <td>4</td>\n      <td>4</td>\n      <td>5</td>\n      <td>3</td>\n      <td>2</td>\n      <td>3</td>\n      <td>3</td>\n      <td>5</td>\n      <td>2</td>\n      <td>2</td>\n      <td>4</td>\n      <td>3</td>\n      <td>3</td>\n      <td>4</td>\n      <td>4</td>\n      <td>4</td>\n      <td>3</td>\n      <td>3</td>\n      <td>4</td>\n      <td>4</td>\n      <td>4</td>\n      <td>4</td>\n      <td>1</td>\n      <td>1</td>\n    </tr>\n    <tr>\n      <th>910</th>\n      <td>39</td>\n      <td>0</td>\n      <td>5</td>\n      <td>True</td>\n      <td>9</td>\n      <td>2</td>\n      <td>4</td>\n      <td>True</td>\n      <td>3</td>\n      <td>3</td>\n      <td>3</td>\n      <td>5</td>\n      <td>4</td>\n      <td>3</td>\n      <td>3</td>\n      <td>4</td>\n      <td>3</td>\n      <td>3</td>\n      <td>2</td>\n      <td>1</td>\n      <td>2</td>\n      <td>2</td>\n      <td>4</td>\n      <td>1</td>\n      <td>1</td>\n      <td>2</td>\n      <td>3</td>\n      <td>4</td>\n      <td>5</td>\n      <td>4</td>\n      <td>3</td>\n      <td>1</td>\n      <td>1</td>\n      <td>1</td>\n      <td>3</td>\n      <td>5</td>\n      <td>5</td>\n      <td>3</td>\n      <td>3</td>\n      <td>1</td>\n      <td>2</td>\n      <td>2</td>\n      <td>5</td>\n      <td>4</td>\n      <td>3</td>\n      <td>4</td>\n      <td>5</td>\n      <td>5</td>\n      <td>5</td>\n      <td>4</td>\n      <td>1</td>\n    </tr>\n    <tr>\n      <th>911</th>\n      <td>40</td>\n      <td>0</td>\n      <td>3</td>\n      <td>True</td>\n      <td>10</td>\n      <td>2</td>\n      <td>2</td>\n      <td>True</td>\n      <td>3</td>\n      <td>3</td>\n      <td>5</td>\n      <td>5</td>\n      <td>4</td>\n      <td>2</td>\n      <td>4</td>\n      <td>4</td>\n      <td>4</td>\n      <td>4</td>\n      <td>3</td>\n      <td>4</td>\n      <td>5</td>\n      <td>3</td>\n      <td>2</td>\n      <td>5</td>\n      <td>4</td>\n      <td>5</td>\n      <td>4</td>\n      <td>5</td>\n      <td>5</td>\n      <td>5</td>\n      <td>3</td>\n      <td>1</td>\n      <td>5</td>\n      <td>5</td>\n      <td>3</td>\n      <td>1</td>\n      <td>2</td>\n      <td>4</td>\n      <td>4</td>\n      <td>2</td>\n      <td>5</td>\n      <td>5</td>\n      <td>1</td>\n      <td>5</td>\n      <td>2</td>\n      <td>2</td>\n      <td>4</td>\n      <td>4</td>\n      <td>2</td>\n      <td>1</td>\n      <td>1</td>\n    </tr>\n    <tr>\n      <th>912</th>\n      <td>41</td>\n      <td>1</td>\n      <td>3</td>\n      <td>True</td>\n      <td>12</td>\n      <td>2</td>\n      <td>2</td>\n      <td>True</td>\n      <td>3</td>\n      <td>4</td>\n      <td>3</td>\n      <td>5</td>\n      <td>5</td>\n      <td>3</td>\n      <td>4</td>\n      <td>4</td>\n      <td>3</td>\n      <td>3</td>\n      <td>3</td>\n      <td>4</td>\n      <td>3</td>\n      <td>2</td>\n      <td>3</td>\n      <td>1</td>\n      <td>3</td>\n      <td>5</td>\n      <td>4</td>\n      <td>4</td>\n      <td>4</td>\n      <td>4</td>\n      <td>2</td>\n      <td>1</td>\n      <td>3</td>\n      <td>3</td>\n      <td>3</td>\n      <td>1</td>\n      <td>1</td>\n      <td>4</td>\n      <td>4</td>\n      <td>4</td>\n      <td>3</td>\n      <td>3</td>\n      <td>3</td>\n      <td>4</td>\n      <td>3</td>\n      <td>3</td>\n      <td>2</td>\n      <td>3</td>\n      <td>3</td>\n      <td>1</td>\n      <td>1</td>\n    </tr>\n  </tbody>\n</table>\n<p>871 rows × 51 columns</p>\n</div>"
     },
     "execution_count": 32,
     "metadata": {},
     "output_type": "execute_result"
    }
   ],
   "source": [
    "#riuniamo il dataset\n",
    "data = pd.concat([prof,questionario], axis=1)\n",
    "data"
   ],
   "metadata": {
    "collapsed": false,
    "pycharm": {
     "name": "#%%\n"
    }
   }
  },
  {
   "cell_type": "code",
   "execution_count": 33,
   "outputs": [],
   "source": [
    "#normalizza colone\n",
    "#one note encoding"
   ],
   "metadata": {
    "collapsed": false,
    "pycharm": {
     "name": "#%%\n"
    }
   }
  },
  {
   "cell_type": "code",
   "execution_count": 34,
   "outputs": [],
   "source": [
    "\n",
    "\n",
    "\n",
    "\n",
    "\n",
    "\n",
    "\n",
    "\n",
    "\n",
    "\n",
    "# jupyter nbconvert --execute --to pdf wiki4HE.ipynb"
   ],
   "metadata": {
    "collapsed": false,
    "pycharm": {
     "name": "#%%\n"
    }
   }
  }
 ],
 "metadata": {
  "kernelspec": {
   "name": "myenv",
   "language": "python",
   "display_name": "Python (wiki4HEProject)"
  },
  "language_info": {
   "codemirror_mode": {
    "name": "ipython",
    "version": 2
   },
   "file_extension": ".py",
   "mimetype": "text/x-python",
   "name": "python",
   "nbconvert_exporter": "python",
   "pygments_lexer": "ipython2",
   "version": "2.7.6"
  }
 },
 "nbformat": 4,
 "nbformat_minor": 0
}