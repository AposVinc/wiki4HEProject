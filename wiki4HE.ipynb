{
 "cells": [
  {
   "cell_type": "markdown",
   "source": [
    "# Indice:\n",
    "1. Indice\n",
    "2. Introduzione\n",
    "3. Import del Dataset e analisi preliminari\n",
    "4. Manipolazione e pulizia (Data Wrangling)\n",
    "    1. Valutazione dei NaN\n",
    "    2. Divisione del set\n",
    "        1. Professori\n",
    "        2. Questionario\n",
    "5. Analisi Statistica Esplorativa\n",
    "6. Machine Learning\n",
    "    1. Preparazione Dataset\n",
    "        1. Normalizzazioni\n",
    "        2. One-Hot Encoding\n",
    "    2. Validazione modello\n",
    "        1. Divisione Traning e Testing Set\n",
    "        2. Grid Search e Cross Validation\n",
    "    3. Addestramento, Predizione e Confronto Accuratezza\n",
    "7. Conclusioni\n",
    "8. Referenze\n"
   ],
   "metadata": {
    "collapsed": false
   }
  },
  {
   "cell_type": "markdown",
   "source": [
    "# Introduzione\n",
    "\n",
    "\n",
    "Il set di dati __wiki4HE__ contiene informazioni su un questionario proposto a dei professori universitari, ai quali è stato chiesto di rispondere a delle domande sull'utilizzo di Wikipedia come risorsa didattica.\n",
    "\n",
    "Il dataset è composto da due sottoinsiemi contenenti i dati demografici degli intervistati e le relative risposte alle domande poste loro.\n",
    "I professori, che si sono sottoposti al sondaggio, appartengono a due diverse università spagnole, ovvero la _Universitat Oberta de Catalunya_ e la _Universitat Pompeu Fabra_, e sono specializzati in diversi ambiti accademici.\n",
    "La scala dei valori delle risposte all'indagine variano da 1 a 5, dove 1 corrisponde a “totale disaccordo” mentre 5 corrisponde a “totalmente d'accordo\"\n",
    "\n",
    "Il lavoro su questo dataset si suddividerà in steps nei quali si analizzeranno i dati, in seguito questi verranno combinati così da incrementare le informazioni a disposizione per l'addestramento ed infine, verrà eseguita una gestione degli eventuali dati mancanti.\n",
    "Ci si soffermerà anche sul confronto fra le funzioni ottimizzate delle librerie importate ed altre funzioni che vanno a simulare le prime. Quest'ultime sono scritte in Python e sfruttano il linguaggio e i suoi costrutti.\n",
    "\n",
    "Lo scopo ultimo di questo elaborato è quello di utilizzare questo dataset per l'addestramento di una macchina capace di predirre le risposte sull'utilizzo di Wikipedia come stumento per l'integrazione del materiale didattico da parte degli studenti, questo sarà possibile analizzando le caratteristiche dei professori e delle risposte date da ognuno di essi.\n",
    "Nel dataset sono presenti domande specifiche che danno una risposta all'obiettivo della predizione, quindi verranno escluse dal set di dati utilizato per l'addestramento."
   ],
   "metadata": {
    "collapsed": false
   }
  },
  {
   "cell_type": "markdown",
   "source": [
    "\n",
    "# Import del Dataset e analisi preliminari\n",
    "Dopo aver importato il dataset, è stato sostituito il carattere \"?\" che rappresenta una risposta mancante con il valore NaN di numpy.\n",
    "\n",
    "Viene eseguita una stampa dei primi campioni per ottenere una visione generica del dataset che si sta analizzando e in seguito vengono stampate le informazioni generali relative alla dimensione e ai tipi di ogni attributo del set di dati."
   ],
   "metadata": {
    "collapsed": false
   }
  },
  {
   "cell_type": "code",
   "execution_count": 1,
   "outputs": [
    {
     "data": {
      "text/plain": "<bound method NDFrame.head of      AGE  GENDER DOMAIN  PhD YEARSEXP  UNIVERSITY UOC_POSITION OTHER_POSITION  \\\n0     40       0      2    1       14           1            2            NaN   \n1     42       0      5    1       18           1            2            NaN   \n2     37       0      4    1       13           1            3            NaN   \n3     40       0      4    0       13           1            3            NaN   \n4     51       0      6    0        8           1            3            NaN   \n..   ...     ...    ...  ...      ...         ...          ...            ...   \n908   43       0      5    1       21           2          NaN            NaN   \n909   53       0      6    0       25           2          NaN            NaN   \n910   39       0      5    1        9           2          NaN            NaN   \n911   40       0      3    1       10           2          NaN            NaN   \n912   41       1      3    1       12           2          NaN            NaN   \n\n    OTHERSTATUS USERWIKI PU1 PU2 PU3 PEU1 PEU2 PEU3 ENJ1 ENJ2 Qu1 Qu2 Qu3 Qu4  \\\n0           NaN        0   4   4   3    5    5    3    4    4   3   3   2   2   \n1           NaN        0   2   3   3    4    4    3    3    4   4   4   3   3   \n2           NaN        0   2   2   2    4    4    3    3    3   2   2   2   5   \n3           NaN        0   3   3   4    3    3    3    4    3   3   4   3   3   \n4           NaN        1   4   3   5    5    4    3    4    4   4   5   4   3   \n..          ...      ...  ..  ..  ..  ...  ...  ...  ...  ...  ..  ..  ..  ..   \n908           2        0   3   3   3    5    5    2    4    5   3   3   4   5   \n909           6        0   3   3   4    5    4    3    4    4   4   4   4   3   \n910           4        0   3   3   3    5    4    3    3    4   3   3   2   5   \n911           2        0   3   3   5    5    4    2    4    4   4   4   3   2   \n912           2        0   3   4   3    5    5  NaN    4    4   3   3   3   2   \n\n    Qu5 Vis1 Vis2 Vis3 Im1  Im2  Im3  SA1 SA2 SA3 Use1 Use2 Use3 Use4 Use5  \\\n0     3    3    3    1   2    4    2    4   4   4    3    1    1    2    4   \n1     2    3    3    1   1    2    1    4   4   4    2    2    1    1    2   \n2     3    2    3    2   2    4    3    4   2   4    1    1    1    1    1   \n3     3    3    4    3   2    2    3    5   5   5    3    3    3    3    3   \n4     4    4    4    4   3    2    3    5   5   5    3    3    5    5    5   \n..   ..  ...  ...  ...  ..  ...  ...  ...  ..  ..  ...  ...  ...  ...  ...   \n908   2    2    2    1   2    2    2    3   3   4  NaN  NaN    2    2    2   \n909   3    2    3    3   2  NaN    2  NaN   4   5    3    2    3    3    5   \n910   2    2    4    1   1    2  NaN    4   5   4    3    1    1    1    3   \n911   5    3    2    5   4    5    4    5   5   5    3    1    5    5  NaN   \n912   3    2    3    1   3    5    4    4   4   4    2    1    3    3    3   \n\n    Pf1 Pf2 Pf3 JR1 JR2 BI1 BI2 Inc1 Inc2 Inc3 Inc4 Exp1 Exp2 Exp3 Exp4 Exp5  \n0     1   1   3   4   1   2   3    5    5    5    5    4    4    4    1    2  \n1     1   1   1   4   3   2   2    4    4    3    4    2    2    4    2    4  \n2     3   3   3   4   3   1   1    5    3    5    5    2    2    2    1    3  \n3     4   4   4   5   4   3   3    3    4    4    3    4    4    3    3    4  \n4     5   5   5   3   3   5   5    5    5    4    4    5    5    5    4    4  \n..   ..  ..  ..  ..  ..  ..  ..  ...  ...  ...  ...  ...  ...  ...  ...  ...  \n908   1   2   1   5   4   2   2    2    2    2    2  NaN  NaN  NaN  NaN  NaN  \n909   2   2   4   3   3   4   4    4    3    3    4    4    4    4    1    1  \n910   5   5   3   3   1   2   2    5    4    3  NaN    5    5    5    4    1  \n911   1   2   4   4   2   5   5    1    5    2    2    4    4    2    1    1  \n912   1   1   4   4   4   3   3    3  NaN    3    3    2    3    3    1    1  \n\n[913 rows x 53 columns]>"
     },
     "execution_count": 1,
     "metadata": {},
     "output_type": "execute_result"
    }
   ],
   "source": [
    "import numpy as np\n",
    "import pandas as pd\n",
    "import seaborn as sns\n",
    "import matplotlib.pyplot as plt\n",
    "from matplotlib.gridspec import GridSpec\n",
    "%matplotlib inline\n",
    "import textwrap\n",
    "import main\n",
    "\n",
    "data = pd.read_csv('dataset/uci - missing data/wiki4HE/wiki4HE.csv', sep=';')\n",
    "pd.set_option('display.max_columns', 54)\n",
    "data.replace('?', np.nan, inplace=True)\n",
    "\n",
    "#info\n",
    "data.head"
   ],
   "metadata": {
    "collapsed": false,
    "pycharm": {
     "name": "#%%\n"
    }
   }
  },
  {
   "cell_type": "markdown",
   "source": [
    "\n",
    "# Manipolazione e pulizia (Data Wrangling)\n",
    "\n",
    "##  Valutazione dei NaN\n",
    "\n",
    "Ai fini dell'organizzazione del lavoro di pulizia, risulta interessante capire quanti e dove sono presenti i valori Nan.\n",
    "Si puo notare che la maggior parte delle istanze ha almeno un valore NaN, per questo motivo risulta utile visionare il conteggio degli NaN per ogni attributo\n"
   ],
   "metadata": {
    "collapsed": false
   }
  },
  {
   "cell_type": "code",
   "execution_count": 2,
   "outputs": [
    {
     "data": {
      "text/plain": "737"
     },
     "execution_count": 2,
     "metadata": {},
     "output_type": "execute_result"
    }
   ],
   "source": [
    "# numero di righe con almeno un na:\n",
    "data.shape[0] - data.dropna().shape[0]"
   ],
   "metadata": {
    "collapsed": false,
    "pycharm": {
     "name": "#%%\n"
    }
   }
  },
  {
   "cell_type": "code",
   "execution_count": 3,
   "outputs": [
    {
     "data": {
      "text/plain": "                contain na   number of na \nAGE                   False              0\nGENDER                False              0\nDOMAIN                 True              2\nPhD                   False              0\nYEARSEXP               True             23\nUNIVERSITY            False              0\nUOC_POSITION           True            113\nOTHER_POSITION         True            261\nOTHERSTATUS            True            540\nUSERWIKI               True              4\nPU1                    True              7\nPU2                    True             11\nPU3                    True              5\nPEU1                   True              4\nPEU2                   True             14\nPEU3                   True             97\nENJ1                   True              7\nENJ2                   True             17\nQu1                    True              7\nQu2                    True             10\nQu3                    True             15\nQu4                    True             22\nQu5                    True             29\nVis1                   True             72\nVis2                   True            117\nVis3                   True              8\nIm1                    True             22\nIm2                    True             20\nIm3                    True             57\nSA1                    True             11\nSA2                    True             12\nSA3                    True             11\nUse1                   True             14\nUse2                   True             17\nUse3                   True              9\nUse4                   True             23\nUse5                   True             15\nPf1                    True             11\nPf2                    True              6\nPf3                    True             14\nJR1                    True             27\nJR2                    True             53\nBI1                    True             32\nBI2                    True             43\nInc1                   True             35\nInc2                   True             35\nInc3                   True             37\nInc4                   True             42\nExp1                   True             13\nExp2                   True             11\nExp3                   True             13\nExp4                   True             14\nExp5                   True             13",
      "text/html": "<div>\n<style scoped>\n    .dataframe tbody tr th:only-of-type {\n        vertical-align: middle;\n    }\n\n    .dataframe tbody tr th {\n        vertical-align: top;\n    }\n\n    .dataframe thead th {\n        text-align: right;\n    }\n</style>\n<table border=\"1\" class=\"dataframe\">\n  <thead>\n    <tr style=\"text-align: right;\">\n      <th></th>\n      <th>contain na</th>\n      <th>number of na</th>\n    </tr>\n  </thead>\n  <tbody>\n    <tr>\n      <th>AGE</th>\n      <td>False</td>\n      <td>0</td>\n    </tr>\n    <tr>\n      <th>GENDER</th>\n      <td>False</td>\n      <td>0</td>\n    </tr>\n    <tr>\n      <th>DOMAIN</th>\n      <td>True</td>\n      <td>2</td>\n    </tr>\n    <tr>\n      <th>PhD</th>\n      <td>False</td>\n      <td>0</td>\n    </tr>\n    <tr>\n      <th>YEARSEXP</th>\n      <td>True</td>\n      <td>23</td>\n    </tr>\n    <tr>\n      <th>UNIVERSITY</th>\n      <td>False</td>\n      <td>0</td>\n    </tr>\n    <tr>\n      <th>UOC_POSITION</th>\n      <td>True</td>\n      <td>113</td>\n    </tr>\n    <tr>\n      <th>OTHER_POSITION</th>\n      <td>True</td>\n      <td>261</td>\n    </tr>\n    <tr>\n      <th>OTHERSTATUS</th>\n      <td>True</td>\n      <td>540</td>\n    </tr>\n    <tr>\n      <th>USERWIKI</th>\n      <td>True</td>\n      <td>4</td>\n    </tr>\n    <tr>\n      <th>PU1</th>\n      <td>True</td>\n      <td>7</td>\n    </tr>\n    <tr>\n      <th>PU2</th>\n      <td>True</td>\n      <td>11</td>\n    </tr>\n    <tr>\n      <th>PU3</th>\n      <td>True</td>\n      <td>5</td>\n    </tr>\n    <tr>\n      <th>PEU1</th>\n      <td>True</td>\n      <td>4</td>\n    </tr>\n    <tr>\n      <th>PEU2</th>\n      <td>True</td>\n      <td>14</td>\n    </tr>\n    <tr>\n      <th>PEU3</th>\n      <td>True</td>\n      <td>97</td>\n    </tr>\n    <tr>\n      <th>ENJ1</th>\n      <td>True</td>\n      <td>7</td>\n    </tr>\n    <tr>\n      <th>ENJ2</th>\n      <td>True</td>\n      <td>17</td>\n    </tr>\n    <tr>\n      <th>Qu1</th>\n      <td>True</td>\n      <td>7</td>\n    </tr>\n    <tr>\n      <th>Qu2</th>\n      <td>True</td>\n      <td>10</td>\n    </tr>\n    <tr>\n      <th>Qu3</th>\n      <td>True</td>\n      <td>15</td>\n    </tr>\n    <tr>\n      <th>Qu4</th>\n      <td>True</td>\n      <td>22</td>\n    </tr>\n    <tr>\n      <th>Qu5</th>\n      <td>True</td>\n      <td>29</td>\n    </tr>\n    <tr>\n      <th>Vis1</th>\n      <td>True</td>\n      <td>72</td>\n    </tr>\n    <tr>\n      <th>Vis2</th>\n      <td>True</td>\n      <td>117</td>\n    </tr>\n    <tr>\n      <th>Vis3</th>\n      <td>True</td>\n      <td>8</td>\n    </tr>\n    <tr>\n      <th>Im1</th>\n      <td>True</td>\n      <td>22</td>\n    </tr>\n    <tr>\n      <th>Im2</th>\n      <td>True</td>\n      <td>20</td>\n    </tr>\n    <tr>\n      <th>Im3</th>\n      <td>True</td>\n      <td>57</td>\n    </tr>\n    <tr>\n      <th>SA1</th>\n      <td>True</td>\n      <td>11</td>\n    </tr>\n    <tr>\n      <th>SA2</th>\n      <td>True</td>\n      <td>12</td>\n    </tr>\n    <tr>\n      <th>SA3</th>\n      <td>True</td>\n      <td>11</td>\n    </tr>\n    <tr>\n      <th>Use1</th>\n      <td>True</td>\n      <td>14</td>\n    </tr>\n    <tr>\n      <th>Use2</th>\n      <td>True</td>\n      <td>17</td>\n    </tr>\n    <tr>\n      <th>Use3</th>\n      <td>True</td>\n      <td>9</td>\n    </tr>\n    <tr>\n      <th>Use4</th>\n      <td>True</td>\n      <td>23</td>\n    </tr>\n    <tr>\n      <th>Use5</th>\n      <td>True</td>\n      <td>15</td>\n    </tr>\n    <tr>\n      <th>Pf1</th>\n      <td>True</td>\n      <td>11</td>\n    </tr>\n    <tr>\n      <th>Pf2</th>\n      <td>True</td>\n      <td>6</td>\n    </tr>\n    <tr>\n      <th>Pf3</th>\n      <td>True</td>\n      <td>14</td>\n    </tr>\n    <tr>\n      <th>JR1</th>\n      <td>True</td>\n      <td>27</td>\n    </tr>\n    <tr>\n      <th>JR2</th>\n      <td>True</td>\n      <td>53</td>\n    </tr>\n    <tr>\n      <th>BI1</th>\n      <td>True</td>\n      <td>32</td>\n    </tr>\n    <tr>\n      <th>BI2</th>\n      <td>True</td>\n      <td>43</td>\n    </tr>\n    <tr>\n      <th>Inc1</th>\n      <td>True</td>\n      <td>35</td>\n    </tr>\n    <tr>\n      <th>Inc2</th>\n      <td>True</td>\n      <td>35</td>\n    </tr>\n    <tr>\n      <th>Inc3</th>\n      <td>True</td>\n      <td>37</td>\n    </tr>\n    <tr>\n      <th>Inc4</th>\n      <td>True</td>\n      <td>42</td>\n    </tr>\n    <tr>\n      <th>Exp1</th>\n      <td>True</td>\n      <td>13</td>\n    </tr>\n    <tr>\n      <th>Exp2</th>\n      <td>True</td>\n      <td>11</td>\n    </tr>\n    <tr>\n      <th>Exp3</th>\n      <td>True</td>\n      <td>13</td>\n    </tr>\n    <tr>\n      <th>Exp4</th>\n      <td>True</td>\n      <td>14</td>\n    </tr>\n    <tr>\n      <th>Exp5</th>\n      <td>True</td>\n      <td>13</td>\n    </tr>\n  </tbody>\n</table>\n</div>"
     },
     "execution_count": 3,
     "metadata": {},
     "output_type": "execute_result"
    }
   ],
   "source": [
    "#numero di na per ogni attributo\n",
    "pd.DataFrame({ 'contain na ': data.isna().any() ,'number of na ': data.isna().sum() })"
   ],
   "metadata": {
    "collapsed": false,
    "pycharm": {
     "name": "#%%\n"
    }
   }
  },
  {
   "cell_type": "markdown",
   "source": [
    "## Divisione del set\n",
    "\n",
    "Data la struttura del dataset, è possibile lavorare separando i dati demografici dei professori dalle domande del questionario. Per questo motivo dividiamo il set in due sottoinsiemi che chiameremo ___\"Prof\"___ e ___\"Questionario\"___"
   ],
   "metadata": {
    "collapsed": false
   }
  },
  {
   "cell_type": "code",
   "execution_count": 4,
   "outputs": [],
   "source": [
    "prof = data.iloc[:, :10]\n",
    "questionario = data.iloc[:, 10:]"
   ],
   "metadata": {
    "collapsed": false,
    "pycharm": {
     "name": "#%%\n"
    }
   }
  },
  {
   "cell_type": "markdown",
   "source": [
    "### Professori\n",
    "\n",
    "Questo sottoinsieme raccoglie varie informazioni relative ai professori:\n",
    "\n",
    " - Età\n",
    " - Genere\n",
    " - Dominio\n",
    " - Anni di esperienza da professore\n",
    " - In possesso di PhD\n",
    " - Università di appartenenza\n",
    " - Posizione lavorativa ricoperta in UOC\n",
    " - Se insegna in altri Istituiti Universitari\n",
    " - Posizione lavorativa presso altre Università e dipendente di UPF\n",
    " - Utente registrato su Wikipedia\n",
    "\n",
    "Per avere una visione più puntuale del sottoinsieme si utilizza la costruzione di plot descrittivi."
   ],
   "metadata": {
    "collapsed": false
   }
  },
  {
   "cell_type": "markdown",
   "source": [
    "#### Grafici"
   ],
   "metadata": {
    "collapsed": false
   }
  },
  {
   "cell_type": "code",
   "execution_count": 5,
   "outputs": [
    {
     "data": {
      "text/plain": "[Text(-10, 0, 'NaN'),\n Text(0, 0, '0'),\n Text(10, 0, '10'),\n Text(20, 0, '20'),\n Text(30, 0, '30'),\n Text(40, 0, '40'),\n Text(50, 0, '50')]"
     },
     "execution_count": 5,
     "metadata": {},
     "output_type": "execute_result"
    },
    {
     "data": {
      "text/plain": "<Figure size 1152x720 with 5 Axes>",
      "image/png": "[encoded data removed]"
     },
     "metadata": {},
     "output_type": "display_data"
    },
    {
     "data": {
      "text/plain": "<Figure size 1152x720 with 4 Axes>",
      "image/png": "[encoded data removed]"
     },
     "metadata": {},
     "output_type": "display_data"
    }
   ],
   "source": [
    "prof['GENDER'] = prof['GENDER'].replace([0,1], ['Uomo', 'Donna'])\n",
    "prof['UNIVERSITY'] = prof['UNIVERSITY'].replace([1,2], ['UOC','UPF'])\n",
    "\n",
    "sns.set( style='darkgrid' )\n",
    "fig = plt.figure(constrained_layout=True, figsize=(16,10))\n",
    "gs = GridSpec(2, 3, figure=fig)\n",
    "\n",
    "ax1 = plt.subplot(gs[0,0])\n",
    "counts, bins, patches = ax1.hist(prof['GENDER'], bins=2)\n",
    "ax1.set_title(\"Genere\", fontsize = 10)\n",
    "ax1.set_ylabel(\"Quantità\")\n",
    "ax1.set_ylim((0, 600))\n",
    "\n",
    "ax2 = plt.subplot(gs[0,1:])\n",
    "ax2.hist(prof['DOMAIN'].fillna(0).astype(int).map({0:'NaN', 1: \"Arts & Humanities\", 2:\"Sciences\", 3:\"Health Sciences\",\n",
    "                                   4:\"Engineering & Architecture\", 5:\"Law & Politics\",\n",
    "                                   6:\"Social Science\"}), bins=7)\n",
    "ax2.set_title(\"Dominio Didattico\", fontsize = 10)\n",
    "ax2.set_ylim((0, 400))\n",
    "ax2.set_yticks([0, 100, 200, 300, 400])\n",
    "ax2.set_yticklabels([0, 100, 200, 300, \">400\"])\n",
    "\n",
    "\n",
    "ax3 = plt.subplot(gs[1,0])\n",
    "ax3.hist(prof['PhD'].map({0: 'No', 1: 'Si'}), bins=2)\n",
    "ax3.set_title(\"Hanno PhD?\", fontsize = 10)\n",
    "ax3.set_ylabel(\"Quanti professori?\")\n",
    "ax3.set_ylim((0, 600))\n",
    "\n",
    "ax4 = plt.subplot(gs[1,1])\n",
    "ax4.hist(prof['UNIVERSITY'], bins=3)\n",
    "ax4.set_title(\"Università di appartenenza\", fontsize = 10)\n",
    "ax4.set_ylim((0, 1000))\n",
    "ax4.set_yticks([0, 250, 500, 750, 1000])\n",
    "ax4.set_yticklabels([ \"\",  \"\",  \"\",  \"\", \"\"])\n",
    "\n",
    "ax5 = plt.subplot(gs[1,2])\n",
    "ax5.hist(prof['USERWIKI'].fillna(-1).astype(int).map({-1:'NaN', 0: 'No', 1: 'Si'}), bins=3)\n",
    "ax5.set_title(\"Utente di Wikipedia\", fontsize = 10)\n",
    "ax5.set_ylim((0, 1000))\n",
    "ax5.set_yticks([0, 250, 500, 750, 1000])\n",
    "ax5.set_yticklabels([ \"\",  \"\",  \"\",  \"\", \"\"])\n",
    "\n",
    "\n",
    "\n",
    "fig = plt.figure(figsize=(16,10))\n",
    "\n",
    "ax6 = plt.subplot(2,2,1)\n",
    "ax6.hist(prof['UOC_POSITION'].fillna(0).astype(int).map({1: \"Professor\", 2: \"Associate\", 3: \"Assistant\", 4: \"Lecturer\", 5: \"Instructor\", 6: \"Adjunct\", 0:\"NaN\"}), bins=7)\n",
    "ax6.set_title(\"Impiego UOC\", fontsize = 10)\n",
    "\n",
    "ax7 = plt.subplot(2,2,2)\n",
    "ax7.hist(prof['OTHERSTATUS'].fillna(7).astype(int).map({1: \"Professor\", 2: \"Associate\", 3: \"Assistant\", 4: \"Lecturer\", 5: \"Instructor\", 6: \"Adjunct\", 7:\"NaN\"}), bins = 7)\n",
    "ax7.set_title(\"impiego UPF\", fontsize = 10)\n",
    "\n",
    "\n",
    "ax8 = plt.subplot(2,2,3)\n",
    "ax8.hist(prof['AGE'].fillna(10).astype(int))\n",
    "ax8.set_title(\"Età\", fontsize = 10)\n",
    "ax8.set_ylim((0, 400))\n",
    "ax8.set_xticks([10, 30, 40, 50, 60, 70])\n",
    "ax8.set_xticklabels([\"NaN\", 30, 40, 50, 60, 70])\n",
    "\n",
    "ax9 = plt.subplot(2,2,4)\n",
    "ax9.hist(prof['YEARSEXP'].fillna(-10).astype(int))\n",
    "ax9.set_title(\"Anni esperienza\", fontsize = 10)\n",
    "ax9.set_ylim((0, 400))\n",
    "ax9.set_xticks([-10, 0, 10, 20, 30, 40, 50])\n",
    "ax9.set_xticklabels([\"NaN\", 0, 10, 20, 30, 40, 50])"
   ],
   "metadata": {
    "collapsed": false,
    "pycharm": {
     "name": "#%%\n"
    }
   }
  },
  {
   "cell_type": "markdown",
   "source": [
    "#### Pulizia degli attributi e cambio dtype\n",
    "\n",
    "\n",
    "I valori nulli relativi agli anni di esperienza possono essere interpretati come l'assenza di questi ultimi.\n",
    "\n",
    "I valori nulli relativi al dominio e alla registrazione sono solo 5 e possono essere eliminatiperchè, avendo un dataset da 913 campioni, l'eliminazione di questi 5 non alterano la natura del set."
   ],
   "metadata": {
    "collapsed": false
   }
  },
  {
   "cell_type": "code",
   "execution_count": 6,
   "outputs": [],
   "source": [
    "# se non specificato considero gli anni di esperienza = 0\n",
    "prof['YEARSEXP'] = prof['YEARSEXP'].fillna(0)\n",
    "\n",
    "# eliminazione righe con domain e userwiki na\n",
    "prof = prof[prof['DOMAIN'].notna() & prof['USERWIKI'].notna()]\n",
    "\n",
    "prof['USERWIKI'] = prof['USERWIKI'].astype(int)\n",
    "\n",
    "prof['DOMAIN'] = prof['DOMAIN'].astype(int).replace([1,2,3,4,5,6], ['Arts & Humanities', 'Sciences', 'Health Sciences','Engineering & Architecture','Law & Politics','Social Science'])\n"
   ],
   "metadata": {
    "collapsed": false,
    "pycharm": {
     "name": "#%%\n"
    }
   }
  },
  {
   "cell_type": "code",
   "execution_count": 7,
   "outputs": [
    {
     "data": {
      "text/plain": "(907, 10)"
     },
     "execution_count": 7,
     "metadata": {},
     "output_type": "execute_result"
    }
   ],
   "source": [
    "# cambio dei tipi\n",
    "prof = prof.astype({'AGE': 'int8','PhD': 'bool','YEARSEXP': 'int8','USERWIKI': 'bool'})\n",
    "\n",
    "#quanti campioni rimanenti\n",
    "prof.shape"
   ],
   "metadata": {
    "collapsed": false,
    "pycharm": {
     "name": "#%%\n"
    }
   }
  },
  {
   "cell_type": "markdown",
   "source": [
    "#### Incongruenze nel dataset\n",
    "\n",
    "Gli attributi \"OTHER\", \"OTHER_POSITION\" della descrizione non corrispondono a quelli presenti nel DataFrames:\n",
    " - __\"OTHER\"__ - non è presente;\n",
    " - __\"OTHER_POSITION\"__ - non rispecchia i valori attesi.\n",
    "\n",
    "L'attributo \"OTHER_POSITION\" del dataset presenta solo due valori, ___1___ e ___2___, questi risultano essere associabili all' attributo \"OTHER\" nella descrizione."
   ],
   "metadata": {
    "collapsed": false
   }
  },
  {
   "cell_type": "code",
   "execution_count": 8,
   "outputs": [
    {
     "data": {
      "text/plain": "count    648.000000\nmean       1.586420\nstd        0.492855\nmin        1.000000\n25%        1.000000\n50%        2.000000\n75%        2.000000\nmax        2.000000\nName: OTHER_POSITION, dtype: float64"
     },
     "execution_count": 8,
     "metadata": {},
     "output_type": "execute_result"
    }
   ],
   "source": [
    "prof['OTHER_POSITION'].dropna().astype(int).describe()"
   ],
   "metadata": {
    "collapsed": false,
    "pycharm": {
     "name": "#%%\n"
    }
   }
  },
  {
   "cell_type": "markdown",
   "source": [
    "Nel dataset è presente un'altra colonna che non viene descritta sul sito, ovvero \"OTHERSTATUS\".\n",
    "I dati di quest'ultima vanno da un minimo di ___1___ a un massimo di ___7___ e risultano essere associabili ai valori attesi dall'attibuto \"OTHER_POSITION\" del sito, ad esclusione del valore 7."
   ],
   "metadata": {
    "collapsed": false
   }
  },
  {
   "cell_type": "code",
   "execution_count": 9,
   "outputs": [
    {
     "data": {
      "text/plain": "count    372.000000\nmean       4.201613\nstd        2.223302\nmin        1.000000\n25%        2.000000\n50%        4.000000\n75%        7.000000\nmax        7.000000\nName: OTHERSTATUS, dtype: float64"
     },
     "execution_count": 9,
     "metadata": {},
     "output_type": "execute_result"
    }
   ],
   "source": [
    "prof['OTHERSTATUS'].dropna().astype(int).describe()"
   ],
   "metadata": {
    "collapsed": false,
    "pycharm": {
     "name": "#%%\n"
    }
   }
  },
  {
   "cell_type": "markdown",
   "source": [
    "#### Assunzioni\n",
    "\n",
    "Assumiamo come veritiere le supposizioni precedenti e associamo i vari attributi alle colonne nel dataset:\n",
    "- \"OTHER\" (sito) -> \"OTHER_POSITION\" (dataset)\n",
    "- \"OTHER_POSITION\" (sito) -> \"OTHERSTATUS\" (dataset)\n",
    "\n",
    "Il valore ___7___ presente nell'attributo \"OTHERSTATUS\" verrà interpretato come \"Altro\" e perciò specificherà una posizione lavorativa non in elenco."
   ],
   "metadata": {
    "collapsed": false
   }
  },
  {
   "cell_type": "code",
   "execution_count": 10,
   "outputs": [
    {
     "data": {
      "text/plain": "106"
     },
     "execution_count": 10,
     "metadata": {},
     "output_type": "execute_result"
    }
   ],
   "source": [
    "prof['OTHERSTATUS'].dropna().astype(int)[prof['OTHERSTATUS'].dropna().astype(int)[:] == 7].count()"
   ],
   "metadata": {
    "collapsed": false,
    "pycharm": {
     "name": "#%%\n"
    }
   }
  },
  {
   "cell_type": "markdown",
   "source": [
    "L'attributo \"OTHER_POSITION\" inoltre ha maggior parte dei dati mancanti, infatti questa variabile descrive il \"lavoro come part-time in un'altra università e membri UPF\".\n",
    "Possiamo affermare che questa domanda è mal progettata in quanto non è applicabile alla maggior parte dei membri della facoltà e che quindi non hanno risposto."
   ],
   "metadata": {
    "collapsed": false
   }
  },
  {
   "cell_type": "code",
   "execution_count": 11,
   "outputs": [
    {
     "data": {
      "text/plain": "(112, 10)"
     },
     "execution_count": 11,
     "metadata": {},
     "output_type": "execute_result"
    }
   ],
   "source": [
    "# quanti prof non sono assunti da UOC\n",
    "prof[prof['UNIVERSITY'] == 'UPF'].shape"
   ],
   "metadata": {
    "collapsed": false,
    "pycharm": {
     "name": "#%%\n"
    }
   }
  },
  {
   "cell_type": "code",
   "execution_count": 12,
   "outputs": [
    {
     "data": {
      "text/plain": "                contain na   number of na \nAGE                   False              0\nGENDER                False              0\nDOMAIN                False              0\nPhD                   False              0\nYEARSEXP              False              0\nUNIVERSITY            False              0\nUOC_POSITION           True            112\nOTHER_POSITION         True            112\nOTHERSTATUS            True              5\nUSERWIKI              False              0",
      "text/html": "<div>\n<style scoped>\n    .dataframe tbody tr th:only-of-type {\n        vertical-align: middle;\n    }\n\n    .dataframe tbody tr th {\n        vertical-align: top;\n    }\n\n    .dataframe thead th {\n        text-align: right;\n    }\n</style>\n<table border=\"1\" class=\"dataframe\">\n  <thead>\n    <tr style=\"text-align: right;\">\n      <th></th>\n      <th>contain na</th>\n      <th>number of na</th>\n    </tr>\n  </thead>\n  <tbody>\n    <tr>\n      <th>AGE</th>\n      <td>False</td>\n      <td>0</td>\n    </tr>\n    <tr>\n      <th>GENDER</th>\n      <td>False</td>\n      <td>0</td>\n    </tr>\n    <tr>\n      <th>DOMAIN</th>\n      <td>False</td>\n      <td>0</td>\n    </tr>\n    <tr>\n      <th>PhD</th>\n      <td>False</td>\n      <td>0</td>\n    </tr>\n    <tr>\n      <th>YEARSEXP</th>\n      <td>False</td>\n      <td>0</td>\n    </tr>\n    <tr>\n      <th>UNIVERSITY</th>\n      <td>False</td>\n      <td>0</td>\n    </tr>\n    <tr>\n      <th>UOC_POSITION</th>\n      <td>True</td>\n      <td>112</td>\n    </tr>\n    <tr>\n      <th>OTHER_POSITION</th>\n      <td>True</td>\n      <td>112</td>\n    </tr>\n    <tr>\n      <th>OTHERSTATUS</th>\n      <td>True</td>\n      <td>5</td>\n    </tr>\n    <tr>\n      <th>USERWIKI</th>\n      <td>False</td>\n      <td>0</td>\n    </tr>\n  </tbody>\n</table>\n</div>"
     },
     "execution_count": 12,
     "metadata": {},
     "output_type": "execute_result"
    }
   ],
   "source": [
    "#tutti i professori non associati a UPF non hanno un ruolo in \"UOC_POSITION\", il ruolo ricoperto è descritto in \"OTHERSTATUS\"\n",
    "pd.DataFrame({ 'contain na ': prof[prof['UNIVERSITY'] == 'UPF'].isna().any() ,'number of na ': prof[prof['UNIVERSITY'] == 'UPF'].isna().sum() })"
   ],
   "metadata": {
    "collapsed": false,
    "pycharm": {
     "name": "#%%\n"
    }
   }
  },
  {
   "cell_type": "markdown",
   "source": [
    "A conferma di quanto affermato poco sopra, analizzando l'attributo \"OTHER_POSITION\" si può notare come nel dataset alcuni professori di UOC hanno un altro impiego presso altre facoltà, mentre nessuno dei professori UPF ne ha"
   ],
   "metadata": {
    "collapsed": false
   }
  },
  {
   "cell_type": "code",
   "execution_count": 13,
   "outputs": [
    {
     "data": {
      "text/plain": "268"
     },
     "execution_count": 13,
     "metadata": {},
     "output_type": "execute_result"
    }
   ],
   "source": [
    "other_pos = prof[(prof[\"OTHER_POSITION\"].notna())].fillna(0)\n",
    "other_pos[['UOC_POSITION','OTHER_POSITION','OTHERSTATUS']] = other_pos[['UOC_POSITION','OTHER_POSITION','OTHERSTATUS']].astype(int)\n",
    "\n",
    "#prof di UOC con un altro impiego presso un'altra università\n",
    "other_pos.loc[(other_pos['OTHER_POSITION'] == 1) & (other_pos['UNIVERSITY'] == 'UOC')][\"OTHERSTATUS\"].count()"
   ],
   "metadata": {
    "collapsed": false,
    "pycharm": {
     "name": "#%%\n"
    }
   }
  },
  {
   "cell_type": "code",
   "execution_count": 14,
   "outputs": [
    {
     "data": {
      "text/plain": "0"
     },
     "execution_count": 14,
     "metadata": {},
     "output_type": "execute_result"
    }
   ],
   "source": [
    "#prof di UPF con un altro impiego presso un'altra università\n",
    "other_pos.loc[(other_pos['OTHER_POSITION'] == 1) & (other_pos['UNIVERSITY'] == 'UPF')][\"OTHERSTATUS\"].count()\n"
   ],
   "metadata": {
    "collapsed": false,
    "pycharm": {
     "name": "#%%\n"
    }
   }
  },
  {
   "cell_type": "markdown",
   "source": [
    "#### Valutazione NaN su \"UOC_POSITION\", \"OTHERSTATUS\", \"OTHER_POSITION\"\n",
    "\n",
    "Un'altra osservazione che possiamo eseguire su questi attributi l'analisi sugli NaN."
   ],
   "metadata": {
    "collapsed": false
   }
  },
  {
   "cell_type": "code",
   "execution_count": 15,
   "outputs": [
    {
     "data": {
      "text/plain": "                contain na   number of na \nUOC_POSITION           True            112\nOTHERSTATUS            True            535\nOTHER_POSITION         True            259",
      "text/html": "<div>\n<style scoped>\n    .dataframe tbody tr th:only-of-type {\n        vertical-align: middle;\n    }\n\n    .dataframe tbody tr th {\n        vertical-align: top;\n    }\n\n    .dataframe thead th {\n        text-align: right;\n    }\n</style>\n<table border=\"1\" class=\"dataframe\">\n  <thead>\n    <tr style=\"text-align: right;\">\n      <th></th>\n      <th>contain na</th>\n      <th>number of na</th>\n    </tr>\n  </thead>\n  <tbody>\n    <tr>\n      <th>UOC_POSITION</th>\n      <td>True</td>\n      <td>112</td>\n    </tr>\n    <tr>\n      <th>OTHERSTATUS</th>\n      <td>True</td>\n      <td>535</td>\n    </tr>\n    <tr>\n      <th>OTHER_POSITION</th>\n      <td>True</td>\n      <td>259</td>\n    </tr>\n  </tbody>\n</table>\n</div>"
     },
     "execution_count": 15,
     "metadata": {},
     "output_type": "execute_result"
    }
   ],
   "source": [
    "pd.DataFrame({ 'contain na ': prof[[\"UOC_POSITION\", \"OTHERSTATUS\", \"OTHER_POSITION\"]].isna().any() ,'number of na ': prof[[\"UOC_POSITION\", \"OTHERSTATUS\", 'OTHER_POSITION']].isna().sum() })"
   ],
   "metadata": {
    "collapsed": false,
    "pycharm": {
     "name": "#%%\n"
    }
   }
  },
  {
   "cell_type": "markdown",
   "source": [
    "Queste tre informazioni presentano un elevato numero di NaN, per questo motivo l'operazione di `fillna()` è estremamente sconsigliata. Questa altererebbe la natura dei dati, andando a creare valutazioni errate nelle fasi successive dello studio e per questo motivo l'unica soluzione percorribile è quella dell' dell'eliminazione netta."
   ],
   "metadata": {
    "collapsed": false
   }
  },
  {
   "cell_type": "markdown",
   "source": [
    "#### Costruzione attributo POSITION\n",
    "\n",
    "Prima di eliminare dal dataset le colonne citate poco sopra, è possibile recuperare una parte di informazione grazie alla combinazione delle tre colonne.\n",
    "\n",
    "L' attributo \"UNIVERSITY\" indica l'università di appartenenza, a seconda dei valori infatti:\n",
    "- se 1 -> il prof. ha un ruolo in UOC\n",
    "- se 2 -> il prof. o ha un ruolo un ruolo in UPF o in un'altra università\n",
    "\n",
    "Dagli studi e dalle analisi precedenti abbiamo osservato come le informazioni sulla posizione lavorativa di un professore sia enunciata negli attributi \"UOC_POSITION\" e \"OTHERSTATUS\" per i dipendenti di UOC e solo nell'attributo \"OTHERSTATUS\" per i dipendenti UPF.\n",
    "\n",
    "Sfruttando questa conoscenza è possibile ottenere un nuovo attributo \"POSITION\" che descriverà la posizione di maggior rilievo ricoperta dal professore combinando le informazioni presenti nelle varie colonne."
   ],
   "metadata": {
    "collapsed": false
   }
  },
  {
   "cell_type": "code",
   "execution_count": 16,
   "outputs": [
    {
     "name": "stderr",
     "output_type": "stream",
     "text": [
      "<ipython-input-16-f60dfb56dc25>:6: SettingWithCopyWarning: \n",
      "A value is trying to be set on a copy of a slice from a DataFrame\n",
      "\n",
      "See the caveats in the documentation: https://pandas.pydata.org/pandas-docs/stable/user_guide/indexing.html#returning-a-view-versus-a-copy\n",
      "  prof['OTHERSTATUS'][ prof['OTHERSTATUS'] > 6] = 0 # considero il 7 come \"altro\" percio non lo considero\n"
     ]
    }
   ],
   "source": [
    "prof['UOC_POSITION'] = prof['UOC_POSITION'].fillna(0).astype(int)\n",
    "prof['OTHERSTATUS'] = prof['OTHERSTATUS'].fillna(0).astype(int)\n",
    "prof['OTHER_POSITION'] = prof['OTHER_POSITION'].fillna(0).astype(int)\n",
    "\n",
    "# sostituzione del val \"Altro\" con 0 per sfruttare la UFunc max()\n",
    "prof['OTHERSTATUS'][ prof['OTHERSTATUS'] > 6] = 0 # considero il 7 come \"altro\" percio non lo considero"
   ],
   "metadata": {
    "collapsed": false,
    "pycharm": {
     "name": "#%%\n"
    }
   }
  },
  {
   "cell_type": "markdown",
   "source": [
    "##### Confronto fra UFunc e Funzioni semplici\n",
    "\n",
    "Come si puo vedere di seguito, il confronto conferma quanto ci aspettavamo. Le funzioni ottimizzate risultano essere molto più veloci rispetto alla funzione scritta con il linguaggio ad alto livello.\n",
    "l'UFunc risulta essere piu velore del"
   ],
   "metadata": {
    "collapsed": false
   }
  },
  {
   "cell_type": "code",
   "execution_count": 17,
   "outputs": [
    {
     "name": "stdout",
     "output_type": "stream",
     "text": [
      "717 µs ± 71.4 µs per loop (mean ± std. dev. of 7 runs, 1000 loops each)\n"
     ]
    }
   ],
   "source": [
    "%timeit prof[[\"UOC_POSITION\", \"OTHERSTATUS\"]].max(axis=1)"
   ],
   "metadata": {
    "collapsed": false,
    "pycharm": {
     "name": "#%%\n"
    }
   }
  },
  {
   "cell_type": "markdown",
   "source": [
    "`def merge_two_series_by_max(col1, col2):\n",
    "    col = []\n",
    "    for i in range(col1.size):\n",
    "        if col1[i] >= col2[i]:\n",
    "            col.append(col1[i])\n",
    "        else:\n",
    "            col.append(col2[i])\n",
    "    return col`"
   ],
   "metadata": {
    "collapsed": false
   }
  },
  {
   "cell_type": "code",
   "execution_count": null,
   "outputs": [],
   "source": [
    "%timeit main.merge_two_series_by_max(prof['OTHERSTATUS'].array, prof['UOC_POSITION'].array)"
   ],
   "metadata": {
    "collapsed": false,
    "pycharm": {
     "name": "#%%\n",
     "is_executing": true
    }
   }
  },
  {
   "cell_type": "markdown",
   "source": [
    "La funzione `merge_two_series_by_max(col1, col2)` ha un esecuzione media di 1.61 ms mentre l'ottimizzata 592µs, l'ultima risulta percio essere circa 3 volte pu veloce\n",
    "Grazie a questo confronto tra funzioni, decidiamo di utlizzare la UFunc dato che questa risulta essere piu efficiente.\n",
    "\n",
    "Una volta ottenuta la Series contenente la posizione lavorativa più importante ricoperta da ogni professore, la inseriamo nel dataset ed eliminiamo i 3 attributi utilizzati per costruirla poichè questi presentano un gran numero di NaN."
   ],
   "metadata": {
    "collapsed": false
   }
  },
  {
   "cell_type": "code",
   "execution_count": null,
   "outputs": [],
   "source": [
    "position = prof[[\"UOC_POSITION\", \"OTHERSTATUS\"]].max(axis=1).astype('int8')\n",
    "\n",
    "#inseriamo in ordine la nuova colonna ed eliminiamo 3 colonne\n",
    "prof.insert(loc=6, column='POSITION', value=position)\n",
    "prof = prof.drop(columns=['UOC_POSITION', 'OTHERSTATUS', 'OTHER_POSITION'])\n",
    "\n",
    "# professori che non hanno neanche un ruolo vengono eliminati\n",
    "prof = prof[prof['POSITION'] != 0]\n",
    "\n",
    "prof['POSITION'] = prof['POSITION'].replace([1,2,3,4,5,6], [\"Professor\", \"Associate\", \"Assistant\", \"Lecturer\", \"Instructor\", \"Adjunct\"])"
   ],
   "metadata": {
    "collapsed": false,
    "pycharm": {
     "name": "#%%\n",
     "is_executing": true
    }
   }
  },
  {
   "cell_type": "code",
   "execution_count": null,
   "outputs": [],
   "source": [
    "prof.info()"
   ],
   "metadata": {
    "collapsed": false,
    "pycharm": {
     "name": "#%%\n",
     "is_executing": true
    }
   }
  },
  {
   "cell_type": "markdown",
   "source": [
    "Controllando di nuovo il DataFrame \"prof\" e i suoi valori NaN possiamo affermare di aver eseguito una pulizia completa del dataset perdendo poche informazioni."
   ],
   "metadata": {
    "collapsed": false
   }
  },
  {
   "cell_type": "code",
   "execution_count": null,
   "outputs": [],
   "source": [
    "# mostra na di prof dopo manuipolazioni\n",
    "pd.DataFrame({ 'contain na ': prof.isna().any() ,'number of na ': prof.isna().sum() })"
   ],
   "metadata": {
    "collapsed": false,
    "pycharm": {
     "name": "#%%\n",
     "is_executing": true
    }
   }
  },
  {
   "cell_type": "markdown",
   "source": [
    "------------------------------------------------"
   ],
   "metadata": {
    "collapsed": false
   }
  },
  {
   "cell_type": "markdown",
   "source": [
    "### Questionario\n",
    "\n",
    "Questo sottoinsieme raccoglie risposte al sondaggio rilasciate da ogni professore.\n",
    "Ogni risposta puo avere un solo valore da 1 a 5, dove __1__: rappresenta \"fortemente in disaccordo / mai\" e __5__: \"fortemente d'accordo / sempre\"\n",
    "\n",
    "Argomento | Nome attributo | Desc\n",
    "----|------|-------\n",
    "Utilità percepita | PU1 | L'uso di Wikipedia rende più facile per gli studenti sviluppare nuove competenze\n",
    " - | PU2 | L'uso di Wikipedia migliora l'apprendimento degli studenti\n",
    " - | PU3 | Wikipedia è utile per l'insegnamento\n",
    "Facilità d'uso percepita | PEU1| Wikipedia è facile da usare\n",
    " - | PEU2 | È facile trovare in Wikipedia le informazioni che cerchi\n",
    " - | PEU3 | È facile aggiungere o modificare informazioni in Wikipedia\n",
    "Piacere percepito | ENJ1| L'uso di Wikipedia stimola la curiosità\n",
    " - | ENJ2 | L'uso di Wikipedia è divertente\n",
    "Qualità | QU1| Gli articoli di Wikipedia sono affidabili\n",
    " - | QU2 | Gli articoli di Wikipedia sono aggiornati\n",
    " - | QU3 | Gli articoli di Wikipedia sono completi\n",
    " - | QU4 | Nella mia area di competenza, Wikipedia ha una qualità inferiore rispetto ad altre risorse educative\n",
    " - | QU5 | Ho fiducia nel sistema di editing di Wikipedia\n",
    "Visibilità | VIS1| Wikipedia migliora la visibilità del lavoro degli studenti\n",
    " - | VIS2 | È facile avere un registro dei contributi fatti in Wikipedia\n",
    " - | VIS3 | Cito Wikipedia nei miei articoli accademici\n",
    "Immagine sociale | IM1| L'uso di Wikipedia è ben considerato dai colleghi\n",
    " - | IM2 | Nel mondo accademico, la condivisione di risorse educative aperte è apprezzata\n",
    " - | IM3 | I miei colleghi usano Wikipedia\n",
    "Atteggiamento di condivisione | SA1| È importante condividere i contenuti accademici in piattaforme aperte\n",
    " - | SA2 | È importante pubblicare i risultati della ricerca in altri media che non siano riviste accademiche o libri\n",
    " - | SA3 | È importante che gli studenti acquisiscano familiarità con gli ambienti collaborativi online\n",
    "Comportamento d'uso | USE1| Uso Wikipedia per sviluppare il mio materiale didattico\n",
    " - | USE2 | Uso Wikipedia come piattaforma per sviluppare attività educative con gli studenti\n",
    " - | USE3 | Raccomando ai miei studenti di usare Wikipedia\n",
    " - | USE4 | Raccomando ai miei colleghi di usare Wikipedia\n",
    " - | USE5 | Sono d'accordo che i miei studenti usino Wikipedia nei miei corsi\n",
    "Profilo 2.0 | PF1| Contribuisco ai blog\n",
    " - | PF2 | Partecipo attivamente alle reti sociali\n",
    " - | PF3 | Pubblico contenuti accademici in piattaforme aperte\n",
    "Rilevanza del lavoro | JR1| La mia università promuove l'uso di ambienti collaborativi aperti in Internet\n",
    " - | JR2 | La mia università considera l'uso di ambienti collaborativi aperti in Internet come un merito dell'insegnamento\n",
    "Intenzione comportamentale | BI1| In futuro raccomanderò l'uso di Wikipedia ai miei colleghi e studenti\n",
    " - | BI2 | In futuro userò Wikipedia nella mia attività di insegnamento\n",
    "Incentivi | INC1| Per progettare attività educative utilizzando Wikipedia, sarebbe utile: una guida alle migliori pratiche\n",
    " - | INC2 | Per progettare attività educative utilizzando Wikipedia, sarebbe utile: ricevere istruzioni da un collega\n",
    " - | INC3 | Per progettare attività educative utilizzando Wikipedia, sarebbe utile: ottenere una formazione specifica\n",
    " - | INC4 | Sarebbe utile progettare attività educative usando Wikipedia: maggiore riconoscimento istituzionale\n",
    "Esperienza | EXP1| Consulto Wikipedia per questioni relative al mio campo di competenza\n",
    " - | EXP2 | Consulto Wikipedia per altre questioni accademiche\n",
    " - | EXP3 | Consulto Wikipedia per questioni personali\n",
    " - | EXP4 | Contribuisco a Wikipedia (edizioni, revisioni, miglioramento degli articoli...)\n",
    " - | EXP5 | Uso i wiki per lavorare con i miei studenti"
   ],
   "metadata": {
    "collapsed": false
   }
  },
  {
   "cell_type": "markdown",
   "source": [
    "Prima di procedere con l'analisi del set di dati verranno eliminate i campioni dei professori non più presenti nel dataset grazie all'utilizzo degli Index"
   ],
   "metadata": {
    "collapsed": false
   }
  },
  {
   "cell_type": "code",
   "execution_count": null,
   "outputs": [],
   "source": [
    "domande_titles = {\n",
    "'PU1' :'L\\'uso di Wikipedia rende più facile per gli studenti sviluppare nuove competenze',\n",
    "'PU2' :'L\\'uso di Wikipedia migliora l\\'apprendimento degli studenti',\n",
    "'PU3' :'Wikipedia è utile per l\\'insegnamento',\n",
    "'PEU1':'Wikipedia è facile da usare',\n",
    "'PEU2':'È facile trovare in Wikipedia le informazioni che cerchi',\n",
    "'PEU3':'È facile aggiungere o modificare informazioni in Wikipedia',\n",
    "'ENJ1':'L\\'uso di Wikipedia stimola la curiosità',\n",
    "'ENJ2':'L\\'uso di Wikipedia è divertente',\n",
    "'Qu1' :'Gli articoli di Wikipedia sono affidabili',\n",
    "'Qu2' :'Gli articoli di Wikipedia sono aggiornati',\n",
    "'Qu3' :'Gli articoli di Wikipedia sono completi',\n",
    "'Qu4' :'Nella mia area di competenza, Wikipedia ha una qualità inferiore rispetto ad altre risorse educative',\n",
    "'Qu5' :'Ho fiducia nel sistema di editing di Wikipedia',\n",
    "'Vis1':'Wikipedia migliora la visibilità del lavoro degli studenti',\n",
    "'Vis2':'È facile avere un registro dei contributi fatti in Wikipedia',\n",
    "'Vis3':'Cito Wikipedia nei miei articoli accademici',\n",
    "'Im1' :'L\\'uso di Wikipedia è ben considerato dai colleghi',\n",
    "'Im2' :'Nel mondo accademico, la condivisione di risorse educative aperte è apprezzata',\n",
    "'Im3' :'I miei colleghi usano Wikipedia',\n",
    "'SA1' :'È importante condividere i contenuti accademici in piattaforme aperte',\n",
    "'SA2' :'È importante pubblicare i risultati della ricerca in altri media che non siano riviste accademiche o libri',\n",
    "'SA3' :'È importante che gli studenti acquisiscano familiarità con gli ambienti collaborativi online',\n",
    "'Use1':'Uso Wikipedia per sviluppare il mio materiale didattico',\n",
    "'Use2':'Uso Wikipedia come piattaforma per sviluppare attività educative con gli studenti',\n",
    "'Use3':'Raccomando ai miei studenti di usare Wikipedia',\n",
    "'Use4':'Raccomando ai miei colleghi di usare Wikipedia',\n",
    "'Use5':'Sono d\\'accordo che i miei studenti usino Wikipedia nei miei corsi',\n",
    "'Pf1' :'Contribuisco ai blog',\n",
    "'Pf2' :'Partecipo attivamente alle reti sociali',\n",
    "'Pf3' :'Pubblico contenuti accademici in piattaforme aperte',\n",
    "'JR1' :'La mia università promuove l\\'uso di ambienti collaborativi aperti in Internet',\n",
    "'JR2' :'La mia università considera l\\'uso di ambienti collaborativi aperti in Internet come un merito dell\\'insegnamento',\n",
    "'BI1' :'In futuro raccomanderò l\\'uso di Wikipedia ai miei colleghi e studenti',\n",
    "'BI2' :'In futuro userò Wikipedia nella mia attività di insegnamento',\n",
    "'Inc1':'Per progettare attività educative utilizzando Wikipedia, sarebbe utile: una guida alle migliori pratiche',\n",
    "'Inc2':'Per progettare attività educative utilizzando Wikipedia, sarebbe utile: ricevere istruzioni da un collega',\n",
    "'Inc3':'Per progettare attività educative utilizzando Wikipedia, sarebbe utile: ottenere una formazione specifica',\n",
    "'Inc4':'Sarebbe utile progettare attività educative usando Wikipedia: maggiore riconoscimento istituzionale',\n",
    "'Exp1':'Consulto Wikipedia per questioni relative al mio campo di competenza',\n",
    "'Exp2':'Consulto Wikipedia per altre questioni accademiche',\n",
    "'Exp3':'Consulto Wikipedia per questioni personali',\n",
    "'Exp4':'Contribuisco a Wikipedia (edizioni, revisioni, miglioramento degli articoli...)',\n",
    "'Exp5':'Uso i wiki per lavorare con i miei studenti'\n",
    "}"
   ],
   "metadata": {
    "collapsed": false,
    "pycharm": {
     "name": "#%%\n",
     "is_executing": true
    }
   }
  },
  {
   "cell_type": "code",
   "execution_count": null,
   "outputs": [],
   "source": [
    "#escludo le domande relative ai professori non più presenti\n",
    "questionario = questionario.loc[prof.index]\n",
    "\n",
    "#reset index\n",
    "prof.reset_index(inplace=True, drop=True)\n",
    "questionario.reset_index(inplace=True, drop=True)\n",
    "\n",
    "#stampa degli NaN per ogni attributo\n",
    "pd.DataFrame({ 'contain na ': questionario.isna().any() ,'number of na ': questionario.isna().sum() })"
   ],
   "metadata": {
    "collapsed": false,
    "pycharm": {
     "name": "#%%\n",
     "is_executing": true
    }
   }
  },
  {
   "cell_type": "markdown",
   "source": [
    "#### Ricodifica QU4\n",
    "\n",
    "Analizzando le domande relative al questionario si è notato che la domanda QU4 (\"Nella mia area di competenza, Wikipedia ha una qualità inferiore rispetto ad altre risorse educative\") è posta in maniera non coerente rispetto alle altre.\n",
    "\n",
    "In questa specifica domanda una risposta con valore 5 esprime un giudizio negativo, per questo motivo eseguiremo una ricodifica delle risposte cosi da ottenere una maggiore linearità."
   ],
   "metadata": {
    "collapsed": false
   }
  },
  {
   "cell_type": "markdown",
   "source": [
    "##### Confronto fra UFunc e Funzioni semplici\n",
    "\n",
    "Per operare questo tipo di codifica era necessario operare su tutta la Series, questo ha permesso di confrontare i diversi approcci possibili.\n",
    "Nel primo caso si è utilizzata la funzione built-in `.map()` disponibile nella libreria Pandas, nel secondo la funzione utilizza UFuncs adatte alla manipolazione delle series mentre l'ultima consiste in un ciclo su tutta la Series dove per ogni elemento si applica una funzione lambda che simula la map() del primo test"
   ],
   "metadata": {
    "collapsed": false
   }
  },
  {
   "cell_type": "code",
   "execution_count": null,
   "outputs": [],
   "source": [
    "#trasformo per facilitare il test\n",
    "questionario['Qu4'] = questionario['Qu4'].fillna(0).astype(int)\n"
   ],
   "metadata": {
    "collapsed": false,
    "pycharm": {
     "name": "#%%\n",
     "is_executing": true
    }
   }
  },
  {
   "cell_type": "code",
   "execution_count": null,
   "outputs": [],
   "source": [
    "# funzione built|in\n",
    "%timeit questionario['Qu4'].map({1:5, 2:4, 3:3, 4:2, 5:1})"
   ],
   "metadata": {
    "collapsed": false,
    "pycharm": {
     "name": "#%%\n",
     "is_executing": true
    }
   }
  },
  {
   "cell_type": "markdown",
   "source": [
    "`def reverse_vote_uf(s):\n",
    "\n",
    "    v1 = s.mask(s == 1, 5)\n",
    "    v2 = s.mask(s == 2, 4)\n",
    "    v3 = s.mask(s == 3, 3)\n",
    "    v4 = s.mask(s == 4, 2)\n",
    "    v5 = s.mask(s == 5, 1)\n",
    "\n",
    "    v3 = v3.combine(v1, max)\n",
    "    v3 = v3.combine(v2, max)\n",
    "    v3 = v3.combine(v4, max)\n",
    "    v3 = v3.combine(v5, max)\n",
    "\n",
    "    return v3`"
   ],
   "metadata": {
    "collapsed": false
   }
  },
  {
   "cell_type": "code",
   "execution_count": null,
   "outputs": [],
   "source": [
    "# mask e combine\n",
    "%timeit main.reverse_vote_uf(questionario['Qu4'])"
   ],
   "metadata": {
    "collapsed": false,
    "pycharm": {
     "name": "#%%\n",
     "is_executing": true
    }
   }
  },
  {
   "cell_type": "markdown",
   "source": [
    "`def switch(e):\n",
    "    switcher = {\n",
    "        0: 0,\n",
    "        1: 5,\n",
    "        2: 4,\n",
    "        3: 3,\n",
    "        4: 2,\n",
    "        5: 1\n",
    "    }\n",
    "    return switcher.get(e, lambda: \"Invalid\")\n",
    "\n",
    "\n",
    "def reverse_vote_not_uf(s):\n",
    "    list = []\n",
    "    for i in range(s.size):\n",
    "        list.append(switch(s[i]))\n",
    "    return list`"
   ],
   "metadata": {
    "collapsed": false
   }
  },
  {
   "cell_type": "code",
   "execution_count": null,
   "outputs": [],
   "source": [
    "# foreach con funzione switcher che utilizza map\n",
    "%timeit main.reverse_vote_not_uf(questionario['Qu4'].array)"
   ],
   "metadata": {
    "collapsed": false,
    "pycharm": {
     "name": "#%%\n",
     "is_executing": true
    }
   }
  },
  {
   "cell_type": "markdown",
   "source": [
    "Il risultato sorprende in parte, questo infatti conferma che la funzione `.map()` di pandas è la più veloce ed ottimizzata ma mostra come il secondo approccio sia meno efficiente rispetto all'ultimo.\n",
    "Questo risultato ci permette di fare riflessioni sulle `lambda` function, queste infatti risultano essere molto efficienti rispetto alle normali funzioni quasi quanto le `.map()`"
   ],
   "metadata": {
    "collapsed": false
   }
  },
  {
   "cell_type": "code",
   "execution_count": null,
   "outputs": [],
   "source": [
    "questionario['Qu4'] = questionario['Qu4'].map({0:np.nan, 1:5, 2:4, 3:3, 4:2, 5:1})"
   ],
   "metadata": {
    "collapsed": false,
    "pycharm": {
     "name": "#%%\n",
     "is_executing": true
    }
   }
  },
  {
   "cell_type": "markdown",
   "source": [
    "#### Pulizia degli attributi e cambio dtype\n",
    "\n",
    "Tutti gli attributi, come visto in precedenza, possiedono almeno un NaN. Stampare il numero dei campioni coinvolti con nessun NaN è utile a capire quanto questo fenomeno abbia peso sul dataset."
   ],
   "metadata": {
    "collapsed": false
   }
  },
  {
   "cell_type": "code",
   "execution_count": null,
   "outputs": [],
   "source": [
    "# lo mostro soltanto per vedere quante sono le righe complete\n",
    "questionario.dropna().shape"
   ],
   "metadata": {
    "collapsed": false,
    "pycharm": {
     "name": "#%%\n",
     "is_executing": true
    }
   }
  },
  {
   "cell_type": "markdown",
   "source": [
    "Una semplice esclusione delle osservazioni (righe) con NaN nelle risposte del sondaggio rimuove circa 300 osservazioni. Questo è circa 1/3 del set di dati ed è una parte abbastanza significativa dei dati perciò si cercherà un altro approccio per ottenere un dataset completamente pulito."
   ],
   "metadata": {
    "collapsed": false
   }
  },
  {
   "cell_type": "markdown",
   "source": [
    "##### Diversi approcci per pulizia\n",
    "\n",
    "A seguito delle analisi sul dataset, le opzioni applicabili sono 3:\n",
    "\n",
    "- eliminare riga solo se ha n risposte mancanti, con n valore arbitrario\n",
    "- sostituire gli NaN con un valore specifico, ad esempio 0 o 6\n",
    "- sostituire gli NaN con la mediana\n",
    "\n",
    "La prima soluzione non risulta essere percorribile, ogni risposta alle domande può risultare importante ai fini dello studio. Ad esempio, eliminare una riga nel caso in cui il professore non abbia risposto ai quesiti \"USE\" quando questi sono quelli da predirre eliminerebbe campioni utili al dataset.\n",
    "\n",
    "La seconda opzione risulterebbe interessante qualora il dataset non dovesse essere utilizzato per il ML, introdurre nuovi valori numerici che non hanno un reale riscontro con le domande effettuate porterebbe possibili comportamenti inattesi da parte degli algoritmi.\n",
    "\n",
    "La soluzione migliore risulta essere l'ultima anche se non risulterà possibile effettuare un'analisi sul motivo per cui i dati sono nulli."
   ],
   "metadata": {
    "collapsed": false
   }
  },
  {
   "cell_type": "code",
   "execution_count": null,
   "outputs": [],
   "source": [
    "fig, ax = plt.subplots(figsize=(25, 6))\n",
    "questionario.dropna().astype(int).boxplot(ax=ax)"
   ],
   "metadata": {
    "collapsed": false,
    "pycharm": {
     "name": "#%%\n",
     "is_executing": true
    }
   }
  },
  {
   "cell_type": "code",
   "execution_count": null,
   "outputs": [],
   "source": [
    "from sklearn.impute import SimpleImputer\n",
    "imp = SimpleImputer(strategy='median')\n",
    "questionario = pd.DataFrame(imp.fit_transform(questionario), columns=domande_titles.keys())\n",
    "questionario = questionario.round().astype('int8')\n",
    "\n",
    "pd.DataFrame({ 'contain na ': questionario.isna().any() ,'number of na ': questionario.isna().sum() })"
   ],
   "metadata": {
    "collapsed": false,
    "pycharm": {
     "name": "#%%\n",
     "is_executing": true
    }
   }
  },
  {
   "cell_type": "markdown",
   "source": [
    "# Analisi Statistica Esplorativa (Exploratory Data Analysis - EDA)\n",
    "\n",
    "In questa capitolo cercheremo di comprendere i dati relative alle risposte al questionario mettendole a confronto con le domande riguardanti l'utilizzo di Wikipedia (ovvero Use*) che nel capitolo successivo andremo a predirre.\n",
    "\n",
    "Per arrivare all'obiettivo prefissato utilizzeremo istogrammi grazie ai quali avremo modo di osservare la distribuzione delle risposte per ogni domanda del questionario."
   ],
   "metadata": {
    "collapsed": false
   }
  },
  {
   "cell_type": "code",
   "execution_count": null,
   "outputs": [],
   "source": [
    "# separazione della label dalle features\n",
    "questionario_uses = questionario[['Use1','Use2','Use3','Use4','Use5']]\n",
    "questionario = questionario.drop(['Use1','Use2','Use3','Use4','Use5'], axis=1)\n",
    "\n",
    "fig = plt.figure(figsize=(20,4))\n",
    "plt.subplots_adjust(wspace=1)\n",
    "for i, x in enumerate(questionario_uses.columns):\n",
    "    ax = plt.subplot(1,5,i+1)\n",
    "    ax.hist(questionario_uses[x])\n",
    "    ax.set_title(\"\\n\".join(textwrap.wrap(x + \" - \" + domande_titles[x], 30)), fontsize = 10)\n",
    "    ax.set_xticks([1, 2, 3, 4, 5])"
   ],
   "metadata": {
    "collapsed": false,
    "pycharm": {
     "name": "#%%\n",
     "is_executing": true
    }
   }
  },
  {
   "cell_type": "markdown",
   "source": [
    "## Trasformazione Label in variabile dicotomica\n",
    "\n",
    "Per rendere l'analisi più semplice convertiremo la scala dei valori in binaria, in questo modo si otterranno due gruppi, gli 1 rapresenteranno la risposta affermativa alla domanda mentre gli 0 quella negativa. Convertiremo ogni punteggio 1 e 2 in 0 mentre i valori da 3 a 5 in 1; il valore 3 è considerato positivo in quanto punteggio neutro e perciò non è dannoso per l'uso di wikipedia.\n",
    "\n",
    "Eseguendo questa conversione in variabili dicotomiche perderemo informazioni descrittive ma avremo il vantaggio di un analisi più facile e comprensibile."
   ],
   "metadata": {
    "collapsed": false
   }
  },
  {
   "cell_type": "code",
   "execution_count": null,
   "outputs": [],
   "source": [
    "# trasformazione variabile dicotomica\n",
    "questionario_uses = questionario_uses.replace([1,2,3,4,5], [0,0,1,1,1])"
   ],
   "metadata": {
    "collapsed": false,
    "pycharm": {
     "name": "#%%\n",
     "is_executing": true
    }
   }
  },
  {
   "cell_type": "markdown",
   "source": [
    "Nel grafico riportati di seguito si può notare come solo le domande Use3 e Use4 risultano bilanciate."
   ],
   "metadata": {
    "collapsed": false,
    "pycharm": {
     "name": "#%% md\n"
    }
   }
  },
  {
   "cell_type": "code",
   "execution_count": null,
   "outputs": [],
   "source": [
    "fig = plt.figure(figsize=(20,4))\n",
    "plt.subplots_adjust(wspace=1)\n",
    "for i, x in enumerate(questionario_uses.columns):\n",
    "    ax = plt.subplot(1,5,i+1)\n",
    "    ax.hist(questionario_uses[x], bins=2)\n",
    "    ax.set_title(\"\\n\".join(textwrap.wrap(x + \" - \" + domande_titles[x], 30)), fontsize = 10)\n",
    "    ax.set_xticks([0,1])\n",
    "    ax.set_xticklabels([\"No\", \"Si\"])\n",
    "    ax.set_yticks([0, 250, 500, 750])\n",
    "    ax.set_yticklabels([0, 250, 500, 750])"
   ],
   "metadata": {
    "collapsed": false,
    "pycharm": {
     "name": "#%%\n",
     "is_executing": true
    }
   }
  },
  {
   "cell_type": "markdown",
   "source": [
    "## Distribuzione delle Label\n",
    "\n",
    "In questo paragrafo potremo osservare la distribuzione dei valori degli Use* negli altri quesiti"
   ],
   "metadata": {
    "collapsed": false,
    "pycharm": {
     "name": "#%% md\n"
    }
   }
  },
  {
   "cell_type": "code",
   "execution_count": null,
   "outputs": [],
   "source": [
    "fig = plt.figure(figsize=(20,18))\n",
    "plt.subplots_adjust(wspace=1, hspace=1)\n",
    "for i, x in enumerate(questionario.columns):\n",
    "    ax = plt.subplot(7,6,i+1)\n",
    "    ax.hist([questionario[x][questionario_uses['Use1'] == 0], questionario[x][questionario_uses['Use1'] == 1]], stacked=True)\n",
    "    ax.set_title(\"\\n\".join(textwrap.wrap(x + \" - \" + domande_titles[x], 30)), fontsize = 10)\n",
    "    ax.set_xticks([1, 2, 3, 4, 5])\n",
    "    ax.set_yticks([0, 200, 400, 600])\n",
    "plt.suptitle(\"Divisione delle domande per valori di 'Use1'\" + \"\\n-\" + \"\\n\" + domande_titles['Use1'])\n",
    "fig.legend([\"No\", \"Si\"])"
   ],
   "metadata": {
    "collapsed": false,
    "pycharm": {
     "name": "#%%\n",
     "is_executing": true
    }
   }
  },
  {
   "cell_type": "code",
   "execution_count": null,
   "outputs": [],
   "source": [
    "fig = plt.figure(figsize=(20,18))\n",
    "plt.subplots_adjust(wspace=1, hspace=1)\n",
    "for i, x in enumerate(questionario.columns):\n",
    "    ax = plt.subplot(7,6,i+1)\n",
    "    ax.hist([questionario[x][questionario_uses['Use2'] == 0], questionario[x][questionario_uses['Use2'] == 1]], stacked=True)\n",
    "    ax.set_title(\"\\n\".join(textwrap.wrap(x + \" - \" + domande_titles[x], 30)), fontsize = 10)\n",
    "    ax.set_xticks([1, 2, 3, 4, 5])\n",
    "    ax.set_yticks([0, 200, 400, 600])\n",
    "\n",
    "plt.suptitle(\"Divisione delle domande per valori di 'Use2'\" + \"\\n-\" + \"\\n\" + domande_titles['Use2'])\n",
    "fig.legend([\"No\", \"Si\"])"
   ],
   "metadata": {
    "collapsed": false,
    "pycharm": {
     "name": "#%%\n",
     "is_executing": true
    }
   }
  },
  {
   "cell_type": "code",
   "execution_count": null,
   "outputs": [],
   "source": [
    "fig = plt.figure(figsize=(20,18))\n",
    "plt.subplots_adjust(wspace=1, hspace=1)\n",
    "for i, x in enumerate(questionario.columns):\n",
    "    ax = plt.subplot(7,6,i+1)\n",
    "    ax.hist([questionario[x][questionario_uses['Use3'] == 0], questionario[x][questionario_uses['Use3'] == 1]], stacked=True)\n",
    "    ax.set_title(\"\\n\".join(textwrap.wrap(x + \" - \" + domande_titles[x], 30)), fontsize = 10)\n",
    "    ax.set_xticks([1, 2, 3, 4, 5])\n",
    "    ax.set_yticks([0, 200, 400, 600])\n",
    "plt.suptitle(\"Divisione delle domande per valori di 'Use3'\" + \"\\n-\" + \"\\n\" + domande_titles['Use3'])\n",
    "fig.legend([\"No\", \"Si\"])"
   ],
   "metadata": {
    "collapsed": false,
    "pycharm": {
     "name": "#%%\n",
     "is_executing": true
    }
   }
  },
  {
   "cell_type": "code",
   "execution_count": null,
   "outputs": [],
   "source": [
    "fig = plt.figure(figsize=(20,18))\n",
    "plt.subplots_adjust(wspace=1, hspace=1)\n",
    "for i, x in enumerate(questionario.columns):\n",
    "    ax = plt.subplot(7,6,i+1)\n",
    "    ax.hist([questionario[x][questionario_uses['Use4'] == 0], questionario[x][questionario_uses['Use4'] == 1]], stacked=True)\n",
    "    ax.set_title(\"\\n\".join(textwrap.wrap(x + \" - \" + domande_titles[x], 30)), fontsize = 10)\n",
    "    ax.set_xticks([1, 2, 3, 4, 5])\n",
    "    ax.set_yticks([0, 200, 400, 600])\n",
    "plt.suptitle(\"Divisione delle domande per valori di 'Use4'\" + \"\\n-\" + \"\\n\" + domande_titles['Use4'])\n",
    "fig.legend([\"No\", \"Si\"])"
   ],
   "metadata": {
    "collapsed": false,
    "pycharm": {
     "name": "#%%\n",
     "is_executing": true
    }
   }
  },
  {
   "cell_type": "code",
   "execution_count": null,
   "outputs": [],
   "source": [
    "fig = plt.figure(figsize=(20,18))\n",
    "plt.subplots_adjust(wspace=1, hspace=1)\n",
    "for i, x in enumerate(questionario.columns):\n",
    "    ax = plt.subplot(7,6,i+1)\n",
    "    ax.hist([questionario[x][questionario_uses['Use5'] == 0], questionario[x][questionario_uses['Use5'] == 1]], stacked=True)\n",
    "    ax.set_title(\"\\n\".join(textwrap.wrap(x + \" - \" + domande_titles[x], 30)), fontsize = 10)\n",
    "    ax.set_xticks([1, 2, 3, 4, 5])\n",
    "    ax.set_yticks([0, 200, 400, 600])\n",
    "plt.suptitle(\"Divisione delle domande per valori di 'Use5'\" + \"\\n-\" + \"\\n\" + domande_titles['Use5'])\n",
    "fig.legend([\"No\", \"Si\"])\n"
   ],
   "metadata": {
    "collapsed": false,
    "pycharm": {
     "name": "#%%\n",
     "is_executing": true
    }
   }
  },
  {
   "cell_type": "markdown",
   "source": [
    "Come possiamo vedere dai grafici, la maggior parte delle domande ha una distribuzione quasi normale, con la maggior parte delle risposte concentrate tra 2, 3 e 4.\n",
    "Risultano essere presenti alcune domande sulle quali sono presenti molti valori rappresentanti il disaccordo, è il caso Vis3 e Exp5.\n",
    "\n",
    "Queste domande, riferendosi all'uso di wikipedia per l'elaborazione di materiale e attività educative, risultano essere molto interessanti ai fini dello studio e forniscono un indicazione sull'opinione di una buona parte dei professori."
   ],
   "metadata": {
    "collapsed": false
   }
  },
  {
   "cell_type": "markdown",
   "source": [
    "# Machine Learnirng\n",
    "\n",
    "Dopo gli studi sul dataset, un quesito particolarmente interessante è stato quello contrassegnato con l'etichetta 'Use3' che descrive l'opinione di un prefessore sull'utilizzo di Wikipedia da parte degli studenti.\n",
    "In questo capitolo si addestrarà un modello SVM con l'intento di ottenere una classificazione sull'opinione di un professore su wikipedia in base alle sue caratteristiche e alle risposte del questionario.\n",
    "\n",
    "Per uno studio più accurato del ML verranno presi in analisi e confrontati fra loro 4 dataset, questi verranno differenziati dalla tipologia di trasformazione eseguiti su di essi e sulla quantità di features.\n",
    "I 4 dataset:\n",
    "- questionario normalizzato\n",
    "- questionario one-hot encoding\n",
    "- anagrafica + questionario normalizzato\n",
    "- anagrafica + questionario one-hot encoding\n",
    "\n",
    "Per ottenere il risultato descritto suddivideremo il lavoro in 3 fasi:\n",
    "- Preparazione Dataset\n",
    "- Validazione modello\n",
    "- Addestramento, Predizione e Confronto Accuratezza\n"
   ],
   "metadata": {
    "collapsed": false
   }
  },
  {
   "cell_type": "code",
   "execution_count": null,
   "outputs": [],
   "source": [
    "#riuniamo il dataset\n",
    "data = pd.concat([prof,questionario,questionario_uses], axis=1)\n",
    "data.head()"
   ],
   "metadata": {
    "collapsed": false,
    "pycharm": {
     "name": "#%%\n",
     "is_executing": true
    }
   }
  },
  {
   "cell_type": "markdown",
   "source": [
    "## Preparazione Dataset\n",
    "\n",
    "Per evitare problemi numerici negli algoritmi di ML e per un bilanciamento delle features ricorriamo all'utilizzo della tecnica di Normalizzazione\n",
    "Nel dataset in analisi sono presenti varie features categoriche, per esplodere quest'ultime ricorriamo all'utilizzo del One-Hot Encoding"
   ],
   "metadata": {
    "collapsed": false
   }
  },
  {
   "cell_type": "markdown",
   "source": [
    "### Normalizzazioni"
   ],
   "metadata": {
    "collapsed": false
   }
  },
  {
   "cell_type": "code",
   "execution_count": null,
   "outputs": [],
   "source": [
    "#funzione d'utilità per eliminare key da un dizionario\n",
    "def without_keys(d, keys):\n",
    "    return {x: d[x] for x in d if x not in keys}"
   ],
   "metadata": {
    "collapsed": false,
    "pycharm": {
     "name": "#%%\n",
     "is_executing": true
    }
   }
  },
  {
   "cell_type": "code",
   "execution_count": null,
   "outputs": [],
   "source": [
    "from sklearn.preprocessing import MinMaxScaler\n",
    "scaler = MinMaxScaler()\n",
    "# normalizzazione attributi anagrafica\n",
    "prof[['YEARSEXP','AGE']] = scaler.fit_transform(prof[['YEARSEXP','AGE']])"
   ],
   "metadata": {
    "collapsed": false,
    "pycharm": {
     "name": "#%%\n",
     "is_executing": true
    }
   }
  },
  {
   "cell_type": "code",
   "execution_count": null,
   "outputs": [],
   "source": [
    "#questionario normalizzato\n",
    "questionario_norm = pd.DataFrame(scaler.fit_transform(questionario), columns=without_keys(domande_titles, {'Use1', 'Use2', 'Use3', 'Use4', 'Use5'}))"
   ],
   "metadata": {
    "collapsed": false,
    "pycharm": {
     "name": "#%%\n",
     "is_executing": true
    }
   }
  },
  {
   "cell_type": "markdown",
   "source": [
    "### One-Hot Encoding"
   ],
   "metadata": {
    "collapsed": false
   }
  },
  {
   "cell_type": "code",
   "execution_count": null,
   "outputs": [],
   "source": [
    "#anagrafica con One-Hot Encoding\n",
    "prof_ohe = pd.get_dummies(prof, prefix_sep='_')\n",
    "#riordino colonne dell'anagrafica\n",
    "prof_ohe = prof_ohe[['AGE', 'GENDER_Uomo', 'DOMAIN_Engineering & Architecture', 'DOMAIN_Health Sciences', 'DOMAIN_Law & Politics','DOMAIN_Sciences','DOMAIN_Social Science', 'PhD', 'YEARSEXP', 'UNIVERSITY_UPF', 'POSITION_Instructor', 'POSITION_Lecturer', 'POSITION_Professor', 'USERWIKI']]\n",
    "\n",
    "#questionario One-Hot Encoding\n",
    "questionario_ohe = pd.get_dummies( questionario.astype(str), prefix_sep='_')\n",
    "\n",
    "# anagrafica + questionario normalizzato\n",
    "data_norm = pd.concat([prof_ohe,questionario_norm], axis=1)\n",
    "\n",
    "# anagrafica + questionario one-hot encoding\n",
    "data_ohe = pd.concat([prof_ohe,questionario_ohe], axis=1)"
   ],
   "metadata": {
    "collapsed": false,
    "pycharm": {
     "name": "#%%\n",
     "is_executing": true
    }
   }
  },
  {
   "cell_type": "markdown",
   "source": [
    "## Validazione modello\n",
    "\n",
    "Avendo scelto il modello SVM occorre validare quest'ultimo testando gli iperparametri possibili grazie alle tecniche della Grid-Search e della Cross-Validation.\n",
    "Queste verranno applicate ad ogni dataset sotto analisi, ognuno di essi avrà i samples suddivisi in 80% per il training e 20% per i test"
   ],
   "metadata": {
    "collapsed": false
   }
  },
  {
   "cell_type": "markdown",
   "source": [
    "### Divisione Traning e Testing Set"
   ],
   "metadata": {
    "collapsed": false
   }
  },
  {
   "cell_type": "code",
   "execution_count": null,
   "outputs": [],
   "source": [
    "from sklearn.model_selection import train_test_split\n",
    "\n",
    "x_train_q,x_test_q,y_train_q,y_test_q=train_test_split(questionario_ohe,questionario_uses['Use3'],test_size=0.2,random_state=0)\n",
    "\n",
    "x_train_qn,x_test_qn,y_train_qn,y_test_qn=train_test_split(questionario_norm,questionario_uses['Use3'],test_size=0.2,random_state=0)\n",
    "\n",
    "x_train_d,x_test_d,y_train_d,y_test_d=train_test_split(data_ohe,questionario_uses['Use3'],test_size=0.2,random_state=0)\n",
    "\n",
    "x_train_dn,x_test_dn,y_train_dn,y_test_dn=train_test_split(data_norm,questionario_uses['Use3'],test_size=0.2,random_state=0)"
   ],
   "metadata": {
    "collapsed": false,
    "pycharm": {
     "name": "#%%\n",
     "is_executing": true
    }
   }
  },
  {
   "cell_type": "markdown",
   "source": [
    "### Grid Search e Cross Validation\n",
    "\n",
    "I kernel presi in considerazione per questa analisi sono:\n",
    "- linear - che sfrutta una funzione lineare per dividere i cluster\n",
    "- poly - che utilizza una funzione polinomiale per dividere i cluster\n",
    "- rbf - che applica una funzione radiale di base il cui valore dipende unicamente dalla distanza fra l'argomento della funzione e un punto prefissato del dominio"
   ],
   "metadata": {
    "collapsed": false
   }
  },
  {
   "cell_type": "code",
   "execution_count": null,
   "outputs": [],
   "source": [
    "from sklearn.svm import SVC\n",
    "param_grid = [  {'kernel': ['linear'], 'C': [1, 10, 100, 1000]},\n",
    "                {'kernel': ['rbf'], 'gamma': [1e-3, 1e-4], 'C': [1, 10, 100, 1000]},\n",
    "                {'kernel': ['poly'], 'gamma': [1e-3, 1e-4], 'C': [1, 10, 100, 1000]}]"
   ],
   "metadata": {
    "collapsed": false,
    "pycharm": {
     "name": "#%%\n",
     "is_executing": true
    }
   }
  },
  {
   "cell_type": "code",
   "execution_count": null,
   "outputs": [],
   "source": [
    "from sklearn.model_selection import GridSearchCV\n",
    "grid_q = GridSearchCV(SVC(), param_grid, cv=7)\n",
    "grid_q.fit (x_train_q, y_train_q)\n",
    "grid_q.best_params_\n",
    "# {'C': 10, 'gamma': 0.001, 'kernel': 'rbf'}\n"
   ],
   "metadata": {
    "collapsed": false,
    "pycharm": {
     "name": "#%%\n",
     "is_executing": true
    }
   }
  },
  {
   "cell_type": "code",
   "execution_count": null,
   "outputs": [],
   "source": [
    "grid_qn = GridSearchCV(SVC(), param_grid, cv=7)\n",
    "grid_qn.fit (x_train_qn, y_train_qn)\n",
    "grid_qn.best_params_\n",
    "# {'C': 1000, 'gamma': 0.001, 'kernel': 'rbf'}\n"
   ],
   "metadata": {
    "collapsed": false,
    "pycharm": {
     "name": "#%%\n",
     "is_executing": true
    }
   }
  },
  {
   "cell_type": "code",
   "execution_count": null,
   "outputs": [],
   "source": [
    "grid_d = GridSearchCV(SVC(), param_grid, cv=7)\n",
    "grid_d.fit (x_train_d, y_train_d)\n",
    "grid_d.best_params_\n",
    "# {'C': 100, 'gamma': 0.0001, 'kernel': 'rbf'}\n"
   ],
   "metadata": {
    "collapsed": false,
    "pycharm": {
     "name": "#%%\n",
     "is_executing": true
    }
   }
  },
  {
   "cell_type": "code",
   "execution_count": null,
   "outputs": [],
   "source": [
    "grid_dn = GridSearchCV(SVC(), param_grid, cv=7)\n",
    "grid_dn.fit (x_train_dn, y_train_dn)\n",
    "grid_dn.best_params_\n",
    "# {'C': 100, 'gamma': 0.001, 'kernel': 'rbf'}"
   ],
   "metadata": {
    "collapsed": false,
    "pycharm": {
     "name": "#%%\n",
     "is_executing": true
    }
   }
  },
  {
   "cell_type": "markdown",
   "source": [
    "Si puo notare come la validazione degli iperparametri ricada sempre sul kernel rbf con variazioni sui parametri C (parametro di regolazione che bilancia la corretta classificazione degli esempi di allenamento) e Gamma (quanto lontano arriva l'influenza di un singolo esempio di allenamento)"
   ],
   "metadata": {
    "collapsed": false
   }
  },
  {
   "cell_type": "markdown",
   "source": [
    "## Addestramento, Predizione e Confronto Accuratezza"
   ],
   "metadata": {
    "collapsed": false,
    "pycharm": {
     "name": "#%% md\n"
    }
   }
  },
  {
   "cell_type": "code",
   "execution_count": null,
   "outputs": [],
   "source": [
    "from sklearn.metrics import accuracy_score"
   ],
   "metadata": {
    "collapsed": false,
    "pycharm": {
     "name": "#%%\n",
     "is_executing": true
    }
   }
  },
  {
   "cell_type": "code",
   "execution_count": null,
   "outputs": [],
   "source": [
    "# SVC( kernel='rbf', C=10, gamma=0.001)\n",
    "model_q = grid_q.best_estimator_\n",
    "model_q.fit(x_train_q, y_train_q)\n",
    "y_result = model_q.predict(x_test_q)\n",
    "\n",
    "accuracy_score(y_test_q, y_result)"
   ],
   "metadata": {
    "collapsed": false,
    "pycharm": {
     "name": "#%%\n",
     "is_executing": true
    }
   }
  },
  {
   "cell_type": "code",
   "execution_count": null,
   "outputs": [],
   "source": [
    "# SVC( kernel='rbf', C=1000, gamma=0.001)\n",
    "model_qn = grid_qn.best_estimator_\n",
    "model_qn.fit(x_train_qn, y_train_qn)\n",
    "y_result = model_qn.predict(x_test_qn)\n",
    "\n",
    "accuracy_score(y_test_qn, y_result)"
   ],
   "metadata": {
    "collapsed": false,
    "pycharm": {
     "name": "#%%\n",
     "is_executing": true
    }
   }
  },
  {
   "cell_type": "code",
   "execution_count": null,
   "outputs": [],
   "source": [
    "# SVC( kernel='rbf', C=100, gamma=0.0001)\n",
    "model_d = grid_d.best_estimator_\n",
    "model_d.fit(x_train_d, y_train_d)\n",
    "y_result = model_d.predict(x_test_d)\n",
    "\n",
    "accuracy_score(y_test_d, y_result)"
   ],
   "metadata": {
    "collapsed": false,
    "pycharm": {
     "name": "#%%\n",
     "is_executing": true
    }
   }
  },
  {
   "cell_type": "code",
   "execution_count": null,
   "outputs": [],
   "source": [
    "# SVC( kernel='rbf', C=100, gamma=0.001)\n",
    "model_dn = grid_dn.best_estimator_\n",
    "model_dn.fit(x_train_dn, y_train_dn)\n",
    "y_result = model_dn.predict(x_test_dn)\n",
    "\n",
    "accuracy_score(y_test_dn, y_result)"
   ],
   "metadata": {
    "collapsed": false,
    "pycharm": {
     "name": "#%%\n",
     "is_executing": true
    }
   }
  },
  {
   "cell_type": "markdown",
   "source": [
    "Dai vari addestramenti, dalle predizioni e dall'accuratezza di ognuna di esse possiamo dire che tutte hanno un buon livello di pronostico dell'etichetta.\n",
    "\n",
    "Il risultato peggiore è stato ottenuto dal modello con il set di dati contenente l'anagrafica dei professori e il questionario sottoposto alla tecnica di one-hot encoding, la percentuale di accuratezza si attesta intorno all' 84%.\n",
    "\n",
    "Il risultato migliore sull'accuratezza, 87%, è stato raggiunto dal modello addestrato sul dataset avente l'anagrafica del professore e i valori del questionario normalizzati.\n",
    "\n",
    "Da questo confronto sembrerebbe che, per il dominio trattato, avere informazioni sugli intervistati e mantenere l'ordinamento numerico sulle risposte aumenta l'accuratezza del modello ella predizione.\n"
   ],
   "metadata": {
    "collapsed": false,
    "pycharm": {
     "name": "#%% md\n"
    }
   }
  },
  {
   "cell_type": "markdown",
   "source": [
    "# Conclusioni\n",
    "\n",
    "Dopo aver eseguito questa prima analisi è possibile verificare che ci sono ancora diverse statistiche esplorative che potrebbero essere eseguite su questi dati.\n",
    "Una di queste, ad esempio, potrebbe sfruttare le informazioni relative al phd, alla posizone lavorativa o all'essere un utente registrato di Wikipedia.\n",
    "\n",
    "Un altro confronto interessante sarebbe quello sui modelli nel Machine Learning, infatti, cambiando L'SVM sarebbe possibile migliorare la buona accuratezza della predizione ottenuta.\n",
    "Possibili modelli potrebbero essere Neural Networks, Clustering e Liner Regression\n",
    "\n",
    "In conclusione, i risultati ottenuti sono soddisfacenti tuttavia, vale la pena ricordare che sono stati intervistati i professori di due soli college e che perciò appartengono a una piccola nicchia. L'ideale sarebbe avere un campione più ampio, con più università partecipanti, che darebbe una visione più generale sull'argomento.\n"
   ],
   "metadata": {
    "collapsed": false
   }
  },
  {
   "cell_type": "markdown",
   "source": [
    "# Referenze\n",
    "https://archive.ics.uci.edu/ml/datasets/wiki4HE\n",
    "http://openaccess.uoc.edu/webapps/o2/bitstream/10609/39441/1/Meseghttps://www.uoc.edu/webs/eaibar/_resources/documents/Meseguer_Aibar_2016.pdfuer_et_al_preprintJASIST.pdf\n",
    "https://www.uoc.edu/webs/eaibar/_resources/documents/Meseguer_Aibar_2016.pdf"
   ],
   "metadata": {
    "collapsed": false
   }
  }
 ],
 "metadata": {
  "kernelspec": {
   "name": "myenv",
   "language": "python",
   "display_name": "Python (wiki4HEProject)"
  },
  "language_info": {
   "codemirror_mode": {
    "name": "ipython",
    "version": 2
   },
   "file_extension": ".py",
   "mimetype": "text/x-python",
   "name": "python",
   "nbconvert_exporter": "python",
   "pygments_lexer": "ipython2",
   "version": "2.7.6"
  }
 },
 "nbformat": 4,
 "nbformat_minor": 0
}